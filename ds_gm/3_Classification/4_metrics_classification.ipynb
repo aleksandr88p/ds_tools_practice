{
 "cells": [
  {
   "cell_type": "markdown",
   "id": "7621b6c2",
   "metadata": {},
   "source": [
    "# метрики классификации"
   ]
  },
  {
   "cell_type": "markdown",
   "id": "9a929c03",
   "metadata": {},
   "source": [
    "1. [first prepare](#first-prepare)\n",
    "2. [скор и пороги](#скор-и-пороги)\n",
    "3. [матрица ошибок](#матрица-ошибок)\n",
    "4. [Recall полнота](#Recall-полнота)\n",
    "5. [Precision точность](#Precision-точность)\n",
    "6. [F metric](#F-metric)\n",
    "7. [Accuracy metric](#Accuracy-metric)\n",
    "8. [classification report](#classification-report)\n",
    "9. [ROC metric](#ROC-metric)\n",
    "10. [ROC AUC](#AUC-насколько-модель-хороша-в-плане-ROC)\n",
    "11. [precision recall curve](#precision-recall-curve)\n",
    "12. [human and machine learning compare](#human-and-machine-learning-compare)"
   ]
  },
  {
   "cell_type": "markdown",
   "id": "68315c49",
   "metadata": {},
   "source": [
    "# first prepare\n",
    "    импорты, чтение данных и создание выборок"
   ]
  },
  {
   "cell_type": "code",
   "execution_count": 4,
   "id": "15d03d9e",
   "metadata": {},
   "outputs": [],
   "source": [
    "import pandas as pd\n",
    "from sklearn.model_selection import train_test_split\n",
    "\n"
   ]
  },
  {
   "cell_type": "code",
   "execution_count": 5,
   "id": "d3e597e9",
   "metadata": {},
   "outputs": [],
   "source": [
    "df = pd.read_csv('Churn_Modelling.csv')\n",
    "train, test = train_test_split(df,train_size=0.6,random_state=42,stratify=df['Exited'])\n",
    "val, test = train_test_split(test,train_size=0.5,random_state=42,stratify=test['Exited'])\n"
   ]
  },
  {
   "cell_type": "markdown",
   "id": "4c764551",
   "metadata": {},
   "source": [
    "# человеческое обучение \n",
    "    человеческое обучение по двум переменным NumOfProducts и age_group"
   ]
  },
  {
   "cell_type": "code",
   "execution_count": 6,
   "id": "cba086c7",
   "metadata": {},
   "outputs": [],
   "source": [
    "# Разбиение на группы по возрасту:\n",
    "train['age_group'] = pd.cut(train['Age'], [0, 31, 35, 40, 46, float('inf')])"
   ]
  },
  {
   "cell_type": "code",
   "execution_count": 7,
   "id": "b215cd6d",
   "metadata": {},
   "outputs": [
    {
     "name": "stderr",
     "output_type": "stream",
     "text": [
      "/tmp/ipykernel_29765/2995531130.py:2: FutureWarning: The default of observed=False is deprecated and will be changed to True in a future version of pandas. Pass observed=False to retain current behavior or observed=True to adopt the future default and silence this warning.\n",
      "  model = train.groupby(['NumOfProducts', 'age_group'])['Exited'].mean().reset_index()\n"
     ]
    }
   ],
   "source": [
    "# Группировка по продуктам и возрасту  и создание модели\n",
    "model = train.groupby(['NumOfProducts', 'age_group'])['Exited'].mean().reset_index()"
   ]
  },
  {
   "cell_type": "code",
   "execution_count": 8,
   "id": "7e0c338c",
   "metadata": {},
   "outputs": [],
   "source": [
    "model = model.rename({\"Exited\": \"score_prod_age\"}, axis=1)\n"
   ]
  },
  {
   "cell_type": "code",
   "execution_count": 9,
   "id": "2c52d99b",
   "metadata": {},
   "outputs": [],
   "source": [
    "# Объединение с тренировочными и тестовыми данными:\n",
    "train = train.merge(model,how='left',on=['NumOfProducts','age_group'])\n"
   ]
  },
  {
   "cell_type": "code",
   "execution_count": 10,
   "id": "f1af76c3",
   "metadata": {},
   "outputs": [],
   "source": [
    "test['age_group'] = pd.cut(test['Age'],[0,31,35,40,46,float('inf')])\n"
   ]
  },
  {
   "cell_type": "code",
   "execution_count": 11,
   "id": "97764dca",
   "metadata": {},
   "outputs": [],
   "source": [
    "test = test.merge(model,how='left',on=['NumOfProducts','age_group'])\n"
   ]
  },
  {
   "cell_type": "markdown",
   "id": "cf6bb5da",
   "metadata": {},
   "source": [
    "# Машинное обучение\n",
    "    создал набор признаков X, которые будут использоваться для обучения модели\n",
    "    определил целевую переменную y, которую нужно предсказать.\n",
    "    Переменные cat_features указаны как категориальные признаки, что важно для моделей, таких как CatBoost, так как она умеет обрабатывать категориальные данные напрямую\n",
    "    \n",
    "    Создание пулов данных (Pool) для CatBoost:\n",
    "    Модели CatBoost работают с объектами типа Pool, которые хранят данные, метки и информацию о категориальных признаках. Я создал такие пулы для тренировочных данных и данных для валидации (валидирующего набора).\n",
    "    \n",
    "    Задание параметров модели:\n",
    "    Я определил параметры для модели, такие как learning_rate (скорость обучения), случайное зерно для воспроизводимости (random_seed) и количество выводимых сообщений (verbose).\n",
    "    \n",
    "    Обучение модели:\n",
    "\n",
    "    Модель обучается на тренировочных данных и использует валидационные данные для оценки её качества во время обучения.\n",
    "    В процессе я вижу, как постепенно уменьшается ошибка на тестовых данных (в моем случае это log loss), и на какой итерации достигается лучший результат.\n",
    "    \n",
    "    Оценка качества и использование модели для предсказаний:\n",
    "    После обучения я использую модель для предсказания на тестовых данных, получая вероятности с помощью метода predict_proba.\n",
    "\n"
   ]
  },
  {
   "cell_type": "code",
   "execution_count": 12,
   "id": "80fdd4c7",
   "metadata": {},
   "outputs": [],
   "source": [
    "# ! pip install catboost\n"
   ]
  },
  {
   "cell_type": "code",
   "execution_count": 13,
   "id": "3ffc1cca",
   "metadata": {},
   "outputs": [],
   "source": [
    "from catboost import CatBoostClassifier\n"
   ]
  },
  {
   "cell_type": "code",
   "execution_count": 14,
   "id": "34232599",
   "metadata": {},
   "outputs": [],
   "source": [
    "X = ['CustomerId', 'CreditScore', 'Geography',\n",
    "       'Gender', 'Age', 'Tenure', 'Balance', 'NumOfProducts', 'HasCrCard',\n",
    "       'IsActiveMember', 'EstimatedSalary']\n",
    "\n",
    "cat_features = ['Geography','Gender']\n",
    "\n",
    "y = ['Exited']"
   ]
  },
  {
   "cell_type": "code",
   "execution_count": 15,
   "id": "212183d9",
   "metadata": {},
   "outputs": [],
   "source": [
    "\n",
    "from catboost import Pool\n",
    "\n",
    "train_data = Pool(data=train[X],\n",
    "                  label=train[y],\n",
    "                  cat_features=cat_features\n",
    "                 )\n",
    "\n",
    "valid_data = Pool(data=val[X],\n",
    "                  label=val[y],\n",
    "                  cat_features=cat_features\n",
    "                 )"
   ]
  },
  {
   "cell_type": "code",
   "execution_count": 16,
   "id": "b830fa8e",
   "metadata": {},
   "outputs": [],
   "source": [
    "\n",
    "params = {'verbose':100,\n",
    "          'random_seed':42,\n",
    "          'learning_rate':0.01}"
   ]
  },
  {
   "cell_type": "code",
   "execution_count": 17,
   "id": "4e3e7bf3",
   "metadata": {},
   "outputs": [],
   "source": [
    "model = CatBoostClassifier(**params)\n"
   ]
  },
  {
   "cell_type": "code",
   "execution_count": 18,
   "id": "bdbda9a9",
   "metadata": {},
   "outputs": [
    {
     "name": "stdout",
     "output_type": "stream",
     "text": [
      "0:\tlearn: 0.6848575\ttest: 0.6849145\tbest: 0.6849145 (0)\ttotal: 51.9ms\tremaining: 51.8s\n",
      "100:\tlearn: 0.3908412\ttest: 0.3894043\tbest: 0.3894043 (100)\ttotal: 365ms\tremaining: 3.24s\n",
      "200:\tlearn: 0.3457312\ttest: 0.3445503\tbest: 0.3445503 (200)\ttotal: 663ms\tremaining: 2.64s\n",
      "300:\tlearn: 0.3288071\ttest: 0.3307084\tbest: 0.3307084 (300)\ttotal: 961ms\tremaining: 2.23s\n",
      "400:\tlearn: 0.3192987\ttest: 0.3252459\tbest: 0.3252459 (400)\ttotal: 1.27s\tremaining: 1.89s\n",
      "500:\tlearn: 0.3120470\ttest: 0.3221057\tbest: 0.3221057 (500)\ttotal: 1.58s\tremaining: 1.57s\n",
      "600:\tlearn: 0.3054735\ttest: 0.3204300\tbest: 0.3204300 (600)\ttotal: 1.9s\tremaining: 1.26s\n",
      "700:\tlearn: 0.2997053\ttest: 0.3192377\tbest: 0.3192377 (700)\ttotal: 2.2s\tremaining: 939ms\n",
      "800:\tlearn: 0.2946934\ttest: 0.3188206\tbest: 0.3187917 (794)\ttotal: 2.55s\tremaining: 635ms\n",
      "900:\tlearn: 0.2890177\ttest: 0.3185731\tbest: 0.3185731 (900)\ttotal: 2.81s\tremaining: 309ms\n",
      "999:\tlearn: 0.2831978\ttest: 0.3186396\tbest: 0.3185004 (978)\ttotal: 3.05s\tremaining: 0us\n",
      "\n",
      "bestTest = 0.3185003702\n",
      "bestIteration = 978\n",
      "\n",
      "Shrink model to first 979 iterations.\n"
     ]
    },
    {
     "data": {
      "text/plain": [
       "<catboost.core.CatBoostClassifier at 0x7a01ddfb22d0>"
      ]
     },
     "execution_count": 18,
     "metadata": {},
     "output_type": "execute_result"
    }
   ],
   "source": [
    "model.fit(train_data,eval_set=valid_data)\n"
   ]
  },
  {
   "cell_type": "code",
   "execution_count": 19,
   "id": "186c9e06",
   "metadata": {},
   "outputs": [],
   "source": [
    "test['score_catboost'] = model.predict_proba(test[X])[:,1]\n"
   ]
  },
  {
   "cell_type": "markdown",
   "id": "e8131a6b",
   "metadata": {},
   "source": [
    "# скор и пороги\n",
    "    есть два скор: \n",
    "        - один у человеческого обучения score_prod_age(построен на количестве продукта и возрасте)\n",
    "        - другой на основе машинного обучения (построен на всех фичах)\n",
    "    \n",
    "    скор - это то что выходит из модели классификации. Это оценка, которая показывает склонность в данном случае человека к оттоку. Чем больше скор, тем больше человек склонен к оттоку и наооборот\n",
    "    Эта задача классификации. есть таргет Exited может быть 0 или 1. скор всегда от 0 до 1"
   ]
  },
  {
   "cell_type": "code",
   "execution_count": 20,
   "id": "85fe7a63",
   "metadata": {},
   "outputs": [
    {
     "data": {
      "text/html": [
       "<div>\n",
       "<style scoped>\n",
       "    .dataframe tbody tr th:only-of-type {\n",
       "        vertical-align: middle;\n",
       "    }\n",
       "\n",
       "    .dataframe tbody tr th {\n",
       "        vertical-align: top;\n",
       "    }\n",
       "\n",
       "    .dataframe thead th {\n",
       "        text-align: right;\n",
       "    }\n",
       "</style>\n",
       "<table border=\"1\" class=\"dataframe\">\n",
       "  <thead>\n",
       "    <tr style=\"text-align: right;\">\n",
       "      <th></th>\n",
       "      <th>RowNumber</th>\n",
       "      <th>CustomerId</th>\n",
       "      <th>Surname</th>\n",
       "      <th>CreditScore</th>\n",
       "      <th>Geography</th>\n",
       "      <th>Gender</th>\n",
       "      <th>Age</th>\n",
       "      <th>Tenure</th>\n",
       "      <th>Balance</th>\n",
       "      <th>NumOfProducts</th>\n",
       "      <th>HasCrCard</th>\n",
       "      <th>IsActiveMember</th>\n",
       "      <th>EstimatedSalary</th>\n",
       "      <th>Exited</th>\n",
       "      <th>age_group</th>\n",
       "      <th>score_prod_age</th>\n",
       "      <th>score_catboost</th>\n",
       "    </tr>\n",
       "  </thead>\n",
       "  <tbody>\n",
       "    <tr>\n",
       "      <th>0</th>\n",
       "      <td>9168</td>\n",
       "      <td>15645353</td>\n",
       "      <td>Chubb</td>\n",
       "      <td>607</td>\n",
       "      <td>France</td>\n",
       "      <td>Male</td>\n",
       "      <td>26</td>\n",
       "      <td>1</td>\n",
       "      <td>0.00</td>\n",
       "      <td>1</td>\n",
       "      <td>1</td>\n",
       "      <td>0</td>\n",
       "      <td>29818.20</td>\n",
       "      <td>0</td>\n",
       "      <td>(0.0, 31.0]</td>\n",
       "      <td>0.110764</td>\n",
       "      <td>0.131844</td>\n",
       "    </tr>\n",
       "    <tr>\n",
       "      <th>1</th>\n",
       "      <td>9388</td>\n",
       "      <td>15594576</td>\n",
       "      <td>Zhdanov</td>\n",
       "      <td>524</td>\n",
       "      <td>France</td>\n",
       "      <td>Male</td>\n",
       "      <td>32</td>\n",
       "      <td>1</td>\n",
       "      <td>144875.71</td>\n",
       "      <td>1</td>\n",
       "      <td>0</td>\n",
       "      <td>0</td>\n",
       "      <td>187740.04</td>\n",
       "      <td>0</td>\n",
       "      <td>(31.0, 35.0]</td>\n",
       "      <td>0.140449</td>\n",
       "      <td>0.074020</td>\n",
       "    </tr>\n",
       "    <tr>\n",
       "      <th>2</th>\n",
       "      <td>6860</td>\n",
       "      <td>15811927</td>\n",
       "      <td>Marcelo</td>\n",
       "      <td>733</td>\n",
       "      <td>France</td>\n",
       "      <td>Female</td>\n",
       "      <td>38</td>\n",
       "      <td>3</td>\n",
       "      <td>157658.36</td>\n",
       "      <td>1</td>\n",
       "      <td>0</td>\n",
       "      <td>0</td>\n",
       "      <td>19658.43</td>\n",
       "      <td>0</td>\n",
       "      <td>(35.0, 40.0]</td>\n",
       "      <td>0.209337</td>\n",
       "      <td>0.186876</td>\n",
       "    </tr>\n",
       "    <tr>\n",
       "      <th>3</th>\n",
       "      <td>3501</td>\n",
       "      <td>15675675</td>\n",
       "      <td>Slate</td>\n",
       "      <td>850</td>\n",
       "      <td>France</td>\n",
       "      <td>Female</td>\n",
       "      <td>32</td>\n",
       "      <td>5</td>\n",
       "      <td>106290.64</td>\n",
       "      <td>1</td>\n",
       "      <td>1</td>\n",
       "      <td>0</td>\n",
       "      <td>121982.73</td>\n",
       "      <td>0</td>\n",
       "      <td>(31.0, 35.0]</td>\n",
       "      <td>0.140449</td>\n",
       "      <td>0.087403</td>\n",
       "    </tr>\n",
       "    <tr>\n",
       "      <th>4</th>\n",
       "      <td>6234</td>\n",
       "      <td>15682914</td>\n",
       "      <td>Bolton</td>\n",
       "      <td>850</td>\n",
       "      <td>France</td>\n",
       "      <td>Male</td>\n",
       "      <td>34</td>\n",
       "      <td>2</td>\n",
       "      <td>72079.71</td>\n",
       "      <td>1</td>\n",
       "      <td>1</td>\n",
       "      <td>1</td>\n",
       "      <td>115767.93</td>\n",
       "      <td>0</td>\n",
       "      <td>(31.0, 35.0]</td>\n",
       "      <td>0.140449</td>\n",
       "      <td>0.056658</td>\n",
       "    </tr>\n",
       "    <tr>\n",
       "      <th>...</th>\n",
       "      <td>...</td>\n",
       "      <td>...</td>\n",
       "      <td>...</td>\n",
       "      <td>...</td>\n",
       "      <td>...</td>\n",
       "      <td>...</td>\n",
       "      <td>...</td>\n",
       "      <td>...</td>\n",
       "      <td>...</td>\n",
       "      <td>...</td>\n",
       "      <td>...</td>\n",
       "      <td>...</td>\n",
       "      <td>...</td>\n",
       "      <td>...</td>\n",
       "      <td>...</td>\n",
       "      <td>...</td>\n",
       "      <td>...</td>\n",
       "    </tr>\n",
       "    <tr>\n",
       "      <th>1995</th>\n",
       "      <td>7393</td>\n",
       "      <td>15795079</td>\n",
       "      <td>Nnaife</td>\n",
       "      <td>596</td>\n",
       "      <td>Spain</td>\n",
       "      <td>Male</td>\n",
       "      <td>67</td>\n",
       "      <td>6</td>\n",
       "      <td>0.00</td>\n",
       "      <td>2</td>\n",
       "      <td>1</td>\n",
       "      <td>1</td>\n",
       "      <td>138350.74</td>\n",
       "      <td>0</td>\n",
       "      <td>(46.0, inf]</td>\n",
       "      <td>0.236364</td>\n",
       "      <td>0.026803</td>\n",
       "    </tr>\n",
       "    <tr>\n",
       "      <th>1996</th>\n",
       "      <td>3234</td>\n",
       "      <td>15601550</td>\n",
       "      <td>Genovesi</td>\n",
       "      <td>595</td>\n",
       "      <td>Spain</td>\n",
       "      <td>Male</td>\n",
       "      <td>36</td>\n",
       "      <td>6</td>\n",
       "      <td>85768.42</td>\n",
       "      <td>1</td>\n",
       "      <td>1</td>\n",
       "      <td>1</td>\n",
       "      <td>24802.77</td>\n",
       "      <td>0</td>\n",
       "      <td>(35.0, 40.0]</td>\n",
       "      <td>0.209337</td>\n",
       "      <td>0.084712</td>\n",
       "    </tr>\n",
       "    <tr>\n",
       "      <th>1997</th>\n",
       "      <td>219</td>\n",
       "      <td>15659366</td>\n",
       "      <td>Shih</td>\n",
       "      <td>807</td>\n",
       "      <td>France</td>\n",
       "      <td>Male</td>\n",
       "      <td>43</td>\n",
       "      <td>1</td>\n",
       "      <td>105799.32</td>\n",
       "      <td>2</td>\n",
       "      <td>1</td>\n",
       "      <td>0</td>\n",
       "      <td>34888.04</td>\n",
       "      <td>1</td>\n",
       "      <td>(40.0, 46.0]</td>\n",
       "      <td>0.108647</td>\n",
       "      <td>0.149411</td>\n",
       "    </tr>\n",
       "    <tr>\n",
       "      <th>1998</th>\n",
       "      <td>4756</td>\n",
       "      <td>15740072</td>\n",
       "      <td>Padovesi</td>\n",
       "      <td>720</td>\n",
       "      <td>France</td>\n",
       "      <td>Female</td>\n",
       "      <td>37</td>\n",
       "      <td>2</td>\n",
       "      <td>120328.88</td>\n",
       "      <td>2</td>\n",
       "      <td>1</td>\n",
       "      <td>1</td>\n",
       "      <td>138470.21</td>\n",
       "      <td>0</td>\n",
       "      <td>(35.0, 40.0]</td>\n",
       "      <td>0.061069</td>\n",
       "      <td>0.063715</td>\n",
       "    </tr>\n",
       "    <tr>\n",
       "      <th>1999</th>\n",
       "      <td>7635</td>\n",
       "      <td>15707681</td>\n",
       "      <td>Pokrovsky</td>\n",
       "      <td>501</td>\n",
       "      <td>Germany</td>\n",
       "      <td>Male</td>\n",
       "      <td>38</td>\n",
       "      <td>9</td>\n",
       "      <td>88977.39</td>\n",
       "      <td>2</td>\n",
       "      <td>0</td>\n",
       "      <td>1</td>\n",
       "      <td>133403.07</td>\n",
       "      <td>0</td>\n",
       "      <td>(35.0, 40.0]</td>\n",
       "      <td>0.061069</td>\n",
       "      <td>0.050231</td>\n",
       "    </tr>\n",
       "  </tbody>\n",
       "</table>\n",
       "<p>2000 rows × 17 columns</p>\n",
       "</div>"
      ],
      "text/plain": [
       "      RowNumber  CustomerId    Surname  CreditScore Geography  Gender  Age  \\\n",
       "0          9168    15645353      Chubb          607    France    Male   26   \n",
       "1          9388    15594576    Zhdanov          524    France    Male   32   \n",
       "2          6860    15811927    Marcelo          733    France  Female   38   \n",
       "3          3501    15675675      Slate          850    France  Female   32   \n",
       "4          6234    15682914     Bolton          850    France    Male   34   \n",
       "...         ...         ...        ...          ...       ...     ...  ...   \n",
       "1995       7393    15795079     Nnaife          596     Spain    Male   67   \n",
       "1996       3234    15601550   Genovesi          595     Spain    Male   36   \n",
       "1997        219    15659366       Shih          807    France    Male   43   \n",
       "1998       4756    15740072   Padovesi          720    France  Female   37   \n",
       "1999       7635    15707681  Pokrovsky          501   Germany    Male   38   \n",
       "\n",
       "      Tenure    Balance  NumOfProducts  HasCrCard  IsActiveMember  \\\n",
       "0          1       0.00              1          1               0   \n",
       "1          1  144875.71              1          0               0   \n",
       "2          3  157658.36              1          0               0   \n",
       "3          5  106290.64              1          1               0   \n",
       "4          2   72079.71              1          1               1   \n",
       "...      ...        ...            ...        ...             ...   \n",
       "1995       6       0.00              2          1               1   \n",
       "1996       6   85768.42              1          1               1   \n",
       "1997       1  105799.32              2          1               0   \n",
       "1998       2  120328.88              2          1               1   \n",
       "1999       9   88977.39              2          0               1   \n",
       "\n",
       "      EstimatedSalary  Exited     age_group  score_prod_age  score_catboost  \n",
       "0            29818.20       0   (0.0, 31.0]        0.110764        0.131844  \n",
       "1           187740.04       0  (31.0, 35.0]        0.140449        0.074020  \n",
       "2            19658.43       0  (35.0, 40.0]        0.209337        0.186876  \n",
       "3           121982.73       0  (31.0, 35.0]        0.140449        0.087403  \n",
       "4           115767.93       0  (31.0, 35.0]        0.140449        0.056658  \n",
       "...               ...     ...           ...             ...             ...  \n",
       "1995        138350.74       0   (46.0, inf]        0.236364        0.026803  \n",
       "1996         24802.77       0  (35.0, 40.0]        0.209337        0.084712  \n",
       "1997         34888.04       1  (40.0, 46.0]        0.108647        0.149411  \n",
       "1998        138470.21       0  (35.0, 40.0]        0.061069        0.063715  \n",
       "1999        133403.07       0  (35.0, 40.0]        0.061069        0.050231  \n",
       "\n",
       "[2000 rows x 17 columns]"
      ]
     },
     "execution_count": 20,
     "metadata": {},
     "output_type": "execute_result"
    }
   ],
   "source": [
    "test"
   ]
  },
  {
   "cell_type": "markdown",
   "id": "49935da0",
   "metadata": {},
   "source": [
    "    как на основе скора получить класс, как принять решение - отточный клиент или не отточный\n",
    "    нужен какой нибудь порог. допустим 0.5(если боольше 0.5 значит отток, если меньше то не отток)\n",
    "    "
   ]
  },
  {
   "cell_type": "code",
   "execution_count": 21,
   "id": "dcb895cb",
   "metadata": {},
   "outputs": [
    {
     "data": {
      "text/plain": [
       "<Axes: >"
      ]
     },
     "execution_count": 21,
     "metadata": {},
     "output_type": "execute_result"
    },
    {
     "data": {
      "image/png": "[encoded data removed]",
      "text/plain": [
       "<Figure size 640x480 with 1 Axes>"
      ]
     },
     "metadata": {},
     "output_type": "display_data"
    }
   ],
   "source": [
    "# видно в таблице что если порог будет 0.5, то это в принципе то что и наддо. так как в данных только 20 процентов \n",
    "# отток клиентов\n",
    "test['score_catboost'].hist() "
   ]
  },
  {
   "cell_type": "code",
   "execution_count": 22,
   "id": "698ccc58",
   "metadata": {},
   "outputs": [
    {
     "data": {
      "text/plain": [
       "0.20366666666666666"
      ]
     },
     "execution_count": 22,
     "metadata": {},
     "output_type": "execute_result"
    }
   ],
   "source": [
    "train['Exited'].mean()"
   ]
  },
  {
   "cell_type": "code",
   "execution_count": 23,
   "id": "aad60fdf",
   "metadata": {},
   "outputs": [],
   "source": [
    "# как получить решение(отток или не отток)\n",
    "# y_true - в нашем случае Exited\n",
    "test['y_pred'] = test['score_catboost'] > 0.5 # типа наше предсказание."
   ]
  },
  {
   "cell_type": "code",
   "execution_count": 24,
   "id": "98033f07",
   "metadata": {},
   "outputs": [
    {
     "data": {
      "text/html": [
       "<div>\n",
       "<style scoped>\n",
       "    .dataframe tbody tr th:only-of-type {\n",
       "        vertical-align: middle;\n",
       "    }\n",
       "\n",
       "    .dataframe tbody tr th {\n",
       "        vertical-align: top;\n",
       "    }\n",
       "\n",
       "    .dataframe thead th {\n",
       "        text-align: right;\n",
       "    }\n",
       "</style>\n",
       "<table border=\"1\" class=\"dataframe\">\n",
       "  <thead>\n",
       "    <tr style=\"text-align: right;\">\n",
       "      <th></th>\n",
       "      <th>RowNumber</th>\n",
       "      <th>CustomerId</th>\n",
       "      <th>Surname</th>\n",
       "      <th>CreditScore</th>\n",
       "      <th>Geography</th>\n",
       "      <th>Gender</th>\n",
       "      <th>Age</th>\n",
       "      <th>Tenure</th>\n",
       "      <th>Balance</th>\n",
       "      <th>NumOfProducts</th>\n",
       "      <th>HasCrCard</th>\n",
       "      <th>IsActiveMember</th>\n",
       "      <th>EstimatedSalary</th>\n",
       "      <th>Exited</th>\n",
       "      <th>age_group</th>\n",
       "      <th>score_prod_age</th>\n",
       "      <th>score_catboost</th>\n",
       "      <th>y_pred</th>\n",
       "    </tr>\n",
       "  </thead>\n",
       "  <tbody>\n",
       "    <tr>\n",
       "      <th>0</th>\n",
       "      <td>9168</td>\n",
       "      <td>15645353</td>\n",
       "      <td>Chubb</td>\n",
       "      <td>607</td>\n",
       "      <td>France</td>\n",
       "      <td>Male</td>\n",
       "      <td>26</td>\n",
       "      <td>1</td>\n",
       "      <td>0.00</td>\n",
       "      <td>1</td>\n",
       "      <td>1</td>\n",
       "      <td>0</td>\n",
       "      <td>29818.20</td>\n",
       "      <td>0</td>\n",
       "      <td>(0.0, 31.0]</td>\n",
       "      <td>0.110764</td>\n",
       "      <td>0.131844</td>\n",
       "      <td>False</td>\n",
       "    </tr>\n",
       "    <tr>\n",
       "      <th>1</th>\n",
       "      <td>9388</td>\n",
       "      <td>15594576</td>\n",
       "      <td>Zhdanov</td>\n",
       "      <td>524</td>\n",
       "      <td>France</td>\n",
       "      <td>Male</td>\n",
       "      <td>32</td>\n",
       "      <td>1</td>\n",
       "      <td>144875.71</td>\n",
       "      <td>1</td>\n",
       "      <td>0</td>\n",
       "      <td>0</td>\n",
       "      <td>187740.04</td>\n",
       "      <td>0</td>\n",
       "      <td>(31.0, 35.0]</td>\n",
       "      <td>0.140449</td>\n",
       "      <td>0.074020</td>\n",
       "      <td>False</td>\n",
       "    </tr>\n",
       "    <tr>\n",
       "      <th>2</th>\n",
       "      <td>6860</td>\n",
       "      <td>15811927</td>\n",
       "      <td>Marcelo</td>\n",
       "      <td>733</td>\n",
       "      <td>France</td>\n",
       "      <td>Female</td>\n",
       "      <td>38</td>\n",
       "      <td>3</td>\n",
       "      <td>157658.36</td>\n",
       "      <td>1</td>\n",
       "      <td>0</td>\n",
       "      <td>0</td>\n",
       "      <td>19658.43</td>\n",
       "      <td>0</td>\n",
       "      <td>(35.0, 40.0]</td>\n",
       "      <td>0.209337</td>\n",
       "      <td>0.186876</td>\n",
       "      <td>False</td>\n",
       "    </tr>\n",
       "    <tr>\n",
       "      <th>3</th>\n",
       "      <td>3501</td>\n",
       "      <td>15675675</td>\n",
       "      <td>Slate</td>\n",
       "      <td>850</td>\n",
       "      <td>France</td>\n",
       "      <td>Female</td>\n",
       "      <td>32</td>\n",
       "      <td>5</td>\n",
       "      <td>106290.64</td>\n",
       "      <td>1</td>\n",
       "      <td>1</td>\n",
       "      <td>0</td>\n",
       "      <td>121982.73</td>\n",
       "      <td>0</td>\n",
       "      <td>(31.0, 35.0]</td>\n",
       "      <td>0.140449</td>\n",
       "      <td>0.087403</td>\n",
       "      <td>False</td>\n",
       "    </tr>\n",
       "    <tr>\n",
       "      <th>4</th>\n",
       "      <td>6234</td>\n",
       "      <td>15682914</td>\n",
       "      <td>Bolton</td>\n",
       "      <td>850</td>\n",
       "      <td>France</td>\n",
       "      <td>Male</td>\n",
       "      <td>34</td>\n",
       "      <td>2</td>\n",
       "      <td>72079.71</td>\n",
       "      <td>1</td>\n",
       "      <td>1</td>\n",
       "      <td>1</td>\n",
       "      <td>115767.93</td>\n",
       "      <td>0</td>\n",
       "      <td>(31.0, 35.0]</td>\n",
       "      <td>0.140449</td>\n",
       "      <td>0.056658</td>\n",
       "      <td>False</td>\n",
       "    </tr>\n",
       "    <tr>\n",
       "      <th>...</th>\n",
       "      <td>...</td>\n",
       "      <td>...</td>\n",
       "      <td>...</td>\n",
       "      <td>...</td>\n",
       "      <td>...</td>\n",
       "      <td>...</td>\n",
       "      <td>...</td>\n",
       "      <td>...</td>\n",
       "      <td>...</td>\n",
       "      <td>...</td>\n",
       "      <td>...</td>\n",
       "      <td>...</td>\n",
       "      <td>...</td>\n",
       "      <td>...</td>\n",
       "      <td>...</td>\n",
       "      <td>...</td>\n",
       "      <td>...</td>\n",
       "      <td>...</td>\n",
       "    </tr>\n",
       "    <tr>\n",
       "      <th>1995</th>\n",
       "      <td>7393</td>\n",
       "      <td>15795079</td>\n",
       "      <td>Nnaife</td>\n",
       "      <td>596</td>\n",
       "      <td>Spain</td>\n",
       "      <td>Male</td>\n",
       "      <td>67</td>\n",
       "      <td>6</td>\n",
       "      <td>0.00</td>\n",
       "      <td>2</td>\n",
       "      <td>1</td>\n",
       "      <td>1</td>\n",
       "      <td>138350.74</td>\n",
       "      <td>0</td>\n",
       "      <td>(46.0, inf]</td>\n",
       "      <td>0.236364</td>\n",
       "      <td>0.026803</td>\n",
       "      <td>False</td>\n",
       "    </tr>\n",
       "    <tr>\n",
       "      <th>1996</th>\n",
       "      <td>3234</td>\n",
       "      <td>15601550</td>\n",
       "      <td>Genovesi</td>\n",
       "      <td>595</td>\n",
       "      <td>Spain</td>\n",
       "      <td>Male</td>\n",
       "      <td>36</td>\n",
       "      <td>6</td>\n",
       "      <td>85768.42</td>\n",
       "      <td>1</td>\n",
       "      <td>1</td>\n",
       "      <td>1</td>\n",
       "      <td>24802.77</td>\n",
       "      <td>0</td>\n",
       "      <td>(35.0, 40.0]</td>\n",
       "      <td>0.209337</td>\n",
       "      <td>0.084712</td>\n",
       "      <td>False</td>\n",
       "    </tr>\n",
       "    <tr>\n",
       "      <th>1997</th>\n",
       "      <td>219</td>\n",
       "      <td>15659366</td>\n",
       "      <td>Shih</td>\n",
       "      <td>807</td>\n",
       "      <td>France</td>\n",
       "      <td>Male</td>\n",
       "      <td>43</td>\n",
       "      <td>1</td>\n",
       "      <td>105799.32</td>\n",
       "      <td>2</td>\n",
       "      <td>1</td>\n",
       "      <td>0</td>\n",
       "      <td>34888.04</td>\n",
       "      <td>1</td>\n",
       "      <td>(40.0, 46.0]</td>\n",
       "      <td>0.108647</td>\n",
       "      <td>0.149411</td>\n",
       "      <td>False</td>\n",
       "    </tr>\n",
       "    <tr>\n",
       "      <th>1998</th>\n",
       "      <td>4756</td>\n",
       "      <td>15740072</td>\n",
       "      <td>Padovesi</td>\n",
       "      <td>720</td>\n",
       "      <td>France</td>\n",
       "      <td>Female</td>\n",
       "      <td>37</td>\n",
       "      <td>2</td>\n",
       "      <td>120328.88</td>\n",
       "      <td>2</td>\n",
       "      <td>1</td>\n",
       "      <td>1</td>\n",
       "      <td>138470.21</td>\n",
       "      <td>0</td>\n",
       "      <td>(35.0, 40.0]</td>\n",
       "      <td>0.061069</td>\n",
       "      <td>0.063715</td>\n",
       "      <td>False</td>\n",
       "    </tr>\n",
       "    <tr>\n",
       "      <th>1999</th>\n",
       "      <td>7635</td>\n",
       "      <td>15707681</td>\n",
       "      <td>Pokrovsky</td>\n",
       "      <td>501</td>\n",
       "      <td>Germany</td>\n",
       "      <td>Male</td>\n",
       "      <td>38</td>\n",
       "      <td>9</td>\n",
       "      <td>88977.39</td>\n",
       "      <td>2</td>\n",
       "      <td>0</td>\n",
       "      <td>1</td>\n",
       "      <td>133403.07</td>\n",
       "      <td>0</td>\n",
       "      <td>(35.0, 40.0]</td>\n",
       "      <td>0.061069</td>\n",
       "      <td>0.050231</td>\n",
       "      <td>False</td>\n",
       "    </tr>\n",
       "  </tbody>\n",
       "</table>\n",
       "<p>2000 rows × 18 columns</p>\n",
       "</div>"
      ],
      "text/plain": [
       "      RowNumber  CustomerId    Surname  CreditScore Geography  Gender  Age  \\\n",
       "0          9168    15645353      Chubb          607    France    Male   26   \n",
       "1          9388    15594576    Zhdanov          524    France    Male   32   \n",
       "2          6860    15811927    Marcelo          733    France  Female   38   \n",
       "3          3501    15675675      Slate          850    France  Female   32   \n",
       "4          6234    15682914     Bolton          850    France    Male   34   \n",
       "...         ...         ...        ...          ...       ...     ...  ...   \n",
       "1995       7393    15795079     Nnaife          596     Spain    Male   67   \n",
       "1996       3234    15601550   Genovesi          595     Spain    Male   36   \n",
       "1997        219    15659366       Shih          807    France    Male   43   \n",
       "1998       4756    15740072   Padovesi          720    France  Female   37   \n",
       "1999       7635    15707681  Pokrovsky          501   Germany    Male   38   \n",
       "\n",
       "      Tenure    Balance  NumOfProducts  HasCrCard  IsActiveMember  \\\n",
       "0          1       0.00              1          1               0   \n",
       "1          1  144875.71              1          0               0   \n",
       "2          3  157658.36              1          0               0   \n",
       "3          5  106290.64              1          1               0   \n",
       "4          2   72079.71              1          1               1   \n",
       "...      ...        ...            ...        ...             ...   \n",
       "1995       6       0.00              2          1               1   \n",
       "1996       6   85768.42              1          1               1   \n",
       "1997       1  105799.32              2          1               0   \n",
       "1998       2  120328.88              2          1               1   \n",
       "1999       9   88977.39              2          0               1   \n",
       "\n",
       "      EstimatedSalary  Exited     age_group  score_prod_age  score_catboost  \\\n",
       "0            29818.20       0   (0.0, 31.0]        0.110764        0.131844   \n",
       "1           187740.04       0  (31.0, 35.0]        0.140449        0.074020   \n",
       "2            19658.43       0  (35.0, 40.0]        0.209337        0.186876   \n",
       "3           121982.73       0  (31.0, 35.0]        0.140449        0.087403   \n",
       "4           115767.93       0  (31.0, 35.0]        0.140449        0.056658   \n",
       "...               ...     ...           ...             ...             ...   \n",
       "1995        138350.74       0   (46.0, inf]        0.236364        0.026803   \n",
       "1996         24802.77       0  (35.0, 40.0]        0.209337        0.084712   \n",
       "1997         34888.04       1  (40.0, 46.0]        0.108647        0.149411   \n",
       "1998        138470.21       0  (35.0, 40.0]        0.061069        0.063715   \n",
       "1999        133403.07       0  (35.0, 40.0]        0.061069        0.050231   \n",
       "\n",
       "      y_pred  \n",
       "0      False  \n",
       "1      False  \n",
       "2      False  \n",
       "3      False  \n",
       "4      False  \n",
       "...      ...  \n",
       "1995   False  \n",
       "1996   False  \n",
       "1997   False  \n",
       "1998   False  \n",
       "1999   False  \n",
       "\n",
       "[2000 rows x 18 columns]"
      ]
     },
     "execution_count": 24,
     "metadata": {},
     "output_type": "execute_result"
    }
   ],
   "source": [
    "test"
   ]
  },
  {
   "cell_type": "code",
   "execution_count": 25,
   "id": "4922d4c5",
   "metadata": {},
   "outputs": [
    {
     "data": {
      "text/html": [
       "<div>\n",
       "<style scoped>\n",
       "    .dataframe tbody tr th:only-of-type {\n",
       "        vertical-align: middle;\n",
       "    }\n",
       "\n",
       "    .dataframe tbody tr th {\n",
       "        vertical-align: top;\n",
       "    }\n",
       "\n",
       "    .dataframe thead th {\n",
       "        text-align: right;\n",
       "    }\n",
       "</style>\n",
       "<table border=\"1\" class=\"dataframe\">\n",
       "  <thead>\n",
       "    <tr style=\"text-align: right;\">\n",
       "      <th></th>\n",
       "      <th>RowNumber</th>\n",
       "      <th>CustomerId</th>\n",
       "      <th>Surname</th>\n",
       "      <th>CreditScore</th>\n",
       "      <th>Geography</th>\n",
       "      <th>Gender</th>\n",
       "      <th>Age</th>\n",
       "      <th>Tenure</th>\n",
       "      <th>Balance</th>\n",
       "      <th>NumOfProducts</th>\n",
       "      <th>HasCrCard</th>\n",
       "      <th>IsActiveMember</th>\n",
       "      <th>EstimatedSalary</th>\n",
       "      <th>Exited</th>\n",
       "      <th>age_group</th>\n",
       "      <th>score_prod_age</th>\n",
       "      <th>score_catboost</th>\n",
       "      <th>y_pred</th>\n",
       "    </tr>\n",
       "  </thead>\n",
       "  <tbody>\n",
       "    <tr>\n",
       "      <th>0</th>\n",
       "      <td>9168</td>\n",
       "      <td>15645353</td>\n",
       "      <td>Chubb</td>\n",
       "      <td>607</td>\n",
       "      <td>France</td>\n",
       "      <td>Male</td>\n",
       "      <td>26</td>\n",
       "      <td>1</td>\n",
       "      <td>0.00</td>\n",
       "      <td>1</td>\n",
       "      <td>1</td>\n",
       "      <td>0</td>\n",
       "      <td>29818.20</td>\n",
       "      <td>0</td>\n",
       "      <td>(0.0, 31.0]</td>\n",
       "      <td>0.110764</td>\n",
       "      <td>0.131844</td>\n",
       "      <td>0</td>\n",
       "    </tr>\n",
       "    <tr>\n",
       "      <th>1</th>\n",
       "      <td>9388</td>\n",
       "      <td>15594576</td>\n",
       "      <td>Zhdanov</td>\n",
       "      <td>524</td>\n",
       "      <td>France</td>\n",
       "      <td>Male</td>\n",
       "      <td>32</td>\n",
       "      <td>1</td>\n",
       "      <td>144875.71</td>\n",
       "      <td>1</td>\n",
       "      <td>0</td>\n",
       "      <td>0</td>\n",
       "      <td>187740.04</td>\n",
       "      <td>0</td>\n",
       "      <td>(31.0, 35.0]</td>\n",
       "      <td>0.140449</td>\n",
       "      <td>0.074020</td>\n",
       "      <td>0</td>\n",
       "    </tr>\n",
       "    <tr>\n",
       "      <th>2</th>\n",
       "      <td>6860</td>\n",
       "      <td>15811927</td>\n",
       "      <td>Marcelo</td>\n",
       "      <td>733</td>\n",
       "      <td>France</td>\n",
       "      <td>Female</td>\n",
       "      <td>38</td>\n",
       "      <td>3</td>\n",
       "      <td>157658.36</td>\n",
       "      <td>1</td>\n",
       "      <td>0</td>\n",
       "      <td>0</td>\n",
       "      <td>19658.43</td>\n",
       "      <td>0</td>\n",
       "      <td>(35.0, 40.0]</td>\n",
       "      <td>0.209337</td>\n",
       "      <td>0.186876</td>\n",
       "      <td>0</td>\n",
       "    </tr>\n",
       "    <tr>\n",
       "      <th>3</th>\n",
       "      <td>3501</td>\n",
       "      <td>15675675</td>\n",
       "      <td>Slate</td>\n",
       "      <td>850</td>\n",
       "      <td>France</td>\n",
       "      <td>Female</td>\n",
       "      <td>32</td>\n",
       "      <td>5</td>\n",
       "      <td>106290.64</td>\n",
       "      <td>1</td>\n",
       "      <td>1</td>\n",
       "      <td>0</td>\n",
       "      <td>121982.73</td>\n",
       "      <td>0</td>\n",
       "      <td>(31.0, 35.0]</td>\n",
       "      <td>0.140449</td>\n",
       "      <td>0.087403</td>\n",
       "      <td>0</td>\n",
       "    </tr>\n",
       "    <tr>\n",
       "      <th>4</th>\n",
       "      <td>6234</td>\n",
       "      <td>15682914</td>\n",
       "      <td>Bolton</td>\n",
       "      <td>850</td>\n",
       "      <td>France</td>\n",
       "      <td>Male</td>\n",
       "      <td>34</td>\n",
       "      <td>2</td>\n",
       "      <td>72079.71</td>\n",
       "      <td>1</td>\n",
       "      <td>1</td>\n",
       "      <td>1</td>\n",
       "      <td>115767.93</td>\n",
       "      <td>0</td>\n",
       "      <td>(31.0, 35.0]</td>\n",
       "      <td>0.140449</td>\n",
       "      <td>0.056658</td>\n",
       "      <td>0</td>\n",
       "    </tr>\n",
       "    <tr>\n",
       "      <th>...</th>\n",
       "      <td>...</td>\n",
       "      <td>...</td>\n",
       "      <td>...</td>\n",
       "      <td>...</td>\n",
       "      <td>...</td>\n",
       "      <td>...</td>\n",
       "      <td>...</td>\n",
       "      <td>...</td>\n",
       "      <td>...</td>\n",
       "      <td>...</td>\n",
       "      <td>...</td>\n",
       "      <td>...</td>\n",
       "      <td>...</td>\n",
       "      <td>...</td>\n",
       "      <td>...</td>\n",
       "      <td>...</td>\n",
       "      <td>...</td>\n",
       "      <td>...</td>\n",
       "    </tr>\n",
       "    <tr>\n",
       "      <th>1995</th>\n",
       "      <td>7393</td>\n",
       "      <td>15795079</td>\n",
       "      <td>Nnaife</td>\n",
       "      <td>596</td>\n",
       "      <td>Spain</td>\n",
       "      <td>Male</td>\n",
       "      <td>67</td>\n",
       "      <td>6</td>\n",
       "      <td>0.00</td>\n",
       "      <td>2</td>\n",
       "      <td>1</td>\n",
       "      <td>1</td>\n",
       "      <td>138350.74</td>\n",
       "      <td>0</td>\n",
       "      <td>(46.0, inf]</td>\n",
       "      <td>0.236364</td>\n",
       "      <td>0.026803</td>\n",
       "      <td>0</td>\n",
       "    </tr>\n",
       "    <tr>\n",
       "      <th>1996</th>\n",
       "      <td>3234</td>\n",
       "      <td>15601550</td>\n",
       "      <td>Genovesi</td>\n",
       "      <td>595</td>\n",
       "      <td>Spain</td>\n",
       "      <td>Male</td>\n",
       "      <td>36</td>\n",
       "      <td>6</td>\n",
       "      <td>85768.42</td>\n",
       "      <td>1</td>\n",
       "      <td>1</td>\n",
       "      <td>1</td>\n",
       "      <td>24802.77</td>\n",
       "      <td>0</td>\n",
       "      <td>(35.0, 40.0]</td>\n",
       "      <td>0.209337</td>\n",
       "      <td>0.084712</td>\n",
       "      <td>0</td>\n",
       "    </tr>\n",
       "    <tr>\n",
       "      <th>1997</th>\n",
       "      <td>219</td>\n",
       "      <td>15659366</td>\n",
       "      <td>Shih</td>\n",
       "      <td>807</td>\n",
       "      <td>France</td>\n",
       "      <td>Male</td>\n",
       "      <td>43</td>\n",
       "      <td>1</td>\n",
       "      <td>105799.32</td>\n",
       "      <td>2</td>\n",
       "      <td>1</td>\n",
       "      <td>0</td>\n",
       "      <td>34888.04</td>\n",
       "      <td>1</td>\n",
       "      <td>(40.0, 46.0]</td>\n",
       "      <td>0.108647</td>\n",
       "      <td>0.149411</td>\n",
       "      <td>0</td>\n",
       "    </tr>\n",
       "    <tr>\n",
       "      <th>1998</th>\n",
       "      <td>4756</td>\n",
       "      <td>15740072</td>\n",
       "      <td>Padovesi</td>\n",
       "      <td>720</td>\n",
       "      <td>France</td>\n",
       "      <td>Female</td>\n",
       "      <td>37</td>\n",
       "      <td>2</td>\n",
       "      <td>120328.88</td>\n",
       "      <td>2</td>\n",
       "      <td>1</td>\n",
       "      <td>1</td>\n",
       "      <td>138470.21</td>\n",
       "      <td>0</td>\n",
       "      <td>(35.0, 40.0]</td>\n",
       "      <td>0.061069</td>\n",
       "      <td>0.063715</td>\n",
       "      <td>0</td>\n",
       "    </tr>\n",
       "    <tr>\n",
       "      <th>1999</th>\n",
       "      <td>7635</td>\n",
       "      <td>15707681</td>\n",
       "      <td>Pokrovsky</td>\n",
       "      <td>501</td>\n",
       "      <td>Germany</td>\n",
       "      <td>Male</td>\n",
       "      <td>38</td>\n",
       "      <td>9</td>\n",
       "      <td>88977.39</td>\n",
       "      <td>2</td>\n",
       "      <td>0</td>\n",
       "      <td>1</td>\n",
       "      <td>133403.07</td>\n",
       "      <td>0</td>\n",
       "      <td>(35.0, 40.0]</td>\n",
       "      <td>0.061069</td>\n",
       "      <td>0.050231</td>\n",
       "      <td>0</td>\n",
       "    </tr>\n",
       "  </tbody>\n",
       "</table>\n",
       "<p>2000 rows × 18 columns</p>\n",
       "</div>"
      ],
      "text/plain": [
       "      RowNumber  CustomerId    Surname  CreditScore Geography  Gender  Age  \\\n",
       "0          9168    15645353      Chubb          607    France    Male   26   \n",
       "1          9388    15594576    Zhdanov          524    France    Male   32   \n",
       "2          6860    15811927    Marcelo          733    France  Female   38   \n",
       "3          3501    15675675      Slate          850    France  Female   32   \n",
       "4          6234    15682914     Bolton          850    France    Male   34   \n",
       "...         ...         ...        ...          ...       ...     ...  ...   \n",
       "1995       7393    15795079     Nnaife          596     Spain    Male   67   \n",
       "1996       3234    15601550   Genovesi          595     Spain    Male   36   \n",
       "1997        219    15659366       Shih          807    France    Male   43   \n",
       "1998       4756    15740072   Padovesi          720    France  Female   37   \n",
       "1999       7635    15707681  Pokrovsky          501   Germany    Male   38   \n",
       "\n",
       "      Tenure    Balance  NumOfProducts  HasCrCard  IsActiveMember  \\\n",
       "0          1       0.00              1          1               0   \n",
       "1          1  144875.71              1          0               0   \n",
       "2          3  157658.36              1          0               0   \n",
       "3          5  106290.64              1          1               0   \n",
       "4          2   72079.71              1          1               1   \n",
       "...      ...        ...            ...        ...             ...   \n",
       "1995       6       0.00              2          1               1   \n",
       "1996       6   85768.42              1          1               1   \n",
       "1997       1  105799.32              2          1               0   \n",
       "1998       2  120328.88              2          1               1   \n",
       "1999       9   88977.39              2          0               1   \n",
       "\n",
       "      EstimatedSalary  Exited     age_group  score_prod_age  score_catboost  \\\n",
       "0            29818.20       0   (0.0, 31.0]        0.110764        0.131844   \n",
       "1           187740.04       0  (31.0, 35.0]        0.140449        0.074020   \n",
       "2            19658.43       0  (35.0, 40.0]        0.209337        0.186876   \n",
       "3           121982.73       0  (31.0, 35.0]        0.140449        0.087403   \n",
       "4           115767.93       0  (31.0, 35.0]        0.140449        0.056658   \n",
       "...               ...     ...           ...             ...             ...   \n",
       "1995        138350.74       0   (46.0, inf]        0.236364        0.026803   \n",
       "1996         24802.77       0  (35.0, 40.0]        0.209337        0.084712   \n",
       "1997         34888.04       1  (40.0, 46.0]        0.108647        0.149411   \n",
       "1998        138470.21       0  (35.0, 40.0]        0.061069        0.063715   \n",
       "1999        133403.07       0  (35.0, 40.0]        0.061069        0.050231   \n",
       "\n",
       "      y_pred  \n",
       "0          0  \n",
       "1          0  \n",
       "2          0  \n",
       "3          0  \n",
       "4          0  \n",
       "...      ...  \n",
       "1995       0  \n",
       "1996       0  \n",
       "1997       0  \n",
       "1998       0  \n",
       "1999       0  \n",
       "\n",
       "[2000 rows x 18 columns]"
      ]
     },
     "execution_count": 25,
     "metadata": {},
     "output_type": "execute_result"
    }
   ],
   "source": [
    "# но удобней иметь не False jr  True в игрек предсказанное, а 0 или 1, так же как и у таргета\n",
    "test['y_pred'] = (test['score_catboost'] > 0.5) * 1\n",
    "test"
   ]
  },
  {
   "cell_type": "code",
   "execution_count": 26,
   "id": "89e2fc9f",
   "metadata": {},
   "outputs": [
    {
     "data": {
      "text/plain": [
       "0.1225"
      ]
     },
     "execution_count": 26,
     "metadata": {},
     "output_type": "execute_result"
    }
   ],
   "source": [
    "test['y_pred'].mean() # 12 процентов, кому мы предсказалил отток"
   ]
  },
  {
   "cell_type": "markdown",
   "id": "ba4450c9",
   "metadata": {},
   "source": [
    "# матрица ошибок\n",
    "    учимся анализировтаь ответ \n",
    "    надо сравнивать наш таргет(целевой признак) и y_pred"
   ]
  },
  {
   "cell_type": "code",
   "execution_count": 27,
   "id": "2460e15c",
   "metadata": {},
   "outputs": [],
   "source": [
    "from sklearn.metrics import confusion_matrix"
   ]
  },
  {
   "cell_type": "code",
   "execution_count": 28,
   "id": "8ee25db1",
   "metadata": {},
   "outputs": [
    {
     "data": {
      "text/plain": [
       "array([[1537,   56],\n",
       "       [ 218,  189]])"
      ]
     },
     "execution_count": 28,
     "metadata": {},
     "output_type": "execute_result"
    }
   ],
   "source": [
    "confusion_matrix(y_true=test['Exited'],y_pred=test['y_pred'])"
   ]
  },
  {
   "cell_type": "code",
   "execution_count": 29,
   "id": "00465b8d",
   "metadata": {},
   "outputs": [],
   "source": [
    "tn, fp, fn, tp = confusion_matrix(y_true=test['Exited'],y_pred=test['y_pred']).ravel()"
   ]
  },
  {
   "cell_type": "code",
   "execution_count": 30,
   "id": "9e389e61",
   "metadata": {},
   "outputs": [
    {
     "data": {
      "text/plain": [
       "(1537, 56, 218, 189)"
      ]
     },
     "execution_count": 30,
     "metadata": {},
     "output_type": "execute_result"
    }
   ],
   "source": [
    "tn, fp, fn, tp"
   ]
  },
  {
   "cell_type": "markdown",
   "id": "b72322f2",
   "metadata": {},
   "source": [
    "    \n",
    "    что видно.\n",
    "    True and negative or positive\n",
    "    True - значит ответы совпали (negative это 0, positive это 1 у y_pred)\n",
    "    tn = true negative(когда и таргет и y_pred) показали 0 = 1537\n",
    "    fp = true positive(когда и таргет и y_pred) показали 1 = 189\n",
    "    \n",
    "    False and negative or positive\n",
    "    False значит ответы не совпали (negative это 0, positive это 1 у y_pred)\n",
    "    fp = false positive y_pred показал 1 = 56\n",
    "    tn = false negative y_pred показал 0 = 218\n",
    "    \n",
    "    в основном ошибки в FN - это когда клиент был отточным, но модель его пропустила(модель не доглядела)\n",
    "    и FP - это когда оттока не было, но модель сказала что был отток"
   ]
  },
  {
   "cell_type": "markdown",
   "id": "605a919c",
   "metadata": {},
   "source": [
    "# Recall полнота\n",
    "    первая метрика так же называетсся sensetivity, hit rate, true positive rate\n",
    "    \n",
    "    это процент еденичек, которая модель правильно прометила как еденички. \n",
    "    насколько хорошо в случае нашей задачи, модель подсвечивает отточного клиента\n",
    "    \n",
    "    для рекола используется FN TP"
   ]
  },
  {
   "cell_type": "code",
   "execution_count": 31,
   "id": "3d80416d",
   "metadata": {},
   "outputs": [],
   "source": [
    "recall = tp / (tp + fn)"
   ]
  },
  {
   "cell_type": "code",
   "execution_count": 32,
   "id": "811b1118",
   "metadata": {},
   "outputs": [
    {
     "data": {
      "text/plain": [
       "0.4643734643734644"
      ]
     },
     "execution_count": 32,
     "metadata": {},
     "output_type": "execute_result"
    }
   ],
   "source": [
    "recall # получилось 46 процентов"
   ]
  },
  {
   "cell_type": "code",
   "execution_count": 33,
   "id": "fe963734",
   "metadata": {},
   "outputs": [
    {
     "data": {
      "text/plain": [
       "0.4643734643734644"
      ]
     },
     "execution_count": 33,
     "metadata": {},
     "output_type": "execute_result"
    }
   ],
   "source": [
    "from sklearn.metrics import recall_score\n",
    "\n",
    "recall_score(test['Exited'], test['y_pred'])"
   ]
  },
  {
   "cell_type": "markdown",
   "id": "2cf73e9e",
   "metadata": {},
   "source": [
    "# Precision точность\n",
    "    или positive predicted value, но лучше называть precision\n",
    "    показывает процент правильных едениц, среди всех предсказанных едениц\n",
    "    \n",
    "    Precision использует \n",
    "    FP TP"
   ]
  },
  {
   "cell_type": "code",
   "execution_count": 34,
   "id": "11a33b3d",
   "metadata": {},
   "outputs": [],
   "source": [
    "precision = tp / (tp + fp)"
   ]
  },
  {
   "cell_type": "code",
   "execution_count": 35,
   "id": "95c57451",
   "metadata": {},
   "outputs": [
    {
     "data": {
      "text/plain": [
       "0.7714285714285715"
      ]
     },
     "execution_count": 35,
     "metadata": {},
     "output_type": "execute_result"
    }
   ],
   "source": [
    "precision"
   ]
  },
  {
   "cell_type": "code",
   "execution_count": 36,
   "id": "ddb0b614",
   "metadata": {},
   "outputs": [
    {
     "data": {
      "text/plain": [
       "0.7714285714285715"
      ]
     },
     "execution_count": 36,
     "metadata": {},
     "output_type": "execute_result"
    }
   ],
   "source": [
    "from sklearn.metrics import precision_score\n",
    "\n",
    "precision_score(test['Exited'], test['y_pred'])"
   ]
  },
  {
   "cell_type": "markdown",
   "id": "2ba92d58",
   "metadata": {},
   "source": [
    "# F metric\n",
    "    комбинация между precision and recall. как бы объединяет их\n",
    "    гармоническое среднее"
   ]
  },
  {
   "cell_type": "code",
   "execution_count": 37,
   "id": "f56c5280",
   "metadata": {},
   "outputs": [
    {
     "data": {
      "text/plain": [
       "0.5797546012269938"
      ]
     },
     "execution_count": 37,
     "metadata": {},
     "output_type": "execute_result"
    }
   ],
   "source": [
    "f1 = (2 * recall * precision) / (recall + precision)\n",
    "f1 "
   ]
  },
  {
   "cell_type": "code",
   "execution_count": 38,
   "id": "83e2c9a2",
   "metadata": {},
   "outputs": [],
   "source": [
    "from sklearn.metrics import f1_score\n"
   ]
  },
  {
   "cell_type": "code",
   "execution_count": 39,
   "id": "cc18c1a9",
   "metadata": {},
   "outputs": [
    {
     "data": {
      "text/plain": [
       "0.5797546012269938"
      ]
     },
     "execution_count": 39,
     "metadata": {},
     "output_type": "execute_result"
    }
   ],
   "source": [
    "f1_score(test['Exited'], test['y_pred']) # вот правльный ответ"
   ]
  },
  {
   "cell_type": "markdown",
   "id": "f7021a41",
   "metadata": {},
   "source": [
    "# Accuracy metric\n",
    "    процент правильных ответов\n",
    "    в скольких процентах случаев, модель правльно предсказала класс.\n",
    "    посчитать это можно даже без матрицы ошибок\n",
    "    \n",
    "    В задачах с несбалансированными классами (где один класс встречается значительно чаще, чем другой) accuracy может вводить в заблуждение, потому что она не учитывает пропорции между классами.\n",
    "    \n",
    "    Пример:\n",
    "    Допустим, у тебя есть задача бинарной классификации, где:\n",
    "\n",
    "    95% данных принадлежат к классу 0 (например, клиенты, которые не ушли),\n",
    "    5% данных принадлежат к классу 1 (например, клиенты, которые ушли).\n",
    "    Теперь представим, что модель просто всегда предсказывает, что клиент не уйдет (класс 0). Модель будет предсказывать правильно для 95% случаев, и точность (accuracy) будет 95%.\n",
    "    \n",
    "    \n",
    "    для не сбалансированных лучше Precision, Recall и F1-Score:"
   ]
  },
  {
   "cell_type": "code",
   "execution_count": 40,
   "id": "0b7d6050",
   "metadata": {},
   "outputs": [
    {
     "data": {
      "text/plain": [
       "0.863"
      ]
     },
     "execution_count": 40,
     "metadata": {},
     "output_type": "execute_result"
    }
   ],
   "source": [
    "(test['Exited'] == test['y_pred']).mean() # без матрицы"
   ]
  },
  {
   "cell_type": "code",
   "execution_count": 41,
   "id": "9c5c3d4a",
   "metadata": {},
   "outputs": [
    {
     "data": {
      "text/plain": [
       "0.863"
      ]
     },
     "execution_count": 41,
     "metadata": {},
     "output_type": "execute_result"
    }
   ],
   "source": [
    "(tp + tn) / (tp + tn + fp + fn) # с помощью матрицы"
   ]
  },
  {
   "cell_type": "code",
   "execution_count": 42,
   "id": "15152484",
   "metadata": {},
   "outputs": [
    {
     "data": {
      "text/plain": [
       "0.863"
      ]
     },
     "execution_count": 42,
     "metadata": {},
     "output_type": "execute_result"
    }
   ],
   "source": [
    "from sklearn.metrics import accuracy_score\n",
    "accuracy_score(test['Exited'], test['y_pred'])"
   ]
  },
  {
   "cell_type": "markdown",
   "id": "edf6b5c3",
   "metadata": {},
   "source": [
    "# classification report\n",
    "    отчет о классификации, для всех этих метрик\n",
    "    \n",
    "    \n",
    "    это были основыне метрики. Но проблема их, что они посчитаны для одного порога. для порога 0.5\n",
    "    то что я написал выше\n",
    "    test['y_pred'] = (test['score_catboost'] > 0.5) * 1\n",
    "    \n",
    "    но порогов может быть больше. что если порог измениться и получатся метрики лучше"
   ]
  },
  {
   "cell_type": "code",
   "execution_count": 43,
   "id": "29f7a0ef",
   "metadata": {},
   "outputs": [],
   "source": [
    "from sklearn.metrics import classification_report"
   ]
  },
  {
   "cell_type": "code",
   "execution_count": 44,
   "id": "1830548e",
   "metadata": {},
   "outputs": [
    {
     "data": {
      "text/plain": [
       "'              precision    recall  f1-score   support\\n\\n           0       0.88      0.96      0.92      1593\\n           1       0.77      0.46      0.58       407\\n\\n    accuracy                           0.86      2000\\n   macro avg       0.82      0.71      0.75      2000\\nweighted avg       0.85      0.86      0.85      2000\\n'"
      ]
     },
     "execution_count": 44,
     "metadata": {},
     "output_type": "execute_result"
    }
   ],
   "source": [
    "classification_report(test['Exited'], test['y_pred']) # использовать принт для нее"
   ]
  },
  {
   "cell_type": "code",
   "execution_count": 45,
   "id": "35dabcee",
   "metadata": {},
   "outputs": [
    {
     "name": "stdout",
     "output_type": "stream",
     "text": [
      "              precision    recall  f1-score   support\n",
      "\n",
      "           0       0.88      0.96      0.92      1593\n",
      "           1       0.77      0.46      0.58       407\n",
      "\n",
      "    accuracy                           0.86      2000\n",
      "   macro avg       0.82      0.71      0.75      2000\n",
      "weighted avg       0.85      0.86      0.85      2000\n",
      "\n"
     ]
    }
   ],
   "source": [
    "print(classification_report(test['Exited'], test['y_pred']))"
   ]
  },
  {
   "cell_type": "code",
   "execution_count": 46,
   "id": "e91f7b67",
   "metadata": {},
   "outputs": [],
   "source": [
    "test['y_pred_new'] = (test['score_catboost'] > 0.4) * 1"
   ]
  },
  {
   "cell_type": "code",
   "execution_count": 47,
   "id": "5633ff82",
   "metadata": {},
   "outputs": [
    {
     "name": "stdout",
     "output_type": "stream",
     "text": [
      "              precision    recall  f1-score   support\n",
      "\n",
      "           0       0.89      0.94      0.91      1593\n",
      "           1       0.70      0.54      0.61       407\n",
      "\n",
      "    accuracy                           0.86      2000\n",
      "   macro avg       0.79      0.74      0.76      2000\n",
      "weighted avg       0.85      0.86      0.85      2000\n",
      "\n"
     ]
    }
   ],
   "source": [
    "print(classification_report(test['Exited'], test['y_pred_new']))  "
   ]
  },
  {
   "cell_type": "markdown",
   "id": "4085f0c3",
   "metadata": {},
   "source": [
    "    подсчет Ф1 для всех порогов, и найду порог для максимальной Ф1"
   ]
  },
  {
   "cell_type": "code",
   "execution_count": 48,
   "id": "44e8062b",
   "metadata": {},
   "outputs": [
    {
     "data": {
      "text/html": [
       "<div>\n",
       "<style scoped>\n",
       "    .dataframe tbody tr th:only-of-type {\n",
       "        vertical-align: middle;\n",
       "    }\n",
       "\n",
       "    .dataframe tbody tr th {\n",
       "        vertical-align: top;\n",
       "    }\n",
       "\n",
       "    .dataframe thead th {\n",
       "        text-align: right;\n",
       "    }\n",
       "</style>\n",
       "<table border=\"1\" class=\"dataframe\">\n",
       "  <thead>\n",
       "    <tr style=\"text-align: right;\">\n",
       "      <th></th>\n",
       "      <th>RowNumber</th>\n",
       "      <th>CustomerId</th>\n",
       "      <th>Surname</th>\n",
       "      <th>CreditScore</th>\n",
       "      <th>Geography</th>\n",
       "      <th>Gender</th>\n",
       "      <th>Age</th>\n",
       "      <th>Tenure</th>\n",
       "      <th>Balance</th>\n",
       "      <th>NumOfProducts</th>\n",
       "      <th>HasCrCard</th>\n",
       "      <th>IsActiveMember</th>\n",
       "      <th>EstimatedSalary</th>\n",
       "      <th>Exited</th>\n",
       "      <th>age_group</th>\n",
       "      <th>score_prod_age</th>\n",
       "      <th>score_catboost</th>\n",
       "      <th>y_pred</th>\n",
       "      <th>y_pred_new</th>\n",
       "    </tr>\n",
       "  </thead>\n",
       "  <tbody>\n",
       "    <tr>\n",
       "      <th>0</th>\n",
       "      <td>9168</td>\n",
       "      <td>15645353</td>\n",
       "      <td>Chubb</td>\n",
       "      <td>607</td>\n",
       "      <td>France</td>\n",
       "      <td>Male</td>\n",
       "      <td>26</td>\n",
       "      <td>1</td>\n",
       "      <td>0.00</td>\n",
       "      <td>1</td>\n",
       "      <td>1</td>\n",
       "      <td>0</td>\n",
       "      <td>29818.20</td>\n",
       "      <td>0</td>\n",
       "      <td>(0.0, 31.0]</td>\n",
       "      <td>0.110764</td>\n",
       "      <td>0.131844</td>\n",
       "      <td>0</td>\n",
       "      <td>0</td>\n",
       "    </tr>\n",
       "    <tr>\n",
       "      <th>1</th>\n",
       "      <td>9388</td>\n",
       "      <td>15594576</td>\n",
       "      <td>Zhdanov</td>\n",
       "      <td>524</td>\n",
       "      <td>France</td>\n",
       "      <td>Male</td>\n",
       "      <td>32</td>\n",
       "      <td>1</td>\n",
       "      <td>144875.71</td>\n",
       "      <td>1</td>\n",
       "      <td>0</td>\n",
       "      <td>0</td>\n",
       "      <td>187740.04</td>\n",
       "      <td>0</td>\n",
       "      <td>(31.0, 35.0]</td>\n",
       "      <td>0.140449</td>\n",
       "      <td>0.074020</td>\n",
       "      <td>0</td>\n",
       "      <td>0</td>\n",
       "    </tr>\n",
       "    <tr>\n",
       "      <th>2</th>\n",
       "      <td>6860</td>\n",
       "      <td>15811927</td>\n",
       "      <td>Marcelo</td>\n",
       "      <td>733</td>\n",
       "      <td>France</td>\n",
       "      <td>Female</td>\n",
       "      <td>38</td>\n",
       "      <td>3</td>\n",
       "      <td>157658.36</td>\n",
       "      <td>1</td>\n",
       "      <td>0</td>\n",
       "      <td>0</td>\n",
       "      <td>19658.43</td>\n",
       "      <td>0</td>\n",
       "      <td>(35.0, 40.0]</td>\n",
       "      <td>0.209337</td>\n",
       "      <td>0.186876</td>\n",
       "      <td>0</td>\n",
       "      <td>0</td>\n",
       "    </tr>\n",
       "    <tr>\n",
       "      <th>3</th>\n",
       "      <td>3501</td>\n",
       "      <td>15675675</td>\n",
       "      <td>Slate</td>\n",
       "      <td>850</td>\n",
       "      <td>France</td>\n",
       "      <td>Female</td>\n",
       "      <td>32</td>\n",
       "      <td>5</td>\n",
       "      <td>106290.64</td>\n",
       "      <td>1</td>\n",
       "      <td>1</td>\n",
       "      <td>0</td>\n",
       "      <td>121982.73</td>\n",
       "      <td>0</td>\n",
       "      <td>(31.0, 35.0]</td>\n",
       "      <td>0.140449</td>\n",
       "      <td>0.087403</td>\n",
       "      <td>0</td>\n",
       "      <td>0</td>\n",
       "    </tr>\n",
       "    <tr>\n",
       "      <th>4</th>\n",
       "      <td>6234</td>\n",
       "      <td>15682914</td>\n",
       "      <td>Bolton</td>\n",
       "      <td>850</td>\n",
       "      <td>France</td>\n",
       "      <td>Male</td>\n",
       "      <td>34</td>\n",
       "      <td>2</td>\n",
       "      <td>72079.71</td>\n",
       "      <td>1</td>\n",
       "      <td>1</td>\n",
       "      <td>1</td>\n",
       "      <td>115767.93</td>\n",
       "      <td>0</td>\n",
       "      <td>(31.0, 35.0]</td>\n",
       "      <td>0.140449</td>\n",
       "      <td>0.056658</td>\n",
       "      <td>0</td>\n",
       "      <td>0</td>\n",
       "    </tr>\n",
       "    <tr>\n",
       "      <th>...</th>\n",
       "      <td>...</td>\n",
       "      <td>...</td>\n",
       "      <td>...</td>\n",
       "      <td>...</td>\n",
       "      <td>...</td>\n",
       "      <td>...</td>\n",
       "      <td>...</td>\n",
       "      <td>...</td>\n",
       "      <td>...</td>\n",
       "      <td>...</td>\n",
       "      <td>...</td>\n",
       "      <td>...</td>\n",
       "      <td>...</td>\n",
       "      <td>...</td>\n",
       "      <td>...</td>\n",
       "      <td>...</td>\n",
       "      <td>...</td>\n",
       "      <td>...</td>\n",
       "      <td>...</td>\n",
       "    </tr>\n",
       "    <tr>\n",
       "      <th>1995</th>\n",
       "      <td>7393</td>\n",
       "      <td>15795079</td>\n",
       "      <td>Nnaife</td>\n",
       "      <td>596</td>\n",
       "      <td>Spain</td>\n",
       "      <td>Male</td>\n",
       "      <td>67</td>\n",
       "      <td>6</td>\n",
       "      <td>0.00</td>\n",
       "      <td>2</td>\n",
       "      <td>1</td>\n",
       "      <td>1</td>\n",
       "      <td>138350.74</td>\n",
       "      <td>0</td>\n",
       "      <td>(46.0, inf]</td>\n",
       "      <td>0.236364</td>\n",
       "      <td>0.026803</td>\n",
       "      <td>0</td>\n",
       "      <td>0</td>\n",
       "    </tr>\n",
       "    <tr>\n",
       "      <th>1996</th>\n",
       "      <td>3234</td>\n",
       "      <td>15601550</td>\n",
       "      <td>Genovesi</td>\n",
       "      <td>595</td>\n",
       "      <td>Spain</td>\n",
       "      <td>Male</td>\n",
       "      <td>36</td>\n",
       "      <td>6</td>\n",
       "      <td>85768.42</td>\n",
       "      <td>1</td>\n",
       "      <td>1</td>\n",
       "      <td>1</td>\n",
       "      <td>24802.77</td>\n",
       "      <td>0</td>\n",
       "      <td>(35.0, 40.0]</td>\n",
       "      <td>0.209337</td>\n",
       "      <td>0.084712</td>\n",
       "      <td>0</td>\n",
       "      <td>0</td>\n",
       "    </tr>\n",
       "    <tr>\n",
       "      <th>1997</th>\n",
       "      <td>219</td>\n",
       "      <td>15659366</td>\n",
       "      <td>Shih</td>\n",
       "      <td>807</td>\n",
       "      <td>France</td>\n",
       "      <td>Male</td>\n",
       "      <td>43</td>\n",
       "      <td>1</td>\n",
       "      <td>105799.32</td>\n",
       "      <td>2</td>\n",
       "      <td>1</td>\n",
       "      <td>0</td>\n",
       "      <td>34888.04</td>\n",
       "      <td>1</td>\n",
       "      <td>(40.0, 46.0]</td>\n",
       "      <td>0.108647</td>\n",
       "      <td>0.149411</td>\n",
       "      <td>0</td>\n",
       "      <td>0</td>\n",
       "    </tr>\n",
       "    <tr>\n",
       "      <th>1998</th>\n",
       "      <td>4756</td>\n",
       "      <td>15740072</td>\n",
       "      <td>Padovesi</td>\n",
       "      <td>720</td>\n",
       "      <td>France</td>\n",
       "      <td>Female</td>\n",
       "      <td>37</td>\n",
       "      <td>2</td>\n",
       "      <td>120328.88</td>\n",
       "      <td>2</td>\n",
       "      <td>1</td>\n",
       "      <td>1</td>\n",
       "      <td>138470.21</td>\n",
       "      <td>0</td>\n",
       "      <td>(35.0, 40.0]</td>\n",
       "      <td>0.061069</td>\n",
       "      <td>0.063715</td>\n",
       "      <td>0</td>\n",
       "      <td>0</td>\n",
       "    </tr>\n",
       "    <tr>\n",
       "      <th>1999</th>\n",
       "      <td>7635</td>\n",
       "      <td>15707681</td>\n",
       "      <td>Pokrovsky</td>\n",
       "      <td>501</td>\n",
       "      <td>Germany</td>\n",
       "      <td>Male</td>\n",
       "      <td>38</td>\n",
       "      <td>9</td>\n",
       "      <td>88977.39</td>\n",
       "      <td>2</td>\n",
       "      <td>0</td>\n",
       "      <td>1</td>\n",
       "      <td>133403.07</td>\n",
       "      <td>0</td>\n",
       "      <td>(35.0, 40.0]</td>\n",
       "      <td>0.061069</td>\n",
       "      <td>0.050231</td>\n",
       "      <td>0</td>\n",
       "      <td>0</td>\n",
       "    </tr>\n",
       "  </tbody>\n",
       "</table>\n",
       "<p>2000 rows × 19 columns</p>\n",
       "</div>"
      ],
      "text/plain": [
       "      RowNumber  CustomerId    Surname  CreditScore Geography  Gender  Age  \\\n",
       "0          9168    15645353      Chubb          607    France    Male   26   \n",
       "1          9388    15594576    Zhdanov          524    France    Male   32   \n",
       "2          6860    15811927    Marcelo          733    France  Female   38   \n",
       "3          3501    15675675      Slate          850    France  Female   32   \n",
       "4          6234    15682914     Bolton          850    France    Male   34   \n",
       "...         ...         ...        ...          ...       ...     ...  ...   \n",
       "1995       7393    15795079     Nnaife          596     Spain    Male   67   \n",
       "1996       3234    15601550   Genovesi          595     Spain    Male   36   \n",
       "1997        219    15659366       Shih          807    France    Male   43   \n",
       "1998       4756    15740072   Padovesi          720    France  Female   37   \n",
       "1999       7635    15707681  Pokrovsky          501   Germany    Male   38   \n",
       "\n",
       "      Tenure    Balance  NumOfProducts  HasCrCard  IsActiveMember  \\\n",
       "0          1       0.00              1          1               0   \n",
       "1          1  144875.71              1          0               0   \n",
       "2          3  157658.36              1          0               0   \n",
       "3          5  106290.64              1          1               0   \n",
       "4          2   72079.71              1          1               1   \n",
       "...      ...        ...            ...        ...             ...   \n",
       "1995       6       0.00              2          1               1   \n",
       "1996       6   85768.42              1          1               1   \n",
       "1997       1  105799.32              2          1               0   \n",
       "1998       2  120328.88              2          1               1   \n",
       "1999       9   88977.39              2          0               1   \n",
       "\n",
       "      EstimatedSalary  Exited     age_group  score_prod_age  score_catboost  \\\n",
       "0            29818.20       0   (0.0, 31.0]        0.110764        0.131844   \n",
       "1           187740.04       0  (31.0, 35.0]        0.140449        0.074020   \n",
       "2            19658.43       0  (35.0, 40.0]        0.209337        0.186876   \n",
       "3           121982.73       0  (31.0, 35.0]        0.140449        0.087403   \n",
       "4           115767.93       0  (31.0, 35.0]        0.140449        0.056658   \n",
       "...               ...     ...           ...             ...             ...   \n",
       "1995        138350.74       0   (46.0, inf]        0.236364        0.026803   \n",
       "1996         24802.77       0  (35.0, 40.0]        0.209337        0.084712   \n",
       "1997         34888.04       1  (40.0, 46.0]        0.108647        0.149411   \n",
       "1998        138470.21       0  (35.0, 40.0]        0.061069        0.063715   \n",
       "1999        133403.07       0  (35.0, 40.0]        0.061069        0.050231   \n",
       "\n",
       "      y_pred  y_pred_new  \n",
       "0          0           0  \n",
       "1          0           0  \n",
       "2          0           0  \n",
       "3          0           0  \n",
       "4          0           0  \n",
       "...      ...         ...  \n",
       "1995       0           0  \n",
       "1996       0           0  \n",
       "1997       0           0  \n",
       "1998       0           0  \n",
       "1999       0           0  \n",
       "\n",
       "[2000 rows x 19 columns]"
      ]
     },
     "execution_count": 48,
     "metadata": {},
     "output_type": "execute_result"
    }
   ],
   "source": [
    "test"
   ]
  },
  {
   "cell_type": "code",
   "execution_count": 49,
   "id": "12e56448",
   "metadata": {},
   "outputs": [
    {
     "data": {
      "text/plain": [
       "2000"
      ]
     },
     "execution_count": 49,
     "metadata": {},
     "output_type": "execute_result"
    }
   ],
   "source": [
    "test['score_catboost'].nunique() # все уникальные"
   ]
  },
  {
   "cell_type": "code",
   "execution_count": 50,
   "id": "f42566b8",
   "metadata": {},
   "outputs": [],
   "source": [
    "thrs = list(test['score_catboost'].unique()) # сохраняю пороги"
   ]
  },
  {
   "cell_type": "code",
   "execution_count": 51,
   "id": "75bb7afa",
   "metadata": {},
   "outputs": [
    {
     "data": {
      "text/plain": [
       "[0.13184386080460458,\n",
       " 0.07401954387476314,\n",
       " 0.18687567474270395,\n",
       " 0.0874034938715728,\n",
       " 0.056658162909274605,\n",
       " 0.06161072773132977,\n",
       " 0.5563161171624521,\n",
       " 0.20388734500811342,\n",
       " 0.0455555402676573,\n",
       " 0.3665912024509706,\n",
       " 0.05285404501123437,\n",
       " 0.023898613831695264,\n",
       " 0.025687510422433404,\n",
       " 0.1636902819818866,\n",
       " 0.253926767059399,\n",
       " 0.7564224487666255,\n",
       " 0.01869061442130417,\n",
       " 0.5052261796760974,\n",
       " 0.07183857505482731,\n",
       " 0.035709043055949935]"
      ]
     },
     "execution_count": 51,
     "metadata": {},
     "output_type": "execute_result"
    }
   ],
   "source": [
    "thrs[:20]"
   ]
  },
  {
   "cell_type": "markdown",
   "id": "cd89d60b",
   "metadata": {},
   "source": [
    "    и туда нужно положить еще один порог. нужно положить тот порог, при котором все объекты получат метку 1"
   ]
  },
  {
   "cell_type": "code",
   "execution_count": 52,
   "id": "3d98d4f5",
   "metadata": {},
   "outputs": [
    {
     "data": {
      "text/plain": [
       "0.009371218568204347"
      ]
     },
     "execution_count": 52,
     "metadata": {},
     "output_type": "execute_result"
    }
   ],
   "source": [
    "min(thrs) # минимальный отличается от нуля. так что подложу еще 0 туда"
   ]
  },
  {
   "cell_type": "code",
   "execution_count": 53,
   "id": "caaeda87",
   "metadata": {},
   "outputs": [],
   "source": [
    "thrs = [0] + list(test['score_catboost'].unique())"
   ]
  },
  {
   "cell_type": "code",
   "execution_count": 54,
   "id": "23dccf15",
   "metadata": {},
   "outputs": [
    {
     "data": {
      "text/plain": [
       "2001"
      ]
     },
     "execution_count": 54,
     "metadata": {},
     "output_type": "execute_result"
    }
   ],
   "source": [
    "len(thrs)"
   ]
  },
  {
   "cell_type": "markdown",
   "id": "172867db",
   "metadata": {},
   "source": [
    "    теперь есть все необходимые пороги,при котороых я могу посчитать Ф1\n",
    "    \n",
    "    \n",
    "    thr — это порог, который определяет, с какого значения вероятности (или score_catboost) модель будет относить наблюдение к классу 1 (положительный класс). В бинарной классификации стандартный порог — 0.5, то есть если вероятность больше 0.5, объект предсказывается как класс 1, иначе как класс 0.\n",
    "\n",
    "    thrs — это набор порогов. Например, это может быть список значений [0.1, 0.2, 0.3, ..., 0.9]. То есть в этом цикле код проверяет, как изменятся предсказания модели при разных значениях порога.\n",
    "\n",
    "    test['score_catboost'] — это вероятности, которые модель CatBoost предсказала для каждого наблюдения. Эти значения находятся в диапазоне от 0 до 1 и показывают вероятность принадлежности к классу 1.\n",
    "\n",
    "    test['y_pred_new'] = (test['score_catboost'] > thr) * 1:\n",
    "\n",
    "    Здесь для каждого порога thr создаются новые предсказания (y_pred_new) на основе вероятностей score_catboost.\n",
    "    (test['score_catboost'] > thr) возвращает True для тех наблюдений, где вероятность выше порога thr, и False — где ниже.\n",
    "    Умножение на 1 (то есть * 1) преобразует True в 1 (класс 1), а False в 0 (класс 0).\n",
    "    Таким образом, для каждого порога thr ты создаёшь новую колонку y_pred_new, в которой записывается предсказанный класс 1 или 0, в зависимости от того, больше ли вероятность score_catboost порога thr."
   ]
  },
  {
   "cell_type": "code",
   "execution_count": 55,
   "id": "210f09d2",
   "metadata": {},
   "outputs": [
    {
     "data": {
      "application/vnd.jupyter.widget-view+json": {
       "model_id": "614a512363be4e0ba7acf07c7d6c6b17",
       "version_major": 2,
       "version_minor": 0
      },
      "text/plain": [
       "  0%|          | 0/2001 [00:00<?, ?it/s]"
      ]
     },
     "metadata": {},
     "output_type": "display_data"
    }
   ],
   "source": [
    "# для каждого порога, буду делать предикт\n",
    "# Этот код позволяет исследовать, как изменяются предсказания модели при разных порогах\n",
    "\n",
    "from tqdm.notebook import tqdm\n",
    "result = []\n",
    "for thr in tqdm(thrs):\n",
    "    test['y_pred_new'] = (test['score_catboost'] > thr) * 1\n",
    "    result.append((thr, # что бы видеть еще и порог помимо Ф1\n",
    "                   f1_score(test['Exited'], test['y_pred_new'])))"
   ]
  },
  {
   "cell_type": "code",
   "execution_count": 56,
   "id": "b418fcb5",
   "metadata": {},
   "outputs": [],
   "source": [
    "t = pd.DataFrame(result, columns=['thr', 'f1'])"
   ]
  },
  {
   "cell_type": "code",
   "execution_count": 57,
   "id": "ae60ded5",
   "metadata": {},
   "outputs": [
    {
     "data": {
      "text/html": [
       "<div>\n",
       "<style scoped>\n",
       "    .dataframe tbody tr th:only-of-type {\n",
       "        vertical-align: middle;\n",
       "    }\n",
       "\n",
       "    .dataframe tbody tr th {\n",
       "        vertical-align: top;\n",
       "    }\n",
       "\n",
       "    .dataframe thead th {\n",
       "        text-align: right;\n",
       "    }\n",
       "</style>\n",
       "<table border=\"1\" class=\"dataframe\">\n",
       "  <thead>\n",
       "    <tr style=\"text-align: right;\">\n",
       "      <th></th>\n",
       "      <th>thr</th>\n",
       "      <th>f1</th>\n",
       "    </tr>\n",
       "  </thead>\n",
       "  <tbody>\n",
       "    <tr>\n",
       "      <th>640</th>\n",
       "      <td>0.277932</td>\n",
       "      <td>0.636771</td>\n",
       "    </tr>\n",
       "    <tr>\n",
       "      <th>623</th>\n",
       "      <td>0.280837</td>\n",
       "      <td>0.636569</td>\n",
       "    </tr>\n",
       "    <tr>\n",
       "      <th>1343</th>\n",
       "      <td>0.276637</td>\n",
       "      <td>0.636058</td>\n",
       "    </tr>\n",
       "    <tr>\n",
       "      <th>1756</th>\n",
       "      <td>0.331582</td>\n",
       "      <td>0.636025</td>\n",
       "    </tr>\n",
       "    <tr>\n",
       "      <th>1228</th>\n",
       "      <td>0.278005</td>\n",
       "      <td>0.635955</td>\n",
       "    </tr>\n",
       "    <tr>\n",
       "      <th>...</th>\n",
       "      <td>...</td>\n",
       "      <td>...</td>\n",
       "    </tr>\n",
       "    <tr>\n",
       "      <th>238</th>\n",
       "      <td>0.992916</td>\n",
       "      <td>0.019465</td>\n",
       "    </tr>\n",
       "    <tr>\n",
       "      <th>315</th>\n",
       "      <td>0.993195</td>\n",
       "      <td>0.014634</td>\n",
       "    </tr>\n",
       "    <tr>\n",
       "      <th>180</th>\n",
       "      <td>0.994941</td>\n",
       "      <td>0.009780</td>\n",
       "    </tr>\n",
       "    <tr>\n",
       "      <th>1205</th>\n",
       "      <td>0.997245</td>\n",
       "      <td>0.004902</td>\n",
       "    </tr>\n",
       "    <tr>\n",
       "      <th>206</th>\n",
       "      <td>0.997318</td>\n",
       "      <td>0.000000</td>\n",
       "    </tr>\n",
       "  </tbody>\n",
       "</table>\n",
       "<p>2001 rows × 2 columns</p>\n",
       "</div>"
      ],
      "text/plain": [
       "           thr        f1\n",
       "640   0.277932  0.636771\n",
       "623   0.280837  0.636569\n",
       "1343  0.276637  0.636058\n",
       "1756  0.331582  0.636025\n",
       "1228  0.278005  0.635955\n",
       "...        ...       ...\n",
       "238   0.992916  0.019465\n",
       "315   0.993195  0.014634\n",
       "180   0.994941  0.009780\n",
       "1205  0.997245  0.004902\n",
       "206   0.997318  0.000000\n",
       "\n",
       "[2001 rows x 2 columns]"
      ]
     },
     "execution_count": 57,
     "metadata": {},
     "output_type": "execute_result"
    }
   ],
   "source": [
    "t.sort_values('f1', ascending=False)"
   ]
  },
  {
   "cell_type": "code",
   "execution_count": 58,
   "id": "968f11d5",
   "metadata": {},
   "outputs": [
    {
     "data": {
      "text/plain": [
       "0.6367713004484306"
      ]
     },
     "execution_count": 58,
     "metadata": {},
     "output_type": "execute_result"
    }
   ],
   "source": [
    "t['f1'].max()"
   ]
  },
  {
   "cell_type": "code",
   "execution_count": 59,
   "id": "bcb0c8b4",
   "metadata": {},
   "outputs": [
    {
     "data": {
      "text/html": [
       "<div>\n",
       "<style scoped>\n",
       "    .dataframe tbody tr th:only-of-type {\n",
       "        vertical-align: middle;\n",
       "    }\n",
       "\n",
       "    .dataframe tbody tr th {\n",
       "        vertical-align: top;\n",
       "    }\n",
       "\n",
       "    .dataframe thead th {\n",
       "        text-align: right;\n",
       "    }\n",
       "</style>\n",
       "<table border=\"1\" class=\"dataframe\">\n",
       "  <thead>\n",
       "    <tr style=\"text-align: right;\">\n",
       "      <th></th>\n",
       "      <th>thr</th>\n",
       "      <th>f1</th>\n",
       "    </tr>\n",
       "  </thead>\n",
       "  <tbody>\n",
       "    <tr>\n",
       "      <th>640</th>\n",
       "      <td>0.277932</td>\n",
       "      <td>0.636771</td>\n",
       "    </tr>\n",
       "  </tbody>\n",
       "</table>\n",
       "</div>"
      ],
      "text/plain": [
       "          thr        f1\n",
       "640  0.277932  0.636771"
      ]
     },
     "execution_count": 59,
     "metadata": {},
     "output_type": "execute_result"
    }
   ],
   "source": [
    "t[t['f1'] == t['f1'].max()]"
   ]
  },
  {
   "cell_type": "markdown",
   "id": "cb78f4dc",
   "metadata": {},
   "source": [
    "# теперь тоже самое сделаю для ручной модели"
   ]
  },
  {
   "cell_type": "code",
   "execution_count": 60,
   "id": "9cccf86e",
   "metadata": {},
   "outputs": [
    {
     "data": {
      "application/vnd.jupyter.widget-view+json": {
       "model_id": "d61127c285304facb8778679e7d4e3d7",
       "version_major": 2,
       "version_minor": 0
      },
      "text/plain": [
       "  0%|          | 0/17 [00:00<?, ?it/s]"
      ]
     },
     "metadata": {},
     "output_type": "display_data"
    }
   ],
   "source": [
    "\n",
    "from tqdm.notebook import tqdm\n",
    "\n",
    "thrs = [0] + list(test['score_prod_age'].unique())\n",
    "\n",
    "\n",
    "result = []\n",
    "for thr in tqdm(thrs):\n",
    "    test['y_pred_new'] = (test['score_prod_age'] > thr) * 1\n",
    "    result.append((thr, # что бы видеть еще и порог помимо Ф1\n",
    "                   f1_score(test['Exited'], test['y_pred_new'])))\n",
    "\n",
    "\n",
    "\n"
   ]
  },
  {
   "cell_type": "code",
   "execution_count": 61,
   "id": "89bb35bb",
   "metadata": {},
   "outputs": [],
   "source": [
    "t = pd.DataFrame(result, columns=['thr', 'f1'])"
   ]
  },
  {
   "cell_type": "code",
   "execution_count": 62,
   "id": "af41b24c",
   "metadata": {},
   "outputs": [
    {
     "data": {
      "text/html": [
       "<div>\n",
       "<style scoped>\n",
       "    .dataframe tbody tr th:only-of-type {\n",
       "        vertical-align: middle;\n",
       "    }\n",
       "\n",
       "    .dataframe tbody tr th {\n",
       "        vertical-align: top;\n",
       "    }\n",
       "\n",
       "    .dataframe thead th {\n",
       "        text-align: right;\n",
       "    }\n",
       "</style>\n",
       "<table border=\"1\" class=\"dataframe\">\n",
       "  <thead>\n",
       "    <tr style=\"text-align: right;\">\n",
       "      <th></th>\n",
       "      <th>thr</th>\n",
       "      <th>f1</th>\n",
       "    </tr>\n",
       "  </thead>\n",
       "  <tbody>\n",
       "    <tr>\n",
       "      <th>8</th>\n",
       "      <td>0.236364</td>\n",
       "      <td>0.559441</td>\n",
       "    </tr>\n",
       "  </tbody>\n",
       "</table>\n",
       "</div>"
      ],
      "text/plain": [
       "        thr        f1\n",
       "8  0.236364  0.559441"
      ]
     },
     "execution_count": 62,
     "metadata": {},
     "output_type": "execute_result"
    }
   ],
   "source": [
    "\n",
    "t[t['f1'] == t['f1'].max()]"
   ]
  },
  {
   "cell_type": "markdown",
   "id": "f992fc29",
   "metadata": {},
   "source": [
    "    видно что ручная модель проигрывает кетбусту по ф1 метрике\n",
    "    ну и теперь можно попробоавть предсказания с другим порогом или еще что"
   ]
  },
  {
   "cell_type": "markdown",
   "id": "7ac9c763",
   "metadata": {},
   "source": [
    "# ROC metric\n",
    "    иногда и порог не нужен. достаточно просто скор, что бы узнать их склонность к оттоку или покупке или еще что то. не всегда нужно принимать конечное решение и преобразовывать скор в класс.\n",
    "    иногда полезней оценивать не конкретный порог а скор в целом. и для этого ROC\n",
    "    Reciver operating characteristic"
   ]
  },
  {
   "cell_type": "code",
   "execution_count": 63,
   "id": "859521f6",
   "metadata": {},
   "outputs": [],
   "source": [
    "from sklearn.metrics import roc_curve"
   ]
  },
  {
   "cell_type": "code",
   "execution_count": 64,
   "id": "aad3cf24",
   "metadata": {},
   "outputs": [
    {
     "data": {
      "text/html": [
       "<div>\n",
       "<style scoped>\n",
       "    .dataframe tbody tr th:only-of-type {\n",
       "        vertical-align: middle;\n",
       "    }\n",
       "\n",
       "    .dataframe tbody tr th {\n",
       "        vertical-align: top;\n",
       "    }\n",
       "\n",
       "    .dataframe thead th {\n",
       "        text-align: right;\n",
       "    }\n",
       "</style>\n",
       "<table border=\"1\" class=\"dataframe\">\n",
       "  <thead>\n",
       "    <tr style=\"text-align: right;\">\n",
       "      <th></th>\n",
       "      <th>RowNumber</th>\n",
       "      <th>CustomerId</th>\n",
       "      <th>Surname</th>\n",
       "      <th>CreditScore</th>\n",
       "      <th>Geography</th>\n",
       "      <th>Gender</th>\n",
       "      <th>Age</th>\n",
       "      <th>Tenure</th>\n",
       "      <th>Balance</th>\n",
       "      <th>NumOfProducts</th>\n",
       "      <th>HasCrCard</th>\n",
       "      <th>IsActiveMember</th>\n",
       "      <th>EstimatedSalary</th>\n",
       "      <th>Exited</th>\n",
       "      <th>age_group</th>\n",
       "      <th>score_prod_age</th>\n",
       "      <th>score_catboost</th>\n",
       "      <th>y_pred</th>\n",
       "      <th>y_pred_new</th>\n",
       "    </tr>\n",
       "  </thead>\n",
       "  <tbody>\n",
       "    <tr>\n",
       "      <th>0</th>\n",
       "      <td>9168</td>\n",
       "      <td>15645353</td>\n",
       "      <td>Chubb</td>\n",
       "      <td>607</td>\n",
       "      <td>France</td>\n",
       "      <td>Male</td>\n",
       "      <td>26</td>\n",
       "      <td>1</td>\n",
       "      <td>0.00</td>\n",
       "      <td>1</td>\n",
       "      <td>1</td>\n",
       "      <td>0</td>\n",
       "      <td>29818.20</td>\n",
       "      <td>0</td>\n",
       "      <td>(0.0, 31.0]</td>\n",
       "      <td>0.110764</td>\n",
       "      <td>0.131844</td>\n",
       "      <td>0</td>\n",
       "      <td>0</td>\n",
       "    </tr>\n",
       "    <tr>\n",
       "      <th>1</th>\n",
       "      <td>9388</td>\n",
       "      <td>15594576</td>\n",
       "      <td>Zhdanov</td>\n",
       "      <td>524</td>\n",
       "      <td>France</td>\n",
       "      <td>Male</td>\n",
       "      <td>32</td>\n",
       "      <td>1</td>\n",
       "      <td>144875.71</td>\n",
       "      <td>1</td>\n",
       "      <td>0</td>\n",
       "      <td>0</td>\n",
       "      <td>187740.04</td>\n",
       "      <td>0</td>\n",
       "      <td>(31.0, 35.0]</td>\n",
       "      <td>0.140449</td>\n",
       "      <td>0.074020</td>\n",
       "      <td>0</td>\n",
       "      <td>0</td>\n",
       "    </tr>\n",
       "    <tr>\n",
       "      <th>2</th>\n",
       "      <td>6860</td>\n",
       "      <td>15811927</td>\n",
       "      <td>Marcelo</td>\n",
       "      <td>733</td>\n",
       "      <td>France</td>\n",
       "      <td>Female</td>\n",
       "      <td>38</td>\n",
       "      <td>3</td>\n",
       "      <td>157658.36</td>\n",
       "      <td>1</td>\n",
       "      <td>0</td>\n",
       "      <td>0</td>\n",
       "      <td>19658.43</td>\n",
       "      <td>0</td>\n",
       "      <td>(35.0, 40.0]</td>\n",
       "      <td>0.209337</td>\n",
       "      <td>0.186876</td>\n",
       "      <td>0</td>\n",
       "      <td>0</td>\n",
       "    </tr>\n",
       "    <tr>\n",
       "      <th>3</th>\n",
       "      <td>3501</td>\n",
       "      <td>15675675</td>\n",
       "      <td>Slate</td>\n",
       "      <td>850</td>\n",
       "      <td>France</td>\n",
       "      <td>Female</td>\n",
       "      <td>32</td>\n",
       "      <td>5</td>\n",
       "      <td>106290.64</td>\n",
       "      <td>1</td>\n",
       "      <td>1</td>\n",
       "      <td>0</td>\n",
       "      <td>121982.73</td>\n",
       "      <td>0</td>\n",
       "      <td>(31.0, 35.0]</td>\n",
       "      <td>0.140449</td>\n",
       "      <td>0.087403</td>\n",
       "      <td>0</td>\n",
       "      <td>0</td>\n",
       "    </tr>\n",
       "    <tr>\n",
       "      <th>4</th>\n",
       "      <td>6234</td>\n",
       "      <td>15682914</td>\n",
       "      <td>Bolton</td>\n",
       "      <td>850</td>\n",
       "      <td>France</td>\n",
       "      <td>Male</td>\n",
       "      <td>34</td>\n",
       "      <td>2</td>\n",
       "      <td>72079.71</td>\n",
       "      <td>1</td>\n",
       "      <td>1</td>\n",
       "      <td>1</td>\n",
       "      <td>115767.93</td>\n",
       "      <td>0</td>\n",
       "      <td>(31.0, 35.0]</td>\n",
       "      <td>0.140449</td>\n",
       "      <td>0.056658</td>\n",
       "      <td>0</td>\n",
       "      <td>0</td>\n",
       "    </tr>\n",
       "    <tr>\n",
       "      <th>...</th>\n",
       "      <td>...</td>\n",
       "      <td>...</td>\n",
       "      <td>...</td>\n",
       "      <td>...</td>\n",
       "      <td>...</td>\n",
       "      <td>...</td>\n",
       "      <td>...</td>\n",
       "      <td>...</td>\n",
       "      <td>...</td>\n",
       "      <td>...</td>\n",
       "      <td>...</td>\n",
       "      <td>...</td>\n",
       "      <td>...</td>\n",
       "      <td>...</td>\n",
       "      <td>...</td>\n",
       "      <td>...</td>\n",
       "      <td>...</td>\n",
       "      <td>...</td>\n",
       "      <td>...</td>\n",
       "    </tr>\n",
       "    <tr>\n",
       "      <th>1995</th>\n",
       "      <td>7393</td>\n",
       "      <td>15795079</td>\n",
       "      <td>Nnaife</td>\n",
       "      <td>596</td>\n",
       "      <td>Spain</td>\n",
       "      <td>Male</td>\n",
       "      <td>67</td>\n",
       "      <td>6</td>\n",
       "      <td>0.00</td>\n",
       "      <td>2</td>\n",
       "      <td>1</td>\n",
       "      <td>1</td>\n",
       "      <td>138350.74</td>\n",
       "      <td>0</td>\n",
       "      <td>(46.0, inf]</td>\n",
       "      <td>0.236364</td>\n",
       "      <td>0.026803</td>\n",
       "      <td>0</td>\n",
       "      <td>0</td>\n",
       "    </tr>\n",
       "    <tr>\n",
       "      <th>1996</th>\n",
       "      <td>3234</td>\n",
       "      <td>15601550</td>\n",
       "      <td>Genovesi</td>\n",
       "      <td>595</td>\n",
       "      <td>Spain</td>\n",
       "      <td>Male</td>\n",
       "      <td>36</td>\n",
       "      <td>6</td>\n",
       "      <td>85768.42</td>\n",
       "      <td>1</td>\n",
       "      <td>1</td>\n",
       "      <td>1</td>\n",
       "      <td>24802.77</td>\n",
       "      <td>0</td>\n",
       "      <td>(35.0, 40.0]</td>\n",
       "      <td>0.209337</td>\n",
       "      <td>0.084712</td>\n",
       "      <td>0</td>\n",
       "      <td>0</td>\n",
       "    </tr>\n",
       "    <tr>\n",
       "      <th>1997</th>\n",
       "      <td>219</td>\n",
       "      <td>15659366</td>\n",
       "      <td>Shih</td>\n",
       "      <td>807</td>\n",
       "      <td>France</td>\n",
       "      <td>Male</td>\n",
       "      <td>43</td>\n",
       "      <td>1</td>\n",
       "      <td>105799.32</td>\n",
       "      <td>2</td>\n",
       "      <td>1</td>\n",
       "      <td>0</td>\n",
       "      <td>34888.04</td>\n",
       "      <td>1</td>\n",
       "      <td>(40.0, 46.0]</td>\n",
       "      <td>0.108647</td>\n",
       "      <td>0.149411</td>\n",
       "      <td>0</td>\n",
       "      <td>0</td>\n",
       "    </tr>\n",
       "    <tr>\n",
       "      <th>1998</th>\n",
       "      <td>4756</td>\n",
       "      <td>15740072</td>\n",
       "      <td>Padovesi</td>\n",
       "      <td>720</td>\n",
       "      <td>France</td>\n",
       "      <td>Female</td>\n",
       "      <td>37</td>\n",
       "      <td>2</td>\n",
       "      <td>120328.88</td>\n",
       "      <td>2</td>\n",
       "      <td>1</td>\n",
       "      <td>1</td>\n",
       "      <td>138470.21</td>\n",
       "      <td>0</td>\n",
       "      <td>(35.0, 40.0]</td>\n",
       "      <td>0.061069</td>\n",
       "      <td>0.063715</td>\n",
       "      <td>0</td>\n",
       "      <td>0</td>\n",
       "    </tr>\n",
       "    <tr>\n",
       "      <th>1999</th>\n",
       "      <td>7635</td>\n",
       "      <td>15707681</td>\n",
       "      <td>Pokrovsky</td>\n",
       "      <td>501</td>\n",
       "      <td>Germany</td>\n",
       "      <td>Male</td>\n",
       "      <td>38</td>\n",
       "      <td>9</td>\n",
       "      <td>88977.39</td>\n",
       "      <td>2</td>\n",
       "      <td>0</td>\n",
       "      <td>1</td>\n",
       "      <td>133403.07</td>\n",
       "      <td>0</td>\n",
       "      <td>(35.0, 40.0]</td>\n",
       "      <td>0.061069</td>\n",
       "      <td>0.050231</td>\n",
       "      <td>0</td>\n",
       "      <td>0</td>\n",
       "    </tr>\n",
       "  </tbody>\n",
       "</table>\n",
       "<p>2000 rows × 19 columns</p>\n",
       "</div>"
      ],
      "text/plain": [
       "      RowNumber  CustomerId    Surname  CreditScore Geography  Gender  Age  \\\n",
       "0          9168    15645353      Chubb          607    France    Male   26   \n",
       "1          9388    15594576    Zhdanov          524    France    Male   32   \n",
       "2          6860    15811927    Marcelo          733    France  Female   38   \n",
       "3          3501    15675675      Slate          850    France  Female   32   \n",
       "4          6234    15682914     Bolton          850    France    Male   34   \n",
       "...         ...         ...        ...          ...       ...     ...  ...   \n",
       "1995       7393    15795079     Nnaife          596     Spain    Male   67   \n",
       "1996       3234    15601550   Genovesi          595     Spain    Male   36   \n",
       "1997        219    15659366       Shih          807    France    Male   43   \n",
       "1998       4756    15740072   Padovesi          720    France  Female   37   \n",
       "1999       7635    15707681  Pokrovsky          501   Germany    Male   38   \n",
       "\n",
       "      Tenure    Balance  NumOfProducts  HasCrCard  IsActiveMember  \\\n",
       "0          1       0.00              1          1               0   \n",
       "1          1  144875.71              1          0               0   \n",
       "2          3  157658.36              1          0               0   \n",
       "3          5  106290.64              1          1               0   \n",
       "4          2   72079.71              1          1               1   \n",
       "...      ...        ...            ...        ...             ...   \n",
       "1995       6       0.00              2          1               1   \n",
       "1996       6   85768.42              1          1               1   \n",
       "1997       1  105799.32              2          1               0   \n",
       "1998       2  120328.88              2          1               1   \n",
       "1999       9   88977.39              2          0               1   \n",
       "\n",
       "      EstimatedSalary  Exited     age_group  score_prod_age  score_catboost  \\\n",
       "0            29818.20       0   (0.0, 31.0]        0.110764        0.131844   \n",
       "1           187740.04       0  (31.0, 35.0]        0.140449        0.074020   \n",
       "2            19658.43       0  (35.0, 40.0]        0.209337        0.186876   \n",
       "3           121982.73       0  (31.0, 35.0]        0.140449        0.087403   \n",
       "4           115767.93       0  (31.0, 35.0]        0.140449        0.056658   \n",
       "...               ...     ...           ...             ...             ...   \n",
       "1995        138350.74       0   (46.0, inf]        0.236364        0.026803   \n",
       "1996         24802.77       0  (35.0, 40.0]        0.209337        0.084712   \n",
       "1997         34888.04       1  (40.0, 46.0]        0.108647        0.149411   \n",
       "1998        138470.21       0  (35.0, 40.0]        0.061069        0.063715   \n",
       "1999        133403.07       0  (35.0, 40.0]        0.061069        0.050231   \n",
       "\n",
       "      y_pred  y_pred_new  \n",
       "0          0           0  \n",
       "1          0           0  \n",
       "2          0           0  \n",
       "3          0           0  \n",
       "4          0           0  \n",
       "...      ...         ...  \n",
       "1995       0           0  \n",
       "1996       0           0  \n",
       "1997       0           0  \n",
       "1998       0           0  \n",
       "1999       0           0  \n",
       "\n",
       "[2000 rows x 19 columns]"
      ]
     },
     "execution_count": 64,
     "metadata": {},
     "output_type": "execute_result"
    }
   ],
   "source": [
    "test"
   ]
  },
  {
   "cell_type": "code",
   "execution_count": 65,
   "id": "32443a33",
   "metadata": {},
   "outputs": [],
   "source": [
    "# false positive rate, true positive rate и пороги\n",
    "fprs, tprs, thrs = roc_curve(test['Exited'], test['score_catboost'])"
   ]
  },
  {
   "cell_type": "code",
   "execution_count": 66,
   "id": "2a4d4d7b",
   "metadata": {},
   "outputs": [
    {
     "data": {
      "text/html": [
       "<div>\n",
       "<style scoped>\n",
       "    .dataframe tbody tr th:only-of-type {\n",
       "        vertical-align: middle;\n",
       "    }\n",
       "\n",
       "    .dataframe tbody tr th {\n",
       "        vertical-align: top;\n",
       "    }\n",
       "\n",
       "    .dataframe thead th {\n",
       "        text-align: right;\n",
       "    }\n",
       "</style>\n",
       "<table border=\"1\" class=\"dataframe\">\n",
       "  <thead>\n",
       "    <tr style=\"text-align: right;\">\n",
       "      <th></th>\n",
       "      <th>fpr</th>\n",
       "      <th>tpr</th>\n",
       "      <th>thr</th>\n",
       "    </tr>\n",
       "  </thead>\n",
       "  <tbody>\n",
       "    <tr>\n",
       "      <th>0</th>\n",
       "      <td>0.000000</td>\n",
       "      <td>0.000000</td>\n",
       "      <td>1.997318</td>\n",
       "    </tr>\n",
       "    <tr>\n",
       "      <th>1</th>\n",
       "      <td>0.000000</td>\n",
       "      <td>0.002457</td>\n",
       "      <td>0.997318</td>\n",
       "    </tr>\n",
       "    <tr>\n",
       "      <th>2</th>\n",
       "      <td>0.000000</td>\n",
       "      <td>0.061425</td>\n",
       "      <td>0.933737</td>\n",
       "    </tr>\n",
       "    <tr>\n",
       "      <th>3</th>\n",
       "      <td>0.000628</td>\n",
       "      <td>0.061425</td>\n",
       "      <td>0.933203</td>\n",
       "    </tr>\n",
       "    <tr>\n",
       "      <th>4</th>\n",
       "      <td>0.000628</td>\n",
       "      <td>0.120393</td>\n",
       "      <td>0.891551</td>\n",
       "    </tr>\n",
       "    <tr>\n",
       "      <th>...</th>\n",
       "      <td>...</td>\n",
       "      <td>...</td>\n",
       "      <td>...</td>\n",
       "    </tr>\n",
       "    <tr>\n",
       "      <th>391</th>\n",
       "      <td>0.979912</td>\n",
       "      <td>0.995086</td>\n",
       "      <td>0.012212</td>\n",
       "    </tr>\n",
       "    <tr>\n",
       "      <th>392</th>\n",
       "      <td>0.979912</td>\n",
       "      <td>0.997543</td>\n",
       "      <td>0.012198</td>\n",
       "    </tr>\n",
       "    <tr>\n",
       "      <th>393</th>\n",
       "      <td>0.998745</td>\n",
       "      <td>0.997543</td>\n",
       "      <td>0.009886</td>\n",
       "    </tr>\n",
       "    <tr>\n",
       "      <th>394</th>\n",
       "      <td>0.998745</td>\n",
       "      <td>1.000000</td>\n",
       "      <td>0.009809</td>\n",
       "    </tr>\n",
       "    <tr>\n",
       "      <th>395</th>\n",
       "      <td>1.000000</td>\n",
       "      <td>1.000000</td>\n",
       "      <td>0.009371</td>\n",
       "    </tr>\n",
       "  </tbody>\n",
       "</table>\n",
       "<p>396 rows × 3 columns</p>\n",
       "</div>"
      ],
      "text/plain": [
       "          fpr       tpr       thr\n",
       "0    0.000000  0.000000  1.997318\n",
       "1    0.000000  0.002457  0.997318\n",
       "2    0.000000  0.061425  0.933737\n",
       "3    0.000628  0.061425  0.933203\n",
       "4    0.000628  0.120393  0.891551\n",
       "..        ...       ...       ...\n",
       "391  0.979912  0.995086  0.012212\n",
       "392  0.979912  0.997543  0.012198\n",
       "393  0.998745  0.997543  0.009886\n",
       "394  0.998745  1.000000  0.009809\n",
       "395  1.000000  1.000000  0.009371\n",
       "\n",
       "[396 rows x 3 columns]"
      ]
     },
     "execution_count": 66,
     "metadata": {},
     "output_type": "execute_result"
    }
   ],
   "source": [
    "roc = pd.DataFrame({'fpr': fprs, 'tpr': tprs, 'thr': thrs})\n",
    "roc # теперь я вижу порог и соответсвующий ему true positive folse positive rate"
   ]
  },
  {
   "cell_type": "code",
   "execution_count": 67,
   "id": "3c84de44",
   "metadata": {},
   "outputs": [
    {
     "data": {
      "text/plain": [
       "<Axes: xlabel='fpr'>"
      ]
     },
     "execution_count": 67,
     "metadata": {},
     "output_type": "execute_result"
    },
    {
     "data": {
      "image/png": "[encoded data removed]",
      "text/plain": [
       "<Figure size 600x600 with 1 Axes>"
      ]
     },
     "metadata": {},
     "output_type": "display_data"
    }
   ],
   "source": [
    "# если хочу что бы что то было по ИКСУ то ставлю set_index\n",
    "roc.set_index('fpr')['tpr'].plot(figsize=(6,6))"
   ]
  },
  {
   "cell_type": "code",
   "execution_count": 68,
   "id": "2b5063c5",
   "metadata": {},
   "outputs": [],
   "source": [
    "roc['random'] = roc['fpr'] # икс равен игреку"
   ]
  },
  {
   "cell_type": "code",
   "execution_count": 69,
   "id": "8f46b1d1",
   "metadata": {},
   "outputs": [],
   "source": [
    "roc['ideal'] = 1 # для идеальной модели. tpr всегда равен 1"
   ]
  },
  {
   "cell_type": "code",
   "execution_count": 70,
   "id": "00f78a1e",
   "metadata": {},
   "outputs": [
    {
     "data": {
      "text/plain": [
       "<Axes: xlabel='fpr'>"
      ]
     },
     "execution_count": 70,
     "metadata": {},
     "output_type": "execute_result"
    },
    {
     "data": {
      "image/png": "[encoded data removed]",
      "text/plain": [
       "<Figure size 600x600 with 1 Axes>"
      ]
     },
     "metadata": {},
     "output_type": "display_data"
    }
   ],
   "source": [
    "roc.plot(x='fpr', y=['tpr', 'random', 'ideal'], figsize=(6,6), grid=True)"
   ]
  },
  {
   "cell_type": "markdown",
   "id": "fb8a5739",
   "metadata": {},
   "source": [
    "    часто для построения ROC кривой, просто копи паст из старых  проектов\n",
    "    или из интернета. загуглить\n",
    "    https://stackoverflow.com/questions/25009284/how-to-plot-roc-curve-in-python\n",
    "    "
   ]
  },
  {
   "cell_type": "code",
   "execution_count": 71,
   "id": "446229f1",
   "metadata": {},
   "outputs": [
    {
     "data": {
      "image/png": "[encoded data removed]",
      "text/plain": [
       "<Figure size 640x480 with 1 Axes>"
      ]
     },
     "metadata": {},
     "output_type": "display_data"
    }
   ],
   "source": [
    "import sklearn.metrics as metrics\n",
    "# calculate the fpr and tpr for all thresholds of the classification\n",
    "\n",
    "fpr, tpr, threshold = metrics.roc_curve(test['Exited'], test['score_catboost'])\n",
    "roc_auc = metrics.auc(fpr, tpr)\n",
    "\n",
    "# method I: plt\n",
    "import matplotlib.pyplot as plt\n",
    "plt.title('Receiver Operating Characteristic')\n",
    "plt.plot(fpr, tpr, 'b', label = 'AUC = %0.2f' % roc_auc)\n",
    "plt.legend(loc = 'lower right')\n",
    "plt.plot([0, 1], [0, 1],'r--')\n",
    "plt.xlim([0, 1])\n",
    "plt.ylim([0, 1])\n",
    "plt.ylabel('True Positive Rate')\n",
    "plt.xlabel('False Positive Rate')\n",
    "plt.show()"
   ]
  },
  {
   "cell_type": "markdown",
   "id": "81b7be7c",
   "metadata": {},
   "source": [
    "    auc - area under curve. площадь под кривой"
   ]
  },
  {
   "cell_type": "code",
   "execution_count": 72,
   "id": "ffadbe24",
   "metadata": {},
   "outputs": [],
   "source": [
    "from catboost.utils import get_roc_curve"
   ]
  },
  {
   "cell_type": "code",
   "execution_count": 73,
   "id": "c253dc0e",
   "metadata": {},
   "outputs": [],
   "source": [
    "test_data = Pool(data=test[X],\n",
    "                  label=test[y],\n",
    "                  cat_features=cat_features)"
   ]
  },
  {
   "cell_type": "code",
   "execution_count": 74,
   "id": "2c740c2c",
   "metadata": {},
   "outputs": [
    {
     "data": {
      "image/png": "[encoded data removed]",
      "text/plain": [
       "<Figure size 1600x800 with 1 Axes>"
      ]
     },
     "metadata": {},
     "output_type": "display_data"
    }
   ],
   "source": [
    "# точка с запятой,  что бы массивы не выводились после графика\n",
    "get_roc_curve(model, test_data, plot=True);"
   ]
  },
  {
   "cell_type": "markdown",
   "id": "96769f42",
   "metadata": {},
   "source": [
    "# AUC насколько модель хороша в плане ROC\n",
    "    roc auc это площадь под кривой\n",
    "    можно при обучении модели сразу на валидации смотрет на roc auc\n",
    "\n",
    "    ROC AUC правктически всегда используется, и она наверное самая популярная"
   ]
  },
  {
   "cell_type": "code",
   "execution_count": 75,
   "id": "b72f518f",
   "metadata": {},
   "outputs": [],
   "source": [
    "from sklearn.metrics import roc_auc_score"
   ]
  },
  {
   "cell_type": "code",
   "execution_count": 76,
   "id": "39881d27",
   "metadata": {},
   "outputs": [
    {
     "data": {
      "text/plain": [
       "0.8703063618317854"
      ]
     },
     "execution_count": 76,
     "metadata": {},
     "output_type": "execute_result"
    }
   ],
   "source": [
    "roc_auc_score(test['Exited'], test['score_catboost'])"
   ]
  },
  {
   "cell_type": "code",
   "execution_count": 77,
   "id": "6a11cc05",
   "metadata": {},
   "outputs": [
    {
     "name": "stdout",
     "output_type": "stream",
     "text": [
      "0:\ttest: 0.8338545\tbest: 0.8338545 (0)\ttotal: 2.51ms\tremaining: 2.5s\n",
      "100:\ttest: 0.8725090\tbest: 0.8725090 (100)\ttotal: 254ms\tremaining: 2.26s\n",
      "200:\ttest: 0.8784656\tbest: 0.8784656 (200)\ttotal: 525ms\tremaining: 2.08s\n",
      "300:\ttest: 0.8812676\tbest: 0.8812676 (300)\ttotal: 800ms\tremaining: 1.86s\n",
      "400:\ttest: 0.8823868\tbest: 0.8824376 (390)\ttotal: 1.08s\tremaining: 1.61s\n",
      "500:\ttest: 0.8834491\tbest: 0.8834522 (498)\ttotal: 1.35s\tremaining: 1.34s\n",
      "600:\ttest: 0.8834737\tbest: 0.8836554 (564)\ttotal: 1.6s\tremaining: 1.06s\n",
      "700:\ttest: 0.8837847\tbest: 0.8838694 (685)\ttotal: 1.85s\tremaining: 789ms\n",
      "800:\ttest: 0.8834383\tbest: 0.8838694 (685)\ttotal: 2.1s\tremaining: 522ms\n",
      "900:\ttest: 0.8829318\tbest: 0.8838694 (685)\ttotal: 2.44s\tremaining: 268ms\n",
      "999:\ttest: 0.8822744\tbest: 0.8838694 (685)\ttotal: 2.7s\tremaining: 0us\n",
      "\n",
      "bestTest = 0.8838694083\n",
      "bestIteration = 685\n",
      "\n",
      "Shrink model to first 686 iterations.\n"
     ]
    },
    {
     "data": {
      "text/plain": [
       "<catboost.core.CatBoostClassifier at 0x7a01bad6eb90>"
      ]
     },
     "execution_count": 77,
     "metadata": {},
     "output_type": "execute_result"
    }
   ],
   "source": [
    "\n",
    "\n",
    "params = {'verbose':100,\n",
    "          'eval_metric': 'AUC', # log loss был по умолчанию, а теперь сразу AUC\n",
    "          'random_seed':42,\n",
    "          'learning_rate':0.01}\n",
    "\n",
    "model = CatBoostClassifier(**params)\n",
    "\n",
    "\n",
    "model.fit(train_data,eval_set=valid_data)\n"
   ]
  },
  {
   "cell_type": "markdown",
   "id": "4f3cac1e",
   "metadata": {},
   "source": [
    "# ROC AUC при сильно несбалансированных классах\n",
    "    "
   ]
  },
  {
   "cell_type": "code",
   "execution_count": 78,
   "id": "943d29b8",
   "metadata": {},
   "outputs": [],
   "source": [
    "# сильно несбалансированный датафрейм для теста\n",
    "t = pd.DataFrame({'y_true': [0] * 990 + [1] * 10})"
   ]
  },
  {
   "cell_type": "code",
   "execution_count": 79,
   "id": "3dad7c84",
   "metadata": {},
   "outputs": [
    {
     "data": {
      "text/plain": [
       "y_true\n",
       "0         990\n",
       "1          10\n",
       "Name: count, dtype: int64"
      ]
     },
     "execution_count": 79,
     "metadata": {},
     "output_type": "execute_result"
    }
   ],
   "source": [
    "t.value_counts()"
   ]
  },
  {
   "cell_type": "code",
   "execution_count": 80,
   "id": "8c6844f1",
   "metadata": {},
   "outputs": [
    {
     "data": {
      "text/plain": [
       "0.01"
      ]
     },
     "execution_count": 80,
     "metadata": {},
     "output_type": "execute_result"
    }
   ],
   "source": [
    "t['y_true'].mean() # 1% едениц"
   ]
  },
  {
   "cell_type": "code",
   "execution_count": 81,
   "id": "aa977df3",
   "metadata": {},
   "outputs": [],
   "source": [
    "import numpy as np"
   ]
  },
  {
   "cell_type": "code",
   "execution_count": 82,
   "id": "90e74d65",
   "metadata": {},
   "outputs": [
    {
     "data": {
      "text/plain": [
       "(0.06624046104553905, 0.9684585068805043)"
      ]
     },
     "execution_count": 82,
     "metadata": {},
     "output_type": "execute_result"
    }
   ],
   "source": [
    "# добавлю шума\n",
    "np.random.uniform(0, 0.2), np.random.uniform(0.8, 1)"
   ]
  },
  {
   "cell_type": "code",
   "execution_count": 83,
   "id": "de197bdd",
   "metadata": {},
   "outputs": [
    {
     "data": {
      "text/plain": [
       "array([0.02362161, 0.08806876, 0.9210648 , 0.80343436, 0.94052256])"
      ]
     },
     "execution_count": 83,
     "metadata": {},
     "output_type": "execute_result"
    }
   ],
   "source": [
    "# получаю массив размером 5\n",
    "np.concatenate([np.random.uniform(0, 0.2, size=2), np.random.uniform(0.8, 1, size=3)])"
   ]
  },
  {
   "cell_type": "code",
   "execution_count": 84,
   "id": "a0df0c78",
   "metadata": {},
   "outputs": [],
   "source": [
    "np.random.seed(42)\n",
    "t['y_score1'] = np.concatenate([np.random.uniform(0, 0.2, size=970), # 970 нулей будут промечены как нули\n",
    "                                np.random.uniform(0.8, 1, size=20), # 20 нулей как еденицы (False positive)\n",
    "                                np.random.uniform(0, 0.2, size=5), # а это для едениц\n",
    "                                np.random.uniform(0.8, 1, size=5)] # а это для едениц\n",
    "                              ) "
   ]
  },
  {
   "cell_type": "code",
   "execution_count": 85,
   "id": "0a6f2781",
   "metadata": {},
   "outputs": [
    {
     "data": {
      "text/plain": [
       "0.7664646464646465"
      ]
     },
     "execution_count": 85,
     "metadata": {},
     "output_type": "execute_result"
    }
   ],
   "source": [
    "roc_auc_score(t['y_true'], t['y_score1'])"
   ]
  },
  {
   "cell_type": "code",
   "execution_count": 86,
   "id": "0b206fd7",
   "metadata": {},
   "outputs": [],
   "source": [
    "np.random.seed(42)\n",
    "t['y_score2'] = np.concatenate([np.random.uniform(0, 0.2, size=930), # 970 нулей будут промечены как нули (True Negative)\n",
    "                                np.random.uniform(0.8, 1, size=60), # 20 нулей как еденицы (False positive)\n",
    "                                np.random.uniform(0, 0.2, size=2), # а это для едениц False negative\n",
    "                                np.random.uniform(0.8, 1, size=8)] # а это для едениц True Positive\n",
    "                              ) "
   ]
  },
  {
   "cell_type": "code",
   "execution_count": 87,
   "id": "3e2b24a7",
   "metadata": {},
   "outputs": [
    {
     "data": {
      "text/plain": [
       "0.9166666666666667"
      ]
     },
     "execution_count": 87,
     "metadata": {},
     "output_type": "execute_result"
    }
   ],
   "source": [
    "roc_auc_score(t['y_true'], t['y_score2'])"
   ]
  },
  {
   "cell_type": "markdown",
   "id": "7637b976",
   "metadata": {},
   "source": [
    "     при сильно несбалансированных классах, ROC перестает обращать внимание на False positive\n",
    "     и поможет в этой ситуации precision recall curve"
   ]
  },
  {
   "cell_type": "markdown",
   "id": "553342bc",
   "metadata": {},
   "source": [
    "# precision recall curve\n",
    "    вместо TP and FP строится присижн и рекалл\n",
    "    \n",
    "    https://machinelearningmastery.com/roc-curves-and-precision-recall-curves-for-classification-in-python/"
   ]
  },
  {
   "cell_type": "code",
   "execution_count": 88,
   "id": "5cf15543",
   "metadata": {},
   "outputs": [
    {
     "data": {
      "image/png": "[encoded data removed]",
      "text/plain": [
       "<Figure size 640x480 with 1 Axes>"
      ]
     },
     "metadata": {},
     "output_type": "display_data"
    }
   ],
   "source": [
    "\n",
    "import matplotlib.pyplot as plt\n",
    "# precision-recall curve and f1\n",
    "from sklearn.datasets import make_classification\n",
    "from sklearn.linear_model import LogisticRegression\n",
    "from sklearn.model_selection import train_test_split\n",
    "from sklearn.metrics import precision_recall_curve\n",
    "from sklearn.metrics import f1_score\n",
    "from sklearn.metrics import auc\n",
    " \n",
    "# # generate 2 class dataset\n",
    "# X, y = make_classification(n_samples=1000, n_classes=2, random_state=1)\n",
    "# # split into train/test sets\n",
    "# trainX, testX, trainy, testy = train_test_split(X, y, test_size=0.5, random_state=2)\n",
    "# # fit a model\n",
    "# model = LogisticRegression(solver='lbfgs')\n",
    "# model.fit(trainX, trainy)\n",
    "# # predict probabilities\n",
    "# lr_probs = model.predict_proba(testX)\n",
    "# # keep probabilities for the positive outcome only\n",
    "# lr_probs = lr_probs[:, 1]\n",
    "# # predict class values\n",
    "# yhat = model.predict(testX)\n",
    "\n",
    "\n",
    "precision1, recall1, _ = precision_recall_curve(t['y_true'], t['y_score1'])\n",
    "precision2, recall2, _ = precision_recall_curve(t['y_true'], t['y_score2'])\n",
    "\n",
    "# lr_f1, lr_auc = f1_score(testy, yhat), auc(lr_recall, lr_precision)\n",
    "# summarize scores\n",
    "# print('Logistic: f1=%.3f auc=%.3f' % (lr_f1, lr_auc))\n",
    "# plot the precision-recall curves\n",
    "# no_skill = len(testy[testy==1]) / len(testy)\n",
    "# plt.plot([0, 1], [no_skill, no_skill], linestyle='--', label='No Skill')\n",
    "plt.plot(recall1, precision1, marker='.', label='score1')\n",
    "plt.plot(recall2, precision2, marker='.', label='score2')\n",
    "# axis labels\n",
    "plt.xlabel('Recall')\n",
    "plt.ylabel('Precision')\n",
    "# show the legend\n",
    "plt.legend()\n",
    "# show the plot\n",
    "plt.show()"
   ]
  },
  {
   "cell_type": "code",
   "execution_count": 89,
   "id": "4063d248",
   "metadata": {},
   "outputs": [],
   "source": [
    "from sklearn.metrics import average_precision_score"
   ]
  },
  {
   "cell_type": "code",
   "execution_count": 90,
   "id": "221a6138",
   "metadata": {},
   "outputs": [
    {
     "data": {
      "text/plain": [
       "0.2404742335681647"
      ]
     },
     "execution_count": 90,
     "metadata": {},
     "output_type": "execute_result"
    }
   ],
   "source": [
    "average_precision_score(t['y_true'], t['y_score1'])"
   ]
  },
  {
   "cell_type": "code",
   "execution_count": 91,
   "id": "62af19cf",
   "metadata": {},
   "outputs": [
    {
     "data": {
      "text/plain": [
       "0.1797651767227378"
      ]
     },
     "execution_count": 91,
     "metadata": {},
     "output_type": "execute_result"
    }
   ],
   "source": [
    "average_precision_score(t['y_true'], t['y_score2']) # модель начала делать много FP"
   ]
  },
  {
   "cell_type": "markdown",
   "id": "4547d21c",
   "metadata": {},
   "source": [
    "# human and machine learning compare"
   ]
  },
  {
   "cell_type": "code",
   "execution_count": 92,
   "id": "eca87277",
   "metadata": {},
   "outputs": [
    {
     "data": {
      "image/png": "[encoded data removed]",
      "text/plain": [
       "<Figure size 640x480 with 1 Axes>"
      ]
     },
     "metadata": {},
     "output_type": "display_data"
    }
   ],
   "source": [
    "# сначала построи рог кривые\n",
    "\n",
    "import matplotlib.pyplot as plt\n",
    "from sklearn.datasets import make_classification\n",
    "from sklearn.linear_model import LogisticRegression\n",
    "from sklearn.model_selection import train_test_split\n",
    "from sklearn.metrics import precision_recall_curve\n",
    "from sklearn.metrics import f1_score\n",
    "from sklearn.metrics import auc\n",
    "\n",
    "# в нижнее подчеркивание идут пороги. они не нужны\n",
    "fpr1, tpr1, _ = roc_curve(test['Exited'], test['score_prod_age'])\n",
    "fpr2, tpr2, _ = roc_curve(test['Exited'], test['score_catboost'])\n",
    "\n",
    "# по искусу идет фолс позитв рейт, по игрек тру позитив рейт\n",
    "plt.plot(fpr1, tpr1, label='human')\n",
    "plt.plot(fpr2, tpr2, label='machine')\n",
    "plt.xlabel('FPR')\n",
    "plt.ylabel('TPR')\n",
    "plt.legend()\n",
    "plt.show()"
   ]
  },
  {
   "cell_type": "markdown",
   "id": "7587f8c7",
   "metadata": {},
   "source": [
    "    видно что ROC кривая находится выше для модели манинного обучения"
   ]
  },
  {
   "cell_type": "code",
   "execution_count": 93,
   "id": "408f6da5",
   "metadata": {},
   "outputs": [
    {
     "data": {
      "text/plain": [
       "0.8115241589817861"
      ]
     },
     "execution_count": 93,
     "metadata": {},
     "output_type": "execute_result"
    }
   ],
   "source": [
    "roc_auc_score(test['Exited'], test['score_prod_age'])"
   ]
  },
  {
   "cell_type": "code",
   "execution_count": 94,
   "id": "5fe594ec",
   "metadata": {},
   "outputs": [
    {
     "data": {
      "text/plain": [
       "0.8703063618317854"
      ]
     },
     "execution_count": 94,
     "metadata": {},
     "output_type": "execute_result"
    }
   ],
   "source": [
    "roc_auc_score(test['Exited'], test['score_catboost'])"
   ]
  },
  {
   "cell_type": "code",
   "execution_count": 95,
   "id": "a2795c9b",
   "metadata": {},
   "outputs": [
    {
     "data": {
      "image/png": "[encoded data removed]",
      "text/plain": [
       "<Figure size 640x480 with 1 Axes>"
      ]
     },
     "metadata": {},
     "output_type": "display_data"
    }
   ],
   "source": [
    "# теперь precsison and recall\n",
    "\n",
    "precision1, recall1, _ = precision_recall_curve(test['Exited'], test['score_prod_age'])\n",
    "precision2, recall2, _ = precision_recall_curve(test['Exited'], test['score_catboost'])\n",
    "\n",
    "plt.plot(recall1, precision1, label='human')\n",
    "plt.plot(recall2, precision2, label='machine')\n",
    "# axis labels\n",
    "plt.xlabel('Recall')\n",
    "plt.ylabel('Precision')\n",
    "# show the legend\n",
    "plt.legend()\n",
    "# show the plot\n",
    "plt.show()"
   ]
  },
  {
   "cell_type": "code",
   "execution_count": 96,
   "id": "7825cf4a",
   "metadata": {},
   "outputs": [
    {
     "data": {
      "text/plain": [
       "0.539602947873155"
      ]
     },
     "execution_count": 96,
     "metadata": {},
     "output_type": "execute_result"
    }
   ],
   "source": [
    "average_precision_score(test['Exited'], test['score_prod_age'])\n",
    "\n"
   ]
  },
  {
   "cell_type": "code",
   "execution_count": 97,
   "id": "db637ab9",
   "metadata": {},
   "outputs": [
    {
     "data": {
      "text/plain": [
       "0.7138074084585948"
      ]
     },
     "execution_count": 97,
     "metadata": {},
     "output_type": "execute_result"
    }
   ],
   "source": [
    "average_precision_score(test['Exited'], test['score_catboost'])"
   ]
  },
  {
   "cell_type": "markdown",
   "id": "16dead0c",
   "metadata": {},
   "source": [
    "    с точки зрения precision catboost намного лучше"
   ]
  },
  {
   "cell_type": "markdown",
   "id": "dc9f9016",
   "metadata": {},
   "source": [
    "# дисбаланс классов не проблема\n",
    "    бороться с дисбалансом классов не нужно, нужно просто уметь с ним работать\n",
    "    1) undersamplig(выкидывание части наблюдений класса которого много) можно посмотерть например сколько доля отточников. получается 20 процентов. И можно просто убрать большую долю не отточников. что бы было 50 на 50\n",
    "    \n",
    "    2) oversampling генерировать спец техниками объектами первого класса\n",
    "    \n",
    "    3) дисбаланс классов генерировать весами при обучении"
   ]
  },
  {
   "cell_type": "code",
   "execution_count": 98,
   "id": "3a6e5bb9",
   "metadata": {},
   "outputs": [
    {
     "data": {
      "text/plain": [
       "0.2035"
      ]
     },
     "execution_count": 98,
     "metadata": {},
     "output_type": "execute_result"
    }
   ],
   "source": [
    "test['Exited'].mean()"
   ]
  },
  {
   "cell_type": "markdown",
   "id": "4cf2fa0a",
   "metadata": {},
   "source": [
    "    балансировка классов не влияет на качество модели\n",
    "    но это повлияет на то как будут выглядить скоры модели"
   ]
  },
  {
   "cell_type": "code",
   "execution_count": 99,
   "id": "36583865",
   "metadata": {},
   "outputs": [
    {
     "name": "stdout",
     "output_type": "stream",
     "text": [
      "0:\ttest: 0.8310171\tbest: 0.8310171 (0)\ttotal: 3.97ms\tremaining: 3.96s\n",
      "100:\ttest: 0.8726691\tbest: 0.8727215 (99)\ttotal: 284ms\tremaining: 2.53s\n",
      "200:\ttest: 0.8780837\tbest: 0.8781684 (199)\ttotal: 537ms\tremaining: 2.13s\n",
      "300:\ttest: 0.8805532\tbest: 0.8806579 (293)\ttotal: 784ms\tremaining: 1.82s\n",
      "400:\ttest: 0.8818510\tbest: 0.8818649 (397)\ttotal: 1.03s\tremaining: 1.54s\n",
      "500:\ttest: 0.8821682\tbest: 0.8822452 (481)\ttotal: 1.28s\tremaining: 1.28s\n",
      "600:\ttest: 0.8824284\tbest: 0.8826070 (561)\ttotal: 1.54s\tremaining: 1.02s\n",
      "700:\ttest: 0.8823145\tbest: 0.8826070 (561)\ttotal: 1.82s\tremaining: 775ms\n",
      "800:\ttest: 0.8819619\tbest: 0.8826070 (561)\ttotal: 2.16s\tremaining: 536ms\n",
      "900:\ttest: 0.8814015\tbest: 0.8826070 (561)\ttotal: 2.42s\tremaining: 266ms\n",
      "999:\ttest: 0.8803392\tbest: 0.8826070 (561)\ttotal: 2.68s\tremaining: 0us\n",
      "\n",
      "bestTest = 0.8826069687\n",
      "bestIteration = 561\n",
      "\n",
      "Shrink model to first 562 iterations.\n"
     ]
    },
    {
     "data": {
      "text/plain": [
       "<catboost.core.CatBoostClassifier at 0x7a01bb318210>"
      ]
     },
     "execution_count": 99,
     "metadata": {},
     "output_type": "execute_result"
    }
   ],
   "source": [
    "\n",
    "params = {'verbose':100,\n",
    "          'eval_metric': 'AUC', # log loss был по умолчанию, а теперь сразу AUC\n",
    "          'auto_class_weights': 'Balanced', # балансировать веса классов\n",
    "          'random_seed':42,\n",
    "          'learning_rate':0.01}\n",
    "\n",
    "model = CatBoostClassifier(**params)\n",
    "\n",
    "\n",
    "model.fit(train_data,eval_set=valid_data)"
   ]
  },
  {
   "cell_type": "code",
   "execution_count": 100,
   "id": "4fe23b68",
   "metadata": {},
   "outputs": [
    {
     "data": {
      "text/plain": [
       "<Axes: >"
      ]
     },
     "execution_count": 100,
     "metadata": {},
     "output_type": "execute_result"
    },
    {
     "data": {
      "image/png": "[encoded data removed]",
      "text/plain": [
       "<Figure size 640x480 with 1 Axes>"
      ]
     },
     "metadata": {},
     "output_type": "display_data"
    }
   ],
   "source": [
    "test['score_catboost'].hist()"
   ]
  },
  {
   "cell_type": "code",
   "execution_count": 101,
   "id": "c6748b3c",
   "metadata": {},
   "outputs": [
    {
     "data": {
      "text/plain": [
       "<Axes: >"
      ]
     },
     "execution_count": 101,
     "metadata": {},
     "output_type": "execute_result"
    },
    {
     "data": {
      "image/png": "[encoded data removed]",
      "text/plain": [
       "<Figure size 640x480 with 1 Axes>"
      ]
     },
     "metadata": {},
     "output_type": "display_data"
    }
   ],
   "source": [
    "# балансированные классы, не отражают верояттность так же как раньше\n",
    "pd.Series(model.predict_proba(test[X])[:,1]).hist()"
   ]
  },
  {
   "cell_type": "code",
   "execution_count": 102,
   "id": "329c71a5",
   "metadata": {},
   "outputs": [],
   "source": [
    "test['score_cat_not_balanced_bins'] = pd.cut(test['score_catboost'], 10)"
   ]
  },
  {
   "cell_type": "code",
   "execution_count": 103,
   "id": "77e635da",
   "metadata": {},
   "outputs": [
    {
     "name": "stderr",
     "output_type": "stream",
     "text": [
      "/tmp/ipykernel_29765/144526038.py:1: FutureWarning: The default of observed=False is deprecated and will be changed to True in a future version of pandas. Pass observed=False to retain current behavior or observed=True to adopt the future default and silence this warning.\n",
      "  test.groupby('score_cat_not_balanced_bins')['Exited'].agg(['count', 'mean'])\n"
     ]
    },
    {
     "data": {
      "text/html": [
       "<div>\n",
       "<style scoped>\n",
       "    .dataframe tbody tr th:only-of-type {\n",
       "        vertical-align: middle;\n",
       "    }\n",
       "\n",
       "    .dataframe tbody tr th {\n",
       "        vertical-align: top;\n",
       "    }\n",
       "\n",
       "    .dataframe thead th {\n",
       "        text-align: right;\n",
       "    }\n",
       "</style>\n",
       "<table border=\"1\" class=\"dataframe\">\n",
       "  <thead>\n",
       "    <tr style=\"text-align: right;\">\n",
       "      <th></th>\n",
       "      <th>count</th>\n",
       "      <th>mean</th>\n",
       "    </tr>\n",
       "    <tr>\n",
       "      <th>score_cat_not_balanced_bins</th>\n",
       "      <th></th>\n",
       "      <th></th>\n",
       "    </tr>\n",
       "  </thead>\n",
       "  <tbody>\n",
       "    <tr>\n",
       "      <th>(0.00838, 0.108]</th>\n",
       "      <td>1032</td>\n",
       "      <td>0.043605</td>\n",
       "    </tr>\n",
       "    <tr>\n",
       "      <th>(0.108, 0.207]</th>\n",
       "      <td>343</td>\n",
       "      <td>0.142857</td>\n",
       "    </tr>\n",
       "    <tr>\n",
       "      <th>(0.207, 0.306]</th>\n",
       "      <td>184</td>\n",
       "      <td>0.260870</td>\n",
       "    </tr>\n",
       "    <tr>\n",
       "      <th>(0.306, 0.405]</th>\n",
       "      <td>128</td>\n",
       "      <td>0.359375</td>\n",
       "    </tr>\n",
       "    <tr>\n",
       "      <th>(0.405, 0.503]</th>\n",
       "      <td>69</td>\n",
       "      <td>0.434783</td>\n",
       "    </tr>\n",
       "    <tr>\n",
       "      <th>(0.503, 0.602]</th>\n",
       "      <td>49</td>\n",
       "      <td>0.530612</td>\n",
       "    </tr>\n",
       "    <tr>\n",
       "      <th>(0.602, 0.701]</th>\n",
       "      <td>42</td>\n",
       "      <td>0.595238</td>\n",
       "    </tr>\n",
       "    <tr>\n",
       "      <th>(0.701, 0.8]</th>\n",
       "      <td>59</td>\n",
       "      <td>0.830508</td>\n",
       "    </tr>\n",
       "    <tr>\n",
       "      <th>(0.8, 0.899]</th>\n",
       "      <td>45</td>\n",
       "      <td>0.911111</td>\n",
       "    </tr>\n",
       "    <tr>\n",
       "      <th>(0.899, 0.997]</th>\n",
       "      <td>49</td>\n",
       "      <td>0.979592</td>\n",
       "    </tr>\n",
       "  </tbody>\n",
       "</table>\n",
       "</div>"
      ],
      "text/plain": [
       "                             count      mean\n",
       "score_cat_not_balanced_bins                 \n",
       "(0.00838, 0.108]              1032  0.043605\n",
       "(0.108, 0.207]                 343  0.142857\n",
       "(0.207, 0.306]                 184  0.260870\n",
       "(0.306, 0.405]                 128  0.359375\n",
       "(0.405, 0.503]                  69  0.434783\n",
       "(0.503, 0.602]                  49  0.530612\n",
       "(0.602, 0.701]                  42  0.595238\n",
       "(0.701, 0.8]                    59  0.830508\n",
       "(0.8, 0.899]                    45  0.911111\n",
       "(0.899, 0.997]                  49  0.979592"
      ]
     },
     "execution_count": 103,
     "metadata": {},
     "output_type": "execute_result"
    }
   ],
   "source": [
    "test.groupby('score_cat_not_balanced_bins')['Exited'].agg(['count', 'mean'])"
   ]
  },
  {
   "cell_type": "code",
   "execution_count": 104,
   "id": "af9cc0fe",
   "metadata": {},
   "outputs": [],
   "source": [
    "test['score_catboost_balanced'] = model.predict_proba(test[X])[:,1]"
   ]
  },
  {
   "cell_type": "code",
   "execution_count": 105,
   "id": "b1e1226e",
   "metadata": {},
   "outputs": [],
   "source": [
    "test['score_cat_balanced_bins'] = pd.cut(test['score_catboost_balanced'], 10)"
   ]
  },
  {
   "cell_type": "code",
   "execution_count": 107,
   "id": "72348658",
   "metadata": {},
   "outputs": [
    {
     "name": "stderr",
     "output_type": "stream",
     "text": [
      "/tmp/ipykernel_29765/3064722563.py:1: FutureWarning: The default of observed=False is deprecated and will be changed to True in a future version of pandas. Pass observed=False to retain current behavior or observed=True to adopt the future default and silence this warning.\n",
      "  test.groupby('score_cat_balanced_bins')['Exited'].agg(['count', 'mean'])\n"
     ]
    },
    {
     "data": {
      "text/html": [
       "<div>\n",
       "<style scoped>\n",
       "    .dataframe tbody tr th:only-of-type {\n",
       "        vertical-align: middle;\n",
       "    }\n",
       "\n",
       "    .dataframe tbody tr th {\n",
       "        vertical-align: top;\n",
       "    }\n",
       "\n",
       "    .dataframe thead th {\n",
       "        text-align: right;\n",
       "    }\n",
       "</style>\n",
       "<table border=\"1\" class=\"dataframe\">\n",
       "  <thead>\n",
       "    <tr style=\"text-align: right;\">\n",
       "      <th></th>\n",
       "      <th>count</th>\n",
       "      <th>mean</th>\n",
       "    </tr>\n",
       "    <tr>\n",
       "      <th>score_cat_balanced_bins</th>\n",
       "      <th></th>\n",
       "      <th></th>\n",
       "    </tr>\n",
       "  </thead>\n",
       "  <tbody>\n",
       "    <tr>\n",
       "      <th>(0.0404, 0.137]</th>\n",
       "      <td>340</td>\n",
       "      <td>0.011765</td>\n",
       "    </tr>\n",
       "    <tr>\n",
       "      <th>(0.137, 0.232]</th>\n",
       "      <td>387</td>\n",
       "      <td>0.036176</td>\n",
       "    </tr>\n",
       "    <tr>\n",
       "      <th>(0.232, 0.328]</th>\n",
       "      <td>327</td>\n",
       "      <td>0.082569</td>\n",
       "    </tr>\n",
       "    <tr>\n",
       "      <th>(0.328, 0.423]</th>\n",
       "      <td>187</td>\n",
       "      <td>0.139037</td>\n",
       "    </tr>\n",
       "    <tr>\n",
       "      <th>(0.423, 0.518]</th>\n",
       "      <td>190</td>\n",
       "      <td>0.210526</td>\n",
       "    </tr>\n",
       "    <tr>\n",
       "      <th>(0.518, 0.614]</th>\n",
       "      <td>146</td>\n",
       "      <td>0.191781</td>\n",
       "    </tr>\n",
       "    <tr>\n",
       "      <th>(0.614, 0.709]</th>\n",
       "      <td>125</td>\n",
       "      <td>0.464000</td>\n",
       "    </tr>\n",
       "    <tr>\n",
       "      <th>(0.709, 0.805]</th>\n",
       "      <td>85</td>\n",
       "      <td>0.447059</td>\n",
       "    </tr>\n",
       "    <tr>\n",
       "      <th>(0.805, 0.9]</th>\n",
       "      <td>97</td>\n",
       "      <td>0.670103</td>\n",
       "    </tr>\n",
       "    <tr>\n",
       "      <th>(0.9, 0.995]</th>\n",
       "      <td>116</td>\n",
       "      <td>0.922414</td>\n",
       "    </tr>\n",
       "  </tbody>\n",
       "</table>\n",
       "</div>"
      ],
      "text/plain": [
       "                         count      mean\n",
       "score_cat_balanced_bins                 \n",
       "(0.0404, 0.137]            340  0.011765\n",
       "(0.137, 0.232]             387  0.036176\n",
       "(0.232, 0.328]             327  0.082569\n",
       "(0.328, 0.423]             187  0.139037\n",
       "(0.423, 0.518]             190  0.210526\n",
       "(0.518, 0.614]             146  0.191781\n",
       "(0.614, 0.709]             125  0.464000\n",
       "(0.709, 0.805]              85  0.447059\n",
       "(0.805, 0.9]                97  0.670103\n",
       "(0.9, 0.995]               116  0.922414"
      ]
     },
     "execution_count": 107,
     "metadata": {},
     "output_type": "execute_result"
    }
   ],
   "source": [
    "test.groupby('score_cat_balanced_bins')['Exited'].agg(['count', 'mean'])\n"
   ]
  },
  {
   "cell_type": "markdown",
   "id": "99004169",
   "metadata": {},
   "source": [
    "    Небалансированные скоры: Вероятности отражают реальные шансы событий (например, если модель предсказывает вероятность ухода 0.8, примерно 80% клиентов действительно уйдут).\n",
    "\n",
    "    Балансированные скоры: Вероятности могут быть завышены для класса меньшинства (например, модель может предсказывать более высокие вероятности ухода, даже когда реальные шансы ниже). Это происходит из-за того, что модель \"усиливает\" редкий класс.\n",
    "\n",
    "    После балансировки вероятности могут стать менее точными и требовать калибровки, чтобы снова соответствовать реальным шансам.\n",
    "    \n",
    "    \n",
    "    В случае с кетбустом, балансировка классов не помогает особо. Но если видно что все очень плохо можно поробовать балансировку. но ожидать улучшение качества не стоит"
   ]
  },
  {
   "cell_type": "markdown",
   "id": "f32ca981",
   "metadata": {},
   "source": [
    "# Мультикласс\n",
    "\n",
    "   https://towardsdatascience.com/comprehensive-guide-on-multiclass-classification-metrics-af94cfb83fbd\n",
    "\n",
    "   https://towardsdatascience.com/multiclass-classification-evaluation-with-roc-curves-and-roc-auc-294fd4617e3a\n",
    "\n",
    "   https://github.com/catboost/tutorials/blob/master/classification/classification_tutorial.ipynb\n"
   ]
  },
  {
   "cell_type": "markdown",
   "id": "7437ce5d",
   "metadata": {},
   "source": [
    "    "
   ]
  }
 ],
 "metadata": {
  "kernelspec": {
   "display_name": "Python 3 (ipykernel)",
   "language": "python",
   "name": "python3"
  },
  "language_info": {
   "codemirror_mode": {
    "name": "ipython",
    "version": 3
   },
   "file_extension": ".py",
   "mimetype": "text/x-python",
   "name": "python",
   "nbconvert_exporter": "python",
   "pygments_lexer": "ipython3",
   "version": "3.11.7"
  }
 },
 "nbformat": 4,
 "nbformat_minor": 5
}
