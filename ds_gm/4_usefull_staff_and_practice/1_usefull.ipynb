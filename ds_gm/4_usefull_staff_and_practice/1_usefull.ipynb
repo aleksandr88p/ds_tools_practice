{
 "cells": [
  {
   "cell_type": "markdown",
   "metadata": {},
   "source": [
    "1. [Cross validation](#cross-validation)\n",
    "2. [Побдбор гиперпараметров](#побдбор-гиперпараметров)\n",
    "3. [Sklearn princips](#sklearn-princips)"
   ]
  },
  {
   "cell_type": "code",
   "execution_count": 2,
   "metadata": {},
   "outputs": [
    {
     "data": {
      "text/html": [
       "<div>\n",
       "<style scoped>\n",
       "    .dataframe tbody tr th:only-of-type {\n",
       "        vertical-align: middle;\n",
       "    }\n",
       "\n",
       "    .dataframe tbody tr th {\n",
       "        vertical-align: top;\n",
       "    }\n",
       "\n",
       "    .dataframe thead th {\n",
       "        text-align: right;\n",
       "    }\n",
       "</style>\n",
       "<table border=\"1\" class=\"dataframe\">\n",
       "  <thead>\n",
       "    <tr style=\"text-align: right;\">\n",
       "      <th></th>\n",
       "      <th>RowNumber</th>\n",
       "      <th>CustomerId</th>\n",
       "      <th>Surname</th>\n",
       "      <th>CreditScore</th>\n",
       "      <th>Geography</th>\n",
       "      <th>Gender</th>\n",
       "      <th>Age</th>\n",
       "      <th>Tenure</th>\n",
       "      <th>Balance</th>\n",
       "      <th>NumOfProducts</th>\n",
       "      <th>HasCrCard</th>\n",
       "      <th>IsActiveMember</th>\n",
       "      <th>EstimatedSalary</th>\n",
       "      <th>Exited</th>\n",
       "    </tr>\n",
       "  </thead>\n",
       "  <tbody>\n",
       "    <tr>\n",
       "      <th>0</th>\n",
       "      <td>1</td>\n",
       "      <td>15634602</td>\n",
       "      <td>Hargrave</td>\n",
       "      <td>619</td>\n",
       "      <td>France</td>\n",
       "      <td>Female</td>\n",
       "      <td>42</td>\n",
       "      <td>2</td>\n",
       "      <td>0.00</td>\n",
       "      <td>1</td>\n",
       "      <td>1</td>\n",
       "      <td>1</td>\n",
       "      <td>101348.88</td>\n",
       "      <td>1</td>\n",
       "    </tr>\n",
       "    <tr>\n",
       "      <th>1</th>\n",
       "      <td>2</td>\n",
       "      <td>15647311</td>\n",
       "      <td>Hill</td>\n",
       "      <td>608</td>\n",
       "      <td>Spain</td>\n",
       "      <td>Female</td>\n",
       "      <td>41</td>\n",
       "      <td>1</td>\n",
       "      <td>83807.86</td>\n",
       "      <td>1</td>\n",
       "      <td>0</td>\n",
       "      <td>1</td>\n",
       "      <td>112542.58</td>\n",
       "      <td>0</td>\n",
       "    </tr>\n",
       "    <tr>\n",
       "      <th>2</th>\n",
       "      <td>3</td>\n",
       "      <td>15619304</td>\n",
       "      <td>Onio</td>\n",
       "      <td>502</td>\n",
       "      <td>France</td>\n",
       "      <td>Female</td>\n",
       "      <td>42</td>\n",
       "      <td>8</td>\n",
       "      <td>159660.80</td>\n",
       "      <td>3</td>\n",
       "      <td>1</td>\n",
       "      <td>0</td>\n",
       "      <td>113931.57</td>\n",
       "      <td>1</td>\n",
       "    </tr>\n",
       "    <tr>\n",
       "      <th>3</th>\n",
       "      <td>4</td>\n",
       "      <td>15701354</td>\n",
       "      <td>Boni</td>\n",
       "      <td>699</td>\n",
       "      <td>France</td>\n",
       "      <td>Female</td>\n",
       "      <td>39</td>\n",
       "      <td>1</td>\n",
       "      <td>0.00</td>\n",
       "      <td>2</td>\n",
       "      <td>0</td>\n",
       "      <td>0</td>\n",
       "      <td>93826.63</td>\n",
       "      <td>0</td>\n",
       "    </tr>\n",
       "    <tr>\n",
       "      <th>4</th>\n",
       "      <td>5</td>\n",
       "      <td>15737888</td>\n",
       "      <td>Mitchell</td>\n",
       "      <td>850</td>\n",
       "      <td>Spain</td>\n",
       "      <td>Female</td>\n",
       "      <td>43</td>\n",
       "      <td>2</td>\n",
       "      <td>125510.82</td>\n",
       "      <td>1</td>\n",
       "      <td>1</td>\n",
       "      <td>1</td>\n",
       "      <td>79084.10</td>\n",
       "      <td>0</td>\n",
       "    </tr>\n",
       "  </tbody>\n",
       "</table>\n",
       "</div>"
      ],
      "text/plain": [
       "   RowNumber  CustomerId   Surname  CreditScore Geography  Gender  Age  \\\n",
       "0          1    15634602  Hargrave          619    France  Female   42   \n",
       "1          2    15647311      Hill          608     Spain  Female   41   \n",
       "2          3    15619304      Onio          502    France  Female   42   \n",
       "3          4    15701354      Boni          699    France  Female   39   \n",
       "4          5    15737888  Mitchell          850     Spain  Female   43   \n",
       "\n",
       "   Tenure    Balance  NumOfProducts  HasCrCard  IsActiveMember  \\\n",
       "0       2       0.00              1          1               1   \n",
       "1       1   83807.86              1          0               1   \n",
       "2       8  159660.80              3          1               0   \n",
       "3       1       0.00              2          0               0   \n",
       "4       2  125510.82              1          1               1   \n",
       "\n",
       "   EstimatedSalary  Exited  \n",
       "0        101348.88       1  \n",
       "1        112542.58       0  \n",
       "2        113931.57       1  \n",
       "3         93826.63       0  \n",
       "4         79084.10       0  "
      ]
     },
     "execution_count": 2,
     "metadata": {},
     "output_type": "execute_result"
    }
   ],
   "source": [
    "import pandas as pd\n",
    "\n",
    "df = pd.read_csv('../3_Classification/Churn_Modelling.csv')# read the csv file\n",
    "\n",
    "df.head()# show the first 5 rows of the dataframe"
   ]
  },
  {
   "cell_type": "code",
   "execution_count": 19,
   "metadata": {},
   "outputs": [],
   "source": [
    "from sklearn.model_selection import train_test_split\n",
    "\n",
    "# split the data into train, validation and test sets\n",
    "train, test = train_test_split(df, train_size=0.6, random_state=42, stratify=df['Exited'])\n",
    "val, test = train_test_split(test, train_size=0.5, random_state=42, stratify=test['Exited'])\n"
   ]
  },
  {
   "cell_type": "code",
   "execution_count": 4,
   "metadata": {},
   "outputs": [],
   "source": [
    "# ! pip install catboost"
   ]
  },
  {
   "cell_type": "code",
   "execution_count": 20,
   "metadata": {},
   "outputs": [],
   "source": [
    "from catboost import CatBoostClassifier\n",
    "\n",
    "\n",
    "X = ['CustomerId', 'CreditScore', 'Geography',\n",
    "       'Gender', 'Age', 'Tenure', 'Balance', 'NumOfProducts', 'HasCrCard',\n",
    "       'IsActiveMember', 'EstimatedSalary']\n",
    "\n",
    "cat_features = ['Geography','Gender']\n",
    "\n",
    "y = ['Exited']"
   ]
  },
  {
   "cell_type": "code",
   "execution_count": 21,
   "metadata": {},
   "outputs": [],
   "source": [
    "\n",
    "from catboost import Pool\n",
    "\n",
    "train_data = Pool(data=train[X],\n",
    "                  label=train[y],\n",
    "                  cat_features=cat_features\n",
    "                 )\n",
    "\n",
    "valid_data = Pool(data=val[X],\n",
    "                  label=val[y],\n",
    "                  cat_features=cat_features\n",
    "                 )\n",
    "\n",
    "test_data = Pool(data=test[X],\n",
    "                  label=test[y],\n",
    "                  cat_features=cat_features\n",
    "                 )\n"
   ]
  },
  {
   "cell_type": "code",
   "execution_count": 22,
   "metadata": {},
   "outputs": [],
   "source": [
    "\n",
    "params = {'verbose':100,\n",
    "          'eval_metric':'AUC',\n",
    "          'loss_function': 'Logloss',\n",
    "          'random_seed':42,\n",
    "          'learning_rate':0.01}"
   ]
  },
  {
   "cell_type": "code",
   "execution_count": 23,
   "metadata": {},
   "outputs": [],
   "source": [
    "model = CatBoostClassifier(**params)"
   ]
  },
  {
   "cell_type": "code",
   "execution_count": 31,
   "metadata": {},
   "outputs": [
    {
     "name": "stdout",
     "output_type": "stream",
     "text": [
      "0:\ttest: 0.8338545\tbest: 0.8338545 (0)\ttotal: 3.35ms\tremaining: 2.3s\n",
      "100:\ttest: 0.8725090\tbest: 0.8725090 (100)\ttotal: 243ms\tremaining: 1.41s\n",
      "200:\ttest: 0.8784656\tbest: 0.8784656 (200)\ttotal: 486ms\tremaining: 1.17s\n",
      "300:\ttest: 0.8812676\tbest: 0.8812676 (300)\ttotal: 729ms\tremaining: 932ms\n",
      "400:\ttest: 0.8823868\tbest: 0.8824376 (390)\ttotal: 971ms\tremaining: 690ms\n",
      "500:\ttest: 0.8834491\tbest: 0.8834522 (498)\ttotal: 1.22s\tremaining: 450ms\n",
      "600:\ttest: 0.8834737\tbest: 0.8836554 (564)\ttotal: 1.47s\tremaining: 208ms\n",
      "685:\ttest: 0.8838694\tbest: 0.8838694 (685)\ttotal: 1.68s\tremaining: 0us\n",
      "\n",
      "bestTest = 0.8838694083\n",
      "bestIteration = 685\n",
      "\n"
     ]
    },
    {
     "data": {
      "text/plain": [
       "<catboost.core.CatBoostClassifier at 0x7d518c5f9d10>"
      ]
     },
     "execution_count": 31,
     "metadata": {},
     "output_type": "execute_result"
    }
   ],
   "source": [
    "model.fit(train_data,eval_set=valid_data)\n"
   ]
  },
  {
   "cell_type": "code",
   "execution_count": 35,
   "metadata": {},
   "outputs": [
    {
     "data": {
      "text/plain": [
       "686"
      ]
     },
     "execution_count": 35,
     "metadata": {},
     "output_type": "execute_result"
    }
   ],
   "source": [
    "n_iters = model.best_iteration_ + 1 # get the best number of iterations\n",
    "n_iters"
   ]
  },
  {
   "cell_type": "code",
   "execution_count": 36,
   "metadata": {},
   "outputs": [
    {
     "name": "stdout",
     "output_type": "stream",
     "text": [
      "0:\ttotal: 5.37ms\tremaining: 3.68s\n",
      "100:\ttotal: 346ms\tremaining: 2.01s\n",
      "200:\ttotal: 616ms\tremaining: 1.49s\n",
      "300:\ttotal: 899ms\tremaining: 1.15s\n",
      "400:\ttotal: 1.18s\tremaining: 841ms\n",
      "500:\ttotal: 1.46s\tremaining: 539ms\n",
      "600:\ttotal: 1.74s\tremaining: 246ms\n",
      "685:\ttotal: 1.97s\tremaining: 0us\n"
     ]
    },
    {
     "data": {
      "text/plain": [
       "<catboost.core.CatBoostClassifier at 0x7d518c5fbbd0>"
      ]
     },
     "execution_count": 36,
     "metadata": {},
     "output_type": "execute_result"
    }
   ],
   "source": [
    "# retrain the model on the full training data\n",
    "params = {'iterations':n_iters,\n",
    "          'verbose':100,\n",
    "          'eval_metric':'AUC',\n",
    "          'loss_function': 'Logloss',\n",
    "          'random_seed':42,\n",
    "          'learning_rate':0.01}\n",
    "     \n",
    "\n",
    "model = CatBoostClassifier(**params) # create a new model with the best number of iterations\n",
    "     \n",
    "\n",
    "train_full = pd.concat([train,val]) # combine the train and validation data\n",
    "     \n",
    "\n",
    "# create a Pool object for the full training data\n",
    "train_full_data = Pool(train_full[X],\n",
    "                       label=train_full[y],\n",
    "                       cat_features=cat_features)\n",
    "     \n",
    "\n",
    "model.fit(train_full_data) # fit the model on the full training data"
   ]
  },
  {
   "cell_type": "code",
   "execution_count": 28,
   "metadata": {},
   "outputs": [
    {
     "data": {
      "text/plain": [
       "0.8735839074822127"
      ]
     },
     "execution_count": 28,
     "metadata": {},
     "output_type": "execute_result"
    }
   ],
   "source": [
    "from sklearn.metrics import roc_auc_score\n",
    "test['y_score_no_cross_val'] = model.predict_proba(test_data)[:,1] # predict the probabilities on the test set\n",
    "# calculate the AUC score on the test set     \n",
    "roc_auc_score(test['Exited'],test['y_score_no_cross_val'])\n",
    "     "
   ]
  },
  {
   "cell_type": "markdown",
   "metadata": {},
   "source": [
    "# Cross validation\n",
    "https://github.com/catboost/tutorials/blob/master/classification/classification_tutorial.ipynb"
   ]
  },
  {
   "cell_type": "code",
   "execution_count": 38,
   "metadata": {},
   "outputs": [],
   "source": [
    "from catboost import cv\n"
   ]
  },
  {
   "cell_type": "code",
   "execution_count": 41,
   "metadata": {},
   "outputs": [],
   "source": [
    "params = {\n",
    "          'verbose':100,\n",
    "          'eval_metric':'AUC',\n",
    "          'loss_function': 'Logloss',\n",
    "          'random_seed':42,\n",
    "          'learning_rate':0.01}"
   ]
  },
  {
   "cell_type": "code",
   "execution_count": 43,
   "metadata": {},
   "outputs": [
    {
     "name": "stdout",
     "output_type": "stream",
     "text": [
      "Training on fold [0/5]\n",
      "\n",
      "bestTest = 0.866360207\n",
      "bestIteration = 881\n",
      "\n",
      "Training on fold [1/5]\n",
      "\n",
      "bestTest = 0.8716621864\n",
      "bestIteration = 998\n",
      "\n",
      "Training on fold [2/5]\n",
      "\n",
      "bestTest = 0.8695412245\n",
      "bestIteration = 540\n",
      "\n",
      "Training on fold [3/5]\n",
      "\n",
      "bestTest = 0.8795945701\n",
      "bestIteration = 942\n",
      "\n",
      "Training on fold [4/5]\n",
      "\n",
      "bestTest = 0.8586794872\n",
      "bestIteration = 750\n",
      "\n"
     ]
    }
   ],
   "source": [
    "# так будет обучено пять моделей \n",
    "cv_data = cv(\n",
    "    params=params,  # параметры модели\n",
    "    pool=train_full_data,  # данные для обучения\n",
    "    fold_count=5,  # количество фолдов (разбиений) для кросс-валидации\n",
    "    shuffle=True,  # перемешивать данные перед разбиением\n",
    "    partition_random_seed=42,  # случайное зерно для разбиения данных\n",
    "    stratified=False,  # использовать стратифицированное разбиение, что бы не показывать каждую итерацию\n",
    "    verbose=False  # выводить подробную информацию о процессе\n",
    "    # plot=True  # построить график (если требуется)\n",
    ")"
   ]
  },
  {
   "cell_type": "code",
   "execution_count": 46,
   "metadata": {},
   "outputs": [
    {
     "data": {
      "text/html": [
       "<div>\n",
       "<style scoped>\n",
       "    .dataframe tbody tr th:only-of-type {\n",
       "        vertical-align: middle;\n",
       "    }\n",
       "\n",
       "    .dataframe tbody tr th {\n",
       "        vertical-align: top;\n",
       "    }\n",
       "\n",
       "    .dataframe thead th {\n",
       "        text-align: right;\n",
       "    }\n",
       "</style>\n",
       "<table border=\"1\" class=\"dataframe\">\n",
       "  <thead>\n",
       "    <tr style=\"text-align: right;\">\n",
       "      <th></th>\n",
       "      <th>iterations</th>\n",
       "      <th>test-AUC-mean</th>\n",
       "      <th>test-AUC-std</th>\n",
       "      <th>test-Logloss-mean</th>\n",
       "      <th>test-Logloss-std</th>\n",
       "      <th>train-Logloss-mean</th>\n",
       "      <th>train-Logloss-std</th>\n",
       "    </tr>\n",
       "  </thead>\n",
       "  <tbody>\n",
       "    <tr>\n",
       "      <th>0</th>\n",
       "      <td>0</td>\n",
       "      <td>0.818479</td>\n",
       "      <td>0.009480</td>\n",
       "      <td>0.685020</td>\n",
       "      <td>0.000209</td>\n",
       "      <td>0.684939</td>\n",
       "      <td>0.000262</td>\n",
       "    </tr>\n",
       "    <tr>\n",
       "      <th>1</th>\n",
       "      <td>1</td>\n",
       "      <td>0.823848</td>\n",
       "      <td>0.010334</td>\n",
       "      <td>0.677216</td>\n",
       "      <td>0.000374</td>\n",
       "      <td>0.677055</td>\n",
       "      <td>0.000503</td>\n",
       "    </tr>\n",
       "    <tr>\n",
       "      <th>2</th>\n",
       "      <td>2</td>\n",
       "      <td>0.831819</td>\n",
       "      <td>0.009265</td>\n",
       "      <td>0.668989</td>\n",
       "      <td>0.000472</td>\n",
       "      <td>0.668799</td>\n",
       "      <td>0.000751</td>\n",
       "    </tr>\n",
       "    <tr>\n",
       "      <th>3</th>\n",
       "      <td>3</td>\n",
       "      <td>0.834559</td>\n",
       "      <td>0.008771</td>\n",
       "      <td>0.662008</td>\n",
       "      <td>0.001326</td>\n",
       "      <td>0.661753</td>\n",
       "      <td>0.000689</td>\n",
       "    </tr>\n",
       "    <tr>\n",
       "      <th>4</th>\n",
       "      <td>4</td>\n",
       "      <td>0.834483</td>\n",
       "      <td>0.008218</td>\n",
       "      <td>0.654599</td>\n",
       "      <td>0.001429</td>\n",
       "      <td>0.654270</td>\n",
       "      <td>0.000898</td>\n",
       "    </tr>\n",
       "    <tr>\n",
       "      <th>...</th>\n",
       "      <td>...</td>\n",
       "      <td>...</td>\n",
       "      <td>...</td>\n",
       "      <td>...</td>\n",
       "      <td>...</td>\n",
       "      <td>...</td>\n",
       "      <td>...</td>\n",
       "    </tr>\n",
       "    <tr>\n",
       "      <th>995</th>\n",
       "      <td>995</td>\n",
       "      <td>0.868703</td>\n",
       "      <td>0.007809</td>\n",
       "      <td>0.329986</td>\n",
       "      <td>0.016873</td>\n",
       "      <td>0.284097</td>\n",
       "      <td>0.003644</td>\n",
       "    </tr>\n",
       "    <tr>\n",
       "      <th>996</th>\n",
       "      <td>996</td>\n",
       "      <td>0.868715</td>\n",
       "      <td>0.007781</td>\n",
       "      <td>0.329972</td>\n",
       "      <td>0.016875</td>\n",
       "      <td>0.284057</td>\n",
       "      <td>0.003631</td>\n",
       "    </tr>\n",
       "    <tr>\n",
       "      <th>997</th>\n",
       "      <td>997</td>\n",
       "      <td>0.868718</td>\n",
       "      <td>0.007804</td>\n",
       "      <td>0.329972</td>\n",
       "      <td>0.016876</td>\n",
       "      <td>0.284003</td>\n",
       "      <td>0.003636</td>\n",
       "    </tr>\n",
       "    <tr>\n",
       "      <th>998</th>\n",
       "      <td>998</td>\n",
       "      <td>0.868725</td>\n",
       "      <td>0.007777</td>\n",
       "      <td>0.329969</td>\n",
       "      <td>0.016855</td>\n",
       "      <td>0.283943</td>\n",
       "      <td>0.003613</td>\n",
       "    </tr>\n",
       "    <tr>\n",
       "      <th>999</th>\n",
       "      <td>999</td>\n",
       "      <td>0.868729</td>\n",
       "      <td>0.007779</td>\n",
       "      <td>0.329964</td>\n",
       "      <td>0.016869</td>\n",
       "      <td>0.283886</td>\n",
       "      <td>0.003601</td>\n",
       "    </tr>\n",
       "  </tbody>\n",
       "</table>\n",
       "<p>1000 rows × 7 columns</p>\n",
       "</div>"
      ],
      "text/plain": [
       "     iterations  test-AUC-mean  test-AUC-std  test-Logloss-mean  \\\n",
       "0             0       0.818479      0.009480           0.685020   \n",
       "1             1       0.823848      0.010334           0.677216   \n",
       "2             2       0.831819      0.009265           0.668989   \n",
       "3             3       0.834559      0.008771           0.662008   \n",
       "4             4       0.834483      0.008218           0.654599   \n",
       "..          ...            ...           ...                ...   \n",
       "995         995       0.868703      0.007809           0.329986   \n",
       "996         996       0.868715      0.007781           0.329972   \n",
       "997         997       0.868718      0.007804           0.329972   \n",
       "998         998       0.868725      0.007777           0.329969   \n",
       "999         999       0.868729      0.007779           0.329964   \n",
       "\n",
       "     test-Logloss-std  train-Logloss-mean  train-Logloss-std  \n",
       "0            0.000209            0.684939           0.000262  \n",
       "1            0.000374            0.677055           0.000503  \n",
       "2            0.000472            0.668799           0.000751  \n",
       "3            0.001326            0.661753           0.000689  \n",
       "4            0.001429            0.654270           0.000898  \n",
       "..                ...                 ...                ...  \n",
       "995          0.016873            0.284097           0.003644  \n",
       "996          0.016875            0.284057           0.003631  \n",
       "997          0.016876            0.284003           0.003636  \n",
       "998          0.016855            0.283943           0.003613  \n",
       "999          0.016869            0.283886           0.003601  \n",
       "\n",
       "[1000 rows x 7 columns]"
      ]
     },
     "execution_count": 46,
     "metadata": {},
     "output_type": "execute_result"
    }
   ],
   "source": [
    "# хранится информация о каждой итерации и рассчитана средняя метрика на тесте и трейне\n",
    "cv_data"
   ]
  },
  {
   "cell_type": "code",
   "execution_count": 47,
   "metadata": {},
   "outputs": [
    {
     "data": {
      "text/plain": [
       "0.8688218559102292"
      ]
     },
     "execution_count": 47,
     "metadata": {},
     "output_type": "execute_result"
    }
   ],
   "source": [
    "cv_data['test-AUC-mean'].max() # максимальное значение AUC на тесте"
   ]
  },
  {
   "cell_type": "code",
   "execution_count": 48,
   "metadata": {},
   "outputs": [
    {
     "data": {
      "text/plain": [
       "741"
      ]
     },
     "execution_count": 48,
     "metadata": {},
     "output_type": "execute_result"
    }
   ],
   "source": [
    "cv_data['test-AUC-mean'].idxmax() # номер итерации с максимальным значением AUC на тесте"
   ]
  },
  {
   "cell_type": "code",
   "execution_count": 49,
   "metadata": {},
   "outputs": [
    {
     "data": {
      "text/html": [
       "<div>\n",
       "<style scoped>\n",
       "    .dataframe tbody tr th:only-of-type {\n",
       "        vertical-align: middle;\n",
       "    }\n",
       "\n",
       "    .dataframe tbody tr th {\n",
       "        vertical-align: top;\n",
       "    }\n",
       "\n",
       "    .dataframe thead th {\n",
       "        text-align: right;\n",
       "    }\n",
       "</style>\n",
       "<table border=\"1\" class=\"dataframe\">\n",
       "  <thead>\n",
       "    <tr style=\"text-align: right;\">\n",
       "      <th></th>\n",
       "      <th>iterations</th>\n",
       "      <th>test-AUC-mean</th>\n",
       "      <th>test-AUC-std</th>\n",
       "      <th>test-Logloss-mean</th>\n",
       "      <th>test-Logloss-std</th>\n",
       "      <th>train-Logloss-mean</th>\n",
       "      <th>train-Logloss-std</th>\n",
       "    </tr>\n",
       "  </thead>\n",
       "  <tbody>\n",
       "    <tr>\n",
       "      <th>741</th>\n",
       "      <td>741</td>\n",
       "      <td>0.868822</td>\n",
       "      <td>0.007457</td>\n",
       "      <td>0.330818</td>\n",
       "      <td>0.017005</td>\n",
       "      <td>0.297428</td>\n",
       "      <td>0.004326</td>\n",
       "    </tr>\n",
       "  </tbody>\n",
       "</table>\n",
       "</div>"
      ],
      "text/plain": [
       "     iterations  test-AUC-mean  test-AUC-std  test-Logloss-mean  \\\n",
       "741         741       0.868822      0.007457           0.330818   \n",
       "\n",
       "     test-Logloss-std  train-Logloss-mean  train-Logloss-std  \n",
       "741          0.017005            0.297428           0.004326  "
      ]
     },
     "execution_count": 49,
     "metadata": {},
     "output_type": "execute_result"
    }
   ],
   "source": [
    "cv_data[cv_data['test-AUC-mean'] == cv_data['test-AUC-mean'].max()] # информация о итерации с максимальным значением AUC на тесте"
   ]
  },
  {
   "cell_type": "code",
   "execution_count": 53,
   "metadata": {},
   "outputs": [
    {
     "data": {
      "text/plain": [
       "741"
      ]
     },
     "execution_count": 53,
     "metadata": {},
     "output_type": "execute_result"
    }
   ],
   "source": [
    "n_iters = cv_data['test-AUC-mean'].idxmax()  # получаем лучшее количество итераций\n",
    "n_iters"
   ]
  },
  {
   "cell_type": "code",
   "execution_count": 54,
   "metadata": {},
   "outputs": [
    {
     "data": {
      "text/plain": [
       "741"
      ]
     },
     "execution_count": 54,
     "metadata": {},
     "output_type": "execute_result"
    }
   ],
   "source": [
    "n_iters = cv_data[cv_data['test-AUC-mean'] == cv_data['test-AUC-mean'].max()]['iterations'].values[0] # получаем лучшее количество итераций\n",
    "n_iters"
   ]
  },
  {
   "cell_type": "markdown",
   "metadata": {},
   "source": [
    "    когда получили необходимое количество итераций для модели, для лучшего результата, обучаем заново с количеством итераций"
   ]
  },
  {
   "cell_type": "code",
   "execution_count": 55,
   "metadata": {},
   "outputs": [],
   "source": [
    "params = {\n",
    "            'iterations':n_iters,# получаем лучшее количество итераций\n",
    "          'verbose':100,\n",
    "          'eval_metric':'AUC',\n",
    "          'loss_function': 'Logloss',\n",
    "          'random_seed':42,\n",
    "          'learning_rate':0.01}"
   ]
  },
  {
   "cell_type": "code",
   "execution_count": 56,
   "metadata": {},
   "outputs": [],
   "source": [
    "model = CatBoostClassifier(**params) # создаем новую модель с лучшими параметрами"
   ]
  },
  {
   "cell_type": "code",
   "execution_count": 57,
   "metadata": {},
   "outputs": [
    {
     "name": "stdout",
     "output_type": "stream",
     "text": [
      "0:\ttotal: 3.33ms\tremaining: 2.46s\n",
      "100:\ttotal: 308ms\tremaining: 1.95s\n",
      "200:\ttotal: 586ms\tremaining: 1.57s\n",
      "300:\ttotal: 871ms\tremaining: 1.27s\n",
      "400:\ttotal: 1.17s\tremaining: 989ms\n",
      "500:\ttotal: 1.45s\tremaining: 694ms\n",
      "600:\ttotal: 1.81s\tremaining: 422ms\n",
      "700:\ttotal: 2.21s\tremaining: 126ms\n",
      "740:\ttotal: 2.35s\tremaining: 0us\n"
     ]
    },
    {
     "data": {
      "text/plain": [
       "<catboost.core.CatBoostClassifier at 0x7d518c67d010>"
      ]
     },
     "execution_count": 57,
     "metadata": {},
     "output_type": "execute_result"
    }
   ],
   "source": [
    "model.fit(train_full_data) # обучаем модель на полных данных"
   ]
  },
  {
   "cell_type": "code",
   "execution_count": 58,
   "metadata": {},
   "outputs": [],
   "source": [
    "test['y_score_cross_val'] = model.predict_proba(test_data)[:,1] # предсказываем вероятности на тесте"
   ]
  },
  {
   "cell_type": "code",
   "execution_count": 59,
   "metadata": {},
   "outputs": [],
   "source": [
    "from sklearn.metrics import roc_auc_score\n"
   ]
  },
  {
   "cell_type": "code",
   "execution_count": 61,
   "metadata": {},
   "outputs": [
    {
     "data": {
      "text/plain": [
       "0.8735839074822127"
      ]
     },
     "execution_count": 61,
     "metadata": {},
     "output_type": "execute_result"
    }
   ],
   "source": [
    "roc_auc_score(test['Exited'],test['y_score_no_cross_val'])\n"
   ]
  },
  {
   "cell_type": "code",
   "execution_count": 60,
   "metadata": {},
   "outputs": [
    {
     "data": {
      "text/plain": [
       "0.8737196364315009"
      ]
     },
     "execution_count": 60,
     "metadata": {},
     "output_type": "execute_result"
    }
   ],
   "source": [
    "roc_auc_score(test['Exited'],test['y_score_cross_val']) # считаем AUC на тесте"
   ]
  },
  {
   "cell_type": "markdown",
   "metadata": {},
   "source": [
    "    здесь особо улучшения нет. но более уверенный подход. и в меньшей степени зависим от рандома"
   ]
  },
  {
   "cell_type": "markdown",
   "metadata": {},
   "source": [
    "# Побдбор гиперпараметров\n",
    "    кетбуст прекрасно работает без предворительной настройки.\n",
    "    но можно и самому перебрать какие то параметры. можно посмотреть все параметры и перебирать различныые комбинации и искать \n",
    "    комбинацию где будет лучшее качество. и для этого есть спец функция grid_search\n",
    "https://github.com/catboost/catboost/blob/master/catboost/tutorials/events/2020_06_04_catboost_tutorial/catboost_features.ipynb\n",
    "\n",
    "https://youtu.be/ZaP5qFSIcIw?t=2043\n",
    "\n",
    "https://github.com/catboost/catboost/blob/master/catboost/tutorials/hyperparameters_tuning/hyperparameters_tuning.ipynb"
   ]
  },
  {
   "cell_type": "code",
   "execution_count": 62,
   "metadata": {},
   "outputs": [
    {
     "data": {
      "text/plain": [
       "{'nan_mode': 'Min',\n",
       " 'eval_metric': 'AUC',\n",
       " 'combinations_ctr': ['Borders:CtrBorderCount=15:CtrBorderType=Uniform:TargetBorderCount=1:TargetBorderType=MinEntropy:Prior=0/1:Prior=0.5/1:Prior=1/1',\n",
       "  'Counter:CtrBorderCount=15:CtrBorderType=Uniform:Prior=0/1'],\n",
       " 'iterations': 741,\n",
       " 'sampling_frequency': 'PerTree',\n",
       " 'fold_permutation_block': 0,\n",
       " 'leaf_estimation_method': 'Newton',\n",
       " 'random_score_type': 'NormalWithModelSizeDecrease',\n",
       " 'counter_calc_method': 'SkipTest',\n",
       " 'grow_policy': 'SymmetricTree',\n",
       " 'penalties_coefficient': 1,\n",
       " 'boosting_type': 'Plain',\n",
       " 'model_shrink_mode': 'Constant',\n",
       " 'feature_border_type': 'GreedyLogSum',\n",
       " 'ctr_leaf_count_limit': 18446744073709551615,\n",
       " 'bayesian_matrix_reg': 0.10000000149011612,\n",
       " 'one_hot_max_size': 2,\n",
       " 'eval_fraction': 0,\n",
       " 'force_unit_auto_pair_weights': False,\n",
       " 'l2_leaf_reg': 3,\n",
       " 'random_strength': 1,\n",
       " 'rsm': 1,\n",
       " 'boost_from_average': False,\n",
       " 'max_ctr_complexity': 4,\n",
       " 'model_size_reg': 0.5,\n",
       " 'simple_ctr': ['Borders:CtrBorderCount=15:CtrBorderType=Uniform:TargetBorderCount=1:TargetBorderType=MinEntropy:Prior=0/1:Prior=0.5/1:Prior=1/1',\n",
       "  'Counter:CtrBorderCount=15:CtrBorderType=Uniform:Prior=0/1'],\n",
       " 'pool_metainfo_options': {'tags': {}},\n",
       " 'subsample': 0.800000011920929,\n",
       " 'use_best_model': False,\n",
       " 'class_names': [0, 1],\n",
       " 'random_seed': 42,\n",
       " 'depth': 6,\n",
       " 'ctr_target_border_count': 1,\n",
       " 'posterior_sampling': False,\n",
       " 'has_time': False,\n",
       " 'store_all_simple_ctr': False,\n",
       " 'border_count': 254,\n",
       " 'classes_count': 0,\n",
       " 'auto_class_weights': 'None',\n",
       " 'sparse_features_conflict_fraction': 0,\n",
       " 'leaf_estimation_backtracking': 'AnyImprovement',\n",
       " 'best_model_min_trees': 1,\n",
       " 'model_shrink_rate': 0,\n",
       " 'min_data_in_leaf': 1,\n",
       " 'loss_function': 'Logloss',\n",
       " 'learning_rate': 0.009999999776482582,\n",
       " 'score_function': 'Cosine',\n",
       " 'task_type': 'CPU',\n",
       " 'leaf_estimation_iterations': 10,\n",
       " 'bootstrap_type': 'MVS',\n",
       " 'max_leaves': 64,\n",
       " 'permutation_count': 4}"
      ]
     },
     "execution_count": 62,
     "metadata": {},
     "output_type": "execute_result"
    }
   ],
   "source": [
    "model.get_all_params() # получаем все параметры модели"
   ]
  },
  {
   "cell_type": "code",
   "execution_count": 63,
   "metadata": {},
   "outputs": [],
   "source": [
    "# это параметры которые изменять не будем\n",
    "params = {'verbose':100,\n",
    "          'eval_metric':'AUC',\n",
    "          'loss_function': 'Logloss',\n",
    "          'random_seed':42}"
   ]
  },
  {
   "cell_type": "code",
   "execution_count": 64,
   "metadata": {},
   "outputs": [],
   "source": [
    "model = CatBoostClassifier(**params) # создаем модель"
   ]
  },
  {
   "cell_type": "code",
   "execution_count": 67,
   "metadata": {},
   "outputs": [],
   "source": [
    "# сама сетка параметров. буду перебирать два значения learning_rate и два значения depth. Всего 4 комбинации\n",
    "# будет построено 4 модели и найдется наилучшее качество\n",
    "grid = {'learning_rate': [0.01, 0.1],\n",
    "        'depth': [5, 6]}"
   ]
  },
  {
   "cell_type": "code",
   "execution_count": 68,
   "metadata": {},
   "outputs": [
    {
     "name": "stdout",
     "output_type": "stream",
     "text": [
      "0:\ttest: 0.7811641\tbest: 0.7811641 (0)\ttotal: 18.3ms\tremaining: 18.3s\n",
      "100:\ttest: 0.8435462\tbest: 0.8435769 (99)\ttotal: 626ms\tremaining: 5.58s\n",
      "200:\ttest: 0.8508923\tbest: 0.8508923 (200)\ttotal: 1.15s\tremaining: 4.56s\n",
      "300:\ttest: 0.8547897\tbest: 0.8547897 (300)\ttotal: 1.63s\tremaining: 3.78s\n",
      "400:\ttest: 0.8569385\tbest: 0.8569385 (400)\ttotal: 2.08s\tremaining: 3.11s\n",
      "500:\ttest: 0.8576410\tbest: 0.8576410 (500)\ttotal: 2.58s\tremaining: 2.57s\n",
      "600:\ttest: 0.8585538\tbest: 0.8585538 (600)\ttotal: 3.07s\tremaining: 2.04s\n",
      "700:\ttest: 0.8590923\tbest: 0.8591487 (694)\ttotal: 3.59s\tremaining: 1.53s\n",
      "800:\ttest: 0.8593590\tbest: 0.8595564 (749)\ttotal: 4.06s\tremaining: 1.01s\n",
      "900:\ttest: 0.8593282\tbest: 0.8595564 (749)\ttotal: 4.55s\tremaining: 500ms\n",
      "999:\ttest: 0.8593897\tbest: 0.8595974 (986)\ttotal: 5.04s\tremaining: 0us\n",
      "\n",
      "bestTest = 0.8595974359\n",
      "bestIteration = 986\n",
      "\n",
      "Metric AUC is not calculated on train by default. To calculate this metric on train, add hints=skip_train~false to metric parameters.\n",
      "0:\ttest: 0.7811641\tbest: 0.7811641 (0)\ttotal: 3.59ms\tremaining: 3.59s\n",
      "100:\ttest: 0.8601513\tbest: 0.8604077 (89)\ttotal: 449ms\tremaining: 4s\n",
      "200:\ttest: 0.8557769\tbest: 0.8609103 (111)\ttotal: 978ms\tremaining: 3.89s\n",
      "300:\ttest: 0.8521564\tbest: 0.8609103 (111)\ttotal: 1.54s\tremaining: 3.59s\n",
      "400:\ttest: 0.8456949\tbest: 0.8609103 (111)\ttotal: 2.24s\tremaining: 3.34s\n",
      "500:\ttest: 0.8432923\tbest: 0.8609103 (111)\ttotal: 2.77s\tremaining: 2.75s\n",
      "600:\ttest: 0.8407359\tbest: 0.8609103 (111)\ttotal: 3.14s\tremaining: 2.09s\n",
      "700:\ttest: 0.8388282\tbest: 0.8609103 (111)\ttotal: 3.53s\tremaining: 1.5s\n",
      "800:\ttest: 0.8358282\tbest: 0.8609103 (111)\ttotal: 3.93s\tremaining: 976ms\n",
      "900:\ttest: 0.8356949\tbest: 0.8609103 (111)\ttotal: 4.35s\tremaining: 478ms\n",
      "999:\ttest: 0.8335590\tbest: 0.8609103 (111)\ttotal: 4.73s\tremaining: 0us\n",
      "\n",
      "bestTest = 0.8609102564\n",
      "bestIteration = 111\n",
      "\n",
      "Metric AUC is not calculated on train by default. To calculate this metric on train, add hints=skip_train~false to metric parameters.\n",
      "0:\ttest: 0.8068872\tbest: 0.8068872 (0)\ttotal: 3.87ms\tremaining: 3.86s\n",
      "100:\ttest: 0.8455590\tbest: 0.8455590 (100)\ttotal: 505ms\tremaining: 4.49s\n",
      "200:\ttest: 0.8530923\tbest: 0.8530923 (200)\ttotal: 878ms\tremaining: 3.49s\n",
      "300:\ttest: 0.8563026\tbest: 0.8563410 (292)\ttotal: 1.26s\tremaining: 2.92s\n",
      "400:\ttest: 0.8578000\tbest: 0.8578385 (398)\ttotal: 1.61s\tremaining: 2.41s\n",
      "500:\ttest: 0.8583872\tbest: 0.8584821 (476)\ttotal: 1.99s\tremaining: 1.98s\n",
      "600:\ttest: 0.8588821\tbest: 0.8589487 (593)\ttotal: 2.34s\tremaining: 1.55s\n",
      "700:\ttest: 0.8587308\tbest: 0.8590282 (605)\ttotal: 2.75s\tremaining: 1.17s\n",
      "800:\ttest: 0.8584744\tbest: 0.8590282 (605)\ttotal: 3.17s\tremaining: 788ms\n",
      "900:\ttest: 0.8583590\tbest: 0.8590282 (605)\ttotal: 3.57s\tremaining: 392ms\n",
      "999:\ttest: 0.8581103\tbest: 0.8590282 (605)\ttotal: 3.96s\tremaining: 0us\n",
      "\n",
      "bestTest = 0.8590282051\n",
      "bestIteration = 605\n",
      "\n",
      "Metric AUC is not calculated on train by default. To calculate this metric on train, add hints=skip_train~false to metric parameters.\n",
      "0:\ttest: 0.8068872\tbest: 0.8068872 (0)\ttotal: 3.95ms\tremaining: 3.95s\n",
      "100:\ttest: 0.8554795\tbest: 0.8574051 (69)\ttotal: 446ms\tremaining: 3.97s\n",
      "200:\ttest: 0.8486359\tbest: 0.8574051 (69)\ttotal: 827ms\tremaining: 3.29s\n",
      "300:\ttest: 0.8455051\tbest: 0.8574051 (69)\ttotal: 1.25s\tremaining: 2.91s\n",
      "400:\ttest: 0.8399846\tbest: 0.8574051 (69)\ttotal: 1.67s\tremaining: 2.49s\n",
      "500:\ttest: 0.8388077\tbest: 0.8574051 (69)\ttotal: 2.13s\tremaining: 2.12s\n",
      "600:\ttest: 0.8364026\tbest: 0.8574051 (69)\ttotal: 2.52s\tremaining: 1.67s\n",
      "700:\ttest: 0.8340974\tbest: 0.8574051 (69)\ttotal: 2.93s\tremaining: 1.25s\n",
      "800:\ttest: 0.8320769\tbest: 0.8574051 (69)\ttotal: 3.35s\tremaining: 832ms\n",
      "900:\ttest: 0.8298923\tbest: 0.8574051 (69)\ttotal: 3.75s\tremaining: 413ms\n",
      "999:\ttest: 0.8302846\tbest: 0.8574051 (69)\ttotal: 4.16s\tremaining: 0us\n",
      "\n",
      "bestTest = 0.8574051282\n",
      "bestIteration = 69\n",
      "\n",
      "Metric AUC is not calculated on train by default. To calculate this metric on train, add hints=skip_train~false to metric parameters.\n",
      "Training on fold [0/3]\n",
      "0:\ttest: 0.8023131\tbest: 0.8023131 (0)\ttotal: 18.8ms\tremaining: 18.8s\n",
      "100:\ttest: 0.8696792\tbest: 0.8705039 (90)\ttotal: 367ms\tremaining: 3.27s\n",
      "200:\ttest: 0.8691616\tbest: 0.8705039 (90)\ttotal: 731ms\tremaining: 2.9s\n",
      "300:\ttest: 0.8649927\tbest: 0.8705039 (90)\ttotal: 1.09s\tremaining: 2.53s\n",
      "400:\ttest: 0.8618130\tbest: 0.8705039 (90)\ttotal: 1.47s\tremaining: 2.19s\n",
      "500:\ttest: 0.8585372\tbest: 0.8705039 (90)\ttotal: 1.84s\tremaining: 1.84s\n",
      "600:\ttest: 0.8560785\tbest: 0.8705039 (90)\ttotal: 2.21s\tremaining: 1.47s\n",
      "700:\ttest: 0.8535254\tbest: 0.8705039 (90)\ttotal: 2.58s\tremaining: 1.1s\n",
      "800:\ttest: 0.8519736\tbest: 0.8705039 (90)\ttotal: 2.95s\tremaining: 733ms\n",
      "900:\ttest: 0.8499848\tbest: 0.8705039 (90)\ttotal: 3.31s\tremaining: 363ms\n",
      "999:\ttest: 0.8481197\tbest: 0.8705039 (90)\ttotal: 3.68s\tremaining: 0us\n",
      "\n",
      "bestTest = 0.8705039396\n",
      "bestIteration = 90\n",
      "\n",
      "Training on fold [1/3]\n",
      "0:\ttest: 0.7921723\tbest: 0.7921723 (0)\ttotal: 3.93ms\tremaining: 3.93s\n",
      "100:\ttest: 0.8705982\tbest: 0.8712713 (94)\ttotal: 363ms\tremaining: 3.23s\n",
      "200:\ttest: 0.8665098\tbest: 0.8712713 (94)\ttotal: 723ms\tremaining: 2.88s\n",
      "300:\ttest: 0.8628075\tbest: 0.8712713 (94)\ttotal: 1.11s\tremaining: 2.58s\n",
      "400:\ttest: 0.8613719\tbest: 0.8712713 (94)\ttotal: 1.62s\tremaining: 2.41s\n",
      "500:\ttest: 0.8585821\tbest: 0.8712713 (94)\ttotal: 1.92s\tremaining: 1.91s\n",
      "600:\ttest: 0.8552467\tbest: 0.8712713 (94)\ttotal: 2.23s\tremaining: 1.48s\n",
      "700:\ttest: 0.8529644\tbest: 0.8712713 (94)\ttotal: 2.56s\tremaining: 1.09s\n",
      "800:\ttest: 0.8514316\tbest: 0.8712713 (94)\ttotal: 2.87s\tremaining: 714ms\n",
      "900:\ttest: 0.8502718\tbest: 0.8712713 (94)\ttotal: 3.22s\tremaining: 354ms\n",
      "999:\ttest: 0.8486688\tbest: 0.8712713 (94)\ttotal: 3.55s\tremaining: 0us\n",
      "\n",
      "bestTest = 0.8712713255\n",
      "bestIteration = 94\n",
      "\n",
      "Training on fold [2/3]\n",
      "0:\ttest: 0.7876129\tbest: 0.7876129 (0)\ttotal: 2.63ms\tremaining: 2.63s\n",
      "100:\ttest: 0.8656068\tbest: 0.8656805 (98)\ttotal: 290ms\tremaining: 2.58s\n",
      "200:\ttest: 0.8618255\tbest: 0.8657300 (108)\ttotal: 615ms\tremaining: 2.44s\n",
      "300:\ttest: 0.8583852\tbest: 0.8657300 (108)\ttotal: 974ms\tremaining: 2.26s\n",
      "400:\ttest: 0.8567639\tbest: 0.8657300 (108)\ttotal: 1.33s\tremaining: 1.98s\n",
      "500:\ttest: 0.8542379\tbest: 0.8657300 (108)\ttotal: 1.69s\tremaining: 1.68s\n",
      "600:\ttest: 0.8524682\tbest: 0.8657300 (108)\ttotal: 2.05s\tremaining: 1.36s\n",
      "700:\ttest: 0.8516927\tbest: 0.8657300 (108)\ttotal: 2.4s\tremaining: 1.02s\n",
      "800:\ttest: 0.8481899\tbest: 0.8657300 (108)\ttotal: 2.76s\tremaining: 687ms\n",
      "900:\ttest: 0.8458981\tbest: 0.8657300 (108)\ttotal: 3.15s\tremaining: 346ms\n",
      "999:\ttest: 0.8452310\tbest: 0.8657300 (108)\ttotal: 3.5s\tremaining: 0us\n",
      "\n",
      "bestTest = 0.8657299818\n",
      "bestIteration = 108\n",
      "\n"
     ]
    }
   ],
   "source": [
    "result = model.grid_search(grid, train_full_data, verbose=False)\n"
   ]
  },
  {
   "cell_type": "code",
   "execution_count": 69,
   "metadata": {},
   "outputs": [
    {
     "data": {
      "text/plain": [
       "{'depth': 5, 'learning_rate': 0.1}"
      ]
     },
     "execution_count": 69,
     "metadata": {},
     "output_type": "execute_result"
    }
   ],
   "source": [
    "result['params'] # лучшие параметры"
   ]
  },
  {
   "cell_type": "code",
   "execution_count": 72,
   "metadata": {},
   "outputs": [
    {
     "data": {
      "text/plain": [
       "dict_keys(['params', 'cv_results'])"
      ]
     },
     "execution_count": 72,
     "metadata": {},
     "output_type": "execute_result"
    }
   ],
   "source": [
    "result.keys() # ключи словаря"
   ]
  },
  {
   "cell_type": "code",
   "execution_count": 74,
   "metadata": {},
   "outputs": [
    {
     "data": {
      "text/html": [
       "<div>\n",
       "<style scoped>\n",
       "    .dataframe tbody tr th:only-of-type {\n",
       "        vertical-align: middle;\n",
       "    }\n",
       "\n",
       "    .dataframe tbody tr th {\n",
       "        vertical-align: top;\n",
       "    }\n",
       "\n",
       "    .dataframe thead th {\n",
       "        text-align: right;\n",
       "    }\n",
       "</style>\n",
       "<table border=\"1\" class=\"dataframe\">\n",
       "  <thead>\n",
       "    <tr style=\"text-align: right;\">\n",
       "      <th></th>\n",
       "      <th>iterations</th>\n",
       "      <th>test-AUC-mean</th>\n",
       "      <th>test-AUC-std</th>\n",
       "      <th>test-Logloss-mean</th>\n",
       "      <th>test-Logloss-std</th>\n",
       "      <th>train-Logloss-mean</th>\n",
       "      <th>train-Logloss-std</th>\n",
       "    </tr>\n",
       "  </thead>\n",
       "  <tbody>\n",
       "    <tr>\n",
       "      <th>0</th>\n",
       "      <td>0</td>\n",
       "      <td>0.794033</td>\n",
       "      <td>0.007525</td>\n",
       "      <td>0.621375</td>\n",
       "      <td>0.000656</td>\n",
       "      <td>0.620684</td>\n",
       "      <td>0.000356</td>\n",
       "    </tr>\n",
       "    <tr>\n",
       "      <th>1</th>\n",
       "      <td>1</td>\n",
       "      <td>0.821947</td>\n",
       "      <td>0.006043</td>\n",
       "      <td>0.570002</td>\n",
       "      <td>0.000726</td>\n",
       "      <td>0.568969</td>\n",
       "      <td>0.001325</td>\n",
       "    </tr>\n",
       "    <tr>\n",
       "      <th>2</th>\n",
       "      <td>2</td>\n",
       "      <td>0.826858</td>\n",
       "      <td>0.007129</td>\n",
       "      <td>0.522675</td>\n",
       "      <td>0.000119</td>\n",
       "      <td>0.521057</td>\n",
       "      <td>0.001166</td>\n",
       "    </tr>\n",
       "    <tr>\n",
       "      <th>3</th>\n",
       "      <td>3</td>\n",
       "      <td>0.829708</td>\n",
       "      <td>0.005292</td>\n",
       "      <td>0.488722</td>\n",
       "      <td>0.002229</td>\n",
       "      <td>0.486886</td>\n",
       "      <td>0.003132</td>\n",
       "    </tr>\n",
       "    <tr>\n",
       "      <th>4</th>\n",
       "      <td>4</td>\n",
       "      <td>0.830411</td>\n",
       "      <td>0.004700</td>\n",
       "      <td>0.465270</td>\n",
       "      <td>0.004627</td>\n",
       "      <td>0.463165</td>\n",
       "      <td>0.005160</td>\n",
       "    </tr>\n",
       "    <tr>\n",
       "      <th>...</th>\n",
       "      <td>...</td>\n",
       "      <td>...</td>\n",
       "      <td>...</td>\n",
       "      <td>...</td>\n",
       "      <td>...</td>\n",
       "      <td>...</td>\n",
       "      <td>...</td>\n",
       "    </tr>\n",
       "    <tr>\n",
       "      <th>995</th>\n",
       "      <td>995</td>\n",
       "      <td>0.847281</td>\n",
       "      <td>0.001760</td>\n",
       "      <td>0.373010</td>\n",
       "      <td>0.007753</td>\n",
       "      <td>0.107246</td>\n",
       "      <td>0.002632</td>\n",
       "    </tr>\n",
       "    <tr>\n",
       "      <th>996</th>\n",
       "      <td>996</td>\n",
       "      <td>0.847242</td>\n",
       "      <td>0.001793</td>\n",
       "      <td>0.373098</td>\n",
       "      <td>0.007737</td>\n",
       "      <td>0.107100</td>\n",
       "      <td>0.002649</td>\n",
       "    </tr>\n",
       "    <tr>\n",
       "      <th>997</th>\n",
       "      <td>997</td>\n",
       "      <td>0.847240</td>\n",
       "      <td>0.001734</td>\n",
       "      <td>0.373108</td>\n",
       "      <td>0.007770</td>\n",
       "      <td>0.106980</td>\n",
       "      <td>0.002636</td>\n",
       "    </tr>\n",
       "    <tr>\n",
       "      <th>998</th>\n",
       "      <td>998</td>\n",
       "      <td>0.847244</td>\n",
       "      <td>0.001777</td>\n",
       "      <td>0.373106</td>\n",
       "      <td>0.007897</td>\n",
       "      <td>0.106844</td>\n",
       "      <td>0.002673</td>\n",
       "    </tr>\n",
       "    <tr>\n",
       "      <th>999</th>\n",
       "      <td>999</td>\n",
       "      <td>0.847340</td>\n",
       "      <td>0.001847</td>\n",
       "      <td>0.373049</td>\n",
       "      <td>0.007962</td>\n",
       "      <td>0.106745</td>\n",
       "      <td>0.002694</td>\n",
       "    </tr>\n",
       "  </tbody>\n",
       "</table>\n",
       "<p>1000 rows × 7 columns</p>\n",
       "</div>"
      ],
      "text/plain": [
       "     iterations  test-AUC-mean  test-AUC-std  test-Logloss-mean  \\\n",
       "0             0       0.794033      0.007525           0.621375   \n",
       "1             1       0.821947      0.006043           0.570002   \n",
       "2             2       0.826858      0.007129           0.522675   \n",
       "3             3       0.829708      0.005292           0.488722   \n",
       "4             4       0.830411      0.004700           0.465270   \n",
       "..          ...            ...           ...                ...   \n",
       "995         995       0.847281      0.001760           0.373010   \n",
       "996         996       0.847242      0.001793           0.373098   \n",
       "997         997       0.847240      0.001734           0.373108   \n",
       "998         998       0.847244      0.001777           0.373106   \n",
       "999         999       0.847340      0.001847           0.373049   \n",
       "\n",
       "     test-Logloss-std  train-Logloss-mean  train-Logloss-std  \n",
       "0            0.000656            0.620684           0.000356  \n",
       "1            0.000726            0.568969           0.001325  \n",
       "2            0.000119            0.521057           0.001166  \n",
       "3            0.002229            0.486886           0.003132  \n",
       "4            0.004627            0.463165           0.005160  \n",
       "..                ...                 ...                ...  \n",
       "995          0.007753            0.107246           0.002632  \n",
       "996          0.007737            0.107100           0.002649  \n",
       "997          0.007770            0.106980           0.002636  \n",
       "998          0.007897            0.106844           0.002673  \n",
       "999          0.007962            0.106745           0.002694  \n",
       "\n",
       "[1000 rows x 7 columns]"
      ]
     },
     "execution_count": 74,
     "metadata": {},
     "output_type": "execute_result"
    }
   ],
   "source": [
    "pd.DataFrame(result['cv_results'])"
   ]
  },
  {
   "cell_type": "code",
   "execution_count": 75,
   "metadata": {},
   "outputs": [
    {
     "data": {
      "text/plain": [
       "0.8689660773549619"
      ]
     },
     "execution_count": 75,
     "metadata": {},
     "output_type": "execute_result"
    }
   ],
   "source": [
    "pd.DataFrame(result['cv_results'])['test-AUC-mean'].max()\n"
   ]
  },
  {
   "cell_type": "markdown",
   "metadata": {},
   "source": [
    "# Sklearn princips\n",
    "https://towardsdatascience.com/how-to-use-sklearn-pipelines-for-ridiculously-neat-code-a61ab66ca90d\n",
    "\n",
    "\n",
    "\n",
    "    особо не используют, но знать надо. так как там есть не только модели, но методы как обрабатывать данные\n",
    "    \n",
    "    Scikit-learn (sklearn) широко используется для задач машинного обучения, особенно в начальных и средних этапах обучения и разработки.\n",
    "\n",
    "    Он предоставляет не только модели для классификации, регрессии, кластеризации и т.д., но и множество инструментов для обработки данных — таких как нормализация, масштабирование, разбиение на тренировочные и тестовые данные, кросс-валидация и другие."
   ]
  },
  {
   "cell_type": "markdown",
   "metadata": {},
   "source": [
    "# Преодбработка и фичеинжениринг\n",
    "https://catboost.ai/en/docs/concepts/quantization\n",
    "\n",
    "https://www.kaggle.com/learn/feature-engineering\n",
    "\n",
    "\n",
    "    для кетбуста предобратока не нужна. не нужно масштабировать данные. \n",
    "\n",
    "    для кетбуста есть другая предобработка, называется квантизация, разбивка на диапазоны, будет легче обучаться. \n",
    "\n",
    "    фичинжениринг, означает создание новых фичей на основе имеющхся. например поделить одну фичи на другую и получить новую\n",
    "    например есть две фичи (возраст и зарплата) мы их делим и получаем третью фичю\n",
    "\n",
    "    часто генерируем большое количество фичей, и смотрим что получается"
   ]
  },
  {
   "cell_type": "markdown",
   "metadata": {},
   "source": [
    "# Калибровка\n",
    "https://www.kaggle.com/residentmario/notes-on-classification-probability-calibration\n",
    "\n",
    "получаем скоры. они могут соответсвоить вероятности а могут нет. И вот если они не соответсвуют вероятности, делаем калибровку."
   ]
  },
  {
   "cell_type": "markdown",
   "metadata": {},
   "source": [
    "# Catboost, тексты и эмбеддинги\n",
    "\n",
    "https://github.com/catboost/catboost/blob/master/catboost/tutorials/events/2020_06_04_catboost_tutorial/text_features.ipynb\n",
    "\n",
    "https://youtu.be/ZaP5qFSIcIw?t=3802\n",
    "\n",
    "\n",
    "в кетбуст есть встроенная обработка текстов. если фича имеет текст, то можно прям так скормить  кетбусту. И лучше подключить видеокарту в этом случае.\n",
    "\n",
    "в кетбусте есть возможность обработки ембедингов"
   ]
  },
  {
   "cell_type": "markdown",
   "metadata": {},
   "source": [
    "\n",
    "# Главные навыки для аналитика\n",
    "    SQL\n",
    "\n",
    "    pandas\n",
    "\n",
    "    Основы статистики (AB тесты)\n",
    "\n",
    "# Главные навыки для Дата Саентиста\n",
    "    Все то же, что и у аналитика\n",
    "\n",
    "    Машинное обучение (sklearn, catboost)\n",
    "\n",
    "    более продвинутый python (основы ООП)\n",
    "    \n",
    "    linux, git, docker, веб-сервисы"
   ]
  },
  {
   "cell_type": "markdown",
   "metadata": {},
   "source": []
  }
 ],
 "metadata": {
  "kernelspec": {
   "display_name": "base",
   "language": "python",
   "name": "python3"
  },
  "language_info": {
   "codemirror_mode": {
    "name": "ipython",
    "version": 3
   },
   "file_extension": ".py",
   "mimetype": "text/x-python",
   "name": "python",
   "nbconvert_exporter": "python",
   "pygments_lexer": "ipython3",
   "version": "3.11.7"
  }
 },
 "nbformat": 4,
 "nbformat_minor": 2
}
