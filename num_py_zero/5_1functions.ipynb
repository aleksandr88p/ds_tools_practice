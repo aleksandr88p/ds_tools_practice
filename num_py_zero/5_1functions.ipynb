{
 "cells": [
  {
   "cell_type": "markdown",
   "metadata": {},
   "source": [
    "1. [functions 1](#functions-1)\n",
    "2. [functions 2(mean,floor, ceil etc)](#functions-2)\n",
    "5. [tasks](#tasks-1)"
   ]
  },
  {
   "cell_type": "markdown",
   "metadata": {},
   "source": [
    "# functions 1"
   ]
  },
  {
   "cell_type": "code",
   "execution_count": 1,
   "metadata": {},
   "outputs": [],
   "source": [
    "import numpy as np"
   ]
  },
  {
   "cell_type": "code",
   "execution_count": 2,
   "metadata": {},
   "outputs": [
    {
     "data": {
      "text/plain": [
       "array([[ 1,  2,  3],\n",
       "       [ 0,  6,  8],\n",
       "       [ 0, -3,  6],\n",
       "       [ 6,  6,  6]])"
      ]
     },
     "execution_count": 2,
     "metadata": {},
     "output_type": "execute_result"
    }
   ],
   "source": [
    "scores = np.array([[1,2,3],\n",
    "                   [0,6,8],\n",
    "                   [0,-3,6],\n",
    "                   [6,6,6]])\n",
    "scores"
   ]
  },
  {
   "cell_type": "code",
   "execution_count": 5,
   "metadata": {},
   "outputs": [
    {
     "name": "stderr",
     "output_type": "stream",
     "text": [
      "/tmp/ipykernel_5348/2983284240.py:2: RuntimeWarning: invalid value encountered in power\n",
      "  scores ** (1/2), np.sqrt(scores)\n",
      "/tmp/ipykernel_5348/2983284240.py:2: RuntimeWarning: invalid value encountered in sqrt\n",
      "  scores ** (1/2), np.sqrt(scores)\n"
     ]
    },
    {
     "data": {
      "text/plain": [
       "(array([[1.        , 1.41421356, 1.73205081],\n",
       "        [0.        , 2.44948974, 2.82842712],\n",
       "        [0.        ,        nan, 2.44948974],\n",
       "        [2.44948974, 2.44948974, 2.44948974]]),\n",
       " array([[1.        , 1.41421356, 1.73205081],\n",
       "        [0.        , 2.44948974, 2.82842712],\n",
       "        [0.        ,        nan, 2.44948974],\n",
       "        [2.44948974, 2.44948974, 2.44948974]]))"
      ]
     },
     "execution_count": 5,
     "metadata": {},
     "output_type": "execute_result"
    }
   ],
   "source": [
    "# посчитать корень. \n",
    "scores ** (1/2), np.sqrt(scores)"
   ]
  },
  {
   "cell_type": "code",
   "execution_count": 7,
   "metadata": {},
   "outputs": [
    {
     "data": {
      "text/plain": [
       "(array([[1, 2, 3],\n",
       "        [0, 6, 8],\n",
       "        [0, 3, 6],\n",
       "        [6, 6, 6]]),\n",
       " array([[1, 2, 3],\n",
       "        [0, 6, 8],\n",
       "        [0, 3, 6],\n",
       "        [6, 6, 6]]),\n",
       " array([[ 1,  2,  3],\n",
       "        [ 0,  6,  8],\n",
       "        [ 0, -3,  6],\n",
       "        [ 6,  6,  6]]))"
      ]
     },
     "execution_count": 7,
     "metadata": {},
     "output_type": "execute_result"
    }
   ],
   "source": [
    "# abs что делает? - вычисляет модуль. Модуль числа - это число без знака. тоесть если число с минусом, то модуль это число без минуса.\n",
    "np.abs(scores), abs(scores), scores"
   ]
  },
  {
   "cell_type": "code",
   "execution_count": 16,
   "metadata": {},
   "outputs": [
    {
     "data": {
      "text/plain": [
       "(41, 47, 41)"
      ]
     },
     "execution_count": 16,
     "metadata": {},
     "output_type": "execute_result"
    }
   ],
   "source": [
    "# сумма всех элементов/сумма всех модулей элементов. некоторые функции работают как функции класса\n",
    "np.sum(scores), np.sum(np.abs(scores)), scores.sum()"
   ]
  },
  {
   "cell_type": "code",
   "execution_count": 12,
   "metadata": {},
   "outputs": [
    {
     "data": {
      "text/plain": [
       "41"
      ]
     },
     "execution_count": 12,
     "metadata": {},
     "output_type": "execute_result"
    }
   ],
   "source": [
    "c = 0\n",
    "for i in scores:\n",
    "    for j in i:\n",
    "        c += j\n",
    "\n",
    "c"
   ]
  },
  {
   "cell_type": "code",
   "execution_count": 18,
   "metadata": {},
   "outputs": [
    {
     "data": {
      "text/plain": [
       "(8, -3, 3.4166666666666665, 3.2521360501813095, 10.57638888888889)"
      ]
     },
     "execution_count": 18,
     "metadata": {},
     "output_type": "execute_result"
    }
   ],
   "source": [
    "# максимальное значение, минимальное значение, среднее значение, стандартное отклонение, дисперсия\n",
    "scores.max(), scores.min(), scores.mean(), scores.std(), scores.var()"
   ]
  },
  {
   "cell_type": "code",
   "execution_count": 21,
   "metadata": {},
   "outputs": [
    {
     "data": {
      "text/plain": [
       "(5, 7)"
      ]
     },
     "execution_count": 21,
     "metadata": {},
     "output_type": "execute_result"
    }
   ],
   "source": [
    "# индекс максимального значения/индекс минимального значения\n",
    "np.argmax(scores), np.argmin(scores)"
   ]
  },
  {
   "cell_type": "code",
   "execution_count": 30,
   "metadata": {},
   "outputs": [
    {
     "data": {
      "text/plain": [
       "array([ True, False,  True, False,  True,  True])"
      ]
     },
     "execution_count": 30,
     "metadata": {},
     "output_type": "execute_result"
    }
   ],
   "source": [
    "bm = np.array([1,0,1,0,1,1,], dtype=bool)\n",
    "bm"
   ]
  },
  {
   "cell_type": "code",
   "execution_count": 32,
   "metadata": {},
   "outputs": [
    {
     "data": {
      "text/plain": [
       "4"
      ]
     },
     "execution_count": 32,
     "metadata": {},
     "output_type": "execute_result"
    }
   ],
   "source": [
    "bm.sum() # вернет количество True в массиве"
   ]
  },
  {
   "cell_type": "markdown",
   "metadata": {},
   "source": [
    "# functions 2"
   ]
  },
  {
   "cell_type": "code",
   "execution_count": 60,
   "metadata": {},
   "outputs": [
    {
     "data": {
      "text/plain": [
       "(0.6666666666666666, 3.4166666666666665)"
      ]
     },
     "execution_count": 60,
     "metadata": {},
     "output_type": "execute_result"
    }
   ],
   "source": [
    "bm.mean(), scores.mean() # среднее значение... сумма всех элементов деленное на количество элементов"
   ]
  },
  {
   "cell_type": "code",
   "execution_count": 63,
   "metadata": {},
   "outputs": [
    {
     "data": {
      "text/plain": [
       "(4.5,\n",
       " array([[ 1,  2,  3],\n",
       "        [ 0,  6,  8],\n",
       "        [ 0, -3,  6],\n",
       "        [ 6,  6,  6]]))"
      ]
     },
     "execution_count": 63,
     "metadata": {},
     "output_type": "execute_result"
    }
   ],
   "source": [
    "# медиана - это значение, которое делит выборку на две равные части. \n",
    "# Если в выборке четное количество элементов, то медиана это среднее значение двух средних значений. \n",
    "# А если нечетное, то это среднее значение.\n",
    "np.median(scores), scores"
   ]
  },
  {
   "cell_type": "code",
   "execution_count": 76,
   "metadata": {},
   "outputs": [
    {
     "data": {
      "text/plain": [
       "array([-3,  0,  0,  1,  2,  3,  6,  6,  6,  6,  6,  7,  8])"
      ]
     },
     "execution_count": 76,
     "metadata": {},
     "output_type": "execute_result"
    }
   ],
   "source": [
    "np.sort(np.append(scores.reshape(12), 7)) # сортировка по строкам"
   ]
  },
  {
   "cell_type": "code",
   "execution_count": 77,
   "metadata": {},
   "outputs": [
    {
     "data": {
      "text/plain": [
       "array([[ 1,  2,  3],\n",
       "       [ 0,  6,  8],\n",
       "       [ 0, -3,  6],\n",
       "       [ 6,  6,  6]])"
      ]
     },
     "execution_count": 77,
     "metadata": {},
     "output_type": "execute_result"
    }
   ],
   "source": [
    "scores"
   ]
  },
  {
   "cell_type": "code",
   "execution_count": 79,
   "metadata": {},
   "outputs": [
    {
     "data": {
      "text/plain": [
       "4.5"
      ]
     },
     "execution_count": 79,
     "metadata": {},
     "output_type": "execute_result"
    }
   ],
   "source": [
    "# медиана - это значение, которое делит выборку на две равные части. \n",
    "# Если в выборке четное количество элементов, то медиана - это среднее значение двух средних элементов\n",
    "np.median(scores) "
   ]
  },
  {
   "cell_type": "code",
   "execution_count": 80,
   "metadata": {},
   "outputs": [
    {
     "data": {
      "text/plain": [
       "6.0"
      ]
     },
     "execution_count": 80,
     "metadata": {},
     "output_type": "execute_result"
    }
   ],
   "source": [
    "np.median(np.sort(np.append(scores.reshape(12), 7))) # сортировка по строкам  и медиана"
   ]
  },
  {
   "cell_type": "code",
   "execution_count": 84,
   "metadata": {},
   "outputs": [
    {
     "data": {
      "text/plain": [
       "array([1.1 , 1.9 , 2.5 , 9.  , 2.51])"
      ]
     },
     "execution_count": 84,
     "metadata": {},
     "output_type": "execute_result"
    }
   ],
   "source": [
    "arr = np.array([1.1, 1.9, 2.5, 9, 2.51])\n",
    "arr"
   ]
  },
  {
   "cell_type": "code",
   "execution_count": 85,
   "metadata": {},
   "outputs": [
    {
     "data": {
      "text/plain": [
       "array([1., 2., 2., 9., 3.])"
      ]
     },
     "execution_count": 85,
     "metadata": {},
     "output_type": "execute_result"
    }
   ],
   "source": [
    "np.round(arr) # округление до целого куда ближе к ближайшему целому. если 2.5, то к 2. если 2.6, то к 3"
   ]
  },
  {
   "cell_type": "code",
   "execution_count": 87,
   "metadata": {},
   "outputs": [
    {
     "data": {
      "text/plain": [
       "(array([1, 1, 2, 9, 2]),\n",
       " array([1., 1., 2., 9., 2.]),\n",
       " array([2., 2., 3., 9., 3.]))"
      ]
     },
     "execution_count": 87,
     "metadata": {},
     "output_type": "execute_result"
    }
   ],
   "source": [
    "# а что если надо округлить в меньшую сторону?\n",
    "# astype(int) - приведение к целому числу и отбрасывание дробной части\n",
    "# np.floor - округление в меньшую сторону\n",
    "# np.ceil - округление в большую сторону\n",
    "arr.astype(int), np.floor(arr), np.ceil(arr)"
   ]
  },
  {
   "cell_type": "code",
   "execution_count": 88,
   "metadata": {},
   "outputs": [
    {
     "data": {
      "text/plain": [
       "(2.0, 3.0, 2.0)"
      ]
     },
     "execution_count": 88,
     "metadata": {},
     "output_type": "execute_result"
    }
   ],
   "source": [
    "x = 2.41\n",
    "np.floor(x), np.ceil(x), np.round(x)"
   ]
  },
  {
   "cell_type": "code",
   "execution_count": 89,
   "metadata": {},
   "outputs": [
    {
     "data": {
      "text/plain": [
       "array([[ 1,  2,  3],\n",
       "       [ 0,  6,  8],\n",
       "       [ 0, -3,  6],\n",
       "       [ 6,  6,  6]])"
      ]
     },
     "execution_count": 89,
     "metadata": {},
     "output_type": "execute_result"
    }
   ],
   "source": [
    "scores"
   ]
  },
  {
   "cell_type": "code",
   "execution_count": 93,
   "metadata": {},
   "outputs": [
    {
     "data": {
      "text/plain": [
       "(array([6, 6, 8]), array([3, 8, 6, 6]), 8)"
      ]
     },
     "execution_count": 93,
     "metadata": {},
     "output_type": "execute_result"
    }
   ],
   "source": [
    "# сумма по строкам, сумма по столбцам. axis=0 - столбцы, axis=1 - строки, axis=None - все\n",
    "scores.max(axis=0), scores.max(axis=1), scores.max(axis=None)"
   ]
  },
  {
   "cell_type": "code",
   "execution_count": null,
   "metadata": {},
   "outputs": [],
   "source": []
  },
  {
   "cell_type": "code",
   "execution_count": null,
   "metadata": {},
   "outputs": [],
   "source": []
  },
  {
   "cell_type": "code",
   "execution_count": null,
   "metadata": {},
   "outputs": [],
   "source": []
  },
  {
   "cell_type": "code",
   "execution_count": null,
   "metadata": {},
   "outputs": [],
   "source": []
  },
  {
   "cell_type": "code",
   "execution_count": null,
   "metadata": {},
   "outputs": [],
   "source": []
  },
  {
   "cell_type": "markdown",
   "metadata": {},
   "source": [
    "# Tasks 1\n"
   ]
  },
  {
   "cell_type": "markdown",
   "metadata": {},
   "source": [
    "Программе подается массив 5х5 вещественных чисел. Допишите код так, чтобы программа возвращала сумму квадратов тех элементов массива, которые находятся в нечетных(при нумерации столбцов начинающейся с единицы) столбцах и чьи значения  не превышают 15"
   ]
  },
  {
   "cell_type": "code",
   "execution_count": 35,
   "metadata": {},
   "outputs": [
    {
     "data": {
      "text/plain": [
       "array([[10, 11, 12, 13, 14],\n",
       "       [15, 16, 17, 18, 19],\n",
       "       [20, 21, 22, 23, 24],\n",
       "       [25, 26, 27, 28, 29],\n",
       "       [30, 31, 32, 33, 34]])"
      ]
     },
     "execution_count": 35,
     "metadata": {},
     "output_type": "execute_result"
    }
   ],
   "source": [
    "arr = np.arange(10, 35).reshape(5,5)\n",
    "arr"
   ]
  },
  {
   "cell_type": "code",
   "execution_count": 40,
   "metadata": {},
   "outputs": [
    {
     "data": {
      "text/plain": [
       "array([[False, False],\n",
       "       [ True,  True],\n",
       "       [ True,  True],\n",
       "       [ True,  True],\n",
       "       [ True,  True]])"
      ]
     },
     "execution_count": 40,
     "metadata": {},
     "output_type": "execute_result"
    }
   ],
   "source": [
    "arr[:,1:-1:2] > 15"
   ]
  },
  {
   "cell_type": "code",
   "execution_count": 49,
   "metadata": {},
   "outputs": [
    {
     "data": {
      "text/plain": [
       "440"
      ]
     },
     "execution_count": 49,
     "metadata": {},
     "output_type": "execute_result"
    }
   ],
   "source": [
    "new_arr = arr[:, ::2].copy() # копируем массив и беру только четные столбцы\n",
    "m = new_arr < 15 # беру только те значения которые больше 15\n",
    "new_arr = new_arr[m] ** 2 # возвожу в квадрат все значения которые больше 15\n",
    "new_arr.sum() # суммирую все значения в массиве"
   ]
  },
  {
   "cell_type": "code",
   "execution_count": 50,
   "metadata": {},
   "outputs": [],
   "source": [
    "import numpy as np\n",
    "\n",
    "def solution(arr):\n",
    "    new_arr = arr[:, ::2].copy() # копируем массив и беру только четные столбцы\n",
    "    m = new_arr < 15 # беру только те значения которые больше 15\n",
    "    new_arr = new_arr[m] ** 2 # возвожу в квадрат все значения которые больше 15\n",
    "    summa = new_arr.sum() # суммирую все значения в массиве\n",
    "    return summa"
   ]
  },
  {
   "cell_type": "markdown",
   "metadata": {},
   "source": [
    "Программа получает на вход массив. Допишите код так, чтобы она возвращала номер максимального по модулю значения массива. Нумерация начинается с нуля."
   ]
  },
  {
   "cell_type": "code",
   "execution_count": 52,
   "metadata": {},
   "outputs": [
    {
     "data": {
      "text/plain": [
       "array([[  8,   8,   2,   3,  -8],\n",
       "       [  6,   1,  -9, -10,   2],\n",
       "       [ -2,   8,   4,   5,   3],\n",
       "       [ -8,   0,   8,   3, -10],\n",
       "       [  5,  -5,  -4,  -7,  -7]])"
      ]
     },
     "execution_count": 52,
     "metadata": {},
     "output_type": "execute_result"
    }
   ],
   "source": [
    "# массив рандомный с отрицательными и положительными значениями\n",
    "arr = np.random.randint(-10, 10, size=(5,5))\n",
    "arr"
   ]
  },
  {
   "cell_type": "code",
   "execution_count": 56,
   "metadata": {},
   "outputs": [
    {
     "data": {
      "text/plain": [
       "(8,)"
      ]
     },
     "execution_count": 56,
     "metadata": {},
     "output_type": "execute_result"
    }
   ],
   "source": [
    "np.argmax(np.abs(arr))"
   ]
  },
  {
   "cell_type": "code",
   "execution_count": 57,
   "metadata": {},
   "outputs": [
    {
     "data": {
      "text/plain": [
       "0"
      ]
     },
     "execution_count": 57,
     "metadata": {},
     "output_type": "execute_result"
    }
   ],
   "source": [
    "s = arr.argmax()\n",
    "s"
   ]
  },
  {
   "cell_type": "markdown",
   "metadata": {},
   "source": [
    "На вход подается массив произвольной формы. Умножьте его значения на 4.3, округлите в большую сторону, умножьте на 3.7, а затем округлите в меньшую сторону."
   ]
  },
  {
   "cell_type": "code",
   "execution_count": 96,
   "metadata": {},
   "outputs": [
    {
     "data": {
      "text/plain": [
       "array([1.1 , 1.9 , 2.5 , 9.  , 2.51])"
      ]
     },
     "execution_count": 96,
     "metadata": {},
     "output_type": "execute_result"
    }
   ],
   "source": [
    "arr = np.array([1.1, 1.9, 2.5, 9, 2.51])\n",
    "arr "
   ]
  },
  {
   "cell_type": "code",
   "execution_count": 98,
   "metadata": {},
   "outputs": [
    {
     "data": {
      "text/plain": [
       "array([ 18.,  33.,  40., 144.,  40.])"
      ]
     },
     "execution_count": 98,
     "metadata": {},
     "output_type": "execute_result"
    }
   ],
   "source": [
    "def solution(arr):\n",
    "    arr = arr * 4.3\n",
    "    arr = np.ceil(arr)\n",
    "    arr = arr * 3.7\n",
    "    arr = np.floor(arr)\n",
    "    \n",
    "    # arr =np.floor(np.ceil(arr * 4.3) * 3.7)\n",
    "    return arr \n",
    "\n",
    "solution(arr)"
   ]
  },
  {
   "cell_type": "markdown",
   "metadata": {},
   "source": [
    "На вход подается массив произвольной формы.\n",
    "\n",
    "Если медиана массива больше среднего арифметического, округлите его значения в меньшую сторону.\n",
    "\n",
    "Если медиана равна среднему, округлите согласно правилам арифметического округления\n",
    "Если среднее больше медианы, округлите значения в большую сторону."
   ]
  },
  {
   "cell_type": "code",
   "execution_count": 103,
   "metadata": {},
   "outputs": [
    {
     "data": {
      "text/plain": [
       "(3.4166666666666665, 3.2521360501813095, 4.5)"
      ]
     },
     "execution_count": 103,
     "metadata": {},
     "output_type": "execute_result"
    }
   ],
   "source": [
    "scores\n",
    "scores.mean(), np.median(scores)"
   ]
  },
  {
   "cell_type": "code",
   "execution_count": 104,
   "metadata": {},
   "outputs": [
    {
     "data": {
      "text/plain": [
       "(4.0, 5.0, 4.0)"
      ]
     },
     "execution_count": 104,
     "metadata": {},
     "output_type": "execute_result"
    }
   ],
   "source": [
    "x = 4.5\n",
    "np.floor(x), np.ceil(x), np.round(x)"
   ]
  },
  {
   "cell_type": "code",
   "execution_count": null,
   "metadata": {},
   "outputs": [],
   "source": [
    "def solution(arr):\n",
    "    ''' \n",
    "    Функция принимает на вход двумерный массив arr.\n",
    "    Если медиана массива больше среднего значения массива, то возвращает округленный в меньшую сторону массив.\n",
    "    Если медиана массива равна среднему значению массива, то возвращает округленный до целого массив.\n",
    "    Если медиана массива меньше среднего значения массива, то возвращает округленный в большую сторону массив.\n",
    "    '''\n",
    "    if np.median(arr) > arr.mean():\n",
    "        return np.floor(arr)\n",
    "    elif np.median(arr) == arr.mean():\n",
    "        return np.round(arr)\n",
    "    else:\n",
    "        return np.ceil(arr)"
   ]
  }
 ],
 "metadata": {
  "kernelspec": {
   "display_name": "base",
   "language": "python",
   "name": "python3"
  },
  "language_info": {
   "codemirror_mode": {
    "name": "ipython",
    "version": 3
   },
   "file_extension": ".py",
   "mimetype": "text/x-python",
   "name": "python",
   "nbconvert_exporter": "python",
   "pygments_lexer": "ipython3",
   "version": "3.11.7"
  }
 },
 "nbformat": 4,
 "nbformat_minor": 2
}
