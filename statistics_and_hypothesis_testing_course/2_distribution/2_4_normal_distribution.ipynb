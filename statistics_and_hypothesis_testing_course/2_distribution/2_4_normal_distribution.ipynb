{
 "cells": [
  {
   "cell_type": "markdown",
   "id": "bda80d53",
   "metadata": {},
   "source": [
    "В коде создается стандартное нормальное распределение с помощью функции sts.norm(0, 1), где среднее значение равно 0, а стандартное отклонение — 1.\n",
    "Используется функция накопленного распределения cdf(), которая вычисляет вероятность того, что случайная величина примет значение меньше указанного (в данном случае, меньше -1.96).\n",
    "Функция cdf(-1.96) возвращает вероятность того, что случайная величина \n",
    "𝑋\n",
    "X окажется в диапазоне от \n",
    "−\n",
    "∞\n",
    "−∞ до -1.96.\n",
    "Вероятность округляется до трех знаков после запятой с помощью round().\n",
    "В результате выводится вероятность примерно равная 0.025, что соответствует \"левому хвосту\" нормального распределения на 1.96 стандартных отклонений от среднего значения."
   ]
  },
  {
   "cell_type": "markdown",
   "id": "e5105557",
   "metadata": {},
   "source": [
    "Нормальное распределение — это один из основных видов распределения вероятностей, описывающий поведение многих случайных процессов. Оно симметрично относительно среднего значения (математического ожидания) и характеризуется колоколообразной формой. В данном коде используется стандартное нормальное распределение, где среднее равно 0, а стандартное отклонение — 1.\n",
    "\n",
    "Функция .cdf() возвращает накопленную вероятность, которая показывает, какова вероятность того, что случайная величина примет значение меньше определенного числа. В данном случае, мы вычисляем вероятность того, что случайная величина меньше -1.96, что соответствует области \"левого хвоста\" распределения. Результат (около 0.025) показывает, что примерно 2.5% всех значений случайной величины находятся ниже -1.96 стандартных отклонений от среднего значения в нормальном распределении."
   ]
  },
  {
   "cell_type": "code",
   "execution_count": 11,
   "id": "d29ec13c",
   "metadata": {},
   "outputs": [
    {
     "data": {
      "text/plain": [
       "0.025"
      ]
     },
     "execution_count": 11,
     "metadata": {},
     "output_type": "execute_result"
    }
   ],
   "source": [
    "import numpy as np\n",
    "from matplotlib import pyplot as plt\n",
    "import scipy.stats as sts\n",
    "mu = 0 #среднее \n",
    "std = 1 #стандартное отклонение\n",
    "norm_rv = sts.norm(0, 1) #нормальное стандартное распределение\n",
    "ans = norm_rv.cdf(-1.96)\n",
    "round(ans,3)"
   ]
  },
  {
   "cell_type": "code",
   "execution_count": 12,
   "id": "43dce603",
   "metadata": {},
   "outputs": [
    {
     "data": {
      "text/plain": [
       "0.975"
      ]
     },
     "execution_count": 12,
     "metadata": {},
     "output_type": "execute_result"
    }
   ],
   "source": [
    "ans = norm_rv.cdf(1.96)\n",
    "round(ans,3)"
   ]
  },
  {
   "cell_type": "code",
   "execution_count": 14,
   "id": "d22361e2",
   "metadata": {},
   "outputs": [
    {
     "data": {
      "text/plain": [
       "0.95"
      ]
     },
     "execution_count": 14,
     "metadata": {},
     "output_type": "execute_result"
    }
   ],
   "source": [
    "ans = norm_rv.cdf(1.96) - norm_rv.cdf(-1.96)\n",
    "round(ans,3)"
   ]
  },
  {
   "cell_type": "code",
   "execution_count": null,
   "id": "5ffff6a4",
   "metadata": {},
   "outputs": [],
   "source": []
  }
 ],
 "metadata": {
  "kernelspec": {
   "display_name": "Python 3 (ipykernel)",
   "language": "python",
   "name": "python3"
  },
  "language_info": {
   "codemirror_mode": {
    "name": "ipython",
    "version": 3
   },
   "file_extension": ".py",
   "mimetype": "text/x-python",
   "name": "python",
   "nbconvert_exporter": "python",
   "pygments_lexer": "ipython3",
   "version": "3.11.7"
  }
 },
 "nbformat": 4,
 "nbformat_minor": 5
}
