{
 "cells": [
  {
   "cell_type": "code",
   "execution_count": 2,
   "id": "13b13ae8",
   "metadata": {},
   "outputs": [],
   "source": [
    "sertificates = [3000, 3000, 5000, 5000, 2000, 2000, 2000, 2000, 2000, 2000, 2000, 2000, 2000, 2000, 2000, 2000, 2000, 2000, 3000, 3000]\n",
    "\n"
   ]
  },
  {
   "cell_type": "code",
   "execution_count": 3,
   "id": "88c8e1c3",
   "metadata": {},
   "outputs": [
    {
     "data": {
      "text/plain": [
       "2500.0"
      ]
     },
     "execution_count": 3,
     "metadata": {},
     "output_type": "execute_result"
    }
   ],
   "source": [
    "sum(sertificates) / len(sertificates)"
   ]
  },
  {
   "cell_type": "code",
   "execution_count": 4,
   "id": "ec1ce739",
   "metadata": {},
   "outputs": [
    {
     "data": {
      "text/plain": [
       "{2000, 3000, 5000}"
      ]
     },
     "execution_count": 4,
     "metadata": {},
     "output_type": "execute_result"
    }
   ],
   "source": [
    "sert_set = set(sertificates)\n",
    "sert_set"
   ]
  },
  {
   "cell_type": "code",
   "execution_count": 14,
   "id": "90038581",
   "metadata": {},
   "outputs": [
    {
     "data": {
      "text/plain": [
       "[(3000, 0.2), (5000, 0.1), (2000, 0.7)]"
      ]
     },
     "execution_count": 14,
     "metadata": {},
     "output_type": "execute_result"
    }
   ],
   "source": [
    "posibilidad = []\n",
    "list_p = []\n",
    "for sert in sert_set:\n",
    "    sert_n = sertificates.count(sert)\n",
    "#     print(sert, sert_n)\n",
    "#     print(sert_n / len(sertificates))\n",
    "    list_p.append(sert_n / len(sertificates))\n",
    "    posibilidad.append((sert, sert_n / len(sertificates)))\n",
    "posibilidad"
   ]
  },
  {
   "cell_type": "code",
   "execution_count": 12,
   "id": "d8e22c68",
   "metadata": {},
   "outputs": [
    {
     "data": {
      "text/plain": [
       "2000    14\n",
       "3000     4\n",
       "5000     2\n",
       "Name: count, dtype: int64"
      ]
     },
     "execution_count": 12,
     "metadata": {},
     "output_type": "execute_result"
    }
   ],
   "source": [
    "import pandas as pd\n",
    "sertificates = [3000, 3000, 5000, 5000, 2000, 2000, 2000, 2000, 2000, 2000, 2000, 2000, 2000, 2000, 2000, 2000, 2000, 2000, 3000, 3000]\n",
    "pd.Series(sertificates).value_counts()"
   ]
  },
  {
   "cell_type": "code",
   "execution_count": 13,
   "id": "7674310e",
   "metadata": {},
   "outputs": [
    {
     "data": {
      "text/plain": [
       "2000    0.7\n",
       "3000    0.2\n",
       "5000    0.1\n",
       "Name: proportion, dtype: float64"
      ]
     },
     "execution_count": 13,
     "metadata": {},
     "output_type": "execute_result"
    }
   ],
   "source": [
    "pd.DataFrame(data=sertificates).value_counts(normalize=True)\n",
    "\n"
   ]
  },
  {
   "cell_type": "code",
   "execution_count": 24,
   "id": "1ce994ef",
   "metadata": {},
   "outputs": [
    {
     "data": {
      "text/plain": [
       "([3000, 5000, 2000], [0.2, 0.1, 0.7])"
      ]
     },
     "execution_count": 24,
     "metadata": {},
     "output_type": "execute_result"
    }
   ],
   "source": [
    "list_p = []\n",
    "list_x = []\n",
    "for i in posibilidad:\n",
    "    list_x.append(i[0])\n",
    "    list_p.append(i[1])\n",
    "list_x, list_p"
   ]
  },
  {
   "cell_type": "code",
   "execution_count": 26,
   "id": "f3686bf5",
   "metadata": {},
   "outputs": [
    {
     "data": {
      "text/plain": [
       "2500.0"
      ]
     },
     "execution_count": 26,
     "metadata": {},
     "output_type": "execute_result"
    }
   ],
   "source": [
    "import numpy as np\n",
    "\n",
    "mu = np.sum(np.array(list_p) * np.array(list_x))\n",
    "mu"
   ]
  },
  {
   "cell_type": "code",
   "execution_count": null,
   "id": "02bff0b0",
   "metadata": {},
   "outputs": [],
   "source": []
  }
 ],
 "metadata": {
  "kernelspec": {
   "display_name": "Python 3 (ipykernel)",
   "language": "python",
   "name": "python3"
  },
  "language_info": {
   "codemirror_mode": {
    "name": "ipython",
    "version": 3
   },
   "file_extension": ".py",
   "mimetype": "text/x-python",
   "name": "python",
   "nbconvert_exporter": "python",
   "pygments_lexer": "ipython3",
   "version": "3.11.7"
  }
 },
 "nbformat": 4,
 "nbformat_minor": 5
}
