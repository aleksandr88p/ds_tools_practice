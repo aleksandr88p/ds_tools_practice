{
 "cells": [
  {
   "cell_type": "code",
   "execution_count": 17,
   "id": "5cc6a772-1245-4ee1-a377-521748e33065",
   "metadata": {},
   "outputs": [],
   "source": [
    "import numpy as np\n",
    "from statsmodels.stats.proportion import proportions_ztest"
   ]
  },
  {
   "cell_type": "markdown",
   "id": "576008cb-bcc8-4b12-8f9c-516905778e04",
   "metadata": {},
   "source": [
    "### 1. Вспомним распределение Бернулли и конверсию"
   ]
  },
  {
   "cell_type": "markdown",
   "id": "307fe66e-449a-47e1-8a74-b38d7dc24faf",
   "metadata": {},
   "source": [
    "Распределение Бернулли это распределение нулей и единиц, где 1 - это наступление какого-то события."
   ]
  },
  {
   "cell_type": "markdown",
   "id": "974ba81b-e2f2-4ae8-84dc-a71aa7ee5f12",
   "metadata": {},
   "source": [
    "Это распределение характеризуется параметром \n",
    "$p$ - вероятностью наступления события\n"
   ]
  },
  {
   "cell_type": "code",
   "execution_count": 18,
   "id": "aafc84a1-4843-484a-a069-f904720a509e",
   "metadata": {},
   "outputs": [],
   "source": [
    "x= [1,1,1,0,0,0,0,0,0,0]"
   ]
  },
  {
   "cell_type": "code",
   "execution_count": 19,
   "id": "cd5cdc26-b6f7-4562-8947-6d0127b2cefc",
   "metadata": {},
   "outputs": [
    {
     "name": "stdout",
     "output_type": "stream",
     "text": [
      "0.3\n"
     ]
    }
   ],
   "source": [
    "#считаем сумму наступления события 1, далее делим на кол-во всех событий\n",
    "p = sum(x)/len(x)\n",
    "print(p)"
   ]
  },
  {
   "cell_type": "code",
   "execution_count": 20,
   "id": "984f3aff-eceb-49d1-8912-b546a13629b4",
   "metadata": {},
   "outputs": [
    {
     "data": {
      "text/plain": [
       "0.3"
      ]
     },
     "execution_count": 20,
     "metadata": {},
     "output_type": "execute_result"
    }
   ],
   "source": [
    "#cчитаем среднее распределения\n",
    "np.mean(x)"
   ]
  },
  {
   "cell_type": "code",
   "execution_count": 21,
   "id": "e48b2e25-3051-460c-8027-91e0f803abd6",
   "metadata": {},
   "outputs": [
    {
     "data": {
      "text/plain": [
       "0.21"
      ]
     },
     "execution_count": 21,
     "metadata": {},
     "output_type": "execute_result"
    }
   ],
   "source": [
    "#считаем дисперсию\n",
    "p*(1-p)"
   ]
  },
  {
   "cell_type": "markdown",
   "id": "ca4b8619-6055-461a-9fc5-3dcf05aa6072",
   "metadata": {},
   "source": [
    "Мы можем посчитать не только среднее (в случае с распределением Бернулли $p$), но и дисперсию по формуле: $Var = p*(1-p)$"
   ]
  },
  {
   "cell_type": "markdown",
   "id": "67a8a6a5-509e-4e38-9254-2f6059bb7695",
   "metadata": {},
   "source": [
    "Для сравнение двух выборок полученных из распределения Бернулли чаще всего применяют z-test для пропорций."
   ]
  },
  {
   "cell_type": "markdown",
   "id": "d02fd09d-041c-4e05-beab-ee2872e9aa8b",
   "metadata": {},
   "source": [
    "Шаг 1. Расчитываем оценку стандартной ошибки среднего:</br>\n",
    "### $ESE = \\sqrt{\\frac{\\bar{{p_1}}*(1-\\bar{{p_1}})}{n_1}+\\frac{\\bar{{p_2}}*(1-\\bar{{p_2}})}{n_2}}$\n",
    "\n",
    "вместо стандартного отклонение по выборке в квадрате в формуле дисперсия расчитанная по выборке\n",
    "\n",
    "Шаг 2. Расчитываем z-статистику по формуле:</br>\n",
    "### $z = \\frac{\\bar{p_1} - \\bar{p_2}}{ESE}$"
   ]
  },
  {
   "cell_type": "markdown",
   "id": "757bfead-32c8-40cc-9b0a-269cb67646fd",
   "metadata": {},
   "source": [
    "### 2. z-test для пропорций и задача"
   ]
  },
  {
   "cell_type": "markdown",
   "id": "b4ee49fe-0dc4-4b8b-806e-621e3cdf2851",
   "metadata": {},
   "source": [
    "**Задача**:</br>\n",
    "Вы работаете в крупной продуктовой сети Покупочка. Маркетологи вашей компании решили поработать с  **оттоком**. В общем смысле отток - это ушедшие покупатели. \n",
    "А в вашей компании вы коллективно договорились считать оттоком покупателей, которые не приходили в магазин 2 месяца. При этом вы знаете, что чем раньше вы начинаете работать с отточным покупателем, тем выше вероятность его вернуть.\n",
    "\n",
    "У маркетологов появилась идея: Мы будем отправлять отточным покупателям смс-ки с напоминанием о том, что у них есть накопленные бонусы. А они совершат покупку, чтобы списать бонусы.</br>\n",
    "\n",
    "Пример смс: Илья, на вашем балансе 372 бонуса. Спишите их в Покупочке. \n",
    "\n",
    "Вы решили провести АБ тест. Отобрали покупателей, у которых последняя покупка была от 3 до 2 месяцев назад. Из них отобрали покупателей, у которых на балансе есть более 10 бонусов. Это будет ГС. \n",
    "\n",
    "Далее вы из ГС рандомно сформировали 2 выборки (тестовую и контрольную) по тысяче покупателей в каждой и отправили смс-ку тестовой выборке. \n",
    "Вы ожидаете, что в течении недели (период проведения АБ-теста) больше покупателей вернется из тестовой группы.\n",
    "\n",
    "\n",
    "\n"
   ]
  },
  {
   "cell_type": "markdown",
   "id": "ad60571d-3505-4eee-9d74-c131ac3a0346",
   "metadata": {},
   "source": [
    "Период проведения АБ теста нужно выбирать кратным неделе, чтобы учесть недельную сезонность."
   ]
  },
  {
   "cell_type": "markdown",
   "id": "31cc03e2-7e32-4e2d-a6a6-a125264af7ea",
   "metadata": {},
   "source": [
    "$H_0$ - Доли вернувшихся покупателей в группах не отличается </br>\n",
    "$H_1$ - Доли вернувшихся покупателей в группах отличаются </br>\n",
    "$\\alpha$ = 0.05"
   ]
  },
  {
   "cell_type": "code",
   "execution_count": 22,
   "id": "5130c13b-6774-4c98-b6d7-7a74a21c6094",
   "metadata": {},
   "outputs": [],
   "source": [
    "p_test = 0.08  # Доля вернувшихся из тех, кто получил смс\n",
    "p_control = 0.07  # Доля вернувшихся из тех, кто не получил смс\n",
    "\n",
    "# Сгенерируем данные\n",
    "np.random.seed(3)\n",
    "test_group = np.random.choice([0, 1], size=1000, p=[1-p_test, p_test])\n",
    "control_group = np.random.choice([0, 1], size=1000, p=[1-p_control, p_control])"
   ]
  },
  {
   "cell_type": "code",
   "execution_count": 23,
   "id": "b681c0cc-4496-44e2-82f4-2d7de0902850",
   "metadata": {},
   "outputs": [
    {
     "data": {
      "text/plain": [
       "0.08"
      ]
     },
     "execution_count": 23,
     "metadata": {},
     "output_type": "execute_result"
    }
   ],
   "source": [
    "np.mean(test_group)"
   ]
  },
  {
   "cell_type": "code",
   "execution_count": 24,
   "id": "90b42250-2aa6-47d7-b35c-c44f69a725b9",
   "metadata": {},
   "outputs": [
    {
     "data": {
      "text/plain": [
       "0.072"
      ]
     },
     "execution_count": 24,
     "metadata": {},
     "output_type": "execute_result"
    }
   ],
   "source": [
    "np.mean(control_group)"
   ]
  },
  {
   "cell_type": "code",
   "execution_count": 25,
   "id": "74d310c3-4141-443a-8a88-b85aebd544ed",
   "metadata": {},
   "outputs": [
    {
     "name": "stdout",
     "output_type": "stream",
     "text": [
      "Z-statistic: 0.6750441957464585\n",
      "p-value: 0.4996476862856807\n"
     ]
    }
   ],
   "source": [
    "z_stat, p_value = proportions_ztest([np.sum(test_group), np.sum(control_group)], [len(test_group), len(control_group)])\n",
    "print(\"Z-statistic:\", z_stat)\n",
    "print(\"p-value:\", p_value)"
   ]
  },
  {
   "cell_type": "markdown",
   "id": "6ebeb471-c13c-4143-a622-4aafaee8c760",
   "metadata": {},
   "source": [
    "p-value больше уровня значимости $\\alpha$, значит у нас нет оснований отклонить нулевую гипотезу.</br>"
   ]
  },
  {
   "cell_type": "markdown",
   "id": "4b76dffe-c313-4f85-9457-d99466d27530",
   "metadata": {},
   "source": [
    "Что если бы p-value было бы меньше 0.05? тогда бы мы отвергли нулевую гипотезу и сообщили бы маркетологам что тест успешен?"
   ]
  },
  {
   "cell_type": "markdown",
   "id": "67fa08c0-21a0-46ea-9e17-eba889fcbd80",
   "metadata": {},
   "source": [
    "При принятии решения об успешности АБ теста, важно наблюдать не только за основной метрикой, но и за **guardrail** (охранными) метриками. Ваш АБ тест может повлиять и на другие важные метрики:\n",
    "1. На сумму списанных бонусов\n",
    "2. На сумму покупок (оборот)\n",
    "3. На маржа\n",
    "4. Маржа, очищенная от списанных бонусов"
   ]
  },
  {
   "cell_type": "markdown",
   "id": "f5a658ff-0976-4b19-a4fb-d9a7a7878eca",
   "metadata": {},
   "source": [
    "Давайте разбираться почему это важно. \n",
    "\n",
    "Представьте, что супермаркет Покупочка продает баночку колы. Цена баночки колы состоит из себестоймости и маржи.</br> **Себестоимость** - это цена закупки. Цена, которую мы заплатили поставщику. </br>\n",
    "**Маржа** - это наценка магазина. \n",
    "\n",
    "Пример: кола стоит 100 рублей, себестоимость 80 рублей, а маржа 20 рублей. Если придет покупатель, купит колу, при этом 10 рублей оплатит бонусами, тогда этот минус ляжет в маржу. **Маржа, очищенная от списанных бонусов** составит 10 рублей.\n",
    "\n",
    "Смс-ка с напоминанием о том, что у покупателя есть бонусы, скорее всего заставит часть покупателей прийти в магазин, но нужно еще учесть какая сумма бонусов спишется и какая будет маржа, очищенная от списанных бонусов."
   ]
  },
  {
   "cell_type": "markdown",
   "id": "5de1be63-44ed-457a-af4c-e7a4248c3973",
   "metadata": {},
   "source": [
    "Важно еще учитыватать, что одна смс стоит несколько рублей для компании. Также важно следить за тем, чтобы покупатель после покупки продолжил ходить в супермаркет."
   ]
  },
  {
   "cell_type": "code",
   "execution_count": null,
   "id": "ec02b9b6-8cb4-4cda-ae3c-f8e441aabf8b",
   "metadata": {},
   "outputs": [],
   "source": []
  }
 ],
 "metadata": {
  "kernelspec": {
   "display_name": "Python 3 (ipykernel)",
   "language": "python",
   "name": "python3"
  },
  "language_info": {
   "codemirror_mode": {
    "name": "ipython",
    "version": 3
   },
   "file_extension": ".py",
   "mimetype": "text/x-python",
   "name": "python",
   "nbconvert_exporter": "python",
   "pygments_lexer": "ipython3",
   "version": "3.11.7"
  }
 },
 "nbformat": 4,
 "nbformat_minor": 5
}
