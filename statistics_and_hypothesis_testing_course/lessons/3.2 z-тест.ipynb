{
 "cells": [
  {
   "cell_type": "markdown",
   "id": "6a78cc52",
   "metadata": {},
   "source": [
    "### 1. Центральная предельная теорема"
   ]
  },
  {
   "cell_type": "markdown",
   "id": "d9a6c7df-dbd8-4ad1-976e-8e77c3fe899b",
   "metadata": {},
   "source": [
    "Одна из задач статистики: по выборке сделать выводы о генеральной совокупности"
   ]
  },
  {
   "cell_type": "code",
   "execution_count": 74,
   "id": "af2c30a9",
   "metadata": {},
   "outputs": [],
   "source": [
    "#импорт библиотек\n",
    "from scipy import stats as sts\n",
    "import numpy as np\n",
    "from matplotlib import pyplot as plt"
   ]
  },
  {
   "cell_type": "markdown",
   "id": "4bd5aefe-2b4d-4811-bba9-32bce1cbf81b",
   "metadata": {},
   "source": [
    "Создадим Генеральную совокупность"
   ]
  },
  {
   "cell_type": "code",
   "execution_count": 75,
   "id": "3624317c",
   "metadata": {},
   "outputs": [],
   "source": [
    "np.random.seed(0) #фиксируем идемпотентый рандом\n",
    "\n",
    "mu = 80\n",
    "sigma = 15\n",
    "norm_rv = sts.norm(loc=mu, scale=sigma) #задаем параметры распределения\n",
    "X = norm_rv.rvs(size=100000)"
   ]
  },
  {
   "cell_type": "code",
   "execution_count": 76,
   "id": "987c71be",
   "metadata": {},
   "outputs": [],
   "source": [
    "#предположим X - это генеральная совокупность. В этом примере генеральная совокупность распределена нормально, на практике чаще не так. \n",
    "#округлим каждое значение до целого числа\n",
    "X = [int(np.round(i,0)) for i in X]"
   ]
  },
  {
   "cell_type": "code",
   "execution_count": 77,
   "id": "0a5e19b8-4f6b-4932-97e0-21a705edccc3",
   "metadata": {},
   "outputs": [
    {
     "data": {
      "text/plain": [
       "[106, 86, 95, 114, 108, 65, 94, 78, 78, 86]"
      ]
     },
     "execution_count": 77,
     "metadata": {},
     "output_type": "execute_result"
    }
   ],
   "source": [
    "X[:10]"
   ]
  },
  {
   "cell_type": "code",
   "execution_count": 78,
   "id": "b0265d10",
   "metadata": {},
   "outputs": [
    {
     "data": {
      "text/plain": [
       "80.02364"
      ]
     },
     "execution_count": 78,
     "metadata": {},
     "output_type": "execute_result"
    }
   ],
   "source": [
    "#среднее генеральной совокупности ~ 80\n",
    "np.mean(X)"
   ]
  },
  {
   "cell_type": "code",
   "execution_count": 79,
   "id": "8da73c08-53b0-44b8-bd48-f268d9f28858",
   "metadata": {},
   "outputs": [
    {
     "data": {
      "text/plain": [
       "14.962424307257162"
      ]
     },
     "execution_count": 79,
     "metadata": {},
     "output_type": "execute_result"
    }
   ],
   "source": [
    "#стандартное отклонение ~ 15\n",
    "np.std(X)"
   ]
  },
  {
   "cell_type": "markdown",
   "id": "3ed0d4ce-b20b-4ed0-a2f1-df2e36cf3c16",
   "metadata": {},
   "source": [
    "Предположим, что у нас есть выборка из генеральной совокупности"
   ]
  },
  {
   "cell_type": "code",
   "execution_count": 80,
   "id": "a3646686",
   "metadata": {},
   "outputs": [],
   "source": [
    "np.random.seed(0) #фиксируем идемпотентый рандом\n",
    "\n",
    "sample = np.random.choice(X, size=1000, replace=False)"
   ]
  },
  {
   "cell_type": "code",
   "execution_count": 83,
   "id": "6d691b6e",
   "metadata": {},
   "outputs": [
    {
     "data": {
      "text/plain": [
       "80.101"
      ]
     },
     "execution_count": 83,
     "metadata": {},
     "output_type": "execute_result"
    }
   ],
   "source": [
    "#среднее выборки\n",
    "np.mean(sample)"
   ]
  },
  {
   "cell_type": "markdown",
   "id": "fb87e3a0-bc6e-491b-8825-ebc9110b0e70",
   "metadata": {},
   "source": [
    "Cреднее выборки тоже ~ 80. Но мы не можем просто взять среднее выборки и сказать, что среднее генеральной совокупности равно среднему выборки. Давайте разбираться почему."
   ]
  },
  {
   "cell_type": "markdown",
   "id": "d5ca390f-8dca-4528-9d9d-fa6d35326adb",
   "metadata": {},
   "source": [
    "Возьмем 300 рандомных выборок из ГС по 1000 элементов и посчитаем для каждой выборки среднее"
   ]
  },
  {
   "cell_type": "code",
   "execution_count": 84,
   "id": "c4791ab6",
   "metadata": {},
   "outputs": [],
   "source": [
    "np.random.seed(0) #фиксируем идемпотентый рандом\n",
    "\n",
    "list_means = []\n",
    "for i in range(300):\n",
    "    some_sample = np.random.choice(X, size=1000, replace=False)\n",
    "    list_means.append(np.round(np.mean(some_sample),2))"
   ]
  },
  {
   "cell_type": "markdown",
   "id": "3fcfc856-417b-4cb8-bf64-a11ecd0e2f58",
   "metadata": {},
   "source": [
    "Отобразим распределение средних выборок (выборочных средних)"
   ]
  },
  {
   "cell_type": "code",
   "execution_count": 85,
   "id": "2ca82d52",
   "metadata": {},
   "outputs": [
    {
     "data": {
      "image/png": "[encoded data removed]",
      "text/plain": [
       "<Figure size 640x480 with 1 Axes>"
      ]
     },
     "metadata": {},
     "output_type": "display_data"
    }
   ],
   "source": [
    "# Визуализация гистограммы\n",
    "plt.hist(list_means, bins=30)\n",
    "\n",
    "# Отображение графика\n",
    "plt.title('Гистограмма выборочного среднего')\n",
    "plt.xlabel('Значение')\n",
    "plt.ylabel('Частота')\n",
    "plt.show()"
   ]
  },
  {
   "cell_type": "markdown",
   "id": "acd40614-40a5-409b-9b4f-e829fda96789",
   "metadata": {},
   "source": [
    "Что мы видим:</br>\n",
    "1. Что распределение выборочных средних распределено нормально. Работает центральная предельная теорема ЦПТ </br>\n",
    "2. Чаще средее выборок лежит рядом с средним генеральной совокупности. Чем ближе к среднему ГС, тем выше плотность </br>\n",
    "3. Есть средние, которые прилично отличаются от среднего ГС. \n"
   ]
  },
  {
   "cell_type": "markdown",
   "id": "1ccd062c-90c6-434e-933f-c7a2e47ff5d6",
   "metadata": {},
   "source": [
    "В реальной жизни у нас нет возможности получить много выборок. Обычно у нас есть одна выборка, и с помощью одной выборки нужно сделать выводы о ГС. Но нам может попасться как выборка, которая хорошо отражает ГС, так и выборка, которая сильнее отличается от ГС."
   ]
  },
  {
   "cell_type": "code",
   "execution_count": 86,
   "id": "efcdccc8-d58e-4bc5-9bae-f254bab1c7c2",
   "metadata": {},
   "outputs": [
    {
     "data": {
      "text/plain": [
       "80.1"
      ]
     },
     "execution_count": 86,
     "metadata": {},
     "output_type": "execute_result"
    }
   ],
   "source": [
    "list_means[0]#первое выборочное среднее"
   ]
  },
  {
   "cell_type": "code",
   "execution_count": 87,
   "id": "95259aa3-82c3-417a-9811-aa26b9889d20",
   "metadata": {},
   "outputs": [
    {
     "data": {
      "text/plain": [
       "78.78"
      ]
     },
     "execution_count": 87,
     "metadata": {},
     "output_type": "execute_result"
    }
   ],
   "source": [
    "min(list_means)#минимальное выборочное среднее"
   ]
  },
  {
   "cell_type": "code",
   "execution_count": 88,
   "id": "77ebbff4-6900-4460-9ba4-d463a7bc405f",
   "metadata": {},
   "outputs": [
    {
     "data": {
      "text/plain": [
       "81.49"
      ]
     },
     "execution_count": 88,
     "metadata": {},
     "output_type": "execute_result"
    }
   ],
   "source": [
    "max(list_means)#максимальное выборочное среднее"
   ]
  },
  {
   "cell_type": "markdown",
   "id": "4f05a54e",
   "metadata": {},
   "source": [
    "**Центральная предельная теорема:** Если многократно извлекать выборки из генеральной совокупности, то выборочные средние (средние всех выборок) будут распределены нормально с стандартным отклонением, которое расчитывается по формуле:\n",
    "\n",
    "$ SE  = \\frac{\\sigma}{\\sqrt{n}} $ <br/> <br/>\n",
    "где:<br/>\n",
    "$SE$ - это стандартное отклонение для распределения выборочных средних. Его еще называют **стандартной ошибкой среднего**;<br/>\n",
    "$\\sigma$ - стандартное отклонение генеральной совокупности;<br/>\n",
    "$n$ - размер выборки.\n",
    "\n",
    "Заметки о ЦПТ:\n",
    "1. При увеличении размера выборки уменьшается SE\n",
    "2. При увеличении размера выборки оценка среднего становится точнее\n",
    "3. При увеличении стандартного отклонения генеральной совокупности SE увеличивается\n",
    "4. В среднем средние выборок будут стремиться к истинному среднему значению генеральной совокупности "
   ]
  },
  {
   "cell_type": "markdown",
   "id": "f4e7f5e5",
   "metadata": {},
   "source": [
    "Но в жизни у нас нет возможности взять много выборок, выборка у нас одна. Тогда как раз и на помощь приходит ЦТП"
   ]
  },
  {
   "cell_type": "code",
   "execution_count": 89,
   "id": "b1216e61-9354-4a1c-a93e-cfeec121a8fe",
   "metadata": {},
   "outputs": [
    {
     "data": {
      "text/plain": [
       "0.47315340128799666"
      ]
     },
     "execution_count": 89,
     "metadata": {},
     "output_type": "execute_result"
    }
   ],
   "source": [
    "np.std(X)/(1000**0.5)"
   ]
  },
  {
   "cell_type": "code",
   "execution_count": 90,
   "id": "6862e991-599d-4d5c-8739-e9ade8e4deb6",
   "metadata": {},
   "outputs": [
    {
     "data": {
      "text/plain": [
       "0.47982438454084386"
      ]
     },
     "execution_count": 90,
     "metadata": {},
     "output_type": "execute_result"
    }
   ],
   "source": [
    "np.std(list_means)"
   ]
  },
  {
   "cell_type": "markdown",
   "id": "a759eaee",
   "metadata": {},
   "source": [
    "### 2. Тестирование гипотез"
   ]
  },
  {
   "cell_type": "markdown",
   "id": "5652bc0a",
   "metadata": {},
   "source": [
    "Тестирование гипотез - это метод статистики, который позволяет проверить гипотезу"
   ]
  },
  {
   "cell_type": "markdown",
   "id": "a2764c14",
   "metadata": {},
   "source": [
    "#### Задача:\n",
    "Дупустим у нас есть выборка. Мы можем посчитать среднее выборки, но мы не знаем среднее ГС. У нас есть лишь предположение о том, что среднее генеральной совокупности = 80. <br><br>\n",
    "Необходимо проверить  по выборке, что среднее ГС = 80.<br><br>\n",
    "В статистике придерживаются такого подхода: мы верим в гипотезу, пока не докажем что она не верна. То есть мы верим, что среднее ГС = 80, пока не докажем обратное."
   ]
  },
  {
   "cell_type": "markdown",
   "id": "badca36c",
   "metadata": {},
   "source": [
    "Нулевая гипотеза $H_0$: среднее генеральной совокупности = 80"
   ]
  },
  {
   "cell_type": "markdown",
   "id": "3fe922ea",
   "metadata": {},
   "source": [
    "Альтернативная гипотеза $H_1$: среднее генеральной совокупности != 80"
   ]
  },
  {
   "cell_type": "markdown",
   "id": "073767ab-7087-4a66-af1a-1934f7b0bd0d",
   "metadata": {},
   "source": [
    "Что известно:"
   ]
  },
  {
   "cell_type": "code",
   "execution_count": 91,
   "id": "e8eb6b2b-b6f8-4083-a1ea-28bfa5df5a88",
   "metadata": {},
   "outputs": [
    {
     "name": "stdout",
     "output_type": "stream",
     "text": [
      "80.101\n"
     ]
    }
   ],
   "source": [
    "#известно среднее выборки\n",
    "m = np.mean(sample)\n",
    "print(m)"
   ]
  },
  {
   "cell_type": "code",
   "execution_count": 92,
   "id": "8bab1cca-1778-47d3-96eb-55965f87c3f9",
   "metadata": {},
   "outputs": [
    {
     "name": "stdout",
     "output_type": "stream",
     "text": [
      "14.962424307257162\n"
     ]
    }
   ],
   "source": [
    "#известно стандартное отклонение ГС\n",
    "#предположим что мы знаем стандартное отклонение для ГС, но не знаем среднего ГС. \n",
    "#Пример теоретический, так как на практике мы не знаем о ГС ничего.\n",
    "sigma = np.std(X)\n",
    "print(sigma)"
   ]
  },
  {
   "cell_type": "code",
   "execution_count": 93,
   "id": "c5493db3-ae11-4aff-80c9-84c6466aed16",
   "metadata": {},
   "outputs": [
    {
     "name": "stdout",
     "output_type": "stream",
     "text": [
      "1000\n"
     ]
    }
   ],
   "source": [
    "#известнен размер выборки\n",
    "n = len(sample)\n",
    "print(n)"
   ]
  },
  {
   "cell_type": "markdown",
   "id": "9ef5d355-3a82-4e36-8c46-d4a4090423b7",
   "metadata": {},
   "source": [
    "Расчитаем стандартную ошибку среднего (стандартное отклонение распределенения выборочных средних)"
   ]
  },
  {
   "cell_type": "code",
   "execution_count": 94,
   "id": "29a69ba4-373b-4c5f-a427-c5a621fd3c05",
   "metadata": {},
   "outputs": [
    {
     "name": "stdout",
     "output_type": "stream",
     "text": [
      "0.47315340128799666\n"
     ]
    }
   ],
   "source": [
    "#стандартная ошибка среднего\n",
    "se = sigma/(len(sample)**0.5)\n",
    "print(se)"
   ]
  },
  {
   "cell_type": "markdown",
   "id": "f561d418-657d-4b09-8382-d620af5c382d",
   "metadata": {},
   "source": [
    "**Стандартизация или z-преобразование**"
   ]
  },
  {
   "cell_type": "markdown",
   "id": "7a565449-4bfc-40ca-a7a1-c833349a01c7",
   "metadata": {},
   "source": [
    "Cтандартизация - это преобразование нормального распределения выборочных средних, которое включает в себя вычитание среднего значения и деление на стандартное отклонение каждого значения в распределении. Это создает новое нормальное распределение выборочных средних, где среднее значение равно 0, а стандартное отклонение равно 1.\n",
    "\n",
    "$ z  = \\frac{\\bar{x} - \\mu}{SE} $ <br/> <br/>\n",
    "\n",
    "Т. е. с помощью стандартизации мы преобразуем нормальное распределение в стандартное нормальное распределение.</br>\n",
    "Всмомним: **Стандартное нормальное распределение** — частный случай нормального распределения, когда  μ=0 ,σ=1"
   ]
  },
  {
   "cell_type": "markdown",
   "id": "6139c744-7b25-4ef6-819a-5ecfc6e14b2d",
   "metadata": {},
   "source": [
    "Стандартизируем наше распределение выборочных средних"
   ]
  },
  {
   "cell_type": "code",
   "execution_count": 106,
   "id": "716f8eb2-8cb0-43fc-96c8-e155eeafa68a",
   "metadata": {},
   "outputs": [
    {
     "data": {
      "text/plain": [
       "[80.1, 79.35, 80.03, 80.11, 79.59, 79.97, 80.39, 79.2, 79.73, 79.04]"
      ]
     },
     "execution_count": 106,
     "metadata": {},
     "output_type": "execute_result"
    }
   ],
   "source": [
    "list_means[:10]"
   ]
  },
  {
   "cell_type": "code",
   "execution_count": 96,
   "id": "c93e5699-caa9-4469-bc91-28f806559bd2",
   "metadata": {},
   "outputs": [
    {
     "data": {
      "text/plain": [
       "300"
      ]
     },
     "execution_count": 96,
     "metadata": {},
     "output_type": "execute_result"
    }
   ],
   "source": [
    "len(list_means)"
   ]
  },
  {
   "cell_type": "code",
   "execution_count": 97,
   "id": "30c005df-172e-4dc2-ae1b-89a3ad056f99",
   "metadata": {},
   "outputs": [
    {
     "data": {
      "text/plain": [
       "[]"
      ]
     },
     "execution_count": 97,
     "metadata": {},
     "output_type": "execute_result"
    },
    {
     "data": {
      "image/png": "[encoded data removed]",
      "text/plain": [
       "<Figure size 640x480 with 1 Axes>"
      ]
     },
     "metadata": {},
     "output_type": "display_data"
    }
   ],
   "source": [
    "#посмотрим как выглядит распределение выборочных средних\n",
    "plt.hist(list_means, bins = 30)\n",
    "plt.plot()"
   ]
  },
  {
   "cell_type": "markdown",
   "id": "3388a023-5935-4dd7-96a8-12d5f50d1488",
   "metadata": {},
   "source": [
    "1-й шаг. Отнимаем среднее от каждого элемента выборки"
   ]
  },
  {
   "cell_type": "code",
   "execution_count": 98,
   "id": "d2479567-2fa1-4c59-8ba3-46022164dac1",
   "metadata": {},
   "outputs": [
    {
     "data": {
      "text/plain": [
       "[]"
      ]
     },
     "execution_count": 98,
     "metadata": {},
     "output_type": "execute_result"
    },
    {
     "data": {
      "image/png": "[encoded data removed]",
      "text/plain": [
       "<Figure size 640x480 with 1 Axes>"
      ]
     },
     "metadata": {},
     "output_type": "display_data"
    }
   ],
   "source": [
    "plt.hist(np.array(list_means)-80, bins = 30)\n",
    "plt.plot()"
   ]
  },
  {
   "cell_type": "markdown",
   "id": "a6f76497-8269-4fbd-b3cb-d597db9b595e",
   "metadata": {},
   "source": [
    "2-й шаг. делим каждое значение на стандартную ошибку среднего"
   ]
  },
  {
   "cell_type": "code",
   "execution_count": 99,
   "id": "3db58520-2581-46c1-a16f-7e0aaab50755",
   "metadata": {},
   "outputs": [
    {
     "data": {
      "text/plain": [
       "[]"
      ]
     },
     "execution_count": 99,
     "metadata": {},
     "output_type": "execute_result"
    },
    {
     "data": {
      "image/png": "[encoded data removed]",
      "text/plain": [
       "<Figure size 640x480 with 1 Axes>"
      ]
     },
     "metadata": {},
     "output_type": "display_data"
    }
   ],
   "source": [
    "plt.hist((np.array(list_means)-80)/se, bins = 30)\n",
    "# Добавление вертикальной черты на позиции\n",
    "plt.axvline(x=1.96, color='g', linestyle='-')\n",
    "plt.axvline(x=-1.96, color='g', linestyle='-')\n",
    "plt.plot()"
   ]
  },
  {
   "cell_type": "markdown",
   "id": "680e9043-7215-40c6-97ea-cd5041e326d9",
   "metadata": {},
   "source": [
    "Расчитаем z-статистику для **одного** выборочного среднего. Для выборки **sample** которая у нас реально есть"
   ]
  },
  {
   "cell_type": "code",
   "execution_count": 100,
   "id": "37cd8985-3812-4e15-9317-160244dcece8",
   "metadata": {},
   "outputs": [
    {
     "name": "stdout",
     "output_type": "stream",
     "text": [
      "0.2134614265163507\n"
     ]
    }
   ],
   "source": [
    "#z-статистика\n",
    "z = (m - 80)/se\n",
    "print(z)"
   ]
  },
  {
   "cell_type": "code",
   "execution_count": 101,
   "id": "3244f568-4ab8-4055-aa5c-2ff0c3b51804",
   "metadata": {},
   "outputs": [
    {
     "data": {
      "text/plain": [
       "[]"
      ]
     },
     "execution_count": 101,
     "metadata": {},
     "output_type": "execute_result"
    },
    {
     "data": {
      "image/png": "[encoded data removed]",
      "text/plain": [
       "<Figure size 640x480 with 1 Axes>"
      ]
     },
     "metadata": {},
     "output_type": "display_data"
    }
   ],
   "source": [
    "plt.hist((np.array(list_means)-80)/se, bins = 30)\n",
    "# Добавление вертикальной черты на позиции\n",
    "plt.axvline(x=z, color='r', linestyle='--')\n",
    "plt.axvline(x=1.96, color='g', linestyle='-')\n",
    "plt.axvline(x=-1.96, color='g', linestyle='-')\n",
    "plt.plot()"
   ]
  },
  {
   "cell_type": "markdown",
   "id": "cf6c445c-88bd-40ac-9a16-6fc579d63851",
   "metadata": {},
   "source": [
    "**Зависимость значений z-статистики и вероятности**: https://math.arizona.edu/~rsims/ma464/standardnormaltable.pdf"
   ]
  },
  {
   "cell_type": "markdown",
   "id": "8b05ccb5-4744-4c3b-91d2-8f0ae7ca3039",
   "metadata": {},
   "source": [
    "**Нарисуем для наглядности стандартное нормальное распределение и вспомним pdf и cdf**"
   ]
  },
  {
   "cell_type": "code",
   "execution_count": 102,
   "id": "2f018218-ef38-47ea-8f36-59320a27f614",
   "metadata": {},
   "outputs": [
    {
     "data": {
      "image/png": "[encoded data removed]",
      "text/plain": [
       "<Figure size 640x480 with 1 Axes>"
      ]
     },
     "metadata": {},
     "output_type": "display_data"
    }
   ],
   "source": [
    "norm_rv = sts.norm(loc=0, scale=1)\n",
    "\n",
    "x = np.linspace(-4,4,1000) #cоздает массив из 1000 равномерно-распределенных точек. \n",
    "pdf = norm_rv.pdf(x)#вычисляем функцию плотности вероятности нормального распределения для каждого значения x\n",
    "\n",
    "plt.plot(x, pdf, color ='C0')\n",
    "plt.fill_between(x, pdf, where=(x >= -4) & (x <= -1.96), color ='C0')\n",
    "\n",
    "plt.fill_between(x, pdf, where=(x >= 1.96) & (x <= 4), color ='C0')\n",
    "\n",
    "plt.ylabel('$f(x)$ - propability density function')\n",
    "plt.xlabel('$x$')\n",
    "plt.show()"
   ]
  },
  {
   "cell_type": "code",
   "execution_count": 103,
   "id": "d2efc368-c5ab-4af7-8726-c2a20a1e34fc",
   "metadata": {},
   "outputs": [
    {
     "data": {
      "text/plain": [
       "0.024997895148220435"
      ]
     },
     "execution_count": 103,
     "metadata": {},
     "output_type": "execute_result"
    }
   ],
   "source": [
    "norm_rv.cdf(-1.96)"
   ]
  },
  {
   "cell_type": "code",
   "execution_count": 104,
   "id": "e132e705-24a6-40ec-9ef0-bf4ae60e31ca",
   "metadata": {},
   "outputs": [
    {
     "data": {
      "text/plain": [
       "0.9750021048517795"
      ]
     },
     "execution_count": 104,
     "metadata": {},
     "output_type": "execute_result"
    }
   ],
   "source": [
    "norm_rv.cdf(1.96)"
   ]
  },
  {
   "cell_type": "code",
   "execution_count": 105,
   "id": "23467232-f361-4ba4-8d1d-53d62d10e9c7",
   "metadata": {},
   "outputs": [
    {
     "data": {
      "text/plain": [
       "0.950004209703559"
      ]
     },
     "execution_count": 105,
     "metadata": {},
     "output_type": "execute_result"
    }
   ],
   "source": [
    "norm_rv.cdf(1.96)-norm_rv.cdf(-1.96)"
   ]
  },
  {
   "cell_type": "markdown",
   "id": "853b72a2-c9b7-4ae8-91a9-3501c2253799",
   "metadata": {},
   "source": [
    "Если z-статистика попадает в 95% площади распределения, тогда мы не можем отклонить нулевую гипотезу. То есть не можем сказать что среднее ГС != 80"
   ]
  },
  {
   "cell_type": "markdown",
   "id": "882b537a-92ed-483e-99b8-6222d76b189c",
   "metadata": {},
   "source": [
    "-1.96 и 1.96 - называют **критическими значениями**. Это границы, за которыми лежит 5% плотности распределения, 5% вероятности. Отметив критические значения мы установили **уровень значимости $\\alpha$**. в нашем случае $\\alpha$=0.05</br>"
   ]
  },
  {
   "cell_type": "markdown",
   "id": "f027bca0-9193-4e6c-90ea-d6293d404b9e",
   "metadata": {},
   "source": [
    "**$\\alpha$ - это ошибка первого рода. Ошибка первого рода - это вероятность найти различия там где их нет, то есть отклонить нулевую гипотезу, когда она верна.**"
   ]
  },
  {
   "cell_type": "markdown",
   "id": "2cc32020-5324-47eb-b867-b26a5d43763e",
   "metadata": {},
   "source": [
    "Если бы z-статистика вышла за пределы критических значений, тогда бы мы отклонили нулевую гипотезу - приняли бы бы позицию\n",
    ", что среднее ГС != 80."
   ]
  },
  {
   "cell_type": "code",
   "execution_count": null,
   "id": "602e5b3f-c467-4383-b0eb-8603f6ce446c",
   "metadata": {},
   "outputs": [],
   "source": []
  }
 ],
 "metadata": {
  "kernelspec": {
   "display_name": "Python 3 (ipykernel)",
   "language": "python",
   "name": "python3"
  },
  "language_info": {
   "codemirror_mode": {
    "name": "ipython",
    "version": 3
   },
   "file_extension": ".py",
   "mimetype": "text/x-python",
   "name": "python",
   "nbconvert_exporter": "python",
   "pygments_lexer": "ipython3",
   "version": "3.11.7"
  }
 },
 "nbformat": 4,
 "nbformat_minor": 5
}
