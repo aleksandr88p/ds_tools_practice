{
 "cells": [
  {
   "cell_type": "code",
   "execution_count": 128,
   "id": "93560698",
   "metadata": {},
   "outputs": [],
   "source": [
    "import pandas as pd\n",
    "import numpy as np\n",
    "from matplotlib import pyplot as plt"
   ]
  },
  {
   "cell_type": "markdown",
   "id": "865d7032-e4c9-44b9-9415-632f54f10f62",
   "metadata": {},
   "source": [
    "### 1. Случайная величина"
   ]
  },
  {
   "cell_type": "markdown",
   "id": "46d0dd40-7174-46dd-bb79-7de158b68fe7",
   "metadata": {},
   "source": [
    "**Случайная величина** - это переменная, которая может принимать те или иные значения. <br/>\n",
    "Cлучайная величина обычно обозначается заглавной буквой, например: X, Y, Z"
   ]
  },
  {
   "cell_type": "code",
   "execution_count": 129,
   "id": "f14b505b-ee19-45f6-9fb7-2aed59774f75",
   "metadata": {},
   "outputs": [],
   "source": [
    "#список возврастов учеников\n",
    "ages = [7,7,7,6,7,6,7,8,7,7]"
   ]
  },
  {
   "cell_type": "markdown",
   "id": "b4068635-1311-4c97-9465-1e15bd73d78b",
   "metadata": {},
   "source": [
    "Разберем что такое случайная величина на примере с учениками:<br/>\n",
    "Если мы будем выбирать рандомного ученика из класса, то возвраст выбранного ученика - это случайная величина. При этом в данном примере случайная величина может принимать три значения: 6, 7, 8.\n",
    "Эти значения обычно обозначаются маленткими латинскими буквами, например: x, у, z<br/><br/>\n",
    "Если множество значений счетно или конечно, тогда случайная величина называется **дискретной случайной величиной**. Пример с возврастами учеников как раз является дискретной случайной величиной. Также в качестве примеров можно привести распределение кол-ва покупок в супермаркете, распределение кол-ва заходов на сайт.\n",
    "\n",
    "Случайную величину обозначим заглавной буквой X. А значения случайной величины маленькой буквой х c индексом: x1=6, x2=7, x3=8"
   ]
  },
  {
   "cell_type": "markdown",
   "id": "b52c0c40-0290-4867-8511-26b08df18bb4",
   "metadata": {},
   "source": [
    "Забегая вперед, кроме дискретной случайной величины есть еще **непрерывная случайная величина** - она принимает бесконечное количество возможных значений в заданном интервале. Но об этом позже."
   ]
  },
  {
   "cell_type": "markdown",
   "id": "c34b29bf",
   "metadata": {},
   "source": [
    "Возвраст и зарплата - технически это непрерывная случайная величина, но чаще в статистике возраст рассматривают как дискретную случайную величину."
   ]
  },
  {
   "cell_type": "markdown",
   "id": "ac3ba871",
   "metadata": {},
   "source": [
    "### 2. Закон распределения дискретной случайной величины"
   ]
  },
  {
   "cell_type": "markdown",
   "id": "0d8436e7-2ab8-470a-a429-36649ed3ceb3",
   "metadata": {},
   "source": [
    "**Задача**: В классе 10 учеников. Какова вероянтость, что возвраст рандомно выбраного ученика равен 6 лет? 7 лет? 8 лет?"
   ]
  },
  {
   "cell_type": "code",
   "execution_count": 130,
   "id": "039f7e9b-01c2-4cee-a1db-e8213f15e7da",
   "metadata": {},
   "outputs": [
    {
     "name": "stdout",
     "output_type": "stream",
     "text": [
      "[7, 7, 7, 6, 7, 6, 7, 8, 7, 7]\n"
     ]
    }
   ],
   "source": [
    "print(ages)"
   ]
  },
  {
   "cell_type": "markdown",
   "id": "4f18b301",
   "metadata": {},
   "source": [
    "Для того чтобы описать дискретную случайную величину обычно расчитывают **Закон распределения дискретной случайной величины**.<br/><br/>\n",
    "Что для этого нужно:\n",
    "1. Найти все возможные значения $x_i$, которые может принимать случайная величина $X$. В нашем примере $x_1$ = 7, $x_2$ = 6, $x_3$ = 8\n",
    "2. Упорядочить значения по возврастанию: $x_1$ = 6, $x_2$ = 7, $x_3$ = 8\n",
    "3. Расчитать для каждого значения вероятность того, что случайная величина примет именно это значение. Формула: $p_i = P(X = x_i)$<br/>\n",
    "Когда случайная величина принимает конкретное значение - это называется **событием**.\n",
    "4. Строим табличку вида: \n"
   ]
  },
  {
   "cell_type": "code",
   "execution_count": 88,
   "id": "c889210c",
   "metadata": {},
   "outputs": [
    {
     "data": {
      "text/html": [
       "<div>\n",
       "<style scoped>\n",
       "    .dataframe tbody tr th:only-of-type {\n",
       "        vertical-align: middle;\n",
       "    }\n",
       "\n",
       "    .dataframe tbody tr th {\n",
       "        vertical-align: top;\n",
       "    }\n",
       "\n",
       "    .dataframe thead th {\n",
       "        text-align: right;\n",
       "    }\n",
       "</style>\n",
       "<table border=\"1\" class=\"dataframe\">\n",
       "  <thead>\n",
       "    <tr style=\"text-align: right;\">\n",
       "      <th></th>\n",
       "      <th>x1</th>\n",
       "      <th>x2</th>\n",
       "      <th>x3</th>\n",
       "    </tr>\n",
       "  </thead>\n",
       "  <tbody>\n",
       "    <tr>\n",
       "      <th>0</th>\n",
       "      <td>p1</td>\n",
       "      <td>p2</td>\n",
       "      <td>p3</td>\n",
       "    </tr>\n",
       "  </tbody>\n",
       "</table>\n",
       "</div>"
      ],
      "text/plain": [
       "   x1  x2  x3\n",
       "0  p1  p2  p3"
      ]
     },
     "execution_count": 88,
     "metadata": {},
     "output_type": "execute_result"
    }
   ],
   "source": [
    "pd.DataFrame(['p1', 'p2', 'p3'],['x1', 'x2', 'x3']).T"
   ]
  },
  {
   "cell_type": "markdown",
   "id": "776f9040-366b-4191-b123-7b3ac031c649",
   "metadata": {},
   "source": [
    "Шаг 1. Отсортируем возврасты по возврастанию"
   ]
  },
  {
   "cell_type": "code",
   "execution_count": 89,
   "id": "7cf50cfe",
   "metadata": {},
   "outputs": [
    {
     "data": {
      "text/plain": [
       "array([6, 6, 7, 7, 7, 7, 7, 7, 7, 8])"
      ]
     },
     "execution_count": 89,
     "metadata": {},
     "output_type": "execute_result"
    }
   ],
   "source": [
    "np.sort(ages)"
   ]
  },
  {
   "cell_type": "markdown",
   "id": "1a157f90-b8fc-4def-a375-cf80774ccfe4",
   "metadata": {},
   "source": [
    "Шаг 2. Расчитываем для каждого значения вероятность"
   ]
  },
  {
   "cell_type": "markdown",
   "id": "63c65171",
   "metadata": {},
   "source": [
    "Вспомним что такое вероятность. Вероятность - это оценка возможности наступления некоторого события. Вероятность - это число, которое может быть выражено либо в процентах, например: \"Вероятность выйгрыша 50%\", либо в долях, например: \"Вероятность встретить настоящую любовь 1 на миллион\". 1 на миллион, можно представить в виде дроби: $\\frac1{1000000}$ или в виде десятичной дроби: 0.000001\n",
    "\n",
    "Формула вероятности:\n",
    "\n",
    "$P(A) = \\frac m n$\n",
    "\n",
    "\n",
    "\n",
    "где:\n",
    "$(A)$ - это некторое событие;\n",
    "$m$ - это число исходов благоприятствующих событию А;\n",
    "$n$ - это число всех исходов."
   ]
  },
  {
   "cell_type": "code",
   "execution_count": 90,
   "id": "781a8670",
   "metadata": {},
   "outputs": [
    {
     "data": {
      "text/plain": [
       "0.2"
      ]
     },
     "execution_count": 90,
     "metadata": {},
     "output_type": "execute_result"
    }
   ],
   "source": [
    "#вероятность того, что возвраст рандомно выбранного нами ученика будет 6 лет\n",
    "2/10"
   ]
  },
  {
   "cell_type": "code",
   "execution_count": 91,
   "id": "0b92098d",
   "metadata": {},
   "outputs": [
    {
     "data": {
      "text/plain": [
       "0.7"
      ]
     },
     "execution_count": 91,
     "metadata": {},
     "output_type": "execute_result"
    }
   ],
   "source": [
    "#вероятность того, что возвраст рандомно выбранного нами ученика будет 7 лет\n",
    "7/10"
   ]
  },
  {
   "cell_type": "code",
   "execution_count": 1,
   "id": "495f233e",
   "metadata": {},
   "outputs": [
    {
     "data": {
      "text/plain": [
       "0.1"
      ]
     },
     "execution_count": 1,
     "metadata": {},
     "output_type": "execute_result"
    }
   ],
   "source": [
    "#вероятность того, что возвраст рандомно выбранного нами ученика будет 8 лет\n",
    "1/10"
   ]
  },
  {
   "cell_type": "markdown",
   "id": "e1c5c835",
   "metadata": {},
   "source": [
    "Шаг 3. Строим закон распределения для случайной величины $Х$"
   ]
  },
  {
   "cell_type": "code",
   "execution_count": 131,
   "id": "4a51abe6",
   "metadata": {},
   "outputs": [
    {
     "data": {
      "text/html": [
       "<div>\n",
       "<style scoped>\n",
       "    .dataframe tbody tr th:only-of-type {\n",
       "        vertical-align: middle;\n",
       "    }\n",
       "\n",
       "    .dataframe tbody tr th {\n",
       "        vertical-align: top;\n",
       "    }\n",
       "\n",
       "    .dataframe thead th {\n",
       "        text-align: right;\n",
       "    }\n",
       "</style>\n",
       "<table border=\"1\" class=\"dataframe\">\n",
       "  <thead>\n",
       "    <tr style=\"text-align: right;\">\n",
       "      <th></th>\n",
       "      <th>6</th>\n",
       "      <th>7</th>\n",
       "      <th>8</th>\n",
       "    </tr>\n",
       "  </thead>\n",
       "  <tbody>\n",
       "    <tr>\n",
       "      <th>0</th>\n",
       "      <td>0.2</td>\n",
       "      <td>0.7</td>\n",
       "      <td>0.1</td>\n",
       "    </tr>\n",
       "  </tbody>\n",
       "</table>\n",
       "</div>"
      ],
      "text/plain": [
       "     6    7    8\n",
       "0  0.2  0.7  0.1"
      ]
     },
     "execution_count": 131,
     "metadata": {},
     "output_type": "execute_result"
    }
   ],
   "source": [
    "list_p = [0.2, 0.7, 0.1]\n",
    "list_x = [6,7,8]\n",
    "pd.DataFrame(list_p, list_x).T"
   ]
  },
  {
   "cell_type": "markdown",
   "id": "779a9985-fdbf-41d3-b15c-045a98491164",
   "metadata": {},
   "source": [
    "**Матожидание дискретной случайной величины** - это сумма произведений возможных значений этой величины на их вероятности. </br> Формула: $E(X) = \\sum\\limits_{i=1}^{n}(x_i * p_i(x_i))$"
   ]
  },
  {
   "cell_type": "markdown",
   "id": "08f2a8c3-62ef-4527-9ca0-be7851a2cb63",
   "metadata": {},
   "source": [
    "Также матожидание часто обозначается греческой буквой $\\mu$"
   ]
  },
  {
   "cell_type": "code",
   "execution_count": 132,
   "id": "e98bb89b-a695-4fcb-bf0a-c2623b0cf26b",
   "metadata": {},
   "outputs": [
    {
     "data": {
      "text/plain": [
       "6.8999999999999995"
      ]
     },
     "execution_count": 132,
     "metadata": {},
     "output_type": "execute_result"
    }
   ],
   "source": [
    "#матожидание\n",
    "mu = np.sum(np.array(list_p)*np.array(list_x))\n",
    "print(mu)"
   ]
  },
  {
   "cell_type": "code",
   "execution_count": 133,
   "id": "0d04ab23-307f-4609-a008-1fe532671236",
   "metadata": {},
   "outputs": [
    {
     "data": {
      "text/plain": [
       "6.9"
      ]
     },
     "execution_count": 133,
     "metadata": {},
     "output_type": "execute_result"
    }
   ],
   "source": [
    "#среднее\n",
    "np.mean(ages)"
   ]
  },
  {
   "cell_type": "markdown",
   "id": "5e1ee2cd",
   "metadata": {},
   "source": [
    "**Свойство закона распределения дискретной случайной величины**: сумма вероятностей наступления события = 1. Формула: ${\\sum\\limits_{i=1}^{n} p_i}=1 $"
   ]
  },
  {
   "cell_type": "code",
   "execution_count": 134,
   "id": "cd7e697b",
   "metadata": {},
   "outputs": [
    {
     "data": {
      "text/plain": [
       "0.9999999999999999"
      ]
     },
     "execution_count": 134,
     "metadata": {},
     "output_type": "execute_result"
    }
   ],
   "source": [
    "np.sum(list_p)"
   ]
  },
  {
   "cell_type": "markdown",
   "id": "70d37e3f-0762-41db-931f-72b2056425ed",
   "metadata": {},
   "source": [
    "### 3. Многоугольник распределения дискретной случайной величины"
   ]
  },
  {
   "cell_type": "markdown",
   "id": "4314bd06",
   "metadata": {},
   "source": [
    "Закон распределения дискретной случайной величины можно изобразить на графике. Такой график называется **многоугольником распределения дискретной случайной величины**"
   ]
  },
  {
   "cell_type": "code",
   "execution_count": 135,
   "id": "096b891a",
   "metadata": {},
   "outputs": [
    {
     "data": {
      "image/png": "[encoded data removed]",
      "text/plain": [
       "<Figure size 640x480 with 1 Axes>"
      ]
     },
     "metadata": {},
     "output_type": "display_data"
    }
   ],
   "source": [
    "plt.plot(list_x,list_p)\n",
    "plt.xticks(list_x)\n",
    "plt.show()"
   ]
  },
  {
   "cell_type": "markdown",
   "id": "d6a80469-184a-4cb0-8e7f-b0be9e9006d4",
   "metadata": {},
   "source": [
    "У непрерывных случайных величин есть аналогичный график - **Функция плотности вероятностей**."
   ]
  },
  {
   "cell_type": "markdown",
   "id": "c5565c74",
   "metadata": {},
   "source": [
    "Что же напоминает этот график?"
   ]
  },
  {
   "cell_type": "code",
   "execution_count": 136,
   "id": "621ff07f",
   "metadata": {},
   "outputs": [
    {
     "data": {
      "image/png": "[encoded data removed]",
      "text/plain": [
       "<Figure size 640x480 with 1 Axes>"
      ]
     },
     "metadata": {},
     "output_type": "display_data"
    }
   ],
   "source": [
    "#посмотрим гисторамму\n",
    "plt.hist(ages, bins=3)\n",
    "plt.xticks([6,7,8])\n",
    "plt.show()"
   ]
  },
  {
   "cell_type": "markdown",
   "id": "9ae5ec9c",
   "metadata": {},
   "source": [
    "Обычная гистограмма отражает главную суть закона распределения случайных величин. Взглянув на гистограмму, можно прикинуть что детей возвраста 7 лет больше, чем детей других возврастов. А детей возвраста 8 лет меньше всего\n",
    "\n",
    "Представьте, что вся площать гистограммы (выделена синим) - равна единице. Дети 7-летнего возвраста занимают наибольший кусок этой площади, дети 6-летнего возвраста на втором месте, дети 8-летнего возвраста на третьем месте."
   ]
  },
  {
   "cell_type": "markdown",
   "id": "04e1dd79",
   "metadata": {},
   "source": [
    "### 3. Функция распределения дискретной случайной величины"
   ]
  },
  {
   "cell_type": "markdown",
   "id": "9665ef8f",
   "metadata": {},
   "source": [
    "Закон распределения дискретной случайной величины может быть построен только для дискретной случайной величины (для непрерывной случайной величины он не может быть построен хотя бы потому, что множество возможных значений такой случайной величины несчётно, их нельзя перечислить в верхней строке таблицы).\n",
    "\n",
    "Наиболее общей формой закона распределения, пригодной для всех случайных величин (как дискретных, так и непрерывных), является **функция распределения вероятностей (сumulative distribution function - на английском, сокр. CDF)**."
   ]
  },
  {
   "cell_type": "markdown",
   "id": "8a601bbd",
   "metadata": {},
   "source": [
    "Стандартное обозначение функции распределения - $F(x)$\n",
    "\n",
    "И для дискретной и для непрерывной случайной величины функция распределения определяется одинаково: $F(x)=P(X \\leq x)$,</br> \n",
    "где: $F(x)$ – это вероятность $P$ того, что случайная величина $X$ примет значение, меньшее или равное, чем переменная (значение) $x$."
   ]
  },
  {
   "cell_type": "code",
   "execution_count": 137,
   "id": "ad15ab95",
   "metadata": {},
   "outputs": [
    {
     "data": {
      "text/plain": [
       "[6, 7, 8]"
      ]
     },
     "execution_count": 137,
     "metadata": {},
     "output_type": "execute_result"
    }
   ],
   "source": [
    "list_x"
   ]
  },
  {
   "cell_type": "code",
   "execution_count": 138,
   "id": "17c57e63",
   "metadata": {},
   "outputs": [
    {
     "data": {
      "text/plain": [
       "[0.2, 0.7, 0.1]"
      ]
     },
     "execution_count": 138,
     "metadata": {},
     "output_type": "execute_result"
    }
   ],
   "source": [
    "list_p"
   ]
  },
  {
   "cell_type": "markdown",
   "id": "e7ace9cb",
   "metadata": {},
   "source": [
    "Для каждой $F(x)$ расчитаем вероятность получить $X \\leq x$\n",
    "\n",
    "**Теорема**: Вероятность появления одного из двух несовместных событий, равна сумме вероятностей этих событий: $P(A + B) = P(A) +P (B)$"
   ]
  },
  {
   "cell_type": "code",
   "execution_count": 139,
   "id": "0d3ad08d",
   "metadata": {},
   "outputs": [],
   "source": [
    "list_F_x = [0.2, 0.9, 1]"
   ]
  },
  {
   "cell_type": "markdown",
   "id": "66343258",
   "metadata": {},
   "source": [
    "Построим график функции распределения дискретной случайной величины. Функция распределения для дискретной случайной величины - это разрывная ступенчатая функция. Часто ее называют **эмпирической функцией распределения вероятностей**"
   ]
  },
  {
   "cell_type": "code",
   "execution_count": 140,
   "id": "7cfcdbb9",
   "metadata": {},
   "outputs": [
    {
     "data": {
      "image/png": "[encoded data removed]",
      "text/plain": [
       "<Figure size 640x480 with 1 Axes>"
      ]
     },
     "metadata": {},
     "output_type": "display_data"
    }
   ],
   "source": [
    "# Строим график эмпирической функцией распределения вероятностей\n",
    "plt.step(list_x, list_F_x, where='post')\n",
    "plt.xticks([6,7,8])\n",
    "\n",
    "# Добавляем подписи осей и заголовок\n",
    "plt.xlabel('X')\n",
    "plt.ylabel('Cumulative Probability')\n",
    "\n",
    "# Отображаем график\n",
    "plt.show()"
   ]
  },
  {
   "cell_type": "markdown",
   "id": "53e93d45",
   "metadata": {},
   "source": [
    "**Свойство**: функция распределения случайной величины всегда возврастает"
   ]
  },
  {
   "cell_type": "markdown",
   "id": "4e4c81dd",
   "metadata": {},
   "source": [
    "Построим график функции распределения по-другому. Забегая вперед, функция распределения непрерывной случайной величины гладкая и выглядит примерно так:"
   ]
  },
  {
   "cell_type": "code",
   "execution_count": 141,
   "id": "edb9c80b",
   "metadata": {},
   "outputs": [
    {
     "data": {
      "image/png": "[encoded data removed]",
      "text/plain": [
       "<Figure size 640x480 with 1 Axes>"
      ]
     },
     "metadata": {},
     "output_type": "display_data"
    }
   ],
   "source": [
    "plt.plot(list_x,list_F_x)\n",
    "plt.step(list_x, list_F_x, where='post')\n",
    "\n",
    "\n",
    "# Добавляем подписи осей и заголовок\n",
    "plt.xlabel('X')\n",
    "plt.ylabel('Cumulative Probability')\n",
    "\n",
    "plt.xticks(list_x)\n",
    "plt.show()"
   ]
  },
  {
   "cell_type": "code",
   "execution_count": null,
   "id": "dbcb6af7-9e22-4789-bba7-f9de64e5c49f",
   "metadata": {},
   "outputs": [],
   "source": []
  }
 ],
 "metadata": {
  "kernelspec": {
   "display_name": "Python 3 (ipykernel)",
   "language": "python",
   "name": "python3"
  },
  "language_info": {
   "codemirror_mode": {
    "name": "ipython",
    "version": 3
   },
   "file_extension": ".py",
   "mimetype": "text/x-python",
   "name": "python",
   "nbconvert_exporter": "python",
   "pygments_lexer": "ipython3",
   "version": "3.11.7"
  }
 },
 "nbformat": 4,
 "nbformat_minor": 5
}
