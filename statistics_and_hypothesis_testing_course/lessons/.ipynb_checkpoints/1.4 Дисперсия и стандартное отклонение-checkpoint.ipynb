{
 "cells": [
  {
   "cell_type": "code",
   "execution_count": 5,
   "id": "64dcd0e7-a2e9-4115-8b56-2750c583d498",
   "metadata": {},
   "outputs": [],
   "source": [
    "import numpy as np"
   ]
  },
  {
   "cell_type": "markdown",
   "id": "b19fefef-8bd0-47f8-9d18-662eb97a487b",
   "metadata": {},
   "source": [
    "### 1. Дисперсия"
   ]
  },
  {
   "cell_type": "code",
   "execution_count": 6,
   "id": "f5e03d36",
   "metadata": {},
   "outputs": [],
   "source": [
    "ages_1 =[18, 20,25, 24, 18, 19, 26, 28, 29, 30, 30, 32, 33, 34, 36, 36, 44, 45, 48, 57]"
   ]
  },
  {
   "cell_type": "code",
   "execution_count": 7,
   "id": "60a1e3cb-21a3-4541-964e-5ca0c2ccebcb",
   "metadata": {},
   "outputs": [],
   "source": [
    "ages_2 = [30, 32, 28, 35, 33, 29, 34, 31, 27, 37, 30, 32, 35, 36, 26, 33, 30, 32, 29, 33]"
   ]
  },
  {
   "cell_type": "markdown",
   "id": "f0657bd0-3785-43d9-a01c-9520826ca3f7",
   "metadata": {},
   "source": [
    "Сравним два списка возврастов разных компаний. Для сравнения будем использовать среднее"
   ]
  },
  {
   "cell_type": "code",
   "execution_count": 56,
   "id": "c91a4bbc",
   "metadata": {},
   "outputs": [
    {
     "name": "stdout",
     "output_type": "stream",
     "text": [
      "31.6\n",
      "31.6\n"
     ]
    }
   ],
   "source": [
    "print(np.mean(ages_1))\n",
    "print(np.mean(ages_2))"
   ]
  },
  {
   "cell_type": "markdown",
   "id": "5e911f31-f3d2-42cf-a9f6-4d807aceacab",
   "metadata": {},
   "source": [
    "Видим что средний возраст одинаков. \n",
    "Но если присмотреться к каждому возврасту во второй группе, видно что каждое наблюдение очень близко к среднему. "
   ]
  },
  {
   "cell_type": "code",
   "execution_count": 57,
   "id": "b2025c12-6442-44f6-ae64-51ea9097e9bd",
   "metadata": {},
   "outputs": [
    {
     "name": "stdout",
     "output_type": "stream",
     "text": [
      "[18, 20, 25, 24, 18, 19, 26, 28, 29, 30, 30, 32, 33, 34, 36, 36, 44, 45, 48, 57]\n",
      "[30, 32, 28, 35, 33, 29, 34, 31, 27, 37, 30, 32, 35, 36, 26, 33, 30, 32, 29, 33]\n"
     ]
    }
   ],
   "source": [
    "print(ages_1)\n",
    "print(ages_2)"
   ]
  },
  {
   "cell_type": "markdown",
   "id": "8ff311ef-4382-4801-9e1b-b068f8cf3188",
   "metadata": {},
   "source": [
    "Посмотрим на сколько отличаются значения от среднего в первой группе и во второй группе"
   ]
  },
  {
   "cell_type": "code",
   "execution_count": 58,
   "id": "2aad2b83",
   "metadata": {},
   "outputs": [
    {
     "data": {
      "text/plain": [
       "array([-13.6, -11.6,  -6.6,  -7.6, -13.6, -12.6,  -5.6,  -3.6,  -2.6,\n",
       "        -1.6,  -1.6,   0.4,   1.4,   2.4,   4.4,   4.4,  12.4,  13.4,\n",
       "        16.4,  25.4])"
      ]
     },
     "execution_count": 58,
     "metadata": {},
     "output_type": "execute_result"
    }
   ],
   "source": [
    "ages_1 - np.mean(ages_1)"
   ]
  },
  {
   "cell_type": "code",
   "execution_count": 59,
   "id": "a11667aa",
   "metadata": {},
   "outputs": [
    {
     "data": {
      "text/plain": [
       "array([-1.6,  0.4, -3.6,  3.4,  1.4, -2.6,  2.4, -0.6, -4.6,  5.4, -1.6,\n",
       "        0.4,  3.4,  4.4, -5.6,  1.4, -1.6,  0.4, -2.6,  1.4])"
      ]
     },
     "execution_count": 59,
     "metadata": {},
     "output_type": "execute_result"
    }
   ],
   "source": [
    "ages_2 - np.mean(ages_2)"
   ]
  },
  {
   "cell_type": "markdown",
   "id": "f1a960e7-a162-44ad-a28c-0fc043bcaaa1",
   "metadata": {},
   "source": [
    "Определения дисперсии:</br>\n",
    "**Дисперсия** - это число, которое показывает насколько сильно отличаются наблюдения в группе от среднего;</br>\n",
    "**Дисперсия** - это число, которое показывает насколько сильно отличаются наблюдения друг от друга;</br>\n",
    "**Дисперсия** - это величина, которая характеризует меру разброса значений случайной величины (наблюдений) относительно ее математического ожидания (среднего);</br>\n",
    "**Дисперсия** - это величина, которая показывает насколько похожи или разнообразны между собой значения в группе. "
   ]
  },
  {
   "cell_type": "markdown",
   "id": "6873e28c",
   "metadata": {},
   "source": [
    "Формула дисперсии:"
   ]
  },
  {
   "cell_type": "markdown",
   "id": "d6904568",
   "metadata": {},
   "source": [
    "$ Var(X) = \\frac 1{n}{\\sum\\limits_{i=1}^{n}(x_i}-\\bar{x})^2  $\n",
    "\n",
    "где:<br/>\n",
    "$X$ - это группа наблюдений, далее будем называть ее выборкой;<br/> \n",
    "$Var(X)$ - это дисперсия группы наблюдений;<br/> \n",
    "$(x_i-\\bar{x})^2 $ - квадрат разности между наблюдением и средним;<br/> \n",
    "$ {\\sum\\limits_{i=1}^{n}} (x_i-\\bar{x})^2 $ - сумма всех квадратов разностей между наблюдением и средним от 1 до n;\n",
    "\n"
   ]
  },
  {
   "cell_type": "markdown",
   "id": "81cfcb6e-7b33-43a8-bbfb-d6947e41c261",
   "metadata": {},
   "source": [
    "Посчитаем дисперсии обеих групп вручную"
   ]
  },
  {
   "cell_type": "code",
   "execution_count": 60,
   "id": "520d8d58",
   "metadata": {},
   "outputs": [
    {
     "name": "stdout",
     "output_type": "stream",
     "text": [
      "[18, 20, 25, 24, 18, 19, 26, 28, 29, 30, 30, 32, 33, 34, 36, 36, 44, 45, 48, 57]\n",
      "105.74000000000001\n"
     ]
    }
   ],
   "source": [
    "#для первой группы\n",
    "print(ages_1)\n",
    "print(np.sum((ages_1 -np.mean(ages_1))**2)/(len(ages_1)))"
   ]
  },
  {
   "cell_type": "code",
   "execution_count": 61,
   "id": "556e27bb",
   "metadata": {},
   "outputs": [
    {
     "name": "stdout",
     "output_type": "stream",
     "text": [
      "[30, 32, 28, 35, 33, 29, 34, 31, 27, 37, 30, 32, 35, 36, 26, 33, 30, 32, 29, 33]\n"
     ]
    },
    {
     "data": {
      "text/plain": [
       "8.540000000000003"
      ]
     },
     "execution_count": 61,
     "metadata": {},
     "output_type": "execute_result"
    }
   ],
   "source": [
    "print(ages_2)\n",
    "np.sum((ages_2 -np.mean(ages_2))**2)/(len(ages_1))"
   ]
  },
  {
   "cell_type": "markdown",
   "id": "05d61cd1",
   "metadata": {},
   "source": [
    "Посчитаем дисперсии обеих групп с помощью библиотеки numpy"
   ]
  },
  {
   "cell_type": "code",
   "execution_count": 62,
   "id": "3adbd21a",
   "metadata": {},
   "outputs": [
    {
     "data": {
      "text/plain": [
       "105.74000000000001"
      ]
     },
     "execution_count": 62,
     "metadata": {},
     "output_type": "execute_result"
    }
   ],
   "source": [
    "np.var(ages_1)"
   ]
  },
  {
   "cell_type": "code",
   "execution_count": 63,
   "id": "bb360a90",
   "metadata": {},
   "outputs": [
    {
     "data": {
      "text/plain": [
       "8.540000000000003"
      ]
     },
     "execution_count": 63,
     "metadata": {},
     "output_type": "execute_result"
    }
   ],
   "source": [
    "np.var(ages_2)"
   ]
  },
  {
   "cell_type": "markdown",
   "id": "3f19cd5e-fb85-4367-a597-f8687c7fb496",
   "metadata": {},
   "source": [
    "Где-то вы можете встретить формулу несмещенной выборочной дисперсии: \n",
    "\n",
    "$ Var(X) = \\frac 1{n-1}{\\sum\\limits_{i=1}^{n}(x_i}-\\bar{x})^2  $"
   ]
  },
  {
   "cell_type": "markdown",
   "id": "f4f17c4e",
   "metadata": {},
   "source": [
    "### 2. Стандартное отклонение"
   ]
  },
  {
   "cell_type": "markdown",
   "id": "abe223b2",
   "metadata": {},
   "source": [
    "$ s_X = \\sqrt{Var(X)} $"
   ]
  },
  {
   "cell_type": "code",
   "execution_count": 64,
   "id": "af0b14a4-f97b-4e07-aab2-e56ecf21604b",
   "metadata": {},
   "outputs": [
    {
     "name": "stdout",
     "output_type": "stream",
     "text": [
      "10.282995672468214\n",
      "2.922327839240492\n"
     ]
    }
   ],
   "source": [
    "print(np.var(ages_1)**0.5)\n",
    "print(np.var(ages_2)**0.5)"
   ]
  },
  {
   "cell_type": "code",
   "execution_count": 65,
   "id": "6e522ac9",
   "metadata": {},
   "outputs": [
    {
     "name": "stdout",
     "output_type": "stream",
     "text": [
      "10.282995672468214\n",
      "2.922327839240492\n"
     ]
    }
   ],
   "source": [
    "print(np.std(ages_1))\n",
    "print(np.std(ages_2))"
   ]
  },
  {
   "cell_type": "code",
   "execution_count": 66,
   "id": "81813c9d-ec32-4bb1-aa5a-481f866b1f40",
   "metadata": {},
   "outputs": [
    {
     "name": "stdout",
     "output_type": "stream",
     "text": [
      "[18, 20, 25, 24, 18, 19, 26, 28, 29, 30, 30, 32, 33, 34, 36, 36, 44, 45, 48, 57]\n",
      "[30, 32, 28, 35, 33, 29, 34, 31, 27, 37, 30, 32, 35, 36, 26, 33, 30, 32, 29, 33]\n"
     ]
    }
   ],
   "source": [
    "print(ages_1)\n",
    "print(ages_2)"
   ]
  }
 ],
 "metadata": {
  "kernelspec": {
   "display_name": "Python 3 (ipykernel)",
   "language": "python",
   "name": "python3"
  },
  "language_info": {
   "codemirror_mode": {
    "name": "ipython",
    "version": 3
   },
   "file_extension": ".py",
   "mimetype": "text/x-python",
   "name": "python",
   "nbconvert_exporter": "python",
   "pygments_lexer": "ipython3",
   "version": "3.11.7"
  }
 },
 "nbformat": 4,
 "nbformat_minor": 5
}
