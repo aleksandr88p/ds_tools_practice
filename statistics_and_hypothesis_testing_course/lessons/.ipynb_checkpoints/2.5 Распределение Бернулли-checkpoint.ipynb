{
 "cells": [
  {
   "cell_type": "code",
   "execution_count": 2,
   "id": "c759f5c9",
   "metadata": {},
   "outputs": [],
   "source": [
    "import numpy as np\n",
    "import matplotlib.pyplot as plt\n",
    "import scipy.stats as stat"
   ]
  },
  {
   "cell_type": "markdown",
   "id": "044e1e17-27b5-411c-8604-0f93bc3765d5",
   "metadata": {},
   "source": [
    "**Распределение Бернулли** - это дискретное распределение, которое моделирует случайный эксперимент с двумя возможными исходами:</br> **успех** - обычно обозначается как 1</br>\n",
    "**неудача** - обычно обозначается как 0."
   ]
  },
  {
   "cell_type": "markdown",
   "id": "f678bff7-423f-4921-9649-54755d9580a6",
   "metadata": {},
   "source": [
    "Распределение Бернулли задается с помощью двух параметров:\n",
    "1. вероятность успеха P(X=1) = p\n",
    "2. вероятность неудачи P(X=0) = 1-p"
   ]
  },
  {
   "cell_type": "code",
   "execution_count": 2,
   "id": "50171ad1-ee43-4839-803e-7a5aa68dcd64",
   "metadata": {},
   "outputs": [],
   "source": [
    "# Задаем вероятность успеха p для распределения Бернулли\n",
    "p = 0.3\n",
    "\n",
    "# Создаем объект распределения Бернулли\n",
    "bernoulli_rv = stat.bernoulli(p)"
   ]
  },
  {
   "cell_type": "code",
   "execution_count": 3,
   "id": "17a048ec-ea1e-4999-98eb-c1bd2ec03463",
   "metadata": {},
   "outputs": [],
   "source": [
    "# Сгенерируем несколько случайных значений из распределения Бернулли\n",
    "X = bernoulli_rv.rvs(size=10000)"
   ]
  },
  {
   "cell_type": "code",
   "execution_count": 4,
   "id": "7c15343f-f8ae-4de9-92f6-2e2b153871c2",
   "metadata": {},
   "outputs": [
    {
     "data": {
      "text/plain": [
       "array([1, 0, 0, 0, 0, 1, 1, 0, 1, 0, 1, 0, 0, 1, 1, 0, 0, 1, 1, 0])"
      ]
     },
     "execution_count": 4,
     "metadata": {},
     "output_type": "execute_result"
    }
   ],
   "source": [
    "X[:20]"
   ]
  },
  {
   "cell_type": "code",
   "execution_count": 5,
   "id": "a7934eb5-0990-4115-99ce-1b0fbda8f39e",
   "metadata": {},
   "outputs": [
    {
     "data": {
      "image/png": "[encoded data removed]",
      "text/plain": [
       "<Figure size 640x480 with 1 Axes>"
      ]
     },
     "metadata": {},
     "output_type": "display_data"
    }
   ],
   "source": [
    "# Визуализируем распределение\n",
    "plt.hist(X, bins=2, edgecolor='black')\n",
    "plt.title('Распределение Бернулли с p=0.3')\n",
    "plt.xlabel('Значение')\n",
    "plt.ylabel('Частота')\n",
    "plt.xticks([0, 1])\n",
    "plt.show()"
   ]
  },
  {
   "cell_type": "code",
   "execution_count": 65,
   "id": "c1b05802-57b2-49bd-b6be-66e7f9d4a967",
   "metadata": {},
   "outputs": [
    {
     "data": {
      "text/plain": [
       "0.2948"
      ]
     },
     "execution_count": 65,
     "metadata": {},
     "output_type": "execute_result"
    }
   ],
   "source": [
    "#cреднее\n",
    "np.mean(X)"
   ]
  },
  {
   "cell_type": "markdown",
   "id": "871ef31d-60fa-4c6b-9d52-85fcc16c900a",
   "metadata": {},
   "source": [
    "Дисперсия вычисляется по формуле: $Var = p * (1- p)$"
   ]
  },
  {
   "cell_type": "code",
   "execution_count": 66,
   "id": "8a3e0e5d-8978-41e8-b009-69a00fe91281",
   "metadata": {},
   "outputs": [
    {
     "name": "stdout",
     "output_type": "stream",
     "text": [
      "0.21\n"
     ]
    }
   ],
   "source": [
    "print(p * (1- p))"
   ]
  },
  {
   "cell_type": "code",
   "execution_count": 67,
   "id": "7f451b77-8ee8-476a-915c-88d54ddf17e1",
   "metadata": {},
   "outputs": [
    {
     "data": {
      "text/plain": [
       "0.20789295999999996"
      ]
     },
     "execution_count": 67,
     "metadata": {},
     "output_type": "execute_result"
    }
   ],
   "source": [
    "np.var(X)"
   ]
  },
  {
   "cell_type": "markdown",
   "id": "ab17aa6d-811a-4971-89ba-7cd5e049e651",
   "metadata": {},
   "source": [
    "Распределение Бернулли применяется для моделирования математических событий. Самый частый пример это выпадие орла и решки. Но также распределение Бернулли встречается повсеместно в нашей жизни, вот несколько примеров: </br>\n",
    "- Кол-во поступивших и непоступивших выпускников;\n",
    "- кол-во посетителей сайта, свершивших покупку и несовершивших покупку;\n",
    "- Кол-во открытых писем и неоткрытых из рассылки."
   ]
  },
  {
   "cell_type": "code",
   "execution_count": null,
   "id": "58d0e7c7-e386-4461-a4f7-3f2e340cd9aa",
   "metadata": {},
   "outputs": [],
   "source": []
  }
 ],
 "metadata": {
  "kernelspec": {
   "display_name": "Python 3 (ipykernel)",
   "language": "python",
   "name": "python3"
  },
  "language_info": {
   "codemirror_mode": {
    "name": "ipython",
    "version": 3
   },
   "file_extension": ".py",
   "mimetype": "text/x-python",
   "name": "python",
   "nbconvert_exporter": "python",
   "pygments_lexer": "ipython3",
   "version": "3.11.7"
  }
 },
 "nbformat": 4,
 "nbformat_minor": 5
}
