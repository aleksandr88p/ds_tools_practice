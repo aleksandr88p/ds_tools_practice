{
 "cells": [
  {
   "cell_type": "code",
   "execution_count": 1,
   "id": "3e07f0cf",
   "metadata": {},
   "outputs": [],
   "source": [
    "import numpy as np\n",
    "from matplotlib import pyplot as plt"
   ]
  },
  {
   "cell_type": "code",
   "execution_count": 2,
   "id": "d88def88-4c80-491d-bd39-155325b04e75",
   "metadata": {},
   "outputs": [],
   "source": [
    "ages= [18, 20, 25, 24, 18, 19, 26, 28, 29, 30, 30, 32, 33, 34, 36, 36, 44, 45, 48, 57]"
   ]
  },
  {
   "cell_type": "markdown",
   "id": "4df84112",
   "metadata": {},
   "source": [
    "### 1. Перцентиль"
   ]
  },
  {
   "cell_type": "markdown",
   "id": "a1d78d37-fa47-4057-8fc7-5f303dddc118",
   "metadata": {},
   "source": [
    "**Перцентиль** - это число, ниже которого попадает заданный **процент** значений"
   ]
  },
  {
   "cell_type": "code",
   "execution_count": 6,
   "id": "4041528f-face-443a-92d8-eb3bebae61fd",
   "metadata": {},
   "outputs": [
    {
     "name": "stdout",
     "output_type": "stream",
     "text": [
      "[18 18 19 20 24 25 26 28 29 30 30 32 33 34 36 36 44 45 48 57]\n"
     ]
    }
   ],
   "source": [
    "print(np.sort(ages))"
   ]
  },
  {
   "cell_type": "code",
   "execution_count": 7,
   "id": "240fb5ab",
   "metadata": {},
   "outputs": [
    {
     "data": {
      "text/plain": [
       "20"
      ]
     },
     "execution_count": 7,
     "metadata": {},
     "output_type": "execute_result"
    }
   ],
   "source": [
    "len(ages)"
   ]
  },
  {
   "cell_type": "code",
   "execution_count": 3,
   "id": "93590094",
   "metadata": {},
   "outputs": [
    {
     "data": {
      "text/plain": [
       "30.0"
      ]
     },
     "execution_count": 3,
     "metadata": {},
     "output_type": "execute_result"
    }
   ],
   "source": [
    "#в метод percentile передается список и процент значений\n",
    "np.percentile(ages, 50)"
   ]
  },
  {
   "cell_type": "code",
   "execution_count": 4,
   "id": "03fb9e99",
   "metadata": {},
   "outputs": [
    {
     "name": "stdout",
     "output_type": "stream",
     "text": [
      "[18 18 19 20 24 25 26 28 29 30 30 32 33 34 36 36 44 45 48 57]\n"
     ]
    },
    {
     "data": {
      "text/plain": [
       "30.0"
      ]
     },
     "execution_count": 4,
     "metadata": {},
     "output_type": "execute_result"
    }
   ],
   "source": [
    "#порядок расчета перцентиля\n",
    "#сначала значения сортируются по возврастанию\n",
    "#затем находится число, ниже которого попадает заданный процент значений\n",
    "print(np.sort(ages))\n",
    "np.percentile(ages, 50)"
   ]
  },
  {
   "cell_type": "code",
   "execution_count": 158,
   "id": "a32bda83",
   "metadata": {},
   "outputs": [
    {
     "data": {
      "text/plain": [
       "30.0"
      ]
     },
     "execution_count": 158,
     "metadata": {},
     "output_type": "execute_result"
    }
   ],
   "source": [
    "#медиана - это 50-тый перцентиль\n",
    "np.median(ages)"
   ]
  },
  {
   "cell_type": "markdown",
   "id": "525d7631-1a98-472b-b67b-94171ddb6cec",
   "metadata": {},
   "source": [
    "Функция np.percentile() использует линейную интерполяцию для вычисления перцентиля. Это означает, что если значение не является целым числом, функция использует интерполяцию между ближайшими значениями для расчета точного значения перцентиля."
   ]
  },
  {
   "cell_type": "code",
   "execution_count": 5,
   "id": "23df4dea",
   "metadata": {},
   "outputs": [
    {
     "data": {
      "text/plain": [
       "18.9"
      ]
     },
     "execution_count": 5,
     "metadata": {},
     "output_type": "execute_result"
    }
   ],
   "source": [
    "#найдем 10-ый перцентиль\n",
    "np.percentile(ages, 10)"
   ]
  },
  {
   "cell_type": "code",
   "execution_count": 160,
   "id": "7044871a",
   "metadata": {},
   "outputs": [
    {
     "data": {
      "text/plain": [
       "24.75"
      ]
     },
     "execution_count": 160,
     "metadata": {},
     "output_type": "execute_result"
    }
   ],
   "source": [
    "#25-ый перцентиль\n",
    "np.percentile(ages, 25)"
   ]
  },
  {
   "cell_type": "code",
   "execution_count": 161,
   "id": "3ba16a87",
   "metadata": {},
   "outputs": [
    {
     "data": {
      "text/plain": [
       "36.0"
      ]
     },
     "execution_count": 161,
     "metadata": {},
     "output_type": "execute_result"
    }
   ],
   "source": [
    "#75-ый перцентиль\n",
    "np.percentile(ages, 75)"
   ]
  },
  {
   "cell_type": "markdown",
   "id": "4fc1d5e4",
   "metadata": {},
   "source": [
    "### 2. Квантиль и квартиль"
   ]
  },
  {
   "cell_type": "markdown",
   "id": "28b3b1ff-19dc-4be4-bb4b-d67d0bf65fd3",
   "metadata": {},
   "source": [
    "**Квантиль** - это число, ниже которого попадает заданная **доля** значений"
   ]
  },
  {
   "cell_type": "code",
   "execution_count": 162,
   "id": "de484e83",
   "metadata": {},
   "outputs": [
    {
     "data": {
      "text/plain": [
       "18.9"
      ]
     },
     "execution_count": 162,
     "metadata": {},
     "output_type": "execute_result"
    }
   ],
   "source": [
    "np.percentile(ages,10)"
   ]
  },
  {
   "cell_type": "code",
   "execution_count": 163,
   "id": "e291b38e-d2c3-429c-97a6-fe6e762e46fc",
   "metadata": {},
   "outputs": [
    {
     "data": {
      "text/plain": [
       "18.9"
      ]
     },
     "execution_count": 163,
     "metadata": {},
     "output_type": "execute_result"
    }
   ],
   "source": [
    "np.quantile(ages,0.10)"
   ]
  },
  {
   "cell_type": "markdown",
   "id": "76620ac3-1678-40c4-bb57-702e023df8f2",
   "metadata": {},
   "source": [
    "**Квартиль** - это тип квантиля, который делит количество точек данных на четыре части\n",
    "\n",
    "Существует три основных типа квартилей:\n",
    "- Первый квартиль (Q1) представляет собой значение, ниже которого находится 25% значений данных.\n",
    "- Медиана (Q2 или второй квартиль) - значение, ниже которого находится 50% значений данных.\n",
    "- Третий квартиль (Q3) - значение, ниже которого находится 75% значений данных."
   ]
  },
  {
   "cell_type": "code",
   "execution_count": 164,
   "id": "664b59eb",
   "metadata": {},
   "outputs": [
    {
     "name": "stdout",
     "output_type": "stream",
     "text": [
      "24.75\n",
      "30.0\n",
      "36.0\n"
     ]
    }
   ],
   "source": [
    "print(np.quantile(ages, 0.25)) #25-й квантиль или 1-й квартиль\n",
    "print(np.quantile(ages, 0.50)) #50-й квантиль или 2-й квартиль\n",
    "print(np.quantile(ages, 0.75)) #75-й квантиль или 3-й квартиль"
   ]
  },
  {
   "cell_type": "markdown",
   "id": "73744854-fcc1-42e6-ae15-a830ff3c6458",
   "metadata": {},
   "source": [
    "**Задача**: Вы работаете в стартапе - в сервисе доставки еды из ресторанов. Позиционирование сервиса - доставка еды в течение часа. Необходимо проверить доставляется ли 95% заказов в течение часа."
   ]
  },
  {
   "cell_type": "code",
   "execution_count": 175,
   "id": "bc0a66e1",
   "metadata": {},
   "outputs": [],
   "source": [
    "np.random.seed(0) #создаем идемпотентный рандом\n",
    "delivery_time = np.random.normal(40, 20, 100)"
   ]
  },
  {
   "cell_type": "code",
   "execution_count": 177,
   "id": "35081dc0-33bf-4551-8297-289327b7c9fd",
   "metadata": {},
   "outputs": [
    {
     "data": {
      "text/plain": [
       "array([75.28104692, 48.00314417, 59.57475968, 84.81786398, 77.3511598 ,\n",
       "       20.4544424 , 59.00176835, 36.97285583, 37.93562296, 48.21197004,\n",
       "       42.88087142, 69.08547014, 55.2207545 , 42.43350033, 48.87726465,\n",
       "       46.67348655, 69.88158146, 35.89683472, 46.26135403, 22.91808521])"
      ]
     },
     "execution_count": 177,
     "metadata": {},
     "output_type": "execute_result"
    }
   ],
   "source": [
    "delivery_time[:20]"
   ]
  },
  {
   "cell_type": "code",
   "execution_count": 178,
   "id": "d66d216e-5ee9-4a5b-86a5-ab94721e0c61",
   "metadata": {},
   "outputs": [
    {
     "data": {
      "text/plain": [
       "75.79909737436084"
      ]
     },
     "execution_count": 178,
     "metadata": {},
     "output_type": "execute_result"
    }
   ],
   "source": [
    "np.quantile(delivery_time, 0.95)"
   ]
  },
  {
   "cell_type": "markdown",
   "id": "7c61e765",
   "metadata": {},
   "source": [
    "### 3. Box plot a.k.a ящик с усами a.k.a диаграмма размаха"
   ]
  },
  {
   "cell_type": "markdown",
   "id": "b11cec8e-b040-43dd-93cf-b9ea5ac2e505",
   "metadata": {},
   "source": [
    "**Box plot** (диаграмма размаха) - это метод визуализации, используемый в статистике для отображения распределения данных и представления основных характеристик набора данных, таких как медиана, квартили, минимальные и максимальные значения, а также наличие выбросов.\n",
    "\n",
    "Основные компоненты диаграммы размаха включают:\n",
    "- Прямоугольник (коробка), который отображает межквартильный размах (между первым и третьим квартилями (25-й и 75-й перцентили));\n",
    "- Горизонтальная линия внутри коробки - медиана;\n",
    "- Усы, которые представляют собой линии, выходящие из коробки и доходящие до минимального и максимального значения данных;\n",
    "- Возможные выбросы, отображаемые как отдельные точки за пределами усов.\n",
    "\n",
    "Box plot помогает быстро оценить центральную тенденцию, разброс и форму распределения данных, а также выявлять наличие выбросов. Он является важным инструментом для визуального анализа структуры набора данных."
   ]
  },
  {
   "cell_type": "markdown",
   "id": "4546bc84-83bc-4308-b4a3-536871ee1adb",
   "metadata": {},
   "source": [
    "**Ящик с усами для возврастов сотрудников**"
   ]
  },
  {
   "cell_type": "code",
   "execution_count": 179,
   "id": "f8905dec",
   "metadata": {},
   "outputs": [
    {
     "data": {
      "image/png": "[encoded data removed]",
      "text/plain": [
       "<Figure size 640x480 with 1 Axes>"
      ]
     },
     "metadata": {},
     "output_type": "display_data"
    }
   ],
   "source": [
    "plt.boxplot(ages)\n",
    "plt.show()"
   ]
  },
  {
   "cell_type": "markdown",
   "id": "af8d0cf9",
   "metadata": {},
   "source": [
    "Что видно на графике:\n",
    "1. Минимальное и максимальное значение, можно посчитать размах\n",
    "3. Медиана\n",
    "4. Первый и и третий квартили, можно посчитать межквартильный размах\n",
    "5. Выбросы"
   ]
  },
  {
   "cell_type": "markdown",
   "id": "374ce26f-dbcc-450d-b9d1-0923f704e230",
   "metadata": {},
   "source": [
    "В ящике с усами (box plot) **выбросы** обычно определяются с использованием межквартильного размаха (IQR) и критерия 1.5*IQR. \n",
    "\n",
    "Межквартильный размах (Interquartile range, сокр. IQR) - это разница между третьим квартилем (Q3) и первым квартилем (Q1). \n",
    "\n",
    "Для определения выбросов в box plot:\n",
    "- Верхний \"ус\" (верхняя граница ящика) располагается на Q3 + 1.5 * IQR.\n",
    "- Нижний \"ус\" (нижняя граница ящика) располагается на Q1 - 1.5 * IQR.\n",
    "\n",
    "Любые значения за пределами верхнего и нижнего \"усов\" рассматриваются как потенциальные выбросы и обозначаются точками на графике box plot."
   ]
  },
  {
   "cell_type": "markdown",
   "id": "7a90bedd",
   "metadata": {},
   "source": [
    "**Задача**: cравним возврасты сотрудников рассматриваемой компании с возрастами сотрудников некой другой компании"
   ]
  },
  {
   "cell_type": "code",
   "execution_count": 180,
   "id": "fdf9e350",
   "metadata": {},
   "outputs": [],
   "source": [
    "ages_second_companies = [30, 25, 31, 23, 40, 41, 43, 35, 35, 23]"
   ]
  },
  {
   "cell_type": "code",
   "execution_count": 181,
   "id": "0f0b69c0",
   "metadata": {},
   "outputs": [
    {
     "data": {
      "image/png": "[encoded data removed]",
      "text/plain": [
       "<Figure size 640x480 with 2 Axes>"
      ]
     },
     "metadata": {},
     "output_type": "display_data"
    }
   ],
   "source": [
    "fig, axs = plt.subplots( ncols= 2)\n",
    "axs[0].boxplot(ages)\n",
    "axs[1].boxplot(ages_second_companies)\n",
    "plt.ylim(16, 59)\n",
    "plt.show()"
   ]
  },
  {
   "cell_type": "markdown",
   "id": "28a40e97",
   "metadata": {},
   "source": [
    "Что видно на графиках: \n",
    "1. У первой группы больше размах\n",
    "2. У второй группы немного больше межквартильный размах\n",
    "3. Медиана возраста у второй группы выше\n",
    "4. У первой группы есть выбросы, а у второй группы выбросов нет"
   ]
  },
  {
   "cell_type": "markdown",
   "id": "8af8edd3",
   "metadata": {},
   "source": [
    "**Ящик с усами для заработных плат**"
   ]
  },
  {
   "cell_type": "code",
   "execution_count": 182,
   "id": "35bcc674",
   "metadata": {},
   "outputs": [
    {
     "data": {
      "image/png": "[encoded data removed]",
      "text/plain": [
       "<Figure size 640x480 with 1 Axes>"
      ]
     },
     "metadata": {},
     "output_type": "display_data"
    }
   ],
   "source": [
    "salary = [50000, 50000, 80000, 80000, 120000, 120000, 130000, 150000, 140000, 190000, \n",
    "          80000, 150000, 250000, 600000, 150000, \n",
    "          100000, 210000, 150000, 600000, 2000000]\n",
    "plt.boxplot(salary)\n",
    "plt.show()"
   ]
  },
  {
   "cell_type": "code",
   "execution_count": null,
   "id": "df33e696-2ac1-4d4a-8ac8-1e1b0b7ee860",
   "metadata": {},
   "outputs": [],
   "source": []
  }
 ],
 "metadata": {
  "kernelspec": {
   "display_name": "Python 3 (ipykernel)",
   "language": "python",
   "name": "python3"
  },
  "language_info": {
   "codemirror_mode": {
    "name": "ipython",
    "version": 3
   },
   "file_extension": ".py",
   "mimetype": "text/x-python",
   "name": "python",
   "nbconvert_exporter": "python",
   "pygments_lexer": "ipython3",
   "version": "3.11.7"
  }
 },
 "nbformat": 4,
 "nbformat_minor": 5
}
