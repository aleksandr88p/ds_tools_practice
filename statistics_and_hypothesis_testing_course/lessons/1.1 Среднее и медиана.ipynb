{
 "cells": [
  {
   "cell_type": "code",
   "execution_count": 15,
   "id": "da2b76cb",
   "metadata": {},
   "outputs": [],
   "source": [
    "#импорт библиотек\n",
    "import numpy as np"
   ]
  },
  {
   "cell_type": "markdown",
   "id": "acde396c",
   "metadata": {},
   "source": [
    "### 1. Среднее"
   ]
  },
  {
   "cell_type": "markdown",
   "id": "a5489131",
   "metadata": {},
   "source": [
    "Предположим, что в некоторой компании работает 20 сотрудников. Проанализируем **возврасты сотрудников**"
   ]
  },
  {
   "cell_type": "code",
   "execution_count": 16,
   "id": "977eb199",
   "metadata": {},
   "outputs": [],
   "source": [
    "ages=[18, 20,25, 24, 18, 19, 26, 28, 29, 30, 30, 32, 33, 34, 36, 36, 44, 45, 48, 57]"
   ]
  },
  {
   "cell_type": "code",
   "execution_count": 17,
   "id": "ff5cc2f9",
   "metadata": {},
   "outputs": [
    {
     "data": {
      "text/plain": [
       "20"
      ]
     },
     "execution_count": 17,
     "metadata": {},
     "output_type": "execute_result"
    }
   ],
   "source": [
    "#проверим для каждого ли сотрудника есть возвраст. Для этого посчитаем кол-во элементов в списке\n",
    "len(ages)"
   ]
  },
  {
   "cell_type": "code",
   "execution_count": 18,
   "id": "5a2ac21f-3def-4776-a841-bd79e2fc0881",
   "metadata": {},
   "outputs": [
    {
     "name": "stdout",
     "output_type": "stream",
     "text": [
      "18 57\n"
     ]
    }
   ],
   "source": [
    "#Минимальный и максимальный возвраст\n",
    "print(np.min(ages), np.max(ages))"
   ]
  },
  {
   "cell_type": "code",
   "execution_count": 19,
   "id": "f948fd40",
   "metadata": {},
   "outputs": [
    {
     "name": "stdout",
     "output_type": "stream",
     "text": [
      "[18 18 19 20 24 25 26 28 29 30 30 32 33 34 36 36 44 45 48 57]\n"
     ]
    }
   ],
   "source": [
    "#посмотрим глазами есть ли повторяющиеся возрасты. Отсортируем список по возврастанию для удобства\n",
    "print(np.sort(ages)) "
   ]
  },
  {
   "cell_type": "code",
   "execution_count": 20,
   "id": "8b6a58da",
   "metadata": {},
   "outputs": [
    {
     "name": "stdout",
     "output_type": "stream",
     "text": [
      "[18 19 20 24 25 26 28 29 30 32 33 34 36 44 45 48 57]\n",
      "17\n"
     ]
    }
   ],
   "source": [
    "#проверим есть сотрудники с одинаковым возврастом с помощью подсчета уникальных значений в списке\n",
    "print(np.unique(ages))\n",
    "print(len(np.unique(ages)))"
   ]
  },
  {
   "cell_type": "markdown",
   "id": "932210c2-c5e7-412e-81dd-e40dbd38d8d1",
   "metadata": {},
   "source": [
    "**Статистика** - это числовая характеристика выборки, расчитанная на основе выборки. Другими словами это число, которое возвращает любая функция, примененная к выборке.\n",
    "\n",
    "Максимальный возвраст, минимальный возвраст, длина выборки, кол-во уникальных возврастов - это различные статистики."
   ]
  },
  {
   "cell_type": "markdown",
   "id": "e6fb3379",
   "metadata": {},
   "source": [
    "Простая и в то же время одна из самых популярных статистик, с помощью которой мы можем описать выборку возврастов сотрудников - это среднее.</br>\n",
    "Мы сталкиваемся с этой статистикой очень часто. Примеров много:\n",
    "- Среднее количество учеников в классе;\n",
    "- Среднее время, затрачиваемое на дорогу до работы;\n",
    "- Среднее количество каллорий, употребляемых в день;\n",
    "- Среднее количество шагов, пройденных за один день;\n",
    "- Средняя заработная плата в Канаде;\n",
    "- Средняя продолжительность жизни в Японии."
   ]
  },
  {
   "cell_type": "markdown",
   "id": "80a4c864",
   "metadata": {},
   "source": [
    "Среднее вычисляется очень просто. Необходимо сложить все значения выборки и разделить на количество значений в выборки.\n",
    "\n",
    "Формула среднего:</br>\n",
    "\n",
    "### $ \\bar{x} = \\frac 1 {n}{\\sum\\limits_{i=1}^{n} x_i} $\n",
    "\n",
    "где: <br/> \n",
    "$ \\bar{x} $- среднее;<br/> \n",
    "$ x_i $ - элемент выборки;<br/> \n",
    "$ n $- количесво наблюдений; <br/>  \n",
    "$ {\\sum\\limits_{i=1}^{n}} $ -сумма всех наблюдений от 1 до n."
   ]
  },
  {
   "cell_type": "code",
   "execution_count": 21,
   "id": "2f9b1bc6",
   "metadata": {},
   "outputs": [
    {
     "name": "stdout",
     "output_type": "stream",
     "text": [
      "632\n"
     ]
    }
   ],
   "source": [
    "#Расчитаем среднее\n",
    "\n",
    "#Шаг 1. Складываем все значения в списке\n",
    "summa = np.sum(ages)\n",
    "print(summa)"
   ]
  },
  {
   "cell_type": "code",
   "execution_count": 22,
   "id": "d3fceca2",
   "metadata": {},
   "outputs": [
    {
     "name": "stdout",
     "output_type": "stream",
     "text": [
      "20\n"
     ]
    }
   ],
   "source": [
    "#Шаг 2. Считаем количество значений(элементов) в списке\n",
    "count = len(ages)\n",
    "print(count)"
   ]
  },
  {
   "cell_type": "code",
   "execution_count": 23,
   "id": "e4e01bf0",
   "metadata": {},
   "outputs": [
    {
     "data": {
      "text/plain": [
       "31.6"
      ]
     },
     "execution_count": 23,
     "metadata": {},
     "output_type": "execute_result"
    }
   ],
   "source": [
    "#Шаг 3. Делим сумму на количество\n",
    "summa/count #получаем статистику \"средний возраст в компании\""
   ]
  },
  {
   "cell_type": "code",
   "execution_count": 24,
   "id": "9670bf4d",
   "metadata": {},
   "outputs": [
    {
     "data": {
      "text/plain": [
       "31.6"
      ]
     },
     "execution_count": 24,
     "metadata": {},
     "output_type": "execute_result"
    }
   ],
   "source": [
    "#В библиотеке numpy есть встроенная функция, с помощью которой можно посчитать среднее\n",
    "np.mean(ages)"
   ]
  },
  {
   "cell_type": "markdown",
   "id": "54e1b827",
   "metadata": {},
   "source": [
    "Теперь проанализируем **заработную плату** сотрудников."
   ]
  },
  {
   "cell_type": "code",
   "execution_count": 25,
   "id": "6d5be7a6",
   "metadata": {},
   "outputs": [],
   "source": [
    "salary = [50000, 50000, 80000, 80000, 120000, 120000, 130000, 150000, 140000, 190000, 80000, 150000, 250000, 600000, 150000, 100000, 210000, 150000, 600000, 2000000]"
   ]
  },
  {
   "cell_type": "code",
   "execution_count": 26,
   "id": "2e911465",
   "metadata": {},
   "outputs": [
    {
     "data": {
      "text/plain": [
       "20"
      ]
     },
     "execution_count": 26,
     "metadata": {},
     "output_type": "execute_result"
    }
   ],
   "source": [
    "#Убедимся, что значений количество значений зарплат тоже 20\n",
    "len(salary)"
   ]
  },
  {
   "cell_type": "code",
   "execution_count": 27,
   "id": "87184007",
   "metadata": {},
   "outputs": [
    {
     "data": {
      "text/plain": [
       "270000.0"
      ]
     },
     "execution_count": 27,
     "metadata": {},
     "output_type": "execute_result"
    }
   ],
   "source": [
    "#Средняя зарплата в компании\n",
    "np.mean(salary)"
   ]
  },
  {
   "cell_type": "markdown",
   "id": "cfb2fec6",
   "metadata": {},
   "source": [
    "Средняя зарплата в компании 270 000 рублей. Будем считать что это гораздо выше рынка. Давайте детальнее посмотрим на все зарплаты."
   ]
  },
  {
   "cell_type": "code",
   "execution_count": 28,
   "id": "d6264915",
   "metadata": {},
   "outputs": [
    {
     "data": {
      "text/plain": [
       "array([  50000,   50000,   80000,   80000,   80000,  100000,  120000,\n",
       "        120000,  130000,  140000,  150000,  150000,  150000,  150000,\n",
       "        190000,  210000,  250000,  600000,  600000, 2000000])"
      ]
     },
     "execution_count": 28,
     "metadata": {},
     "output_type": "execute_result"
    }
   ],
   "source": [
    "np.sort(salary)"
   ]
  },
  {
   "cell_type": "code",
   "execution_count": 29,
   "id": "b4c8d346",
   "metadata": {},
   "outputs": [
    {
     "data": {
      "text/plain": [
       "37.03703703703704"
      ]
     },
     "execution_count": 29,
     "metadata": {},
     "output_type": "execute_result"
    }
   ],
   "source": [
    "#37% от всего бюджета на зарплаты - это зарплата генерального директора\n",
    "np.max(salary)/np.sum(salary)*100"
   ]
  },
  {
   "cell_type": "code",
   "execution_count": 30,
   "id": "e97c6406",
   "metadata": {},
   "outputs": [
    {
     "data": {
      "text/plain": [
       "59.25925925925925"
      ]
     },
     "execution_count": 30,
     "metadata": {},
     "output_type": "execute_result"
    }
   ],
   "source": [
    "#59% от всего бюджета зарплат получает генеральный директор плюс 2 топ-менеджера\n",
    "(600000+600000+2000000)/np.sum(salary)*100"
   ]
  },
  {
   "cell_type": "markdown",
   "id": "bf33d655",
   "metadata": {},
   "source": [
    "Значения, которые аномально отличаются от большинства значений в выборке в большую или меньшую сторону, называются **выбросами**. Что значит \"аномально\" мы разберем позднее, а пока что приведу несколько примеров выбросов:\n",
    "- Состояние Илона Маска среди всех состояний людей;\n",
    "- Чек в супермаркете Пятерочка на 100 000 рублей при среднем чеке 500 рублей;\n",
    "- Количество подписчиков в инстаграме у Криштиану Роналду среди всех аккаунтов."
   ]
  },
  {
   "cell_type": "markdown",
   "id": "859184b9",
   "metadata": {},
   "source": [
    "### 2. Медиана"
   ]
  },
  {
   "cell_type": "markdown",
   "id": "451e823d",
   "metadata": {},
   "source": [
    "Среднее не очень точно отразило ситуацию с заработными платами сотрудников, потому что в выборке есть выбросы. \n",
    "Когда есть выбросы, на помощь приходит медиана."
   ]
  },
  {
   "cell_type": "code",
   "execution_count": 31,
   "id": "5718c329",
   "metadata": {},
   "outputs": [
    {
     "data": {
      "text/plain": [
       "270000.0"
      ]
     },
     "execution_count": 31,
     "metadata": {},
     "output_type": "execute_result"
    }
   ],
   "source": [
    "#Еще раз посчитаем среднее\n",
    "np.mean(salary)"
   ]
  },
  {
   "cell_type": "code",
   "execution_count": 32,
   "id": "28089002",
   "metadata": {},
   "outputs": [
    {
     "data": {
      "text/plain": [
       "145000.0"
      ]
     },
     "execution_count": 32,
     "metadata": {},
     "output_type": "execute_result"
    }
   ],
   "source": [
    "#Посчитаем медиану\n",
    "np.median(salary)"
   ]
  },
  {
   "cell_type": "markdown",
   "id": "1f367c1d",
   "metadata": {},
   "source": [
    "**Медиана** - это наблюдение (значение зарплаты), которое находится посереднине отсортированного набора данных."
   ]
  },
  {
   "cell_type": "code",
   "execution_count": 33,
   "id": "e88c7b79",
   "metadata": {},
   "outputs": [
    {
     "data": {
      "text/plain": [
       "array([  50000,   50000,   80000,   80000,   80000,  100000,  120000,\n",
       "        120000,  130000,  140000,  150000,  150000,  150000,  150000,\n",
       "        190000,  210000,  250000,  600000,  600000, 2000000])"
      ]
     },
     "execution_count": 33,
     "metadata": {},
     "output_type": "execute_result"
    }
   ],
   "source": [
    "#Расчитаем значение медианы вручную.\n",
    "\n",
    "#Шаг 1: сортируем значения (обычно по возрастанию)\n",
    "np.sort(salary)"
   ]
  },
  {
   "cell_type": "code",
   "execution_count": 34,
   "id": "3a1438e7",
   "metadata": {},
   "outputs": [
    {
     "data": {
      "text/plain": [
       "145000.0"
      ]
     },
     "execution_count": 34,
     "metadata": {},
     "output_type": "execute_result"
    }
   ],
   "source": [
    "#Шаг 2: находим значение посередине\n",
    "#Так как у нас четное количество значений, мы берем два серединных значения\n",
    "#cкадываем их и делим на 2\n",
    "(140000+150000)/2"
   ]
  },
  {
   "cell_type": "code",
   "execution_count": 35,
   "id": "c18ff5ab",
   "metadata": {},
   "outputs": [],
   "source": [
    "#если количество значение нечетное, тогда немного проще. Сначала сортируем значения, а значение посередине - это медиана.\n",
    "salary_fake= [  50000,   50000,   80000,   80000,   80000,  100000,  120000,\n",
    "        120000,  130000,  140000,  145000, 150000,  150000,  150000,  150000,\n",
    "        190000,  210000,  250000,  600000,  600000, 2000000]"
   ]
  },
  {
   "cell_type": "code",
   "execution_count": 36,
   "id": "c12dfe7b",
   "metadata": {},
   "outputs": [
    {
     "data": {
      "text/plain": [
       "21"
      ]
     },
     "execution_count": 36,
     "metadata": {},
     "output_type": "execute_result"
    }
   ],
   "source": [
    "len(salary_fake)"
   ]
  },
  {
   "cell_type": "code",
   "execution_count": 37,
   "id": "a079f4ae",
   "metadata": {},
   "outputs": [
    {
     "data": {
      "text/plain": [
       "145000.0"
      ]
     },
     "execution_count": 37,
     "metadata": {},
     "output_type": "execute_result"
    }
   ],
   "source": [
    "np.median(salary_fake)"
   ]
  },
  {
   "cell_type": "code",
   "execution_count": 38,
   "id": "dcee99e9",
   "metadata": {},
   "outputs": [
    {
     "data": {
      "text/plain": [
       "array([  50000,   50000,   80000,   80000,   80000,  100000,  120000,\n",
       "        120000,  130000,  140000,  145000,  150000,  150000,  150000,\n",
       "        150000,  190000,  210000,  250000,  600000,  600000, 2000000])"
      ]
     },
     "execution_count": 38,
     "metadata": {},
     "output_type": "execute_result"
    }
   ],
   "source": [
    "np.sort(salary_fake)"
   ]
  },
  {
   "cell_type": "code",
   "execution_count": 39,
   "id": "184a8ece-5ac8-4fe9-b252-c8101f9c42ad",
   "metadata": {},
   "outputs": [
    {
     "data": {
      "text/plain": [
       "145000"
      ]
     },
     "execution_count": 39,
     "metadata": {},
     "output_type": "execute_result"
    }
   ],
   "source": [
    "#10-й индекс в списке - это 11-е значение, в списке индексация начинается с нуля\n",
    "np.sort(salary_fake)[10]"
   ]
  }
 ],
 "metadata": {
  "kernelspec": {
   "display_name": "Python 3 (ipykernel)",
   "language": "python",
   "name": "python3"
  },
  "language_info": {
   "codemirror_mode": {
    "name": "ipython",
    "version": 3
   },
   "file_extension": ".py",
   "mimetype": "text/x-python",
   "name": "python",
   "nbconvert_exporter": "python",
   "pygments_lexer": "ipython3",
   "version": "3.9.18"
  }
 },
 "nbformat": 4,
 "nbformat_minor": 5
}
