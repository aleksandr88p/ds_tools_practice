{
 "cells": [
  {
   "cell_type": "markdown",
   "id": "ad389614",
   "metadata": {},
   "source": [
    "# Математическое ожидание "
   ]
  },
  {
   "cell_type": "code",
   "execution_count": 1,
   "id": "f4ddce6e",
   "metadata": {},
   "outputs": [
    {
     "data": {
      "text/plain": [
       "0.16666666666666666"
      ]
     },
     "execution_count": 1,
     "metadata": {},
     "output_type": "execute_result"
    }
   ],
   "source": [
    "list1 = [1,2,3,4,5,6] # найдем мат ожидание от этой выборки\n",
    "probabilty = 1 / len(list1) \n",
    "probabilty"
   ]
  },
  {
   "cell_type": "code",
   "execution_count": 4,
   "id": "16760a87",
   "metadata": {},
   "outputs": [
    {
     "name": "stdout",
     "output_type": "stream",
     "text": [
      "0.16666666666666666\n",
      "0.3333333333333333\n",
      "0.5\n",
      "0.6666666666666666\n",
      "0.8333333333333333\n",
      "1.0\n"
     ]
    }
   ],
   "source": [
    "summa = 0\n",
    "for i in list1:\n",
    "    summa += i * probabilty\n",
    "    print(i * probabilty)"
   ]
  },
  {
   "cell_type": "code",
   "execution_count": 6,
   "id": "9ae00eb1",
   "metadata": {},
   "outputs": [
    {
     "data": {
      "text/plain": [
       "3.5"
      ]
     },
     "execution_count": 6,
     "metadata": {},
     "output_type": "execute_result"
    }
   ],
   "source": [
    "summa # мат ожидание"
   ]
  },
  {
   "cell_type": "markdown",
   "id": "2b872e1c",
   "metadata": {},
   "source": []
  }
 ],
 "metadata": {
  "kernelspec": {
   "display_name": "Python 3 (ipykernel)",
   "language": "python",
   "name": "python3"
  },
  "language_info": {
   "codemirror_mode": {
    "name": "ipython",
    "version": 3
   },
   "file_extension": ".py",
   "mimetype": "text/x-python",
   "name": "python",
   "nbconvert_exporter": "python",
   "pygments_lexer": "ipython3",
   "version": "3.11.7"
  }
 },
 "nbformat": 4,
 "nbformat_minor": 5
}
