{
 "cells": [
  {
   "cell_type": "code",
   "execution_count": 1,
   "id": "f4ddce6e",
   "metadata": {},
   "outputs": [
    {
     "data": {
      "text/plain": [
       "0.16666666666666666"
      ]
     },
     "execution_count": 1,
     "metadata": {},
     "output_type": "execute_result"
    }
   ],
   "source": [
    "list1 = [1,2,3,4,5,6] # найдем мат ожидание от этой выборки\n",
    "probabilty = 1 / len(list1) \n",
    "probabilty"
   ]
  },
  {
   "cell_type": "code",
   "execution_count": 4,
   "id": "16760a87",
   "metadata": {},
   "outputs": [
    {
     "name": "stdout",
     "output_type": "stream",
     "text": [
      "0.16666666666666666\n",
      "0.3333333333333333\n",
      "0.5\n",
      "0.6666666666666666\n",
      "0.8333333333333333\n",
      "1.0\n"
     ]
    }
   ],
   "source": [
    "summa = 0\n",
    "for i in list1:\n",
    "    summa += i * probabilty\n",
    "    print(i * probabilty)"
   ]
  },
  {
   "cell_type": "code",
   "execution_count": 6,
   "id": "9ae00eb1",
   "metadata": {},
   "outputs": [
    {
     "data": {
      "text/plain": [
       "3.5"
      ]
     },
     "execution_count": 6,
     "metadata": {},
     "output_type": "execute_result"
    }
   ],
   "source": [
    "summa # мат ожидание"
   ]
  },
  {
   "cell_type": "markdown",
   "id": "2b872e1c",
   "metadata": {},
   "source": [
    "Z test"
   ]
  },
  {
   "cell_type": "markdown",
   "id": "88912aaf",
   "metadata": {},
   "source": [
    "1. sigma (сигма):\n",
    "Это стандартное отклонение генеральной совокупности, которое измеряет, насколько данные разбросаны относительно среднего значения (μ).\n",
    "В нашем случае \n",
    "𝜎\n",
    "=\n",
    "10\n",
    "σ=10, что означает, что большинство значений в выборке будет находиться в диапазоне около 10 единиц от среднего значения. Чем больше значение сигмы, тем более \"разбросаны\" данные.\n",
    "2. mu (мю):\n",
    "Это среднее значение генеральной совокупности (также называется математическим ожиданием). В данном коде \n",
    "𝜇\n",
    "=\n",
    "30\n",
    "μ=30, что означает, что центр распределения находится на значении 30. Большинство значений будет находиться вокруг этого числа.\n",
    "3. norm_rv:\n",
    "Это объект нормального распределения, который создаётся с помощью функции sts.norm(loc=mu, scale=sigma). Здесь:\n",
    "loc=mu задает среднее (центр распределения),\n",
    "scale=sigma задает стандартное отклонение.\n",
    "Этот объект позволяет генерировать случайные выборки из нормального распределения с указанными параметрами.\n",
    "4. sample:\n",
    "Это выборка, сгенерированная из нормального распределения с помощью метода .rvs(size=500).\n",
    "Этот метод генерирует 500 случайных чисел, которые соответствуют нормальному распределению с параметрами \n",
    "𝜇\n",
    "=\n",
    "30\n",
    "μ=30 и \n",
    "𝜎\n",
    "=\n",
    "10\n",
    "σ=10. По сути, выборка имитирует реальные данные, которые распределены по нормальному закону.\n",
    "5. np.random.seed(0):\n",
    "Это установка сиды генератора случайных чисел, которая гарантирует, что при каждом запуске программы результаты будут одинаковыми. Сида фиксирует последовательность случайных чисел, чтобы эксперименты были повторяемыми."
   ]
  },
  {
   "cell_type": "code",
   "execution_count": 3,
   "id": "903cb277",
   "metadata": {},
   "outputs": [],
   "source": [
    "import numpy as np\n",
    "from scipy import stats as sts\n",
    "\n",
    "np.random.seed(0)\n",
    "mu = 30\n",
    "sigma = 10\n",
    "norm_rv = sts.norm(loc=mu, scale=sigma)\n",
    "sample = norm_rv.rvs(size=500)\n"
   ]
  },
  {
   "cell_type": "code",
   "execution_count": 8,
   "id": "087360fe",
   "metadata": {},
   "outputs": [],
   "source": [
    "m = np.mean(sample) #рассчитываем среднее для выборки"
   ]
  },
  {
   "cell_type": "code",
   "execution_count": 6,
   "id": "7ac60910",
   "metadata": {},
   "outputs": [
    {
     "name": "stdout",
     "output_type": "stream",
     "text": [
      "0.447\n"
     ]
    }
   ],
   "source": [
    "# Рассчет стандартной ошибки\n",
    "SE = sigma / np.sqrt(500)\n",
    "\n",
    "# Вывод результата\n",
    "print(round(SE, 3))"
   ]
  },
  {
   "cell_type": "code",
   "execution_count": 11,
   "id": "541b7c15",
   "metadata": {},
   "outputs": [
    {
     "name": "stdout",
     "output_type": "stream",
     "text": [
      "-2.80301047628695\n"
     ]
    }
   ],
   "source": [
    "#z-статистика\n",
    "z = (m - 31)/SE #проверяем гипотезу, что среднее значение ГС 31\n",
    "print(z)"
   ]
  },
  {
   "cell_type": "markdown",
   "id": "b49baf72",
   "metadata": {},
   "source": [
    "-1.96 и 1.96 - называют критическими значениями. Это границы, за которыми лежит 5% плотности распределения, 5% вероятности. Отметив критические значения мы установили уровень значимости  𝛼\n",
    " . в нашем случае  𝛼\n",
    " =0.05"
   ]
  },
  {
   "cell_type": "code",
   "execution_count": 12,
   "id": "f951aede",
   "metadata": {},
   "outputs": [],
   "source": [
    "\n",
    "\n",
    "from scipy import stats as sts\n",
    "\n",
    "mu = 0 #среднее \n",
    "std = 1 #стандартное отклонение\n",
    "norm_rv = sts.norm(0, 1) #нормальное стандартное распределение"
   ]
  },
  {
   "cell_type": "markdown",
   "id": "d0febb09",
   "metadata": {},
   "source": [
    "С помощью функции  .cdf() посчитайте вероятность того, что случайная величина Х примет значение больше -2.58 и меньше 2.58"
   ]
  },
  {
   "cell_type": "code",
   "execution_count": 16,
   "id": "ae04d434",
   "metadata": {},
   "outputs": [
    {
     "data": {
      "text/plain": [
       "0.004940015757770645"
      ]
     },
     "execution_count": 16,
     "metadata": {},
     "output_type": "execute_result"
    }
   ],
   "source": [
    "cdf1 = norm_rv.cdf(-2.58)\n",
    "cdf1"
   ]
  },
  {
   "cell_type": "code",
   "execution_count": 17,
   "id": "55ba0c6c",
   "metadata": {},
   "outputs": [
    {
     "data": {
      "text/plain": [
       "0.9950599842422293"
      ]
     },
     "execution_count": 17,
     "metadata": {},
     "output_type": "execute_result"
    }
   ],
   "source": [
    "cdf2 = norm_rv.cdf(2.58)\n",
    "cdf2"
   ]
  },
  {
   "cell_type": "code",
   "execution_count": 19,
   "id": "359337b7",
   "metadata": {},
   "outputs": [
    {
     "name": "stdout",
     "output_type": "stream",
     "text": [
      "0.99\n"
     ]
    }
   ],
   "source": [
    "print(round(cdf2 - cdf1, 2))"
   ]
  },
  {
   "cell_type": "code",
   "execution_count": null,
   "id": "bddafc91",
   "metadata": {},
   "outputs": [],
   "source": []
  },
  {
   "cell_type": "code",
   "execution_count": 1,
   "id": "99aa29e1",
   "metadata": {},
   "outputs": [],
   "source": [
    "import numpy as np\n",
    "from scipy import stats as sts\n",
    "\n",
    "np.random.seed(0)\n",
    "mu = 30\n",
    "sigma = 10\n",
    "norm_rv = sts.norm(loc=mu, scale=sigma)\n",
    "sample = norm_rv.rvs(size=500)"
   ]
  },
  {
   "cell_type": "markdown",
   "id": "050e73e4",
   "metadata": {},
   "source": [
    "среднее и стандартное отклонение"
   ]
  },
  {
   "cell_type": "code",
   "execution_count": 3,
   "id": "12c56fcd",
   "metadata": {},
   "outputs": [
    {
     "data": {
      "text/plain": [
       "(29.746455606675664, 9.981567773429258)"
      ]
     },
     "execution_count": 3,
     "metadata": {},
     "output_type": "execute_result"
    }
   ],
   "source": [
    "np.mean(sample), np.std(sample)"
   ]
  },
  {
   "cell_type": "code",
   "execution_count": 5,
   "id": "cf9f70ad",
   "metadata": {},
   "outputs": [
    {
     "name": "stdout",
     "output_type": "stream",
     "text": [
      "0.4463892812681808\n"
     ]
    }
   ],
   "source": [
    "ESE = np.std(sample)/(len(sample)**0.5)  #  ESE (стандартную ошибку среднего)\n",
    "print(ESE)"
   ]
  },
  {
   "cell_type": "markdown",
   "id": "dda281f5",
   "metadata": {},
   "source": [
    "т статистика"
   ]
  },
  {
   "cell_type": "code",
   "execution_count": 7,
   "id": "40da5608",
   "metadata": {},
   "outputs": [
    {
     "name": "stdout",
     "output_type": "stream",
     "text": [
      "-2.808186589433886\n"
     ]
    }
   ],
   "source": [
    "t_stats = (np.mean(sample) - 31)/ESE\n",
    "print(t_stats)"
   ]
  },
  {
   "cell_type": "code",
   "execution_count": 8,
   "id": "a7b68ccd",
   "metadata": {},
   "outputs": [
    {
     "name": "stdout",
     "output_type": "stream",
     "text": [
      "t-статистика: -2.8053769973453067\n",
      "p-значение: 0.005221988377647646\n"
     ]
    }
   ],
   "source": [
    "import numpy as np\n",
    "from scipy import stats as sts\n",
    "\n",
    "# 1. Генерация выборки\n",
    "np.random.seed(0)\n",
    "mu = 30\n",
    "sigma = 10\n",
    "norm_rv = sts.norm(loc=mu, scale=sigma)\n",
    "sample = norm_rv.rvs(size=500)\n",
    "\n",
    "# 2. Вычисляем выборочное среднее\n",
    "sample_mean = np.mean(sample)\n",
    "\n",
    "# 3. Гипотетическое среднее генеральной совокупности (например, 31)\n",
    "mu_0 = 31\n",
    "\n",
    "# 4. Стандартное отклонение выборки\n",
    "sample_std = np.std(sample, ddof=1)  # ddof=1 для выборочного отклонения\n",
    "\n",
    "# 5. Стандартная ошибка\n",
    "n = len(sample)\n",
    "SE = sample_std / np.sqrt(n)\n",
    "\n",
    "# 6. Рассчитываем t-статистику\n",
    "t_stat = (sample_mean - mu_0) / SE\n",
    "\n",
    "# 7. Находим p-значение для t-теста\n",
    "p_value = 2 * (1 - sts.t.cdf(np.abs(t_stat), df=n-1))\n",
    "\n",
    "# Выводим результаты\n",
    "print(f\"t-статистика: {t_stat}\")\n",
    "print(f\"p-значение: {p_value}\")\n"
   ]
  },
  {
   "cell_type": "code",
   "execution_count": 9,
   "id": "a1caa8db",
   "metadata": {},
   "outputs": [],
   "source": [
    "import numpy as np\n",
    "from scipy import stats as sts\n",
    "\n",
    "np.random.seed(0)\n",
    "test = [np.random.randint(30,140) for i in range(200)]\n",
    "control = [np.random.randint(30,140) for i in range(200)]"
   ]
  },
  {
   "cell_type": "markdown",
   "id": "f454a367",
   "metadata": {},
   "source": [
    "степень свободы"
   ]
  },
  {
   "cell_type": "code",
   "execution_count": 10,
   "id": "2099a418",
   "metadata": {},
   "outputs": [
    {
     "data": {
      "text/plain": [
       "TtestResult(statistic=-0.21341529910224746, pvalue=0.831112326758055, df=398.0)"
      ]
     },
     "execution_count": 10,
     "metadata": {},
     "output_type": "execute_result"
    }
   ],
   "source": [
    "sts.ttest_ind (test,control)"
   ]
  },
  {
   "cell_type": "code",
   "execution_count": 11,
   "id": "4a1bd69f",
   "metadata": {},
   "outputs": [],
   "source": [
    "import numpy as np\n",
    "from statsmodels.stats.proportion import proportions_ztest\n",
    "\n",
    "p_test = 0.14  #Доля вернувшихся из тех, кто получил смс\n",
    "p_control = 0.10  #Доля вернувшихся из тех, кто не получил смс\n",
    "\n",
    "# Сгенерируем данные\n",
    "np.random.seed(2)\n",
    "test_group = np.random.choice([0, 1], size=1000, p=[1-p_test, p_test])\n",
    "control_group = np.random.choice([0, 1], size=1000, p=[1-p_control, p_control])"
   ]
  },
  {
   "cell_type": "code",
   "execution_count": 13,
   "id": "7c647c2c",
   "metadata": {},
   "outputs": [
    {
     "name": "stdout",
     "output_type": "stream",
     "text": [
      "Z-statistic: 2.1940567562600117\n",
      "p-value: 0.028231329563203986\n"
     ]
    }
   ],
   "source": [
    "\n",
    "\n",
    "import numpy as np\n",
    "from statsmodels.stats.proportion import proportions_ztest\n",
    "\n",
    "p_test = 0.14  #Доля вернувшихся из тех, кто получил смс\n",
    "p_control = 0.10  #Доля вернувшихся из тех, кто не получил смс\n",
    "\n",
    "# Сгенерируем данные\n",
    "np.random.seed(2)\n",
    "test_group = np.random.choice([0, 1], size=1000, p=[1-p_test, p_test])\n",
    "control_group = np.random.choice([0, 1], size=1000, p=[1-p_control, p_control])\n",
    "\n",
    "\n",
    "z_stat, p_value = proportions_ztest([np.sum(test_group), np.sum(control_group)], [len(test_group), len(control_group)])\n",
    "print(\"Z-statistic:\", z_stat)\n",
    "print(\"p-value:\", p_value)"
   ]
  },
  {
   "cell_type": "code",
   "execution_count": null,
   "id": "ca3dd14d",
   "metadata": {},
   "outputs": [],
   "source": []
  },
  {
   "cell_type": "code",
   "execution_count": 28,
   "id": "426eb8c9",
   "metadata": {},
   "outputs": [],
   "source": [
    "from scipy import stats as sts\n",
    "\n",
    "alpha = 0.05 #уровень значимости альфа, ошибка первого рода\n",
    "beta = 0.2 #ошибка второго рода\n",
    "p_1 = 0.10 #конверсия или среднее\n",
    "p_2 = 0.14 #конверсия с учетом MDE\n",
    "\n"
   ]
  },
  {
   "cell_type": "code",
   "execution_count": 27,
   "id": "1f1b6ed2",
   "metadata": {},
   "outputs": [
    {
     "data": {
      "text/plain": [
       "279.9433771917841"
      ]
     },
     "execution_count": 27,
     "metadata": {},
     "output_type": "execute_result"
    }
   ],
   "source": [
    "# Z-значения\n",
    "Z_alpha_2 = sts.norm.ppf(1 - alpha / 2)\n",
    "Z_beta = sts.norm.ppf(1 - beta)\n",
    "\n",
    "# Формула расчета размера выборки\n",
    "n = ((Z_alpha_2 + Z_beta) ** 2 * (p_1 * (1 - p_1) + p_2 * (1 - p_2))) / (p_2 - p_1) ** 2\n",
    "\n",
    "n"
   ]
  },
  {
   "cell_type": "markdown",
   "id": "767da13c",
   "metadata": {},
   "source": [
    "Задача: У вашего супермаркета Покупочка есть приложение для покупок онлайн. Ваши разработчики разработали новый алгоритм рекомендаций товаров, который должен увеличить средний оборот на пользователя (посетителя сайта) за определенный период времени. Эту метрику еще называют ARPU (Average Revenue Per User).\n",
    "\n",
    "На исторических данных вы знаете, что ARPU = 750 рублей, при стандартном отклонении 200 рублей. А вы хотите повысить АRPU на 20 рублей, до 770. Рассчитайте размер выборок,\n",
    "\n",
    "Мы хотим фиксировать ошибки:  𝛼\n",
    "  = 0.05,  𝛽\n",
    "  = 0.2. Мощность = 1 -  𝛽\n",
    "  = 0.8\n",
    "\n",
    "\n",
    "\n",
    "\n"
   ]
  },
  {
   "cell_type": "code",
   "execution_count": 25,
   "id": "858f5f32",
   "metadata": {},
   "outputs": [
    {
     "name": "stdout",
     "output_type": "stream",
     "text": [
      "-1.9599639845400545\n",
      "-0.8416212335729142\n",
      "251.1641514991709\n"
     ]
    }
   ],
   "source": [
    "\n",
    "\n",
    "\n",
    "a = 0.05 #уровень значимости альфа, ошибка первого рода\n",
    "b = 0.2 #ошибка второго рода\n",
    "var = 200**2\n",
    "mde = 800 - 750 # MDE\n",
    "\n",
    "z_a = sts.norm.ppf(0.05/2)\n",
    "print(z_a)\n",
    "\n",
    "z_b = sts.norm.ppf(0.2)\n",
    "print(z_b)\n",
    "\n",
    "n =  (var + var) * (z_a + z_b)**2 /mde**2\n",
    "print(n)"
   ]
  },
  {
   "cell_type": "code",
   "execution_count": null,
   "id": "81af856f",
   "metadata": {},
   "outputs": [],
   "source": []
  },
  {
   "cell_type": "code",
   "execution_count": null,
   "id": "3d0024b4",
   "metadata": {},
   "outputs": [],
   "source": [
    "from scipy import stats as sts\n",
    "\n",
    "a = 0.05 #уровень значимости альфа, ошибка первого рода\n",
    "b = 0.2 #ошибка второго рода\n",
    "p_1 = 0.04 #конверсия или среднее\n",
    "p_2 = 0.06 #конверсия с учетом MDE"
   ]
  },
  {
   "cell_type": "code",
   "execution_count": null,
   "id": "3b9b06c9",
   "metadata": {},
   "outputs": [],
   "source": []
  },
  {
   "cell_type": "code",
   "execution_count": 29,
   "id": "b1ce1fbc",
   "metadata": {},
   "outputs": [
    {
     "data": {
      "text/plain": [
       "1860"
      ]
     },
     "execution_count": 29,
     "metadata": {},
     "output_type": "execute_result"
    }
   ],
   "source": [
    "import scipy.stats as stats\n",
    "\n",
    "alpha = 0.05  \n",
    "beta = 0.2  \n",
    "p1 = 0.04  \n",
    "p2 = 0.06  \n",
    "\n",
    "z_alpha = stats.norm.ppf(1 - alpha / 2)\n",
    "z_beta = stats.norm.ppf(1 - beta)\n",
    "\n",
    "n = ((z_alpha + z_beta) ** 2 * (p1 * (1 - p1) + p2 * (1 - p2))) / (p1 - p2) ** 2\n",
    "round(n)"
   ]
  },
  {
   "cell_type": "code",
   "execution_count": null,
   "id": "bf6adb4f",
   "metadata": {},
   "outputs": [],
   "source": []
  },
  {
   "cell_type": "code",
   "execution_count": 30,
   "id": "58360dcd",
   "metadata": {},
   "outputs": [
    {
     "name": "stdout",
     "output_type": "stream",
     "text": [
      "Z-statistic: -2.7061244206561166\n",
      "p-value: 0.006807353583795346\n"
     ]
    }
   ],
   "source": [
    "\n",
    "\n",
    "import numpy as np\n",
    "from statsmodels.stats.proportion import proportions_ztest\n",
    "\n",
    "p_test = 0.04  # Доля вернувшихся из тех, кто получил смс\n",
    "p_control = 0.06  # Доля вернувшихся из тех, кто не получил смс\n",
    "\n",
    "# Сгенерируем данные\n",
    "np.random.seed(2)\n",
    "test_group = np.random.choice([0, 1], size=2000, p=[1-p_test, p_test])\n",
    "control_group = np.random.choice([0, 1], size=2000, p=[1-p_control, p_control])\n",
    "\n",
    "\n",
    "z_stat, p_value = proportions_ztest([np.sum(test_group), np.sum(control_group)], [len(test_group), len(control_group)])\n",
    "print(\"Z-statistic:\", z_stat)\n",
    "print(\"p-value:\", p_value)"
   ]
  },
  {
   "cell_type": "code",
   "execution_count": null,
   "id": "61f2da9d",
   "metadata": {},
   "outputs": [],
   "source": []
  }
 ],
 "metadata": {
  "kernelspec": {
   "display_name": "Python 3 (ipykernel)",
   "language": "python",
   "name": "python3"
  },
  "language_info": {
   "codemirror_mode": {
    "name": "ipython",
    "version": 3
   },
   "file_extension": ".py",
   "mimetype": "text/x-python",
   "name": "python",
   "nbconvert_exporter": "python",
   "pygments_lexer": "ipython3",
   "version": "3.11.7"
  }
 },
 "nbformat": 4,
 "nbformat_minor": 5
}
