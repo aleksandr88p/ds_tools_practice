{
 "cells": [
  {
   "cell_type": "code",
   "execution_count": 2,
   "id": "d4983d02",
   "metadata": {},
   "outputs": [],
   "source": [
    "import numpy as np\n",
    "\n",
    "# Генерируем две рандомные выборки\n",
    "np.random.seed(5) #создаем идемпотентный рандом\n",
    "class1 = np.random.randint(30, 100, 30)  #выборка с целыми числами от 1 до 100\n",
    "class2 = np.random.randint(30, 100, 30)  #выборка с целыми числами от 1 до 100"
   ]
  },
  {
   "cell_type": "markdown",
   "id": "bedb5a3a",
   "metadata": {},
   "source": [
    "# дисперсия\n",
    "\n"
   ]
  },
  {
   "cell_type": "code",
   "execution_count": 5,
   "id": "5c57772b",
   "metadata": {},
   "outputs": [
    {
     "data": {
      "text/plain": [
       "('470.94', 470.94)"
      ]
     },
     "execution_count": 5,
     "metadata": {},
     "output_type": "execute_result"
    }
   ],
   "source": [
    "f\"{np.var(class1):.2f}\", round(np.var(class1), 2)"
   ]
  },
  {
   "cell_type": "code",
   "execution_count": 7,
   "id": "b1f74fe1",
   "metadata": {},
   "outputs": [
    {
     "data": {
      "text/plain": [
       "470.9433333333333"
      ]
     },
     "execution_count": 7,
     "metadata": {},
     "output_type": "execute_result"
    }
   ],
   "source": [
    "np.sum((class1 - np.mean(class1)) ** 2 /len(class1))"
   ]
  },
  {
   "cell_type": "markdown",
   "id": "93099269",
   "metadata": {},
   "source": [
    "# стандартное отклонение"
   ]
  },
  {
   "cell_type": "code",
   "execution_count": 10,
   "id": "f4d9200b",
   "metadata": {},
   "outputs": [
    {
     "data": {
      "text/plain": [
       "21.7"
      ]
     },
     "execution_count": 10,
     "metadata": {},
     "output_type": "execute_result"
    }
   ],
   "source": [
    "round(np.std(class1),1)"
   ]
  },
  {
   "cell_type": "code",
   "execution_count": 9,
   "id": "83e2b816",
   "metadata": {},
   "outputs": [
    {
     "data": {
      "text/plain": [
       "21.701228843854288"
      ]
     },
     "execution_count": 9,
     "metadata": {},
     "output_type": "execute_result"
    }
   ],
   "source": [
    "np.var(class1)**0.5"
   ]
  },
  {
   "cell_type": "code",
   "execution_count": 11,
   "id": "b17c2d87",
   "metadata": {},
   "outputs": [
    {
     "data": {
      "text/plain": [
       "18.44948057082728"
      ]
     },
     "execution_count": 11,
     "metadata": {},
     "output_type": "execute_result"
    }
   ],
   "source": [
    "np.std(class2)"
   ]
  },
  {
   "cell_type": "code",
   "execution_count": null,
   "id": "cb5313fd",
   "metadata": {},
   "outputs": [],
   "source": []
  }
 ],
 "metadata": {
  "kernelspec": {
   "display_name": "Python 3 (ipykernel)",
   "language": "python",
   "name": "python3"
  },
  "language_info": {
   "codemirror_mode": {
    "name": "ipython",
    "version": 3
   },
   "file_extension": ".py",
   "mimetype": "text/x-python",
   "name": "python",
   "nbconvert_exporter": "python",
   "pygments_lexer": "ipython3",
   "version": "3.11.7"
  }
 },
 "nbformat": 4,
 "nbformat_minor": 5
}
