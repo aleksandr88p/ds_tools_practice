{
 "cells": [
  {
   "cell_type": "code",
   "execution_count": 1,
   "metadata": {},
   "outputs": [],
   "source": [
    "import numpy as np"
   ]
  },
  {
   "cell_type": "markdown",
   "metadata": {},
   "source": [
    "# Mean"
   ]
  },
  {
   "cell_type": "code",
   "execution_count": 8,
   "metadata": {},
   "outputs": [],
   "source": [
    "# Генерируем две рандомные выборки\n",
    "np.random.seed(5) #создаем идемпотентный рандом\n",
    "class1 = np.random.randint(30, 100, 30)  #выборка с целыми числами от 30 до 100\n",
    "class2 = np.random.randint(30, 100, 30)  #выборка с целыми числами от 30 до 100"
   ]
  },
  {
   "cell_type": "code",
   "execution_count": 9,
   "metadata": {},
   "outputs": [
    {
     "data": {
      "text/plain": [
       "(array([91, 46, 38, 92, 57, 60, 37, 45, 83, 57, 74, 95, 77, 60, 48, 39, 71,\n",
       "        92, 31, 46, 35, 88, 30, 34, 66, 81, 57, 61, 32, 98]),\n",
       " array([68, 49, 48, 37, 60, 92, 41, 97, 95, 85, 33, 57, 59, 63, 37, 46, 44,\n",
       "        61, 39, 68, 77, 46, 35, 64, 75, 89, 54, 43, 61, 62]))"
      ]
     },
     "execution_count": 9,
     "metadata": {},
     "output_type": "execute_result"
    }
   ],
   "source": [
    "class1, class2"
   ]
  },
  {
   "cell_type": "code",
   "execution_count": 13,
   "metadata": {},
   "outputs": [
    {
     "name": "stdout",
     "output_type": "stream",
     "text": [
      "[30 31 32 34 35 37 38 39 45 46 46 48 57 57 57 60 60 61 66 71 74 77 81 83\n",
      " 88 91 92 92 95 98]\n",
      "**********\n",
      "[33 35 37 37 39 41 43 44 46 46 48 49 54 57 59 60 61 61 62 63 64 68 68 75\n",
      " 77 85 89 92 95 97]\n"
     ]
    }
   ],
   "source": [
    "print(np.sort(class1))\n",
    "print(\"**********\")\n",
    "print(np.sort(class2))"
   ]
  },
  {
   "cell_type": "code",
   "execution_count": 10,
   "metadata": {},
   "outputs": [
    {
     "data": {
      "text/plain": [
       "(60.7, 59.5)"
      ]
     },
     "execution_count": 10,
     "metadata": {},
     "output_type": "execute_result"
    }
   ],
   "source": [
    "np.mean(class1), np.mean(class2) #средние значения выборок"
   ]
  },
  {
   "cell_type": "code",
   "execution_count": 11,
   "metadata": {},
   "outputs": [
    {
     "data": {
      "text/plain": [
       "(58.5, 59.5)"
      ]
     },
     "execution_count": 11,
     "metadata": {},
     "output_type": "execute_result"
    }
   ],
   "source": [
    "np.median(class1), np.median(class2) #медианные значения выборок"
   ]
  },
  {
   "cell_type": "code",
   "execution_count": null,
   "metadata": {},
   "outputs": [],
   "source": []
  }
 ],
 "metadata": {
  "kernelspec": {
   "display_name": "base",
   "language": "python",
   "name": "python3"
  },
  "language_info": {
   "codemirror_mode": {
    "name": "ipython",
    "version": 3
   },
   "file_extension": ".py",
   "mimetype": "text/x-python",
   "name": "python",
   "nbconvert_exporter": "python",
   "pygments_lexer": "ipython3",
   "version": "3.11.7"
  }
 },
 "nbformat": 4,
 "nbformat_minor": 2
}
