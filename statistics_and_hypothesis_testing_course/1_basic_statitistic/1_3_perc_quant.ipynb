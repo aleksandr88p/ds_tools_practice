{
 "cells": [
  {
   "cell_type": "code",
   "execution_count": 18,
   "id": "7ec16e1e",
   "metadata": {},
   "outputs": [
    {
     "data": {
      "text/plain": [
       "(array([91, 46, 38, 92, 57, 60, 37, 45, 83, 57, 74, 95, 77, 60, 48, 39, 71,\n",
       "        92, 31, 46, 35, 88, 30, 34, 66, 81, 57, 61, 32, 98]),\n",
       " array([68, 49, 48, 37, 60, 92, 41, 97, 95, 85, 33, 57, 59, 63, 37, 46, 44,\n",
       "        61, 39, 68, 77, 46, 35, 64, 75, 89, 54, 43, 61, 62]))"
      ]
     },
     "execution_count": 18,
     "metadata": {},
     "output_type": "execute_result"
    }
   ],
   "source": [
    "import numpy as np\n",
    "from matplotlib import pyplot as plt\n",
    "\n",
    "# Генерируем две рандомные выборки\n",
    "np.random.seed(5) #создаем идемпотентный рандом\n",
    "class1 = np.random.randint(30, 100, 30)  #выборка с целыми числами от 1 до 100\n",
    "class2 = np.random.randint(30, 100, 30)  #выборка с целыми числами от 1 до 100\n",
    "\n",
    "class1, class2"
   ]
  },
  {
   "cell_type": "code",
   "execution_count": 15,
   "id": "dc2c74dc",
   "metadata": {},
   "outputs": [
    {
     "data": {
      "image/png": "[encoded data removed]",
      "text/plain": [
       "<Figure size 640x480 with 2 Axes>"
      ]
     },
     "metadata": {},
     "output_type": "display_data"
    }
   ],
   "source": [
    "fig, axs = plt.subplots(ncols=2)\n",
    "axs[0].boxplot(class1)\n",
    "axs[1].boxplot(class2)\n",
    "plt.show()"
   ]
  },
  {
   "cell_type": "code",
   "execution_count": 20,
   "id": "83f92959",
   "metadata": {},
   "outputs": [
    {
     "data": {
      "text/plain": [
       "array([91, 46, 38, 92, 57, 60, 37, 45, 83, 57, 74, 95, 77, 60, 48, 39, 71,\n",
       "       92, 31, 46, 35, 88, 30, 34, 66, 81, 57, 61, 32, 98, 68, 49, 48, 37,\n",
       "       60, 92, 41, 97, 95, 85, 33, 57, 59, 63, 37, 46, 44, 61, 39, 68, 77,\n",
       "       46, 35, 64, 75, 89, 54, 43, 61, 62])"
      ]
     },
     "execution_count": 20,
     "metadata": {},
     "output_type": "execute_result"
    }
   ],
   "source": [
    "all_classes = np.concatenate((class1, class2), axis=0)\n",
    "all_classes"
   ]
  },
  {
   "cell_type": "code",
   "execution_count": 21,
   "id": "284b1ce7",
   "metadata": {},
   "outputs": [
    {
     "data": {
      "text/plain": [
       "92.0"
      ]
     },
     "execution_count": 21,
     "metadata": {},
     "output_type": "execute_result"
    }
   ],
   "source": [
    "np.percentile(all_classes, 90)"
   ]
  },
  {
   "cell_type": "code",
   "execution_count": 23,
   "id": "3071ac7e",
   "metadata": {},
   "outputs": [
    {
     "data": {
      "text/plain": [
       "58.5"
      ]
     },
     "execution_count": 23,
     "metadata": {},
     "output_type": "execute_result"
    }
   ],
   "source": [
    "np.quantile(class1, 0.5)"
   ]
  },
  {
   "cell_type": "code",
   "execution_count": 25,
   "id": "66c29219",
   "metadata": {},
   "outputs": [
    {
     "data": {
      "text/plain": [
       "30.145"
      ]
     },
     "execution_count": 25,
     "metadata": {},
     "output_type": "execute_result"
    }
   ],
   "source": [
    "np.percentile(class1, 0.5)"
   ]
  },
  {
   "cell_type": "code",
   "execution_count": 27,
   "id": "4647d37c",
   "metadata": {},
   "outputs": [
    {
     "ename": "ValueError",
     "evalue": "Quantiles must be in the range [0, 1]",
     "output_type": "error",
     "traceback": [
      "\u001b[0;31m---------------------------------------------------------------------------\u001b[0m",
      "\u001b[0;31mValueError\u001b[0m                                Traceback (most recent call last)",
      "Cell \u001b[0;32mIn[27], line 1\u001b[0m\n\u001b[0;32m----> 1\u001b[0m np\u001b[38;5;241m.\u001b[39mquantile(class1, \u001b[38;5;241m50\u001b[39m)\n",
      "File \u001b[0;32m~/anaconda3/lib/python3.11/site-packages/numpy/lib/function_base.py:4542\u001b[0m, in \u001b[0;36mquantile\u001b[0;34m(a, q, axis, out, overwrite_input, method, keepdims, interpolation)\u001b[0m\n\u001b[1;32m   4540\u001b[0m q \u001b[38;5;241m=\u001b[39m np\u001b[38;5;241m.\u001b[39masanyarray(q)\n\u001b[1;32m   4541\u001b[0m \u001b[38;5;28;01mif\u001b[39;00m \u001b[38;5;129;01mnot\u001b[39;00m _quantile_is_valid(q):\n\u001b[0;32m-> 4542\u001b[0m     \u001b[38;5;28;01mraise\u001b[39;00m \u001b[38;5;167;01mValueError\u001b[39;00m(\u001b[38;5;124m\"\u001b[39m\u001b[38;5;124mQuantiles must be in the range [0, 1]\u001b[39m\u001b[38;5;124m\"\u001b[39m)\n\u001b[1;32m   4543\u001b[0m \u001b[38;5;28;01mreturn\u001b[39;00m _quantile_unchecked(\n\u001b[1;32m   4544\u001b[0m     a, q, axis, out, overwrite_input, method, keepdims)\n",
      "\u001b[0;31mValueError\u001b[0m: Quantiles must be in the range [0, 1]"
     ]
    }
   ],
   "source": [
    "np.quantile(class1, 50)"
   ]
  },
  {
   "cell_type": "code",
   "execution_count": 28,
   "id": "0d028b5e",
   "metadata": {},
   "outputs": [
    {
     "data": {
      "text/plain": [
       "58.5"
      ]
     },
     "execution_count": 28,
     "metadata": {},
     "output_type": "execute_result"
    }
   ],
   "source": [
    "\n",
    "np.percentile(class1, 50)"
   ]
  },
  {
   "cell_type": "code",
   "execution_count": null,
   "id": "5de60230",
   "metadata": {},
   "outputs": [],
   "source": []
  }
 ],
 "metadata": {
  "kernelspec": {
   "display_name": "Python 3 (ipykernel)",
   "language": "python",
   "name": "python3"
  },
  "language_info": {
   "codemirror_mode": {
    "name": "ipython",
    "version": 3
   },
   "file_extension": ".py",
   "mimetype": "text/x-python",
   "name": "python",
   "nbconvert_exporter": "python",
   "pygments_lexer": "ipython3",
   "version": "3.11.7"
  }
 },
 "nbformat": 4,
 "nbformat_minor": 5
}
