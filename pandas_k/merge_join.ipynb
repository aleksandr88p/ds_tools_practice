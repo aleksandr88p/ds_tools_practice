{
 "cells": [
  {
   "cell_type": "code",
   "execution_count": 1,
   "id": "049cb4f9",
   "metadata": {
    "ExecuteTime": {
     "end_time": "2024-09-02T22:59:42.713406Z",
     "start_time": "2024-09-02T22:59:42.633432Z"
    }
   },
   "outputs": [],
   "source": [
    "import pandas as pd\n",
    "df_p = pd.read_csv(\"Pandas_data_for_course/Products.csv\", sep=';')\n",
    "df_c = pd.read_csv(\"Pandas_data_for_course/Customers.csv\", sep=';')\n",
    "df_o = pd.read_csv(\"Pandas_data_for_course/Orders.csv\", sep=';')\n",
    "df_od = pd.read_csv(\"Pandas_data_for_course/Order_details.csv\", sep=';')\n",
    "df_e = pd.read_excel(\"Pandas_data_for_course/Employees.xlsx\")"
   ]
  },
  {
   "cell_type": "markdown",
   "id": "90d27f14",
   "metadata": {},
   "source": [
    "# What is the name of the employee who processed the most orders of all time?\n",
    "\n",
    "\n",
    "\n",
    "\n",
    "\n",
    "\n",
    "\n"
   ]
  },
  {
   "cell_type": "code",
   "execution_count": 2,
   "id": "3b5de610",
   "metadata": {
    "ExecuteTime": {
     "end_time": "2024-09-02T22:59:47.128018Z",
     "start_time": "2024-09-02T22:59:47.124002Z"
    }
   },
   "outputs": [],
   "source": [
    "new_df = df_e.merge(df_o)"
   ]
  },
  {
   "cell_type": "code",
   "execution_count": 3,
   "id": "af9c08e2",
   "metadata": {
    "ExecuteTime": {
     "end_time": "2024-09-02T22:59:59.129683Z",
     "start_time": "2024-09-02T22:59:59.123790Z"
    }
   },
   "outputs": [
    {
     "data": {
      "text/html": [
       "<div>\n",
       "<style scoped>\n",
       "    .dataframe tbody tr th:only-of-type {\n",
       "        vertical-align: middle;\n",
       "    }\n",
       "\n",
       "    .dataframe tbody tr th {\n",
       "        vertical-align: top;\n",
       "    }\n",
       "\n",
       "    .dataframe thead th {\n",
       "        text-align: right;\n",
       "    }\n",
       "</style>\n",
       "<table border=\"1\" class=\"dataframe\">\n",
       "  <thead>\n",
       "    <tr style=\"text-align: right;\">\n",
       "      <th></th>\n",
       "      <th>EmployeeID</th>\n",
       "      <th>FirstName</th>\n",
       "      <th>LastName</th>\n",
       "      <th>OrderID</th>\n",
       "    </tr>\n",
       "  </thead>\n",
       "  <tbody>\n",
       "    <tr>\n",
       "      <th>3</th>\n",
       "      <td>4</td>\n",
       "      <td>Margaret</td>\n",
       "      <td>Peacock</td>\n",
       "      <td>156</td>\n",
       "    </tr>\n",
       "    <tr>\n",
       "      <th>2</th>\n",
       "      <td>3</td>\n",
       "      <td>Janet</td>\n",
       "      <td>Leverling</td>\n",
       "      <td>127</td>\n",
       "    </tr>\n",
       "    <tr>\n",
       "      <th>0</th>\n",
       "      <td>1</td>\n",
       "      <td>Nancy</td>\n",
       "      <td>Davolio</td>\n",
       "      <td>123</td>\n",
       "    </tr>\n",
       "    <tr>\n",
       "      <th>7</th>\n",
       "      <td>8</td>\n",
       "      <td>Laura</td>\n",
       "      <td>Callahan</td>\n",
       "      <td>104</td>\n",
       "    </tr>\n",
       "    <tr>\n",
       "      <th>1</th>\n",
       "      <td>2</td>\n",
       "      <td>Andrew</td>\n",
       "      <td>Fuller</td>\n",
       "      <td>96</td>\n",
       "    </tr>\n",
       "    <tr>\n",
       "      <th>6</th>\n",
       "      <td>7</td>\n",
       "      <td>Robert</td>\n",
       "      <td>King</td>\n",
       "      <td>72</td>\n",
       "    </tr>\n",
       "    <tr>\n",
       "      <th>5</th>\n",
       "      <td>6</td>\n",
       "      <td>Michael</td>\n",
       "      <td>Suyama</td>\n",
       "      <td>67</td>\n",
       "    </tr>\n",
       "    <tr>\n",
       "      <th>8</th>\n",
       "      <td>9</td>\n",
       "      <td>Anne</td>\n",
       "      <td>Dodsworth</td>\n",
       "      <td>43</td>\n",
       "    </tr>\n",
       "    <tr>\n",
       "      <th>4</th>\n",
       "      <td>5</td>\n",
       "      <td>Steven</td>\n",
       "      <td>Buchanan</td>\n",
       "      <td>42</td>\n",
       "    </tr>\n",
       "  </tbody>\n",
       "</table>\n",
       "</div>"
      ],
      "text/plain": [
       "   EmployeeID FirstName   LastName  OrderID\n",
       "3           4  Margaret    Peacock      156\n",
       "2           3     Janet  Leverling      127\n",
       "0           1     Nancy    Davolio      123\n",
       "7           8     Laura   Callahan      104\n",
       "1           2    Andrew     Fuller       96\n",
       "6           7    Robert       King       72\n",
       "5           6   Michael     Suyama       67\n",
       "8           9      Anne  Dodsworth       43\n",
       "4           5    Steven   Buchanan       42"
      ]
     },
     "execution_count": 3,
     "metadata": {},
     "output_type": "execute_result"
    }
   ],
   "source": [
    "new_df.groupby(['EmployeeID', 'FirstName', 'LastName'],as_index=False).OrderID.count().sort_values(by='OrderID', ascending=False)"
   ]
  },
  {
   "cell_type": "markdown",
   "id": "6dd0d84b",
   "metadata": {},
   "source": [
    "First, I group the data and count the number of orders for each employee.\n",
    "\n",
    "Then, I sort by the number of orders in descending order.\n",
    "\n",
    "Finally, I retrieve the first row after sorting (using the iloc method)."
   ]
  },
  {
   "cell_type": "code",
   "execution_count": 4,
   "id": "0ebf9876",
   "metadata": {
    "ExecuteTime": {
     "end_time": "2024-09-02T23:00:01.988990Z",
     "start_time": "2024-09-02T23:00:01.982793Z"
    }
   },
   "outputs": [
    {
     "data": {
      "text/plain": [
       "EmployeeID           4\n",
       "FirstName     Margaret\n",
       "LastName       Peacock\n",
       "OrderID            156\n",
       "Name: 3, dtype: object"
      ]
     },
     "execution_count": 4,
     "metadata": {},
     "output_type": "execute_result"
    }
   ],
   "source": [
    "new_df.groupby(['EmployeeID', 'FirstName', 'LastName'], \n",
    "               as_index=False).OrderID.count().sort_values(by='OrderID', ascending=False).iloc[0]\n"
   ]
  },
  {
   "cell_type": "markdown",
   "id": "59ade82c",
   "metadata": {},
   "source": [
    "# What is the name of the client who brought in the highest net revenue of all time?\n",
    "\n",
    "\n",
    "\n",
    "\n",
    "\n",
    "\n",
    "\n",
    "\n"
   ]
  },
  {
   "cell_type": "code",
   "execution_count": 7,
   "id": "73cde92f",
   "metadata": {
    "ExecuteTime": {
     "end_time": "2024-09-02T23:00:07.223401Z",
     "start_time": "2024-09-02T23:00:07.212301Z"
    }
   },
   "outputs": [],
   "source": [
    "# merge three tables \n",
    "df_c_o_od = df_c.merge(df_o).merge(df_od)\n",
    "df_c_o_od['OrderDate'] = df_c_o_od['OrderDate'].astype('datetime64[ns]')"
   ]
  },
  {
   "cell_type": "code",
   "execution_count": 8,
   "id": "d3880709",
   "metadata": {
    "ExecuteTime": {
     "end_time": "2024-09-02T23:00:13.963999Z",
     "start_time": "2024-09-02T23:00:13.958339Z"
    }
   },
   "outputs": [
    {
     "data": {
      "text/html": [
       "<div>\n",
       "<style scoped>\n",
       "    .dataframe tbody tr th:only-of-type {\n",
       "        vertical-align: middle;\n",
       "    }\n",
       "\n",
       "    .dataframe tbody tr th {\n",
       "        vertical-align: top;\n",
       "    }\n",
       "\n",
       "    .dataframe thead th {\n",
       "        text-align: right;\n",
       "    }\n",
       "</style>\n",
       "<table border=\"1\" class=\"dataframe\">\n",
       "  <thead>\n",
       "    <tr style=\"text-align: right;\">\n",
       "      <th></th>\n",
       "      <th>CustomerID</th>\n",
       "      <th>ContactName</th>\n",
       "      <th>ContactTitle</th>\n",
       "      <th>Phone</th>\n",
       "      <th>Address</th>\n",
       "      <th>OrderID</th>\n",
       "      <th>EmployeeID</th>\n",
       "      <th>OrderDate</th>\n",
       "      <th>RequiredDate</th>\n",
       "      <th>ShippedDate</th>\n",
       "      <th>Freight</th>\n",
       "      <th>ProductID</th>\n",
       "      <th>UnitPrice</th>\n",
       "      <th>Quantity</th>\n",
       "      <th>Discount</th>\n",
       "    </tr>\n",
       "  </thead>\n",
       "  <tbody>\n",
       "    <tr>\n",
       "      <th>0</th>\n",
       "      <td>ALFKI</td>\n",
       "      <td>Maria Anders</td>\n",
       "      <td>Sales Representative</td>\n",
       "      <td>030-0074321</td>\n",
       "      <td>Obere Str. 57</td>\n",
       "      <td>10643</td>\n",
       "      <td>6</td>\n",
       "      <td>1997-08-25</td>\n",
       "      <td>1997-09-22 00:00:00.000</td>\n",
       "      <td>1997-09-02 00:00:00.000</td>\n",
       "      <td>29.46</td>\n",
       "      <td>28</td>\n",
       "      <td>45.6</td>\n",
       "      <td>15</td>\n",
       "      <td>0.25</td>\n",
       "    </tr>\n",
       "  </tbody>\n",
       "</table>\n",
       "</div>"
      ],
      "text/plain": [
       "  CustomerID   ContactName          ContactTitle        Phone        Address  \\\n",
       "0      ALFKI  Maria Anders  Sales Representative  030-0074321  Obere Str. 57   \n",
       "\n",
       "   OrderID  EmployeeID  OrderDate             RequiredDate  \\\n",
       "0    10643           6 1997-08-25  1997-09-22 00:00:00.000   \n",
       "\n",
       "               ShippedDate  Freight  ProductID  UnitPrice  Quantity  Discount  \n",
       "0  1997-09-02 00:00:00.000    29.46         28       45.6        15      0.25  "
      ]
     },
     "execution_count": 8,
     "metadata": {},
     "output_type": "execute_result"
    }
   ],
   "source": [
    "df_c_o_od.head(1)"
   ]
  },
  {
   "cell_type": "code",
   "execution_count": 52,
   "id": "b439dde0",
   "metadata": {},
   "outputs": [],
   "source": [
    "df_c_o_od['Discount_fact']= df_c_o_od['UnitPrice']*df_c_o_od['Quantity']*df_c_o_od['Discount']"
   ]
  },
  {
   "cell_type": "code",
   "execution_count": 55,
   "id": "69c197e3",
   "metadata": {},
   "outputs": [],
   "source": [
    "df_c_o_od['list_orders'] = df_c_o_od.UnitPrice * df_c_o_od.Quantity - df_c_o_od['Discount_fact']"
   ]
  },
  {
   "cell_type": "code",
   "execution_count": 64,
   "id": "795f756e",
   "metadata": {},
   "outputs": [
    {
     "data": {
      "text/plain": [
       "ContactName\n",
       "Horst Kloss    110277.305\n",
       "Name: list_orders, dtype: float64"
      ]
     },
     "execution_count": 64,
     "metadata": {},
     "output_type": "execute_result"
    }
   ],
   "source": [
    "df_c_o_od.groupby(['ContactName']).list_orders.sum().sort_values(ascending = False).head(1)"
   ]
  },
  {
   "cell_type": "markdown",
   "id": "5d949fde",
   "metadata": {},
   "source": [
    "I merge three tables,\n",
    "\n",
    "then I create a column for the discount,\n",
    "\n",
    "then I calculate the order cost considering the discount and save it in a column,\n",
    "\n",
    "and finally, I group by the client's name, calculate the total order amount for each client, sort the results, and find what I need.\n"
   ]
  },
  {
   "cell_type": "markdown",
   "id": "dc34ecbe",
   "metadata": {},
   "source": [
    "# Which product category brought in the highest net revenue?\n",
    "\n",
    "\n",
    "\n",
    "\n",
    "\n",
    "\n",
    "\n"
   ]
  },
  {
   "cell_type": "code",
   "execution_count": 9,
   "id": "3a9aa6f4",
   "metadata": {
    "ExecuteTime": {
     "end_time": "2024-09-02T23:00:19.665017Z",
     "start_time": "2024-09-02T23:00:19.652133Z"
    }
   },
   "outputs": [
    {
     "data": {
      "text/html": [
       "<div>\n",
       "<style scoped>\n",
       "    .dataframe tbody tr th:only-of-type {\n",
       "        vertical-align: middle;\n",
       "    }\n",
       "\n",
       "    .dataframe tbody tr th {\n",
       "        vertical-align: top;\n",
       "    }\n",
       "\n",
       "    .dataframe thead th {\n",
       "        text-align: right;\n",
       "    }\n",
       "</style>\n",
       "<table border=\"1\" class=\"dataframe\">\n",
       "  <thead>\n",
       "    <tr style=\"text-align: right;\">\n",
       "      <th></th>\n",
       "      <th>OrderID</th>\n",
       "      <th>ProductID</th>\n",
       "      <th>UnitPrice_x</th>\n",
       "      <th>Quantity</th>\n",
       "      <th>Discount</th>\n",
       "      <th>ProductName</th>\n",
       "      <th>Product_Description</th>\n",
       "      <th>UnitPrice_y</th>\n",
       "      <th>CategoryID</th>\n",
       "      <th>CategoryName</th>\n",
       "      <th>Category_Description</th>\n",
       "      <th>Discount_fact_od</th>\n",
       "      <th>Revenue</th>\n",
       "    </tr>\n",
       "  </thead>\n",
       "  <tbody>\n",
       "    <tr>\n",
       "      <th>0</th>\n",
       "      <td>10248</td>\n",
       "      <td>11</td>\n",
       "      <td>14.00</td>\n",
       "      <td>12</td>\n",
       "      <td>0.00</td>\n",
       "      <td>Queso Cabrales</td>\n",
       "      <td>1 kg pkg.</td>\n",
       "      <td>21.00</td>\n",
       "      <td>4</td>\n",
       "      <td>Dairy Products</td>\n",
       "      <td>Cheeses</td>\n",
       "      <td>0.000</td>\n",
       "      <td>168.000</td>\n",
       "    </tr>\n",
       "    <tr>\n",
       "      <th>1</th>\n",
       "      <td>10248</td>\n",
       "      <td>42</td>\n",
       "      <td>9.80</td>\n",
       "      <td>10</td>\n",
       "      <td>0.00</td>\n",
       "      <td>Singaporean Hokkien Fried Mee</td>\n",
       "      <td>32 - 1 kg pkgs.</td>\n",
       "      <td>14.00</td>\n",
       "      <td>5</td>\n",
       "      <td>Grains/Cereals</td>\n",
       "      <td>Breads. crackers. pasta. and cereal</td>\n",
       "      <td>0.000</td>\n",
       "      <td>98.000</td>\n",
       "    </tr>\n",
       "    <tr>\n",
       "      <th>2</th>\n",
       "      <td>10248</td>\n",
       "      <td>72</td>\n",
       "      <td>34.80</td>\n",
       "      <td>5</td>\n",
       "      <td>0.00</td>\n",
       "      <td>Mozzarella di Giovanni</td>\n",
       "      <td>24 - 200 g pkgs.</td>\n",
       "      <td>34.80</td>\n",
       "      <td>4</td>\n",
       "      <td>Dairy Products</td>\n",
       "      <td>Cheeses</td>\n",
       "      <td>0.000</td>\n",
       "      <td>174.000</td>\n",
       "    </tr>\n",
       "    <tr>\n",
       "      <th>3</th>\n",
       "      <td>10249</td>\n",
       "      <td>14</td>\n",
       "      <td>18.60</td>\n",
       "      <td>9</td>\n",
       "      <td>0.00</td>\n",
       "      <td>Tofu</td>\n",
       "      <td>40 - 100 g pkgs.</td>\n",
       "      <td>23.25</td>\n",
       "      <td>7</td>\n",
       "      <td>Produce</td>\n",
       "      <td>Dried fruit and bean curd</td>\n",
       "      <td>0.000</td>\n",
       "      <td>167.400</td>\n",
       "    </tr>\n",
       "    <tr>\n",
       "      <th>4</th>\n",
       "      <td>10249</td>\n",
       "      <td>51</td>\n",
       "      <td>42.40</td>\n",
       "      <td>40</td>\n",
       "      <td>0.00</td>\n",
       "      <td>Manjimup Dried Apples</td>\n",
       "      <td>50 - 300 g pkgs.</td>\n",
       "      <td>53.00</td>\n",
       "      <td>7</td>\n",
       "      <td>Produce</td>\n",
       "      <td>Dried fruit and bean curd</td>\n",
       "      <td>0.000</td>\n",
       "      <td>1696.000</td>\n",
       "    </tr>\n",
       "    <tr>\n",
       "      <th>...</th>\n",
       "      <td>...</td>\n",
       "      <td>...</td>\n",
       "      <td>...</td>\n",
       "      <td>...</td>\n",
       "      <td>...</td>\n",
       "      <td>...</td>\n",
       "      <td>...</td>\n",
       "      <td>...</td>\n",
       "      <td>...</td>\n",
       "      <td>...</td>\n",
       "      <td>...</td>\n",
       "      <td>...</td>\n",
       "      <td>...</td>\n",
       "    </tr>\n",
       "    <tr>\n",
       "      <th>2150</th>\n",
       "      <td>11077</td>\n",
       "      <td>64</td>\n",
       "      <td>33.25</td>\n",
       "      <td>2</td>\n",
       "      <td>0.03</td>\n",
       "      <td>Wimmers gute Semmelknodel</td>\n",
       "      <td>20 bags x 4 pieces</td>\n",
       "      <td>33.25</td>\n",
       "      <td>5</td>\n",
       "      <td>Grains/Cereals</td>\n",
       "      <td>Breads. crackers. pasta. and cereal</td>\n",
       "      <td>1.995</td>\n",
       "      <td>64.505</td>\n",
       "    </tr>\n",
       "    <tr>\n",
       "      <th>2151</th>\n",
       "      <td>11077</td>\n",
       "      <td>66</td>\n",
       "      <td>17.00</td>\n",
       "      <td>1</td>\n",
       "      <td>0.00</td>\n",
       "      <td>Louisiana Hot Spiced Okra</td>\n",
       "      <td>24 - 8 oz jars</td>\n",
       "      <td>17.00</td>\n",
       "      <td>2</td>\n",
       "      <td>Condiments</td>\n",
       "      <td>Sweet and savory sauces. relishes. spreads. an...</td>\n",
       "      <td>0.000</td>\n",
       "      <td>17.000</td>\n",
       "    </tr>\n",
       "    <tr>\n",
       "      <th>2152</th>\n",
       "      <td>11077</td>\n",
       "      <td>73</td>\n",
       "      <td>15.00</td>\n",
       "      <td>2</td>\n",
       "      <td>0.01</td>\n",
       "      <td>Rod Kaviar</td>\n",
       "      <td>24 - 150 g jars</td>\n",
       "      <td>15.00</td>\n",
       "      <td>8</td>\n",
       "      <td>Seafood</td>\n",
       "      <td>Seaweed and fish</td>\n",
       "      <td>0.300</td>\n",
       "      <td>29.700</td>\n",
       "    </tr>\n",
       "    <tr>\n",
       "      <th>2153</th>\n",
       "      <td>11077</td>\n",
       "      <td>75</td>\n",
       "      <td>7.75</td>\n",
       "      <td>4</td>\n",
       "      <td>0.00</td>\n",
       "      <td>Rhonbrau Klosterbier</td>\n",
       "      <td>24 - 0.5 l bottles</td>\n",
       "      <td>7.75</td>\n",
       "      <td>1</td>\n",
       "      <td>Beverages</td>\n",
       "      <td>Soft drinks. coffees. teas. beers. and ales</td>\n",
       "      <td>0.000</td>\n",
       "      <td>31.000</td>\n",
       "    </tr>\n",
       "    <tr>\n",
       "      <th>2154</th>\n",
       "      <td>11077</td>\n",
       "      <td>77</td>\n",
       "      <td>13.00</td>\n",
       "      <td>2</td>\n",
       "      <td>0.00</td>\n",
       "      <td>Original Frankfurter gr?ne Sobe</td>\n",
       "      <td>12 boxes</td>\n",
       "      <td>13.00</td>\n",
       "      <td>2</td>\n",
       "      <td>Condiments</td>\n",
       "      <td>Sweet and savory sauces. relishes. spreads. an...</td>\n",
       "      <td>0.000</td>\n",
       "      <td>26.000</td>\n",
       "    </tr>\n",
       "  </tbody>\n",
       "</table>\n",
       "<p>2155 rows × 13 columns</p>\n",
       "</div>"
      ],
      "text/plain": [
       "      OrderID  ProductID  UnitPrice_x  Quantity  Discount  \\\n",
       "0       10248         11        14.00        12      0.00   \n",
       "1       10248         42         9.80        10      0.00   \n",
       "2       10248         72        34.80         5      0.00   \n",
       "3       10249         14        18.60         9      0.00   \n",
       "4       10249         51        42.40        40      0.00   \n",
       "...       ...        ...          ...       ...       ...   \n",
       "2150    11077         64        33.25         2      0.03   \n",
       "2151    11077         66        17.00         1      0.00   \n",
       "2152    11077         73        15.00         2      0.01   \n",
       "2153    11077         75         7.75         4      0.00   \n",
       "2154    11077         77        13.00         2      0.00   \n",
       "\n",
       "                          ProductName Product_Description  UnitPrice_y  \\\n",
       "0                      Queso Cabrales           1 kg pkg.        21.00   \n",
       "1       Singaporean Hokkien Fried Mee     32 - 1 kg pkgs.        14.00   \n",
       "2              Mozzarella di Giovanni    24 - 200 g pkgs.        34.80   \n",
       "3                                Tofu    40 - 100 g pkgs.        23.25   \n",
       "4               Manjimup Dried Apples    50 - 300 g pkgs.        53.00   \n",
       "...                               ...                 ...          ...   \n",
       "2150        Wimmers gute Semmelknodel  20 bags x 4 pieces        33.25   \n",
       "2151        Louisiana Hot Spiced Okra      24 - 8 oz jars        17.00   \n",
       "2152                       Rod Kaviar     24 - 150 g jars        15.00   \n",
       "2153             Rhonbrau Klosterbier  24 - 0.5 l bottles         7.75   \n",
       "2154  Original Frankfurter gr?ne Sobe            12 boxes        13.00   \n",
       "\n",
       "      CategoryID    CategoryName  \\\n",
       "0              4  Dairy Products   \n",
       "1              5  Grains/Cereals   \n",
       "2              4  Dairy Products   \n",
       "3              7         Produce   \n",
       "4              7         Produce   \n",
       "...          ...             ...   \n",
       "2150           5  Grains/Cereals   \n",
       "2151           2      Condiments   \n",
       "2152           8         Seafood   \n",
       "2153           1       Beverages   \n",
       "2154           2      Condiments   \n",
       "\n",
       "                                   Category_Description  Discount_fact_od  \\\n",
       "0                                               Cheeses             0.000   \n",
       "1                   Breads. crackers. pasta. and cereal             0.000   \n",
       "2                                               Cheeses             0.000   \n",
       "3                             Dried fruit and bean curd             0.000   \n",
       "4                             Dried fruit and bean curd             0.000   \n",
       "...                                                 ...               ...   \n",
       "2150                Breads. crackers. pasta. and cereal             1.995   \n",
       "2151  Sweet and savory sauces. relishes. spreads. an...             0.000   \n",
       "2152                                   Seaweed and fish             0.300   \n",
       "2153        Soft drinks. coffees. teas. beers. and ales             0.000   \n",
       "2154  Sweet and savory sauces. relishes. spreads. an...             0.000   \n",
       "\n",
       "       Revenue  \n",
       "0      168.000  \n",
       "1       98.000  \n",
       "2      174.000  \n",
       "3      167.400  \n",
       "4     1696.000  \n",
       "...        ...  \n",
       "2150    64.505  \n",
       "2151    17.000  \n",
       "2152    29.700  \n",
       "2153    31.000  \n",
       "2154    26.000  \n",
       "\n",
       "[2155 rows x 13 columns]"
      ]
     },
     "execution_count": 9,
     "metadata": {},
     "output_type": "execute_result"
    }
   ],
   "source": [
    "# прописал left_on и right_on потому что там есть одинаковые столбцы и значения там могут быть разные \n",
    "# UnitPrice_x это от первой таблицы(df_od) и UnitPrice_y(df_p) это от второй\n",
    "# UnitPrice в df_od - это стоимость продукта в момент оформления заказа, а \n",
    "# UnitPrice в df_p - это стоимость продукта на «сегодняшний день». \n",
    "# Стоимости продуктов в df_od и в df_p могут различаться.\n",
    "df_od_p = df_od.merge(df_p, left_on = 'ProductID', right_on = 'ProductID')\n",
    "df_od_p['Discount_fact_od'] = df_od_p['UnitPrice_x'] * df_od_p['Quantity'] * df_od_p[\"Discount\"]\n",
    "df_od_p['Revenue'] = df_od_p['UnitPrice_x'] * df_od_p['Quantity'] - df_od_p['Discount_fact_od']\n",
    "df_od_p"
   ]
  },
  {
   "cell_type": "code",
   "execution_count": 10,
   "id": "db974816",
   "metadata": {
    "ExecuteTime": {
     "end_time": "2024-09-02T23:00:27.883453Z",
     "start_time": "2024-09-02T23:00:27.879313Z"
    }
   },
   "outputs": [
    {
     "data": {
      "text/plain": [
       "CategoryName\n",
       "Beverages    267868.18\n",
       "Name: Revenue, dtype: float64"
      ]
     },
     "execution_count": 10,
     "metadata": {},
     "output_type": "execute_result"
    }
   ],
   "source": [
    "df_od_p.groupby(['CategoryName']).Revenue.sum().sort_values(ascending = False).head(1)"
   ]
  },
  {
   "cell_type": "markdown",
   "id": "d6b11979",
   "metadata": {},
   "source": [
    "I merge three tables, taking into account that UnitPrice may vary, as in one table it represents the current price, and in the other, the price at the time of the order. \n",
    "\n",
    "I create columns for the actual discount and for the total revenue. \n",
    "\n",
    "Then I group by category name, calculate the total sum for each category separately, sort the results, and select the category that brought in the highest revenue."
   ]
  }
 ],
 "metadata": {
  "kernelspec": {
   "display_name": "Python 3 (ipykernel)",
   "language": "python",
   "name": "python3"
  },
  "language_info": {
   "codemirror_mode": {
    "name": "ipython",
    "version": 3
   },
   "file_extension": ".py",
   "mimetype": "text/x-python",
   "name": "python",
   "nbconvert_exporter": "python",
   "pygments_lexer": "ipython3",
   "version": "3.11.7"
  }
 },
 "nbformat": 4,
 "nbformat_minor": 5
}
